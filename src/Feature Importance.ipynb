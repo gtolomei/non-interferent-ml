{
 "cells": [
  {
   "cell_type": "code",
   "execution_count": 1,
   "metadata": {},
   "outputs": [],
   "source": [
    "import os\n",
    "import numpy as np\n",
    "import pandas as pd\n",
    "import json\n",
    "from parallel_robust_forest import load_attack_rules\n",
    "from sklearn.model_selection import train_test_split\n",
    "from joblib import Parallel,delayed\n",
    "import sys\n",
    "import collections, functools, operator \n",
    "from collections import defaultdict\n",
    "import dill\n",
    "import lightgbm\n",
    "import matplotlib.pyplot as plt\n",
    "from matplotlib.lines import Line2D\n",
    "import seaborn as sns\n",
    "import matplotlib.pylab as pl\n",
    "%matplotlib inline"
   ]
  },
  {
   "cell_type": "code",
   "execution_count": 2,
   "metadata": {},
   "outputs": [],
   "source": [
    "def load_data(path):\n",
    "    \n",
    "    return pd.read_csv(os.path.join(path)) \n",
    "                       "
   ]
  },
  {
   "cell_type": "code",
   "execution_count": 3,
   "metadata": {},
   "outputs": [],
   "source": [
    "def load_model(model_file):\n",
    "    model = None\n",
    "    try:\n",
    "        model = lightgbm.Booster(model_file=model_file)\n",
    "    except:\n",
    "        print(\"LightGBM loading exception\")\n",
    "        try:\n",
    "            with open(model_file, 'rb') as mf:\n",
    "                model = dill.load(mf)\n",
    "                print(model)\n",
    "                model.n_jobs = 16\n",
    "        except Exception as e:\n",
    "            print(e)\n",
    "            print(\"Dill loading exception\")\n",
    "            pass\n",
    "    \n",
    "    return model"
   ]
  },
  {
   "cell_type": "code",
   "execution_count": 4,
   "metadata": {},
   "outputs": [],
   "source": [
    "def Rf_feature_importance(node, out=sys.stdout,d=None, tabs=''):\n",
    "    if d is None:\n",
    "        d = defaultdict(float)\n",
    "\n",
    "    if node.is_leaf(): \n",
    "        pass\n",
    "\n",
    "    else: \n",
    "        \n",
    "        Rf_feature_importance(node.left,out,d,tabs +\"\\t\")\n",
    "        Rf_feature_importance(node.right,out,d,tabs +\"\\t\")\n",
    " \n",
    "        d[node.best_split_feature_id] += node.gain_value\n",
    "        \n",
    "    return d"
   ]
  },
  {
   "cell_type": "code",
   "execution_count": 5,
   "metadata": {},
   "outputs": [],
   "source": [
    "def gbdt_feature_imortance(model, colnames):\n",
    "    fx_uses = model.feature_importance(importance_type='split')\n",
    "    fx_gain = model.feature_importance(importance_type='gain')\n",
    "    df = pd.DataFrame(columns=['Name','Gain'])\n",
    "    for i,f in enumerate(np.argsort(fx_gain)[::-1]):\n",
    "        (\"{:2d} {:20s} {:.3f} {:4d}\".format(i, colnames[f], fx_gain[f], fx_uses[f]))\n",
    "        df=df.append({'Name':colnames[f],'Gain':fx_gain[f]}, ignore_index=True)\n",
    "    return df"
   ]
  },
  {
   "cell_type": "markdown",
   "metadata": {},
   "source": [
    "# wine"
   ]
  },
  {
   "cell_type": "code",
   "execution_count": 6,
   "metadata": {},
   "outputs": [],
   "source": [
    "DATASET_NAME=\"wine\"\n",
    "DATASET_DIR=\"../data/{}\".format(DATASET_NAME)\n",
    "OUTPUT_FILENAME=\"../out/results/{}\".format(DATASET_NAME)\n",
    "TRAINING_FILENAME =DATASET_DIR + \"/\" + \"train.csv.bz2\"\n",
    "\n",
    "train = load_data(TRAINING_FILENAME)"
   ]
  },
  {
   "cell_type": "markdown",
   "metadata": {},
   "source": [
    "# Adversarial Boosting"
   ]
  },
  {
   "cell_type": "code",
   "execution_count": 7,
   "metadata": {},
   "outputs": [],
   "source": [
    "def print_fx_imp(model, colnames):\n",
    "    fx_uses = model.feature_importance(importance_type='split')\n",
    "    fx_gain = model.feature_importance(importance_type='gain')\n",
    "    df = pd.DataFrame(columns=['Name','Gain'])\n",
    "    for i,f in enumerate(np.argsort(fx_gain)[::-1]):\n",
    "        (\"{:2d} {:20s} {:.3f} {:4d}\".format(i, colnames[f], fx_gain[f], fx_uses[f]))\n",
    "        df=df.append({'Name':colnames[f],'Gain':fx_gain[f]}, ignore_index=True)\n",
    "    return df\n",
    "#print(\"-- adversarial boosting--\")    \n",
    "gbdt = lightgbm.Booster(model_file=\"../out/models/wine/adv-boosting_wine_B40_T100_S0050_L256_R100.model\")\n",
    "advb =print_fx_imp(gbdt, train.columns)\n",
    "advb.loc[:,'N-Gain']=advb['Gain'].div(advb['Gain'].sum())\n"
   ]
  },
  {
   "cell_type": "markdown",
   "metadata": {},
   "source": [
    "# Random Forest"
   ]
  },
  {
   "cell_type": "code",
   "execution_count": 8,
   "metadata": {},
   "outputs": [],
   "source": [
    "def print_fx_imp(model, colnames):\n",
    "    fx_uses = model.feature_importance(importance_type='split')\n",
    "    fx_gain = model.feature_importance(importance_type='gain')\n",
    "    df = pd.DataFrame(columns=['Random-Name','Gain'])\n",
    "    for i,f in enumerate(np.argsort(fx_gain)[::-1]):\n",
    "        (\"{:2d} {:20s} {:.3f} {:4d}\".format(i, colnames[f], fx_gain[f], fx_uses[f]))\n",
    "        df=df.append({'Random-Name':colnames[f],'Gain':fx_gain[f]}, ignore_index=True)\n",
    "    return df\n",
    "#print(\"-- adversarial boosting--\")    \n",
    "gbdt = lightgbm.Booster(model_file=\"../out/models/wine/adv-boosting_wine_B40_T100_S0050_L256_R100.model\")\n",
    "random_forest =print_fx_imp(gbdt, train.columns)\n",
    "random_forest.loc[:,'N-Gain']=random_forest['Gain'].div(random_forest['Gain'].sum())\n"
   ]
  },
  {
   "cell_type": "markdown",
   "metadata": {},
   "source": [
    "# TREANT"
   ]
  },
  {
   "cell_type": "code",
   "execution_count": 9,
   "metadata": {},
   "outputs": [
    {
     "data": {
      "text/html": [
       "<div>\n",
       "<style scoped>\n",
       "    .dataframe tbody tr th:only-of-type {\n",
       "        vertical-align: middle;\n",
       "    }\n",
       "\n",
       "    .dataframe tbody tr th {\n",
       "        vertical-align: top;\n",
       "    }\n",
       "\n",
       "    .dataframe thead th {\n",
       "        text-align: right;\n",
       "    }\n",
       "</style>\n",
       "<table border=\"1\" class=\"dataframe\">\n",
       "  <thead>\n",
       "    <tr style=\"text-align: right;\">\n",
       "      <th></th>\n",
       "      <th>Gain</th>\n",
       "      <th>TREANTName</th>\n",
       "      <th>N-Gain</th>\n",
       "    </tr>\n",
       "  </thead>\n",
       "  <tbody>\n",
       "    <tr>\n",
       "      <th>10</th>\n",
       "      <td>5764.501108</td>\n",
       "      <td>alcohol</td>\n",
       "      <td>0.206438</td>\n",
       "    </tr>\n",
       "    <tr>\n",
       "      <th>2</th>\n",
       "      <td>3641.815461</td>\n",
       "      <td>citric_acid</td>\n",
       "      <td>0.130421</td>\n",
       "    </tr>\n",
       "    <tr>\n",
       "      <th>7</th>\n",
       "      <td>3262.873322</td>\n",
       "      <td>density</td>\n",
       "      <td>0.116850</td>\n",
       "    </tr>\n",
       "    <tr>\n",
       "      <th>5</th>\n",
       "      <td>3059.179147</td>\n",
       "      <td>free_sulfur_dioxide</td>\n",
       "      <td>0.109555</td>\n",
       "    </tr>\n",
       "    <tr>\n",
       "      <th>4</th>\n",
       "      <td>2911.166573</td>\n",
       "      <td>chlorides</td>\n",
       "      <td>0.104255</td>\n",
       "    </tr>\n",
       "    <tr>\n",
       "      <th>6</th>\n",
       "      <td>2319.532530</td>\n",
       "      <td>total_sulfur_dioxide</td>\n",
       "      <td>0.083067</td>\n",
       "    </tr>\n",
       "    <tr>\n",
       "      <th>9</th>\n",
       "      <td>2181.307549</td>\n",
       "      <td>sulphites</td>\n",
       "      <td>0.078117</td>\n",
       "    </tr>\n",
       "    <tr>\n",
       "      <th>3</th>\n",
       "      <td>1600.750940</td>\n",
       "      <td>residual_sugar</td>\n",
       "      <td>0.057326</td>\n",
       "    </tr>\n",
       "    <tr>\n",
       "      <th>8</th>\n",
       "      <td>1461.421869</td>\n",
       "      <td>pH</td>\n",
       "      <td>0.052336</td>\n",
       "    </tr>\n",
       "    <tr>\n",
       "      <th>0</th>\n",
       "      <td>1405.328651</td>\n",
       "      <td>fixed_acidity</td>\n",
       "      <td>0.050328</td>\n",
       "    </tr>\n",
       "    <tr>\n",
       "      <th>1</th>\n",
       "      <td>315.764620</td>\n",
       "      <td>volatile_acidity</td>\n",
       "      <td>0.011308</td>\n",
       "    </tr>\n",
       "    <tr>\n",
       "      <th>11</th>\n",
       "      <td>0.000000</td>\n",
       "      <td>is_white</td>\n",
       "      <td>0.000000</td>\n",
       "    </tr>\n",
       "  </tbody>\n",
       "</table>\n",
       "</div>"
      ],
      "text/plain": [
       "           Gain            TREANTName    N-Gain\n",
       "10  5764.501108               alcohol  0.206438\n",
       "2   3641.815461           citric_acid  0.130421\n",
       "7   3262.873322               density  0.116850\n",
       "5   3059.179147   free_sulfur_dioxide  0.109555\n",
       "4   2911.166573             chlorides  0.104255\n",
       "6   2319.532530  total_sulfur_dioxide  0.083067\n",
       "9   2181.307549             sulphites  0.078117\n",
       "3   1600.750940        residual_sugar  0.057326\n",
       "8   1461.421869                    pH  0.052336\n",
       "0   1405.328651         fixed_acidity  0.050328\n",
       "1    315.764620      volatile_acidity  0.011308\n",
       "11     0.000000              is_white  0.000000"
      ]
     },
     "execution_count": 9,
     "metadata": {},
     "output_type": "execute_result"
    }
   ],
   "source": [
    "with open(\"../out/models/wine/par-robust_wine_L-sse_B40_T100_D8_I20.model\", 'rb') as f:\n",
    "    model = dill.load(f)\n",
    "\n",
    "l=[]\n",
    "for i in range(model.n_estimators):\n",
    "    tree_dic =Rf_feature_importance(model.estimators_[i].root)\n",
    "    l.append(tree_dic)\n",
    "\n",
    "# combining list of dictionaries by suming the values of same key \n",
    "result = dict(functools.reduce(operator.add, \n",
    "         map(collections.Counter, l))) \n",
    "\n",
    "dft = pd.DataFrame.from_dict(result, orient='index',\n",
    "                       columns=['Gain'])\n",
    "\n",
    "dft.loc[:,'TREANTName'] = train.columns[list(result.keys())]\n",
    "dft.loc[:,'N-Gain']=dft['Gain'].div(dft['Gain'].sum())\n",
    "dft.loc[11] = [0.000000, 'is_white', 0.000000]\n",
    "treant=dft.sort_values(by=['Gain'],ascending=False)\n",
    "sub_treant =treant\n",
    "#print(\"-- Treant --\") \n",
    "\n",
    "sub_treant"
   ]
  },
  {
   "cell_type": "markdown",
   "metadata": {},
   "source": [
    "# Robust TREES"
   ]
  },
  {
   "cell_type": "code",
   "execution_count": 10,
   "metadata": {},
   "outputs": [],
   "source": [
    "with open(\"../out/models/wine/icml2019_wine_L-sse_B40_T100_D8_I20.model\", 'rb') as f:\n",
    "    model = dill.load(f)\n",
    "l=[]\n",
    "for i in range(model.n_estimators):\n",
    "    tree_dic =Rf_feature_importance(model.estimators_[i].root)\n",
    "    l.append(tree_dic)\n",
    "\n",
    "# combining list of dictionaries by suming the values of same key \n",
    "result = dict(functools.reduce(operator.add, \n",
    "         map(collections.Counter, l))) \n",
    "\n",
    "dft = pd.DataFrame.from_dict(result, orient='index',\n",
    "                       columns=['Gain'])\n",
    "dft.loc[:,'RobustName'] = train.columns[list(result.keys())]\n",
    "dft.loc[:,'N-Gain']=dft['Gain'].div(dft['Gain'].sum())\n",
    "dft.loc[11] = [0.000000, 'is_white', 0.000000]\n",
    "robust_tree = dft.sort_values(by=['Gain'],ascending=False)\n",
    "robust_tree= dft.sort_values(by=['Gain'],ascending=False)\n",
    "#print(\"-- Robust Tree --\") \n"
   ]
  },
  {
   "cell_type": "code",
   "execution_count": 11,
   "metadata": {},
   "outputs": [],
   "source": [
    "# collecting all the top 10 features along with gain and normalized gain value \n",
    "df = pd.DataFrame(columns=['AB-Name','TREANT-Name','Robust-Name','Random-Name','Adv Boosting',\n",
    "                           'RF-TREANT','Robust Trees','Random Forest'])\n",
    "df['AB-Name'] =advb['Name']\n",
    "df['TREANT-Name']= treant['TREANTName'].tolist() \n",
    "df['Robust-Name']= robust_tree['RobustName'].tolist()\n",
    "df['Random-Name']=random_forest['Random-Name']\n",
    "df['Adv Boosting'] = advb['N-Gain']\n",
    "df['RF-TREANT']=treant['N-Gain'].tolist() \n",
    "df['Robust Trees']=robust_tree['N-Gain'].tolist()\n",
    "df['Random Forest']=random_forest['N-Gain']\n",
    "\n",
    "# creating a combined new data frame ordered by the feature name apperance in TREANT\n",
    "wine = pd.DataFrame(columns=['Name','Adv Boosting','RF-TREANT','Robust Trees','Random Forest'])\n",
    "wine['Name']=np.unique(df[['AB-Name', 'TREANT-Name','Robust-Name','Random-Name']].values)\n",
    "cnames = wine['Name'].tolist()\n",
    "\n",
    "# list of list values of the normalized gain for the three algorithms\n",
    "rf=[]\n",
    "tr =[]\n",
    "ab =[]\n",
    "random=[]\n",
    "for i in range(len(cnames)):\n",
    "    rf.append(robust_tree[robust_tree['RobustName']==cnames[i]]['N-Gain'].tolist())\n",
    "    tr.append(treant[treant['TREANTName']==cnames[i]]['N-Gain'].tolist())\n",
    "    ab.append(advb[advb['Name']==cnames[i]]['N-Gain'].tolist())\n",
    "    random.append(random_forest[random_forest['Random-Name']==cnames[i]]['N-Gain'].tolist())\n",
    "    \n",
    "# adding the flattend lists to the dataframe, if a value doesn't exist replaced by zero    \n",
    "wine['Adv Boosting']= [val for sublist in ab for val in (sublist or [0])]\n",
    "wine['RF-TREANT']= [val for sublist in tr for val in (sublist or [0])]    \n",
    "wine['Robust Trees']= [val for sublist in rf for val in (sublist or [0])] \n",
    "wine['Random Forest']= [val for sublist in random for val in (sublist or [0])]\n",
    "\n",
    "wine=wine.sort_values(by=['RF-TREANT'],ascending=False)        \n",
    "       "
   ]
  },
  {
   "cell_type": "markdown",
   "metadata": {},
   "source": [
    "# Plotting Wine"
   ]
  },
  {
   "cell_type": "code",
   "execution_count": 23,
   "metadata": {},
   "outputs": [
    {
     "data": {
      "image/png": "[encoded data removed]",
      "text/plain": [
       "<Figure size 864x360 with 1 Axes>"
      ]
     },
     "metadata": {},
     "output_type": "display_data"
    }
   ],
   "source": [
    "import numpy as np\n",
    "import matplotlib.pyplot as plt\n",
    "plt.figure(figsize=(12,5))\n",
    "# set width of bar\n",
    "barWidth = 0.20\n",
    "\n",
    "\n",
    "# set height of bar\n",
    "bars1 = wine['RF-TREANT'].tolist()\n",
    "bars2 = wine['Robust Trees'].tolist()\n",
    "bars3 = wine['Adv Boosting'].tolist()\n",
    "bars4 = wine['Random Forest'].tolist()\n",
    "# Set position of bar on X axis\n",
    "r1 = np.arange(len(bars1))\n",
    "r2 = [x + barWidth  for x in r1]\n",
    "r3 = [x + barWidth for x in r2]\n",
    "r4 = [x + barWidth for x in r3]\n",
    "\n",
    "# Make the plot\n",
    "plt.bar(r1, bars1,  width=barWidth, edgecolor='white', label='RF-TREANT')\n",
    "plt.bar(r2, bars2,  width=barWidth, edgecolor='white', label='Robust Trees')\n",
    "plt.bar(r3, bars3,  width=barWidth, edgecolor='white', label='Adv.Boosting')\n",
    "plt.bar(r4,bars4,  width=barWidth , edgecolor='white', label='Random Forest')\n",
    "\n",
    "# Add xticks on the middle of the group bars\n",
    "#plt.xlabel('Feature Names', fontweight='bold',fontsize =16)\n",
    "plt.ylabel('Normalized Gain',fontweight='bold',fontsize=14)\n",
    "\n",
    "plt.xticks([r +  barWidth for r in range(len(wine['Name']))], wine['Name'].tolist()\n",
    "                                                        ,rotation=90)\n",
    "# Create legend & Show graphic\n",
    "plt.title(' wine ',fontweight='bold',fontsize =12)\n",
    "plt.margins(0.01)\n",
    "plt.legend()\n",
    "plt.show()"
   ]
  },
  {
   "cell_type": "markdown",
   "metadata": {},
   "source": [
    "# Malware"
   ]
  },
  {
   "cell_type": "code",
   "execution_count": null,
   "metadata": {},
   "outputs": [],
   "source": [
    "DATASET_NAME=\"malware_all\"\n",
    "DATASET_DIR=\"../data/{}\".format(DATASET_NAME)\n",
    "ATK_DIR=DATASET_DIR + \"/attacks\"\n",
    "MODELS_DIR=\"../out/models/{}\".format(DATASET_NAME)\n",
    "TRAINING_FILENAME=DATASET_DIR + \"/\" + \"train.csv.bz2\"\n",
    "train = load_data(TRAINING_FILENAME)"
   ]
  },
  {
   "cell_type": "code",
   "execution_count": null,
   "metadata": {},
   "outputs": [],
   "source": [
    "def print_fx_imp(model, colnames):\n",
    "    fx_uses = model.feature_importance(importance_type='split')\n",
    "    fx_gain = model.feature_importance(importance_type='gain')\n",
    "    df = pd.DataFrame(columns=['Name','Gain'])\n",
    "    for i,f in enumerate(np.argsort(fx_gain)[::-1]):\n",
    "        (\"{:2d} {:20s} {:.3f} {:4d}\".format(i, colnames[f], fx_gain[f], fx_uses[f]))\n",
    "        df=df.append({'Name':colnames[f],'Gain':fx_gain[f]}, ignore_index=True)\n",
    "    return df\n",
    "#print(\"-- adversarial boosting--\")    \n",
    "gbdt = lightgbm.Booster(model_file=\"../out/models/malware_all/adv-boosting_malware_all_B40_T100_S0050_L256_R78.model\")\n",
    "advb =print_fx_imp(gbdt, train.columns)\n",
    "advb.loc[:,'N-Gain']=advb['Gain'].div(advb['Gain'].sum())\n"
   ]
  },
  {
   "cell_type": "markdown",
   "metadata": {},
   "source": [
    "# Random Forest"
   ]
  },
  {
   "cell_type": "code",
   "execution_count": null,
   "metadata": {},
   "outputs": [],
   "source": [
    "def print_fx_imp(model, colnames):\n",
    "    fx_uses = model.feature_importance(importance_type='split')\n",
    "    fx_gain = model.feature_importance(importance_type='gain')\n",
    "    df = pd.DataFrame(columns=['Random-Name','Gain'])\n",
    "    for i,f in enumerate(np.argsort(fx_gain)[::-1]):\n",
    "        (\"{:2d} {:20s} {:.3f} {:4d}\".format(i, colnames[f], fx_gain[f], fx_uses[f]))\n",
    "        df=df.append({'Random-Name':colnames[f],'Gain':fx_gain[f]}, ignore_index=True)\n",
    "    return df\n",
    "#print(\"-- adversarial boosting--\")    \n",
    "gbdt = lightgbm.Booster(model_file=\"../out/models/malware_all/rf-gbdt_malware_all_T100_S0050_L256_R97.model\")\n",
    "random_forest =print_fx_imp(gbdt, train.columns)\n",
    "random_forest.loc[:,'N-Gain']=random_forest['Gain'].div(random_forest['Gain'].sum())\n"
   ]
  },
  {
   "cell_type": "markdown",
   "metadata": {},
   "source": [
    "# TREANT"
   ]
  },
  {
   "cell_type": "code",
   "execution_count": null,
   "metadata": {},
   "outputs": [],
   "source": [
    "with open(\"../out/models/malware_all/par-robust_malware_L-sse_B40_T100_D8_I20.model\", 'rb') as f:\n",
    "    model = dill.load(f)\n",
    "\n",
    "l=[]\n",
    "for i in range(model.n_estimators):\n",
    "    tree_dic =Rf_feature_importance(model.estimators_[i].root)\n",
    "    l.append(tree_dic)\n",
    "\n",
    "# combining list of dictionaries by suming the values of same key \n",
    "result = dict(functools.reduce(operator.add, \n",
    "         map(collections.Counter, l))) \n",
    "\n",
    "dft = pd.DataFrame.from_dict(result, orient='index',\n",
    "                       columns=['Gain'])\n",
    "\n",
    "dft.loc[:,'TREANTName'] = train.columns[list(result.keys())]\n",
    "dft.loc[:,'N-Gain']=dft['Gain'].div(dft['Gain'].sum())\n",
    "treant=dft.sort_values(by=['Gain'],ascending=False)\n",
    "sub_treant =treant\n",
    "#print(\"-- Treant --\") \n",
    "#sub_treant[:10]"
   ]
  },
  {
   "cell_type": "markdown",
   "metadata": {},
   "source": [
    "# Robust TREES"
   ]
  },
  {
   "cell_type": "code",
   "execution_count": null,
   "metadata": {},
   "outputs": [],
   "source": [
    "with open(\"../out/models/malware_all/icml2019_malware_L-sse_B40_T100_D8_I20.model\", 'rb') as f:\n",
    "    model = dill.load(f)\n",
    "l=[]\n",
    "for i in range(model.n_estimators):\n",
    "    tree_dic =Rf_feature_importance(model.estimators_[i].root)\n",
    "    l.append(tree_dic)\n",
    "\n",
    "# combining list of dictionaries by suming the values of same key \n",
    "result = dict(functools.reduce(operator.add, \n",
    "         map(collections.Counter, l))) \n",
    "\n",
    "dft = pd.DataFrame.from_dict(result, orient='index',\n",
    "                       columns=['Gain'])\n",
    "dft.loc[:,'RobustName'] = train.columns[list(result.keys())]\n",
    "dft.loc[:,'N-Gain']=dft['Gain'].div(dft['Gain'].sum())\n",
    "robust_tree = dft.sort_values(by=['Gain'],ascending=False)\n",
    "robust_tree= dft.sort_values(by=['Gain'],ascending=False)\n",
    "#print(\"-- Robust Tree --\") \n",
    "#robust_tree[:10]"
   ]
  },
  {
   "cell_type": "code",
   "execution_count": null,
   "metadata": {},
   "outputs": [],
   "source": [
    "# collecting all the top 10 features along with gain and normalized gain value \n",
    "df = pd.DataFrame(columns=['AB-Name','TREANT-Name','Robust-Name','Random-Name','Adv Boosting',\n",
    "                           'RF-TREANT','Robust Trees','Random Forest'])\n",
    "df['AB-Name'] =advb['Name'][:10]\n",
    "df['TREANT-Name']= treant['TREANTName'][:10].tolist() \n",
    "df['Robust-Name']= robust_tree['RobustName'][:10].tolist()\n",
    "df['Random-Name']=random_forest['Random-Name'][:10]\n",
    "df['Adv Boosting'] = advb['N-Gain'][:10]\n",
    "df['RF-TREANT']=treant['N-Gain'][:10].tolist() \n",
    "df['Robust Trees']=robust_tree['N-Gain'][:10].tolist()\n",
    "df['Random Forest']=random_forest['N-Gain'][:10]\n",
    "\n",
    "# creating a combined new data frame ordered by the feature name apperance in TREANT\n",
    "malware = pd.DataFrame(columns=['Name','Adv Boosting','RF-TREANT','Robust Trees','Random Forest'])\n",
    "malware['Name']=np.unique(df[['AB-Name', 'TREANT-Name','Robust-Name','Random-Name']].values)\n",
    "cnames = malware['Name'].tolist()\n",
    "\n",
    "# list of list values of the normalized gain for the three algorithms\n",
    "rf=[]\n",
    "tr =[]\n",
    "ab =[]\n",
    "random=[]\n",
    "for i in range(len(cnames)):\n",
    "    rf.append(robust_tree[robust_tree['RobustName']==cnames[i]]['N-Gain'].tolist())\n",
    "    tr.append(treant[treant['TREANTName']==cnames[i]]['N-Gain'].tolist())\n",
    "    ab.append(advb[advb['Name']==cnames[i]]['N-Gain'].tolist())\n",
    "    random.append(random_forest[random_forest['Random-Name']==cnames[i]]['N-Gain'].tolist())\n",
    "    \n",
    "# adding the flattend lists to the dataframe, if a value doesn't exist replaced by zero    \n",
    "malware['Adv Boosting']= [val for sublist in ab for val in (sublist or [0])]\n",
    "malware['RF-TREANT']= [val for sublist in tr for val in (sublist or [0])]    \n",
    "malware['Robust Trees']= [val for sublist in rf for val in (sublist or [0])] \n",
    "malware['Random Forest']= [val for sublist in random for val in (sublist or [0])]\n",
    "\n",
    "malware=malware.sort_values(by=['RF-TREANT'],ascending=False)        \n",
    "     "
   ]
  },
  {
   "cell_type": "markdown",
   "metadata": {},
   "source": [
    "# Plotting malware feature importance"
   ]
  },
  {
   "cell_type": "code",
   "execution_count": null,
   "metadata": {},
   "outputs": [],
   "source": [
    "import numpy as np\n",
    "import matplotlib.pyplot as plt\n",
    "plt.figure(figsize=(12,6))\n",
    "\n",
    "# set width of bar\n",
    "barWidth = 0.20\n",
    "width = 0.2\n",
    "\n",
    "# set height of bar\n",
    "bars1 = malware['RF-TREANT'].tolist()\n",
    "bars2 = malware['Robust Trees'].tolist()\n",
    "bars3 = malware['Adv Boosting'].tolist()\n",
    "bars4 = malware['Random Forest'].tolist()\n",
    "# Set position of bar on X axis\n",
    "r1 = np.arange(len(bars1))\n",
    "r2 = [x + barWidth  for x in r1]\n",
    "r3 = [x + barWidth for x in r2]\n",
    "r4 = [x + barWidth for x in r3]\n",
    "\n",
    "# Make the plot\n",
    "plt.bar(r1, bars1,  width=barWidth, edgecolor='white', label='RF-TREANT')\n",
    "plt.bar(r2, bars2,  width=barWidth, edgecolor='white', label='Robust Trees')\n",
    "plt.bar(r3, bars3,  width=barWidth, edgecolor='white', label='Adv.Boosting')\n",
    "plt.bar(r4,bars4,  width=barWidth , edgecolor='white', label='Random Forest')\n",
    "\n",
    "# Add xticks on the middle of the group bars\n",
    "plt.xlabel('Feature Names', fontweight='bold',fontsize =16)\n",
    "plt.ylabel('Normalized Gain',fontweight='bold',fontsize=14)\n",
    "plt.ylabel('Normalized Gain Value', fontweight='bold',fontsize =12)\n",
    "plt.xticks([r +  barWidth for r in range(len(malware['Name']))], malware['Name'].tolist()\n",
    "                                                        ,rotation=90)\n",
    "\n",
    "# Create legend & Show graphic\n",
    "plt.title(' malware ',fontweight='bold',fontsize =12)\n",
    "plt.margins(0.01)\n",
    "plt.legend()\n",
    "plt.show()"
   ]
  },
  {
   "cell_type": "code",
   "execution_count": null,
   "metadata": {},
   "outputs": [],
   "source": [
    "\n",
    "frames = {}\n",
    "\n",
    "groups = ['malware', 'wine']\n",
    "for grp in groups:\n",
    "    df1 = malware\n",
    "    df2 = new\n",
    "    \n",
    "    if grp =='malware':\n",
    "        frames[grp]=df1\n",
    "    if grp =='wine':\n",
    "        frames[grp]=df2\n",
    "    else:\n",
    "        pass\n",
    "\n",
    "    "
   ]
  },
  {
   "cell_type": "code",
   "execution_count": null,
   "metadata": {},
   "outputs": [],
   "source": [
    "index1= wine['Name'].tolist()\n",
    "index2 = malware['Name'].tolist()\n",
    "df1 = pd.DataFrame({'RF-TREANT': wine['RF-TREANT'].tolist(),\n",
    "                    'Robust Trees':wine['Robust Trees'].tolist(),\n",
    "                    'Adv Boosting':wine['Adv Boosting'].tolist(),\n",
    "                     'Random Forest':wine['Random Forest'].tolist()}, index=index1)\n",
    "\n",
    "df2 = pd.DataFrame({'RF-TREANT': malware['RF-TREANT'].tolist(),\n",
    "                    'Robust Trees':malware['Robust Trees'].tolist(),\n",
    "                    'Adv Boosting':malware['Adv Boosting'].tolist(),\n",
    "                    'Random Forest':malware['Random Forest'].tolist()}, index=index2)\n",
    "\n"
   ]
  },
  {
   "cell_type": "code",
   "execution_count": null,
   "metadata": {},
   "outputs": [],
   "source": [
    "fig,axes = pl.subplots(nrows=1, ncols=2,figsize=(15,5))\n",
    "\n",
    "labels = axes[0].get_legend_handles_labels()\n",
    "fig.legend(labels=['RF-TREANT','Robust Trees','Adv Boosting','Random Forest'], loc='upper center')\n",
    "#fig.legend =['RF-TREANT','Robust Trees','Adv Boosting','Random Forest']\n",
    "df1.plot.bar(ax=axes[0],rot=90)\n",
    "df2.plot.bar(ax=axes[1],rot=90)\n",
    "\n",
    "axes[0].set_title(\"Wine\")\n",
    "axes[1].set_title(\"Malware\")\n",
    "axes[0].set_xlabel(\"Wine Dataset features\",fontsize=20)\n",
    "axes[1].set_xlabel(\"Malware Dataset features\",fontsize=20)\n",
    "axes[0].get_legend()\n",
    "plt.gcf().subplots_adjust(bottom=0.20)\n",
    "#pl.savefig('feature_importance.png')"
   ]
  },
  {
   "cell_type": "code",
   "execution_count": null,
   "metadata": {},
   "outputs": [],
   "source": []
  }
 ],
 "metadata": {
  "kernelspec": {
   "display_name": "Python 3",
   "language": "python",
   "name": "python3"
  },
  "language_info": {
   "codemirror_mode": {
    "name": "ipython",
    "version": 3
   },
   "file_extension": ".py",
   "mimetype": "text/x-python",
   "name": "python",
   "nbconvert_exporter": "python",
   "pygments_lexer": "ipython3",
   "version": "3.6.9"
  }
 },
 "nbformat": 4,
 "nbformat_minor": 2
}
