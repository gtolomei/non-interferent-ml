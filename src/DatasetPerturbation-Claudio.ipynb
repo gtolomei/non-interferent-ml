{
 "cells": [
  {
   "cell_type": "code",
   "execution_count": 1,
   "metadata": {},
   "outputs": [],
   "source": [
    "import numpy as np\n",
    "import pandas as pd\n",
    "from sklearn.model_selection import train_test_split"
   ]
  },
  {
   "cell_type": "markdown",
   "metadata": {},
   "source": [
    "# Functions"
   ]
  },
  {
   "cell_type": "code",
   "execution_count": 9,
   "metadata": {},
   "outputs": [],
   "source": [
    "# Functions\n",
    "\n",
    "def load_dataset(path, \n",
    "                 dataset_filename, \n",
    "                 sep=\",\", \n",
    "                 header=None,\n",
    "                 nrows=None,\n",
    "                 names=None, \n",
    "                 index_col=False, \n",
    "                 na_values='?'):\n",
    "    \n",
    "    return pd.read_csv(path+\"/\"+dataset_filename, \n",
    "                       sep=sep, \n",
    "                       header=header,\n",
    "                       nrows=nrows,\n",
    "                       names=colnames, \n",
    "                       index_col=index_col, \n",
    "                       na_values='?')\n",
    "\n",
    "def binarize_data(data, label, threshold):\n",
    "    data[label] = np.where(data[label] >= threshold, 1, -1)\n",
    "\n",
    "def serialize_dataset(p_data, \n",
    "                      path, \n",
    "                      dataset_filename, \n",
    "                      suffix, \n",
    "                      sep=\",\", \n",
    "                      compression=\"bz2\", \n",
    "                      index=False):\n",
    "    \n",
    "    p_data.to_csv(path+\"/\"+dataset_filename.split(\".\")[0]+suffix, \n",
    "                  sep=sep, \n",
    "                  compression=compression, \n",
    "                  index=index)"
   ]
  },
  {
   "cell_type": "code",
   "execution_count": 3,
   "metadata": {},
   "outputs": [],
   "source": [
    "def perturb_instance(x, rules, budget, max_budget_per_feature, thresholds):\n",
    "    \"\"\"\n",
    "    Returns the set of possible perturbations of a given instance.\n",
    "\n",
    "    This function takes as input an instance and returns a set of perturbations of that instance, \n",
    "    using the specified amount of budget and considering the cost of perturbing each individual feature.\n",
    "\n",
    "    Parameters\n",
    "    ----------\n",
    "    x : pandas.Series\n",
    "        The original instance\n",
    "    rules : list\n",
    "        The list of modification rules\n",
    "    budget : float\n",
    "        The attacker's budget\n",
    "    max_budget_per_feature : dict\n",
    "        The maximum allowed amount of budget units that can be spend on each feature\n",
    "    thresholds : dict\n",
    "        feature -> list of relevant thresholds\n",
    "\n",
    "    Returns\n",
    "    -------\n",
    "    pandas.DataFrame\n",
    "        The set of perturbations (including the original instance, placed at the very beginning)\n",
    "    \"\"\"\n",
    "    \n",
    "    # initialize the queue (FIFO) with both the original instance, \n",
    "    # the initial budget, and an empty dictionary of budget units spent so far\n",
    "    queue = [(x, budget, {})]\n",
    "    # visited perturbations\n",
    "    seen = { tuple(x): [budget, {}] }\n",
    "    # initialize the set of perturbations of this instance with the empty list\n",
    "    # perturbations = []\n",
    "    \n",
    "    # loop until the queue is not empty\n",
    "    while len(queue)>0:\n",
    "        item = queue.pop() # dequeue the first inserted element\n",
    "        x = item[0] # get the instance\n",
    "        b = item[1] # get the residual budget\n",
    "        budget_units_spent = item[2] # get the dictionary containing the amount of budget spent on each feature, so far\n",
    "        \n",
    "        # loop through all the features subject to the set of attack rules\n",
    "        for r in rules:\n",
    "            f = r['f']  # feature the rule applies to\n",
    "            # check budget\n",
    "            if not( r['cost'] <= b and budget_units_spent.get(f, 0) + r['cost'] <= max_budget_per_feature[f] ):\n",
    "                continue\n",
    "            # check validity\n",
    "            if not r['valid'](x):\n",
    "                continue\n",
    "            \n",
    "            # apply rule to a copy\n",
    "            x_atks = []\n",
    "            if r['is_cat']:\n",
    "                xx = x.copy()\n",
    "                xx[f] = r['value']\n",
    "                x_atks += [xx]\n",
    "            else:\n",
    "#                 xx = x.copy()\n",
    "#                 xx[f] += r['value']\n",
    "#                 x_atks += [xx]\n",
    "                \n",
    "                # Evaluate crossing of multiple thresholds\n",
    "                low,high=sorted([x[f], x[f]+r['value']])\n",
    "                z = set(thresholds[f][np.logical_and(thresholds[f]>=low, thresholds[f]<=high)])\n",
    "                z |= set([low,high])\n",
    "                for zi in z:\n",
    "                    xx = x.copy()\n",
    "                    xx[f] = zi\n",
    "                    x_atks += [xx]\n",
    "\n",
    "                # we are adding all of this to both seen and queue\n",
    "                # the smallest element might not be included in seen\n",
    "                #     as it is not an interesting attack\n",
    "                # still we are missing managing of rule validity thresholds\n",
    "#                 print (x)\n",
    "#                 print (x_prime)\n",
    "#                 print (thresholds[f])\n",
    "#                 print (thresholds[f][crossings[0]:crossings[1]])\n",
    "\n",
    "            # process all atks\n",
    "            for xx in x_atks:\n",
    "                # skip if already seen and with a larger residual budget\n",
    "                xx_t = tuple(xx)\n",
    "                res_b = b - r['cost']\n",
    "                seen_budgets = seen.get(xx_t)\n",
    "                if seen_budgets is not None and seen_budgets[0] >= res_b:\n",
    "                    continue\n",
    "\n",
    "                # update budgets spent\n",
    "                updated_budget_units_spent = budget_units_spent.copy()\n",
    "                updated_budget_units_spent[f] = updated_budget_units_spent.get(f,0) + r['cost']\n",
    "                # add to frontier and to past seen elements\n",
    "                seen[xx_t] = [res_b, updated_budget_units_spent]\n",
    "                queue.append([xx, res_b, updated_budget_units_spent])\n",
    "    \n",
    "    perturbations_df = pd.DataFrame.from_records(list(seen.keys()), columns=x.index.values)\n",
    "    perturbations_df = perturbations_df.drop_duplicates()\n",
    "    return perturbations_df"
   ]
  },
  {
   "cell_type": "code",
   "execution_count": 4,
   "metadata": {},
   "outputs": [],
   "source": [
    "def perturb_dataset(data, budget, max_budget_per_feature, rules, skip_class=None):\n",
    "    \"\"\"\n",
    "    Returns the dataset extended with all instance perturbations.\n",
    "\n",
    "    This function takes as input a dataset and returns another dataset which is obtained from the original\n",
    "    by adding all the possible perturbations an attacker with budget B can apply to every instance.\n",
    "\n",
    "    Parameters\n",
    "    ----------\n",
    "    data : pandas.DataFrame\n",
    "        The original dataset\n",
    "    rules : list\n",
    "        The list of modification rules\n",
    "    budget : float\n",
    "        The attacker's budget\n",
    "    max_budget_per_feature : dict\n",
    "        The maximum allowed amount of budget units that can be spend on each feature\n",
    "    costs : dict\n",
    "        A mapping between each feature and its cost of perturbation\n",
    "    skip_class : int\n",
    "        if class (i.e. last columns) equals skip_class, then instance is skipped\n",
    "\n",
    "    Returns\n",
    "    -------\n",
    "    pandas.DataFrame\n",
    "        The perturbed dataset\n",
    "\n",
    "    \"\"\"\n",
    "    if data is None or data.empty:\n",
    "        return # if not, just return None\n",
    "    \n",
    "    # compute valid thresholds\n",
    "    thresholds = {c:np.unique(data[c]) for c in data.columns}\n",
    "\n",
    "    # prepare the perturbed dataset to be returned, initially empty with an extra \"instance_id\" column\n",
    "    cols = [\"instance_id\"] + data.columns.tolist()\n",
    "    perturbed_data = pd.DataFrame(columns=cols)\n",
    "    \n",
    "    # start with instance_id = 1\n",
    "    instance_id = 1\n",
    "    perturbations = None\n",
    "    \n",
    "    # loop through every single instance in the original dataset\n",
    "    print(\"***** Loop through all the original instances... *****\")\n",
    "    for index, instance in data.iterrows():\n",
    "        if instance_id%500==0:\n",
    "            print(\"***** Perturbing instance [ID = #{}]... *****\".format(instance_id))  \n",
    "        \n",
    "        if skip_class is not None and instance[-1]==skip_class:\n",
    "            # keep the original instance only\n",
    "            perturbations = pd.DataFrame([instance])\n",
    "        else:\n",
    "            # apply perturbations\n",
    "            perturbations = perturb_instance(x=instance, rules=rules, budget=budget, \n",
    "                                             max_budget_per_feature=max_budget_per_feature,\n",
    "                                             thresholds=thresholds)\n",
    "            \n",
    "        perturbations.insert(loc=0, \n",
    "                             column=\"instance_id\", \n",
    "                             value=[instance_id for i in range(perturbations.shape[0])], \n",
    "                             allow_duplicates=True)\n",
    "\n",
    "        perturbed_data = perturbed_data.append(perturbations)\n",
    "        instance_id += 1\n",
    "        \n",
    "    # eventually, return the perturbed dataset\n",
    "    print(\"***** Return the final perturbed dataset *****\")\n",
    "    return perturbed_data"
   ]
  },
  {
   "cell_type": "markdown",
   "metadata": {},
   "source": [
    "# Wine Dataset"
   ]
  },
  {
   "cell_type": "code",
   "execution_count": 5,
   "metadata": {},
   "outputs": [],
   "source": [
    "DATASET_NAME=\"wine2\"\n",
    "\n",
    "colnames = ['fixed_acidity', 'volatile_acidity', 'citric_acid', 'residual_sugar', 'chlorides', 'free_sulfur_dioxide',\n",
    "            'total_sulfur_dioxide', 'density', 'pH', 'sulphites', 'alcohol', 'is_white', 'quality']"
   ]
  },
  {
   "cell_type": "code",
   "execution_count": 6,
   "metadata": {},
   "outputs": [],
   "source": [
    "PATH=\"../data/{}\".format(DATASET_NAME)\n",
    "TRAINING_SET=\"train.csv\"\n",
    "VALIDATION_SET=\"valid.csv\"\n",
    "TEST_SET=\"test.csv\"\n",
    "N_TRAIN_INSTANCES=None # replace this with None to load the whole training set\n",
    "N_TEST_INSTANCES=None # replace this with None to load the whole test set"
   ]
  },
  {
   "cell_type": "code",
   "execution_count": 15,
   "metadata": {},
   "outputs": [],
   "source": [
    "######################\n",
    "# Attacker Definition\n",
    "######################\n",
    "attacker_rules = [\n",
    "    # alcohol increment rule\n",
    "    {'f'    :'alcohol',\n",
    "     'valid': lambda x: x['alcohol'] <= 10.0,\n",
    "     'value': .75,\n",
    "     'cost' : 10,\n",
    "     'is_cat': False },\n",
    "    {'f'    : 'residual_sugar',\n",
    "     'valid': lambda x: x['residual_sugar'] >= 8.0,\n",
    "     'value': -1.2,\n",
    "     'cost' : 10,\n",
    "     'is_cat': False },\n",
    "    {'f'    : 'volatile_acidity',\n",
    "     'valid': lambda x: x['volatile_acidity'] >= 0.6,\n",
    "     'value': -0.3,\n",
    "     'cost' : 10,\n",
    "     'is_cat': False }    \n",
    "]\n",
    "\n",
    "max_budget_per_feature = {\n",
    "    'alcohol'     : 100,\n",
    "    'residual_sugar': 100,\n",
    "    'volatile_acidity'    : 100\n",
    "}\n",
    "\n",
    "B = [20, 30, 40]\n",
    "B = [40]"
   ]
  },
  {
   "cell_type": "markdown",
   "metadata": {},
   "source": [
    "# Load dataset"
   ]
  },
  {
   "cell_type": "code",
   "execution_count": 16,
   "metadata": {},
   "outputs": [],
   "source": [
    "# load\n",
    "train = load_dataset(PATH, TRAINING_SET, names=colnames, header=0, nrows=N_TRAIN_INSTANCES)\n",
    "valid = load_dataset(PATH, VALIDATION_SET, names=colnames, header=0)\n",
    "test = load_dataset(PATH, TEST_SET, names=colnames, header=0, nrows=N_TEST_INSTANCES)\n",
    "\n",
    "# binarize\n",
    "binarize_data(train, \"quality\", 6)\n",
    "binarize_data(valid, \"quality\", 6)\n",
    "binarize_data(test, \"quality\", 6)"
   ]
  },
  {
   "cell_type": "code",
   "execution_count": 17,
   "metadata": {
    "scrolled": true
   },
   "outputs": [
    {
     "name": "stdout",
     "output_type": "stream",
     "text": [
      "Shape of training set: (4547, 13)\n",
      "Shape of validation set: (650, 13)\n",
      "Shape of test set: (1300, 13)\n"
     ]
    }
   ],
   "source": [
    "print(\"Shape of training set: {}\".format(train.shape))\n",
    "print(\"Shape of validation set: {}\".format(valid.shape))\n",
    "print(\"Shape of test set: {}\".format(test.shape))"
   ]
  },
  {
   "cell_type": "code",
   "execution_count": 18,
   "metadata": {},
   "outputs": [],
   "source": [
    "# train.head()\n",
    "# valid.head()\n",
    "# test.head()"
   ]
  },
  {
   "cell_type": "markdown",
   "metadata": {},
   "source": [
    "# Save normalized and perturbed datasets"
   ]
  },
  {
   "cell_type": "code",
   "execution_count": 19,
   "metadata": {},
   "outputs": [],
   "source": [
    "serialize_dataset(train, PATH, TRAINING_SET, \"_ori.csv.bz2\")\n",
    "serialize_dataset(valid, PATH, VALIDATION_SET, \"_ori.csv.bz2\")\n",
    "serialize_dataset(test, PATH, TEST_SET, \"_ori.csv.bz2\")"
   ]
  },
  {
   "cell_type": "code",
   "execution_count": 20,
   "metadata": {
    "scrolled": false
   },
   "outputs": [
    {
     "name": "stdout",
     "output_type": "stream",
     "text": [
      "Processing Budged:  40\n",
      "***** Loop through all the original instances... *****\n",
      "***** Perturbing instance [ID = #500]... *****\n",
      "***** Perturbing instance [ID = #1000]... *****\n",
      "***** Perturbing instance [ID = #1500]... *****\n",
      "***** Perturbing instance [ID = #2000]... *****\n",
      "***** Perturbing instance [ID = #2500]... *****\n",
      "***** Perturbing instance [ID = #3000]... *****\n",
      "***** Perturbing instance [ID = #3500]... *****\n",
      "***** Perturbing instance [ID = #4000]... *****\n",
      "***** Perturbing instance [ID = #4500]... *****\n",
      "***** Return the final perturbed dataset *****\n",
      "***** Loop through all the original instances... *****\n",
      "***** Perturbing instance [ID = #500]... *****\n",
      "***** Return the final perturbed dataset *****\n",
      "***** Loop through all the original instances... *****\n",
      "***** Perturbing instance [ID = #500]... *****\n",
      "***** Perturbing instance [ID = #1000]... *****\n",
      "***** Return the final perturbed dataset *****\n",
      "Shape of attacked training set: (2222084, 14)\n",
      "Shape of attacked validation set: (75813, 14)\n",
      "Shape of attacked test set: (232673, 14)\n"
     ]
    }
   ],
   "source": [
    "for budget in B:\n",
    "    print (\"Processing Budged: \", budget)\n",
    "    train_att = perturb_dataset(train, budget, max_budget_per_feature, attacker_rules, skip_class=1)\n",
    "    valid_att = perturb_dataset(valid, budget, max_budget_per_feature, attacker_rules, skip_class=1)\n",
    "    test_att  = perturb_dataset(test, budget, max_budget_per_feature, attacker_rules, skip_class=1)\n",
    "    \n",
    "    serialize_dataset(train_att, PATH, TRAINING_SET, \"_B{}\".format(budget)+\".csv.bz2\")\n",
    "    serialize_dataset(valid_att, PATH, VALIDATION_SET, \"_B{}\".format(budget)+\".csv.bz2\")\n",
    "    serialize_dataset(test_att, PATH, TEST_SET, \"_B{}\".format(budget)+\".csv.bz2\")\n",
    "    \n",
    "    print(\"Shape of attacked training set: {}\".format(train_att.shape))\n",
    "    print(\"Shape of attacked validation set: {}\".format(valid_att.shape))\n",
    "    print(\"Shape of attacked test set: {}\".format(test_att.shape))"
   ]
  },
  {
   "cell_type": "code",
   "execution_count": null,
   "metadata": {},
   "outputs": [],
   "source": []
  },
  {
   "cell_type": "code",
   "execution_count": null,
   "metadata": {},
   "outputs": [],
   "source": []
  },
  {
   "cell_type": "code",
   "execution_count": null,
   "metadata": {},
   "outputs": [],
   "source": []
  },
  {
   "cell_type": "code",
   "execution_count": null,
   "metadata": {},
   "outputs": [],
   "source": []
  },
  {
   "cell_type": "markdown",
   "metadata": {},
   "source": [
    "# Debugging"
   ]
  },
  {
   "cell_type": "code",
   "execution_count": 210,
   "metadata": {},
   "outputs": [
    {
     "name": "stdout",
     "output_type": "stream",
     "text": [
      "***** Loop through all the original instances... *****\n",
      "***** Perturbing instance [ID = #500]... *****\n",
      "***** Perturbing instance [ID = #1000]... *****\n",
      "***** Perturbing instance [ID = #1500]... *****\n",
      "***** Perturbing instance [ID = #2000]... *****\n",
      "***** Perturbing instance [ID = #2500]... *****\n",
      "***** Perturbing instance [ID = #3000]... *****\n",
      "***** Perturbing instance [ID = #3500]... *****\n",
      "***** Perturbing instance [ID = #4000]... *****\n",
      "***** Perturbing instance [ID = #4500]... *****\n",
      "***** Return the final perturbed dataset *****\n"
     ]
    }
   ],
   "source": [
    "train_att = perturb_dataset(train, 20, max_budget_per_feature, attacker_rules, skip_class=1)"
   ]
  },
  {
   "cell_type": "code",
   "execution_count": 211,
   "metadata": {},
   "outputs": [
    {
     "data": {
      "text/plain": [
       "(361282, 14)"
      ]
     },
     "execution_count": 211,
     "metadata": {},
     "output_type": "execute_result"
    }
   ],
   "source": [
    "train_att.shape"
   ]
  },
  {
   "cell_type": "code",
   "execution_count": 117,
   "metadata": {},
   "outputs": [
    {
     "data": {
      "text/plain": [
       "(7811, 14)"
      ]
     },
     "execution_count": 117,
     "metadata": {},
     "output_type": "execute_result"
    }
   ],
   "source": [
    "train_att.shape"
   ]
  },
  {
   "cell_type": "code",
   "execution_count": 212,
   "metadata": {},
   "outputs": [
    {
     "data": {
      "text/plain": [
       "(4547, 13)"
      ]
     },
     "execution_count": 212,
     "metadata": {},
     "output_type": "execute_result"
    }
   ],
   "source": [
    "train.shape"
   ]
  },
  {
   "cell_type": "code",
   "execution_count": 218,
   "metadata": {},
   "outputs": [
    {
     "data": {
      "text/plain": [
       "array([ 8.        ,  8.4       ,  8.5       ,  8.6       ,  8.7       ,\n",
       "        8.8       ,  8.9       ,  9.        ,  9.05      ,  9.1       ,\n",
       "        9.2       ,  9.23333333,  9.25      ,  9.3       ,  9.4       ,\n",
       "        9.5       ,  9.53333333,  9.55      ,  9.6       ,  9.63333333,\n",
       "        9.7       ,  9.73333333,  9.75      ,  9.8       ,  9.9       ,\n",
       "        9.95      , 10.        , 10.03333333, 10.1       , 10.13333333,\n",
       "       10.15      , 10.2       , 10.3       , 10.4       , 10.46666667,\n",
       "       10.5       , 10.53333333, 10.55      , 10.56666667, 10.6       ,\n",
       "       10.65      , 10.7       , 10.75      , 10.8       , 10.9       ,\n",
       "       10.93333333, 10.96666667, 11.        , 11.05      , 11.06666667,\n",
       "       11.1       , 11.2       , 11.26666667, 11.3       , 11.33333333,\n",
       "       11.4       , 11.43333333, 11.45      , 11.46666667, 11.5       ,\n",
       "       11.55      , 11.6       , 11.63333333, 11.65      , 11.7       ,\n",
       "       11.73333333, 11.75      , 11.8       , 11.85      , 11.9       ,\n",
       "       11.95      , 12.        , 12.06666667, 12.1       , 12.15      ,\n",
       "       12.2       , 12.3       , 12.33333333, 12.4       , 12.5       ,\n",
       "       12.6       , 12.7       , 12.75      , 12.8       , 12.89333333,\n",
       "       12.9       , 13.        , 13.1       , 13.13333333, 13.2       ,\n",
       "       13.3       , 13.4       , 13.5       , 13.56666667, 13.6       ,\n",
       "       13.7       , 13.8       , 13.9       , 14.        , 14.05      ,\n",
       "       14.2       , 14.9       ])"
      ]
     },
     "execution_count": 218,
     "metadata": {},
     "output_type": "execute_result"
    }
   ],
   "source": [
    "u = np.unique(train[['alcohol']]) \n",
    "u"
   ]
  },
  {
   "cell_type": "code",
   "execution_count": 199,
   "metadata": {},
   "outputs": [
    {
     "data": {
      "text/plain": [
       "{8.3, 8.4, 8.5, 8.6, 8.65}"
      ]
     },
     "execution_count": 199,
     "metadata": {},
     "output_type": "execute_result"
    }
   ],
   "source": [
    "set(u[np.logical_and(u>=8 , u<=8.65)]) | set([8.3,8.65] )\n",
    "# lower in queue but not in seen\n",
    "# upper in both queue and in seen"
   ]
  },
  {
   "cell_type": "code",
   "execution_count": 220,
   "metadata": {},
   "outputs": [
    {
     "data": {
      "text/plain": [
       "34"
      ]
     },
     "execution_count": 220,
     "metadata": {},
     "output_type": "execute_result"
    }
   ],
   "source": [
    "len( u[np.logical_and(u>=10 , u<=11.5)] )"
   ]
  },
  {
   "cell_type": "code",
   "execution_count": 170,
   "metadata": {},
   "outputs": [
    {
     "data": {
      "text/plain": [
       "array([3])"
      ]
     },
     "execution_count": 170,
     "metadata": {},
     "output_type": "execute_result"
    }
   ],
   "source": [
    "np.searchsorted(np.unique(train[['alcohol']]), [8.6], side='left') "
   ]
  },
  {
   "cell_type": "code",
   "execution_count": 204,
   "metadata": {},
   "outputs": [],
   "source": [
    "u,l=sorted([5,4])"
   ]
  },
  {
   "cell_type": "code",
   "execution_count": 202,
   "metadata": {},
   "outputs": [
    {
     "data": {
      "text/plain": [
       "(4, 5)"
      ]
     },
     "execution_count": 202,
     "metadata": {},
     "output_type": "execute_result"
    }
   ],
   "source": [
    "u,l\n"
   ]
  },
  {
   "cell_type": "code",
   "execution_count": 216,
   "metadata": {},
   "outputs": [
    {
     "data": {
      "text/plain": [
       "fixed_acidity            8.9000\n",
       "volatile_acidity         0.5900\n",
       "citric_acid              0.3900\n",
       "residual_sugar           2.3000\n",
       "chlorides                0.0950\n",
       "free_sulfur_dioxide      5.0000\n",
       "total_sulfur_dioxide    22.0000\n",
       "density                  0.9986\n",
       "pH                       3.3700\n",
       "sulphites                0.5800\n",
       "alcohol                 10.3000\n",
       "is_white                 0.0000\n",
       "quality                 -1.0000\n",
       "Name: 0, dtype: float64"
      ]
     },
     "execution_count": 216,
     "metadata": {},
     "output_type": "execute_result"
    }
   ],
   "source": [
    "train.iloc[0,:]"
   ]
  },
  {
   "cell_type": "code",
   "execution_count": null,
   "metadata": {},
   "outputs": [],
   "source": []
  }
 ],
 "metadata": {
  "kernelspec": {
   "display_name": "Python 3",
   "language": "python",
   "name": "python3"
  },
  "language_info": {
   "codemirror_mode": {
    "name": "ipython",
    "version": 3
   },
   "file_extension": ".py",
   "mimetype": "text/x-python",
   "name": "python",
   "nbconvert_exporter": "python",
   "pygments_lexer": "ipython3",
   "version": "3.6.7"
  }
 },
 "nbformat": 4,
 "nbformat_minor": 2
}
