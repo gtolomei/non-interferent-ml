{
 "cells": [
  {
   "cell_type": "code",
   "execution_count": 1,
   "metadata": {},
   "outputs": [],
   "source": [
    "%load_ext autoreload\n",
    "%autoreload 2"
   ]
  },
  {
   "cell_type": "code",
   "execution_count": 2,
   "metadata": {},
   "outputs": [],
   "source": [
    "import os\n",
    "import numpy as np\n",
    "import pandas as pd\n",
    "import matplotlib.pyplot as plt\n",
    "import seaborn as sns\n",
    "\n",
    "%matplotlib inline"
   ]
  },
  {
   "cell_type": "markdown",
   "metadata": {},
   "source": [
    "# Load evaluation results"
   ]
  },
  {
   "cell_type": "code",
   "execution_count": 3,
   "metadata": {},
   "outputs": [],
   "source": [
    "DATASET_NAME = \"wine\" #census\n",
    "RESULT_FILE = \"../out/eval/{}.csv\".format(DATASET_NAME)"
   ]
  },
  {
   "cell_type": "code",
   "execution_count": 4,
   "metadata": {},
   "outputs": [],
   "source": [
    "eval_df = pd.read_csv(RESULT_FILE, sep=\",\")"
   ]
  },
  {
   "cell_type": "code",
   "execution_count": 5,
   "metadata": {},
   "outputs": [
    {
     "data": {
      "text/html": [
       "<div>\n",
       "<style scoped>\n",
       "    .dataframe tbody tr th:only-of-type {\n",
       "        vertical-align: middle;\n",
       "    }\n",
       "\n",
       "    .dataframe tbody tr th {\n",
       "        vertical-align: top;\n",
       "    }\n",
       "\n",
       "    .dataframe thead th {\n",
       "        text-align: right;\n",
       "    }\n",
       "</style>\n",
       "<table border=\"1\" class=\"dataframe\">\n",
       "  <thead>\n",
       "    <tr style=\"text-align: right;\">\n",
       "      <th></th>\n",
       "      <th>Model</th>\n",
       "      <th>Budget</th>\n",
       "      <th>Binary Err Rate</th>\n",
       "      <th>F1 Micro</th>\n",
       "      <th>F1 Macro</th>\n",
       "      <th>Roc Auc</th>\n",
       "    </tr>\n",
       "  </thead>\n",
       "  <tbody>\n",
       "    <tr>\n",
       "      <th>0</th>\n",
       "      <td>GBDT</td>\n",
       "      <td>0</td>\n",
       "      <td>0.224615</td>\n",
       "      <td>0.775385</td>\n",
       "      <td>0.756277</td>\n",
       "      <td>0.848038</td>\n",
       "    </tr>\n",
       "    <tr>\n",
       "      <th>1</th>\n",
       "      <td>Random Forest</td>\n",
       "      <td>0</td>\n",
       "      <td>0.232308</td>\n",
       "      <td>0.767692</td>\n",
       "      <td>0.738854</td>\n",
       "      <td>0.836588</td>\n",
       "    </tr>\n",
       "    <tr>\n",
       "      <th>2</th>\n",
       "      <td>Adv Boosting [train budget=20]</td>\n",
       "      <td>0</td>\n",
       "      <td>0.210000</td>\n",
       "      <td>0.790000</td>\n",
       "      <td>0.770040</td>\n",
       "      <td>0.855570</td>\n",
       "    </tr>\n",
       "    <tr>\n",
       "      <th>3</th>\n",
       "      <td>Adv Boosting [train budget=40]</td>\n",
       "      <td>0</td>\n",
       "      <td>0.214615</td>\n",
       "      <td>0.785385</td>\n",
       "      <td>0.765906</td>\n",
       "      <td>0.858433</td>\n",
       "    </tr>\n",
       "    <tr>\n",
       "      <th>4</th>\n",
       "      <td>Adv Boosting [train budget=60]</td>\n",
       "      <td>0</td>\n",
       "      <td>0.216923</td>\n",
       "      <td>0.783077</td>\n",
       "      <td>0.764403</td>\n",
       "      <td>0.858331</td>\n",
       "    </tr>\n",
       "  </tbody>\n",
       "</table>\n",
       "</div>"
      ],
      "text/plain": [
       "                            Model  Budget  Binary Err Rate  F1 Micro  \\\n",
       "0                            GBDT       0         0.224615  0.775385   \n",
       "1                   Random Forest       0         0.232308  0.767692   \n",
       "2  Adv Boosting [train budget=20]       0         0.210000  0.790000   \n",
       "3  Adv Boosting [train budget=40]       0         0.214615  0.785385   \n",
       "4  Adv Boosting [train budget=60]       0         0.216923  0.783077   \n",
       "\n",
       "   F1 Macro   Roc Auc  \n",
       "0  0.756277  0.848038  \n",
       "1  0.738854  0.836588  \n",
       "2  0.770040  0.855570  \n",
       "3  0.765906  0.858433  \n",
       "4  0.764403  0.858331  "
      ]
     },
     "execution_count": 5,
     "metadata": {},
     "output_type": "execute_result"
    }
   ],
   "source": [
    "eval_df.head()"
   ]
  },
  {
   "cell_type": "code",
   "execution_count": 6,
   "metadata": {},
   "outputs": [],
   "source": [
    "eval_df['Accuracy'] = 1 - eval_df['Binary Err Rate']"
   ]
  },
  {
   "cell_type": "code",
   "execution_count": 7,
   "metadata": {},
   "outputs": [
    {
     "data": {
      "text/html": [
       "<div>\n",
       "<style scoped>\n",
       "    .dataframe tbody tr th:only-of-type {\n",
       "        vertical-align: middle;\n",
       "    }\n",
       "\n",
       "    .dataframe tbody tr th {\n",
       "        vertical-align: top;\n",
       "    }\n",
       "\n",
       "    .dataframe thead th {\n",
       "        text-align: right;\n",
       "    }\n",
       "</style>\n",
       "<table border=\"1\" class=\"dataframe\">\n",
       "  <thead>\n",
       "    <tr style=\"text-align: right;\">\n",
       "      <th></th>\n",
       "      <th>Model</th>\n",
       "      <th>Budget</th>\n",
       "      <th>Binary Err Rate</th>\n",
       "      <th>F1 Micro</th>\n",
       "      <th>F1 Macro</th>\n",
       "      <th>Roc Auc</th>\n",
       "      <th>Accuracy</th>\n",
       "    </tr>\n",
       "  </thead>\n",
       "  <tbody>\n",
       "    <tr>\n",
       "      <th>0</th>\n",
       "      <td>GBDT</td>\n",
       "      <td>0</td>\n",
       "      <td>0.224615</td>\n",
       "      <td>0.775385</td>\n",
       "      <td>0.756277</td>\n",
       "      <td>0.848038</td>\n",
       "      <td>0.775385</td>\n",
       "    </tr>\n",
       "    <tr>\n",
       "      <th>1</th>\n",
       "      <td>Random Forest</td>\n",
       "      <td>0</td>\n",
       "      <td>0.232308</td>\n",
       "      <td>0.767692</td>\n",
       "      <td>0.738854</td>\n",
       "      <td>0.836588</td>\n",
       "      <td>0.767692</td>\n",
       "    </tr>\n",
       "    <tr>\n",
       "      <th>2</th>\n",
       "      <td>Adv Boosting [train budget=20]</td>\n",
       "      <td>0</td>\n",
       "      <td>0.210000</td>\n",
       "      <td>0.790000</td>\n",
       "      <td>0.770040</td>\n",
       "      <td>0.855570</td>\n",
       "      <td>0.790000</td>\n",
       "    </tr>\n",
       "    <tr>\n",
       "      <th>3</th>\n",
       "      <td>Adv Boosting [train budget=40]</td>\n",
       "      <td>0</td>\n",
       "      <td>0.214615</td>\n",
       "      <td>0.785385</td>\n",
       "      <td>0.765906</td>\n",
       "      <td>0.858433</td>\n",
       "      <td>0.785385</td>\n",
       "    </tr>\n",
       "    <tr>\n",
       "      <th>4</th>\n",
       "      <td>Adv Boosting [train budget=60]</td>\n",
       "      <td>0</td>\n",
       "      <td>0.216923</td>\n",
       "      <td>0.783077</td>\n",
       "      <td>0.764403</td>\n",
       "      <td>0.858331</td>\n",
       "      <td>0.783077</td>\n",
       "    </tr>\n",
       "  </tbody>\n",
       "</table>\n",
       "</div>"
      ],
      "text/plain": [
       "                            Model  Budget  Binary Err Rate  F1 Micro  \\\n",
       "0                            GBDT       0         0.224615  0.775385   \n",
       "1                   Random Forest       0         0.232308  0.767692   \n",
       "2  Adv Boosting [train budget=20]       0         0.210000  0.790000   \n",
       "3  Adv Boosting [train budget=40]       0         0.214615  0.785385   \n",
       "4  Adv Boosting [train budget=60]       0         0.216923  0.783077   \n",
       "\n",
       "   F1 Macro   Roc Auc  Accuracy  \n",
       "0  0.756277  0.848038  0.775385  \n",
       "1  0.738854  0.836588  0.767692  \n",
       "2  0.770040  0.855570  0.790000  \n",
       "3  0.765906  0.858433  0.785385  \n",
       "4  0.764403  0.858331  0.783077  "
      ]
     },
     "execution_count": 7,
     "metadata": {},
     "output_type": "execute_result"
    }
   ],
   "source": [
    "eval_df.head()"
   ]
  },
  {
   "cell_type": "code",
   "execution_count": 8,
   "metadata": {},
   "outputs": [],
   "source": [
    "colnames = eval_df.columns.tolist()\n",
    "new_colnames = colnames[:3] + [colnames[-1]] + colnames[3:-1]\n",
    "eval_df = eval_df[new_colnames]"
   ]
  },
  {
   "cell_type": "code",
   "execution_count": 9,
   "metadata": {},
   "outputs": [
    {
     "data": {
      "text/html": [
       "<div>\n",
       "<style scoped>\n",
       "    .dataframe tbody tr th:only-of-type {\n",
       "        vertical-align: middle;\n",
       "    }\n",
       "\n",
       "    .dataframe tbody tr th {\n",
       "        vertical-align: top;\n",
       "    }\n",
       "\n",
       "    .dataframe thead th {\n",
       "        text-align: right;\n",
       "    }\n",
       "</style>\n",
       "<table border=\"1\" class=\"dataframe\">\n",
       "  <thead>\n",
       "    <tr style=\"text-align: right;\">\n",
       "      <th></th>\n",
       "      <th>Model</th>\n",
       "      <th>Budget</th>\n",
       "      <th>Binary Err Rate</th>\n",
       "      <th>Accuracy</th>\n",
       "      <th>F1 Micro</th>\n",
       "      <th>F1 Macro</th>\n",
       "      <th>Roc Auc</th>\n",
       "    </tr>\n",
       "  </thead>\n",
       "  <tbody>\n",
       "    <tr>\n",
       "      <th>0</th>\n",
       "      <td>GBDT</td>\n",
       "      <td>0</td>\n",
       "      <td>0.224615</td>\n",
       "      <td>0.775385</td>\n",
       "      <td>0.775385</td>\n",
       "      <td>0.756277</td>\n",
       "      <td>0.848038</td>\n",
       "    </tr>\n",
       "    <tr>\n",
       "      <th>1</th>\n",
       "      <td>Random Forest</td>\n",
       "      <td>0</td>\n",
       "      <td>0.232308</td>\n",
       "      <td>0.767692</td>\n",
       "      <td>0.767692</td>\n",
       "      <td>0.738854</td>\n",
       "      <td>0.836588</td>\n",
       "    </tr>\n",
       "    <tr>\n",
       "      <th>2</th>\n",
       "      <td>Adv Boosting [train budget=20]</td>\n",
       "      <td>0</td>\n",
       "      <td>0.210000</td>\n",
       "      <td>0.790000</td>\n",
       "      <td>0.790000</td>\n",
       "      <td>0.770040</td>\n",
       "      <td>0.855570</td>\n",
       "    </tr>\n",
       "    <tr>\n",
       "      <th>3</th>\n",
       "      <td>Adv Boosting [train budget=40]</td>\n",
       "      <td>0</td>\n",
       "      <td>0.214615</td>\n",
       "      <td>0.785385</td>\n",
       "      <td>0.785385</td>\n",
       "      <td>0.765906</td>\n",
       "      <td>0.858433</td>\n",
       "    </tr>\n",
       "    <tr>\n",
       "      <th>4</th>\n",
       "      <td>Adv Boosting [train budget=60]</td>\n",
       "      <td>0</td>\n",
       "      <td>0.216923</td>\n",
       "      <td>0.783077</td>\n",
       "      <td>0.783077</td>\n",
       "      <td>0.764403</td>\n",
       "      <td>0.858331</td>\n",
       "    </tr>\n",
       "  </tbody>\n",
       "</table>\n",
       "</div>"
      ],
      "text/plain": [
       "                            Model  Budget  Binary Err Rate  Accuracy  \\\n",
       "0                            GBDT       0         0.224615  0.775385   \n",
       "1                   Random Forest       0         0.232308  0.767692   \n",
       "2  Adv Boosting [train budget=20]       0         0.210000  0.790000   \n",
       "3  Adv Boosting [train budget=40]       0         0.214615  0.785385   \n",
       "4  Adv Boosting [train budget=60]       0         0.216923  0.783077   \n",
       "\n",
       "   F1 Micro  F1 Macro   Roc Auc  \n",
       "0  0.775385  0.756277  0.848038  \n",
       "1  0.767692  0.738854  0.836588  \n",
       "2  0.790000  0.770040  0.855570  \n",
       "3  0.785385  0.765906  0.858433  \n",
       "4  0.783077  0.764403  0.858331  "
      ]
     },
     "execution_count": 9,
     "metadata": {},
     "output_type": "execute_result"
    }
   ],
   "source": [
    "eval_df.head()"
   ]
  },
  {
   "cell_type": "markdown",
   "metadata": {},
   "source": [
    "# Plot GBDT vs. RF under attack"
   ]
  },
  {
   "cell_type": "code",
   "execution_count": 10,
   "metadata": {},
   "outputs": [],
   "source": [
    "atk_budgets = eval_df['Budget'].unique()"
   ]
  },
  {
   "cell_type": "code",
   "execution_count": 11,
   "metadata": {},
   "outputs": [
    {
     "data": {
      "text/plain": [
       "array([  0,  20,  40,  60,  80, 100, 120])"
      ]
     },
     "execution_count": 11,
     "metadata": {},
     "output_type": "execute_result"
    }
   ],
   "source": [
    "atk_budgets"
   ]
  },
  {
   "cell_type": "code",
   "execution_count": 12,
   "metadata": {},
   "outputs": [
    {
     "data": {
      "image/png": "[encoded data removed]",
      "text/plain": [
       "<Figure size 432x576 with 1 Axes>"
      ]
     },
     "metadata": {
      "needs_background": "light"
     },
     "output_type": "display_data"
    }
   ],
   "source": [
    "fig, ax = plt.subplots(1, 1, figsize=(6,8))\n",
    "ax = sns.barplot(x=\"Budget\", y=\"Accuracy\", hue=\"Model\", data=eval_df[(eval_df['Model']=='GBDT') | (eval_df['Model']=='Random Forest')])"
   ]
  },
  {
   "cell_type": "code",
   "execution_count": 35,
   "metadata": {},
   "outputs": [
    {
     "data": {
      "image/png": "[encoded data removed]",
      "text/plain": [
       "<Figure size 432x576 with 1 Axes>"
      ]
     },
     "metadata": {
      "needs_background": "light"
     },
     "output_type": "display_data"
    }
   ],
   "source": [
    "from matplotlib.patches import Patch\n",
    "from matplotlib.lines import Line2D\n",
    "\n",
    "fig, ax = plt.subplots(1, 1, figsize=(6,8))\n",
    "ax = sns.lineplot(x=\"Budget\", \n",
    "                  y=\"Accuracy\", \n",
    "                  hue=\"Model\", \n",
    "                  style=\"Model\",\n",
    "                  markers=True,\n",
    "                  palette=['#cf3721','cyan'], \n",
    "                  data=eval_df[(eval_df['Model']=='GBDT') | (eval_df['Model']=='Random Forest')])\n",
    "ax = sns.lineplot(x=\"Budget\", \n",
    "                  y=\"F1 Macro\", \n",
    "                  hue=\"Model\",\n",
    "                  style=\"Model\",\n",
    "                  markers=True,\n",
    "                  data=eval_df[(eval_df['Model']=='GBDT') | (eval_df['Model']=='Random Forest')])\n",
    "ax = sns.lineplot(x=\"Budget\", \n",
    "                  y=\"Roc Auc\", \n",
    "                  hue=\"Model\",\n",
    "                  style=\"Model\",\n",
    "                  markers=True,\n",
    "                  data=eval_df[(eval_df['Model']=='GBDT') | (eval_df['Model']=='Random Forest')])\n",
    "\n",
    "legend_elements = [Line2D([0], [0], color='b', lw=4),\n",
    "                   Line2D([0], [0], color='orange', lw=4),\n",
    "                   Line2D([0], [0], color='black', lw=4, ls='dashed')\n",
    "                  ]\n",
    "\n",
    "_ = ax.legend(title='Metrics', loc='best', handles=legend_elements, labels=['GBDT', 'Random Forest', 'ciao'])\n",
    "#plt.show(g)\n"
   ]
  },
  {
   "cell_type": "code",
   "execution_count": null,
   "metadata": {},
   "outputs": [],
   "source": [
    "mask = eval_df.Model == \"Baseline [GBDT]\"\n",
    "eval_df.loc[mask, 'Model'] = \"GBDT\""
   ]
  },
  {
   "cell_type": "code",
   "execution_count": null,
   "metadata": {},
   "outputs": [],
   "source": [
    "def rename_model(df, model_str, budget):\n",
    "    mask = eval_df.Model == model_str.format(budget)\n",
    "    df.loc[mask, 'Model'] = \"Adversarial-Training [b={}]\".format(budget)"
   ]
  },
  {
   "cell_type": "code",
   "execution_count": null,
   "metadata": {},
   "outputs": [],
   "source": [
    "model_str = \"Non-Interferent [b={}]\"\n",
    "\n",
    "for b in ATTACK_BUDGETS:\n",
    "    rename_model(eval_df, model_str, b)"
   ]
  },
  {
   "cell_type": "markdown",
   "metadata": {},
   "source": [
    "# Plot data"
   ]
  },
  {
   "cell_type": "code",
   "execution_count": null,
   "metadata": {},
   "outputs": [],
   "source": [
    "def bar_plot_under_attack(df, metric, train_budget):\n",
    "\n",
    "    fig, ax = plt.subplots(1, 1, figsize=(4,5.5))\n",
    "    plt.ylim(.5,.75)\n",
    "    \n",
    "    models = [\"GBDT\", \n",
    "              \"Adversarial-Boosting [b={}]\".format(train_budget), \n",
    "              \"Adversarial-Training [b={}]\".format(train_budget)]\n",
    "\n",
    "    data = df[df[\"Model\"].isin(models)].filter(regex=(\"Model|Budget|\"+metric))\n",
    "    \n",
    "    palette={'GBDT': '#cf3721',\n",
    "                             \"Adversarial-Boosting [b={}]\".format(train_budget): '#31a9b8', #'#f5be41',\n",
    "                             \"Adversarial-Training [b={}]\".format(train_budget): '#258039'\n",
    "                            }\n",
    "\n",
    "    _ = sns.barplot(x=\"Budget\", y=metric, hue=\"Model\", data=data, ax=ax)\n",
    "    _ = ax.set_xlabel(\"test budget\", fontsize=22, labelpad=12)\n",
    "    ylabel = metric\n",
    "    if metric == \"F1\":\n",
    "        ylabel = \"$F_1\\ score$\"\n",
    "    _ = ax.set_ylabel(ylabel, fontsize=22, labelpad=6)\n",
    "    start, end = ax.get_ylim()\n",
    "    _ = ax.yaxis.set_ticks(np.arange(start, end, 0.1))\n",
    "    _ = ax.tick_params(axis = 'both', which = 'major', labelsize = 20)\n",
    "    _ = ax.legend(loc='lower center', borderaxespad=0.2, fontsize=14)\n",
    "\n",
    "    \n",
    "#     handles, labels = ax[i].get_legend_handles_labels()\n",
    "#     fig.legend(handles, labels, loc='best', borderaxespad=0.5, fontsize=14) #bbox_to_anchor=(1.05, 1), loc=2"
   ]
  },
  {
   "cell_type": "code",
   "execution_count": null,
   "metadata": {},
   "outputs": [],
   "source": [
    "sns.set_style(\"whitegrid\")\n",
    "for i, b in enumerate(ATTACK_BUDGETS):\n",
    "    bar_plot_under_attack(eval_df, \"F1\", b)"
   ]
  },
  {
   "cell_type": "code",
   "execution_count": null,
   "metadata": {},
   "outputs": [],
   "source": [
    "def precision_recall(df, train_budget, att_budget):\n",
    "\n",
    "    fig, ax = plt.subplots(1, 1, figsize=(4,5.5))\n",
    "    #plt.title(\"Training budget = {} / Testing budget = {}\".format(train_budget, att_budget), fontsize=16, pad=12)\n",
    "    \n",
    "    models = [\"GBDT\", \n",
    "              \"Adversarial-Boosting [b={}]\".format(train_budget), \n",
    "              \"Adversarial-Training [b={}]\".format(train_budget)]\n",
    "    \n",
    "\n",
    "    data = df[df[\"Model\"].isin(models)].filter(regex=(\"Model|Budget|Precision|Recall\"))\n",
    "\n",
    "    _ = data[data.Budget == att_budget].plot(x=\"Budget\", y=[\"Precision\", \"Recall\"], kind=\"bar\", ax=ax, color=['#31a9b8', '#cf3721'])\n",
    "    _ = ax.set_xticklabels([\"GBDT\", \n",
    "                            \"Adv-Boosting\", \"Adv-Training\",\n",
    "                           ], rotation=45\n",
    "                          )\n",
    "    _ = ax.set_xlabel(\"Models\", fontsize=22, labelpad=12)\n",
    "    _ = ax.set_xlabel(\"\")\n",
    "    ylabel = \"Precision / Recall\"\n",
    "    _ = ax.set_ylabel(ylabel, fontsize=22, labelpad=6)\n",
    "    _ = ax.tick_params(axis = 'both', which = 'major', labelsize = 18)\n",
    "    _ = ax.legend(loc='lower center', borderaxespad=0.5, fontsize=18)"
   ]
  },
  {
   "cell_type": "code",
   "execution_count": null,
   "metadata": {},
   "outputs": [],
   "source": [
    "import itertools\n",
    "from operator import itemgetter\n",
    "\n",
    "b = [0] + ATTACK_BUDGETS\n",
    "c = list(itertools.product(b, b))\n",
    "pairs = sorted(c, key=itemgetter(0,1))\n",
    "pairs"
   ]
  },
  {
   "cell_type": "code",
   "execution_count": null,
   "metadata": {
    "scrolled": true
   },
   "outputs": [],
   "source": [
    "sns.set_style(\"whitegrid\")\n",
    "for tb, ab in pairs:\n",
    "    if (tb == ab and tb != 0) or (tb != 0 and ab == 0):\n",
    "        precision_recall(eval_df, tb, ab)"
   ]
  },
  {
   "cell_type": "markdown",
   "metadata": {},
   "source": [
    "# Figure 1"
   ]
  },
  {
   "cell_type": "code",
   "execution_count": null,
   "metadata": {},
   "outputs": [],
   "source": [
    "# Figure\n",
    "plt.figure(figsize=(12,8))\n",
    "\n",
    "# sns.pointplot(x=\"N. of Trees\", y=\"ROC AUC Under Max Attack\", hue=\"Model\", \n",
    "#                   data=eval_df, ax=ax, palette=\"OrRd\", \n",
    "#                   markers=['s', '*', '*', '*', '*', '*', '*', 'o'], \n",
    "#                   linestyles=['-', '-', '-', '-', '-', '-', '-', '-']\n",
    "#                  )\n",
    "\n",
    "################## ROC AUC ##################\n",
    "\n",
    "plt.plot(eval_df[\"N. of Trees\"][eval_df['Model']==\"Full-Non-Interferent\"], \n",
    "         eval_df[\"ROC AUC\"][eval_df['Model']==\"Full-Non-Interferent\"], \n",
    "         color='#258039', marker='s', ms=10, mfc='None', label=r\"Full Non-Interferent [$\\alpha=1.00$]\")\n",
    "\n",
    "# plt.plot(eval_df[\"N. of Trees\"][eval_df['Model']==\"Weighted-Non-Interferent [alpha=0.50]\"], \n",
    "#          eval_df[\"ROC AUC\"][eval_df['Model']==\"Weighted-Non-Interferent [alpha=0.50]\"], \n",
    "#          color='#31a9b8', marker='x', ms=10, mfc='None', label=\"Weighted-Non-Interferent [alpha=0.50]\")\n",
    "\n",
    "# plt.plot(eval_df[\"N. of Trees\"][eval_df['Model']==\"Weighted-Non-Interferent [alpha=0.10]\"], \n",
    "#          eval_df[\"ROC AUC\"][eval_df['Model']==\"Weighted-Non-Interferent [alpha=0.10]\"], \n",
    "#          color='#f5be41', marker='D', ms=10, mfc='None', label=\"Weighted-Non-Interferent [alpha=0.10]\")\n",
    "\n",
    "plt.plot(eval_df[\"N. of Trees\"][eval_df['Model']==\"Baseline [p=1.0; n=max]\"], \n",
    "         eval_df[\"ROC AUC\"][eval_df['Model']==\"Baseline [p=1.0; n=max]\"], \n",
    "         color='#cf3721', marker='o', ms=10,  mfc='None', label=r\"Adversarial Boosting [$n = \\max$]\")\n",
    "\n",
    "################## ROC AUC Under Max Attack ##################\n",
    "\n",
    "plt.plot(eval_df[\"N. of Trees\"][eval_df['Model']==\"Full-Non-Interferent\"], \n",
    "         eval_df[\"ROC AUC Under Max Attack\"][eval_df['Model']==\"Full-Non-Interferent\"], \n",
    "         color='#258039', marker='s',  ms=10,  label=r\"Full Non-Interferent [$\\alpha=1.00$] (under attack)\")\n",
    "\n",
    "# plt.plot(eval_df[\"N. of Trees\"][eval_df['Model']==\"Weighted-Non-Interferent [alpha=0.50]\"], \n",
    "#          eval_df[\"ROC AUC Under Max Attack\"][eval_df['Model']==\"Weighted-Non-Interferent [alpha=0.50]\"], \n",
    "#          color='#31a9b8', marker='x', ms=10,  label=\"Weighted-Non-Interferent [alpha=0.50] (under attack)\")\n",
    "\n",
    "# plt.plot(eval_df[\"N. of Trees\"][eval_df['Model']==\"Weighted-Non-Interferent [alpha=0.10]\"], \n",
    "#          eval_df[\"ROC AUC Under Max Attack\"][eval_df['Model']==\"Weighted-Non-Interferent [alpha=0.10]\"], \n",
    "#          color='#f5be41', marker='D',  ms=10,  label=\"Weighted-Non-Interferent [alpha=0.10] (under attack)\")\n",
    "\n",
    "plt.plot(eval_df[\"N. of Trees\"][eval_df['Model']==\"Baseline [p=1.0; n=max]\"], \n",
    "         eval_df[\"ROC AUC Under Max Attack\"][eval_df['Model']==\"Baseline [p=1.0; n=max]\"], \n",
    "         color='#cf3721', marker='o',  ms=10, label=r\"Adversarial Boosting [$n = \\max$] (under attack)\")\n",
    "\n",
    "\n",
    "#plt.xlim([0,210])\n",
    "plt.xticks(range(0,210,50))\n",
    "\n",
    "plt.legend(loc=\"best\", borderaxespad=0.5, fontsize=14) #bbox_to_anchor=(1.05, 1), loc=2\n",
    "plt.title(\"$AUC$ / $AUC^A$ on varying number of trees\", fontsize=20)\n",
    "plt.xlabel(\"N. of Trees\", fontsize=20, labelpad=12)\n",
    "plt.ylabel(\"$AUC$ / $AUC^A$\", fontsize=20, labelpad=6)\n",
    "ax = plt.gca()\n",
    "ax.tick_params(axis = 'both', which = 'major', labelsize = 16)\n",
    "plt.grid()\n",
    "plt.savefig(ATTACKER+\"_roc_auc_trees.pdf\")"
   ]
  },
  {
   "cell_type": "code",
   "execution_count": null,
   "metadata": {},
   "outputs": [],
   "source": [
    "# Figure\n",
    "plt.figure(figsize=(12,8))\n",
    "\n",
    "# sns.pointplot(x=\"N. of Trees\", y=\"ROC AUC Under Max Attack\", hue=\"Model\", \n",
    "#                   data=eval_df, ax=ax, palette=\"OrRd\", \n",
    "#                   markers=['s', '*', '*', '*', '*', '*', '*', 'o'], \n",
    "#                   linestyles=['-', '-', '-', '-', '-', '-', '-', '-']\n",
    "#                  )\n",
    "\n",
    "################## ROC AUC ##################\n",
    "\n",
    "# plt.plot(eval_df[\"N. of Trees\"][eval_df['Model']==\"Full-Non-Interferent\"], \n",
    "#          eval_df[\"ROC AUC\"][eval_df['Model']==\"Full-Non-Interferent\"], \n",
    "#          color='#258039', marker='s', ms=10, mfc='None', label=r\"Full Non-Interferent [$\\alpha=1.00$]\")\n",
    "\n",
    "# plt.plot(eval_df[\"N. of Trees\"][eval_df['Model']==\"Weighted-Non-Interferent [alpha=0.50]\"], \n",
    "#          eval_df[\"ROC AUC\"][eval_df['Model']==\"Weighted-Non-Interferent [alpha=0.50]\"], \n",
    "#          color='#f5be41', marker='X', ms=10, mfc='None', label=r\"Weighted Non-Interferent [$\\alpha=0.50$]\")\n",
    "\n",
    "# plt.plot(eval_df[\"N. of Trees\"][eval_df['Model']==\"Weighted-Non-Interferent [alpha=0.10]\"], \n",
    "#          eval_df[\"ROC AUC\"][eval_df['Model']==\"Weighted-Non-Interferent [alpha=0.10]\"], \n",
    "#          color='#31a9b8', marker='D', ms=10, mfc='None', label=r\"Weighted Non-Interferent [$\\alpha=0.10$]\")\n",
    "\n",
    "# plt.plot(eval_df[\"N. of Trees\"][eval_df['Model']==\"Baseline [p=1.0; n=max]\"], \n",
    "#          eval_df[\"ROC AUC\"][eval_df['Model']==\"Baseline [p=1.0; n=max]\"], \n",
    "#          color='#cf3721', marker='o', ms=10,  mfc='None', label=r\"Adversarial Boosting [$n = \\max$]\")\n",
    "\n",
    "################## ROC AUC Under Max Attack ##################\n",
    "\n",
    "plt.plot(eval_df[\"N. of Trees\"][eval_df['Model']==\"Full-Non-Interferent\"], \n",
    "         eval_df[\"ROC AUC Under Max Attack\"][eval_df['Model']==\"Full-Non-Interferent\"], \n",
    "         color='#258039', marker='s',  ms=10,  label=r\"Full Non-Interferent [$\\alpha=1.00$]\")\n",
    "\n",
    "plt.plot(eval_df[\"N. of Trees\"][eval_df['Model']==\"Weighted-Non-Interferent [alpha=0.50]\"], \n",
    "         eval_df[\"ROC AUC Under Max Attack\"][eval_df['Model']==\"Weighted-Non-Interferent [alpha=0.50]\"], \n",
    "         color='#f5be41', marker='X', ms=10,  label=r\"Weighted Non-Interferent [$\\alpha=0.50$]\")\n",
    "\n",
    "plt.plot(eval_df[\"N. of Trees\"][eval_df['Model']==\"Weighted-Non-Interferent [alpha=0.10]\"], \n",
    "         eval_df[\"ROC AUC Under Max Attack\"][eval_df['Model']==\"Weighted-Non-Interferent [alpha=0.10]\"], \n",
    "         color='#31a9b8', marker='D',  ms=10,  label=r\"Weighted Non-Interferent [$\\alpha=0.10$]\")\n",
    "\n",
    "plt.plot(eval_df[\"N. of Trees\"][eval_df['Model']==\"Baseline [p=1.0; n=max]\"], \n",
    "         eval_df[\"ROC AUC Under Max Attack\"][eval_df['Model']==\"Baseline [p=1.0; n=max]\"], \n",
    "         color='#cf3721', marker='o',  ms=10, label=r\"Adversarial Boosting [$n = \\max$]\")\n",
    "\n",
    "\n",
    "#plt.xlim([0,210])\n",
    "plt.xticks(range(0,210,50))\n",
    "\n",
    "plt.legend(loc=\"best\", borderaxespad=0.5, fontsize=14) #bbox_to_anchor=(1.05, 1), loc=2\n",
    "plt.title(\"$AUC^A$ on varying number of trees\", fontsize=20)\n",
    "plt.xlabel(\"N. of Trees\", fontsize=20, labelpad=12)\n",
    "plt.ylabel(\"$AUC^A$\", fontsize=20, labelpad=6)\n",
    "ax = plt.gca()\n",
    "ax.tick_params(axis = 'both', which = 'major', labelsize = 16)\n",
    "plt.grid()\n",
    "plt.savefig(ATTACKER+\"_roc_auc_trees_alpha.pdf\")\n",
    "#plt.savefig(\"unattacked_roc_auc_trees_alpha.pdf\")"
   ]
  }
 ],
 "metadata": {
  "kernelspec": {
   "display_name": "Python 3",
   "language": "python",
   "name": "python3"
  },
  "language_info": {
   "codemirror_mode": {
    "name": "ipython",
    "version": 3
   },
   "file_extension": ".py",
   "mimetype": "text/x-python",
   "name": "python",
   "nbconvert_exporter": "python",
   "pygments_lexer": "ipython3",
   "version": "3.6.8"
  }
 },
 "nbformat": 4,
 "nbformat_minor": 2
}
