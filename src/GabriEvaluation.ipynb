{
 "cells": [
  {
   "cell_type": "markdown",
   "metadata": {},
   "source": [
    "# Evaluating Models\n",
    "\n",
    "This notebook contains the code used for evaluating the following learning models:\n",
    "\n",
    "-  **Standard GBDT** (_baseline 1_)\n",
    "-  **Adversarial Boosting** (_baseline 2_)\n",
    "-  **Non-Interferent GBDT** (our proposal)"
   ]
  },
  {
   "cell_type": "markdown",
   "metadata": {},
   "source": [
    "# Documentation\n",
    "\n",
    " - http://lightgbm.readthedocs.io/en/latest/\n",
    " - http://lightgbm.readthedocs.io/en/latest/Python-Intro.html\n",
    " - https://github.com/Microsoft/LightGBM/tree/master/examples/python-guide"
   ]
  },
  {
   "cell_type": "code",
   "execution_count": null,
   "metadata": {},
   "outputs": [],
   "source": [
    "import os\n",
    "import json\n",
    "import pickle\n",
    "import numpy as np\n",
    "import pandas as pd\n",
    "import matplotlib.pyplot as plt\n",
    "import seaborn as sns\n",
    "import lightgbm\n",
    "import functools\n",
    "from os import listdir\n",
    "from os.path import isfile, join\n",
    "from sklearn.svm import SVC\n",
    "from sklearn.model_selection import GridSearchCV\n",
    "from sklearn.metrics import roc_auc_score, f1_score, confusion_matrix\n",
    "# Adding the following line, allows Jupyter Notebook to visualize plots\n",
    "# produced by matplotlib directly below the code cell which generated those.\n",
    "%matplotlib inline\n",
    "\n",
    "np.random.seed(73)"
   ]
  },
  {
   "cell_type": "markdown",
   "metadata": {},
   "source": [
    "# Standard evaluation metric\n",
    "\n",
    "The following function is the one used for evaluating the quality of the learned model (either _standard_, _adversarial-boosting_, or _non-interferent_). This is the standard <code>avg_log_loss</code>."
   ]
  },
  {
   "cell_type": "code",
   "execution_count": null,
   "metadata": {},
   "outputs": [],
   "source": [
    "def logistic(x):\n",
    "    return 1.0/(1.0 + np.exp(-x))"
   ]
  },
  {
   "cell_type": "code",
   "execution_count": null,
   "metadata": {},
   "outputs": [],
   "source": [
    "def logit(p):\n",
    "    return np.log(p/(1-p))"
   ]
  },
  {
   "cell_type": "markdown",
   "metadata": {},
   "source": [
    "# <code>avg_log_loss</code>"
   ]
  },
  {
   "cell_type": "code",
   "execution_count": null,
   "metadata": {},
   "outputs": [],
   "source": [
    "# self-defined eval metric\n",
    "# f(preds: array, train_data: Dataset) -> name: string, value: array, is_higher_better: bool\n",
    "def avg_log_loss(preds, train_data):\n",
    "    \n",
    "    labels = train_data.get_label()\n",
    "    losses = np.log(1.0 + np.exp(-preds*labels))\n",
    "    avg_loss = np.mean(losses)\n",
    "    \n",
    "    return 'avg_binary_log_loss', avg_loss, False"
   ]
  },
  {
   "cell_type": "code",
   "execution_count": null,
   "metadata": {},
   "outputs": [],
   "source": [
    "def eval_log_loss(model, test, test_groups=None, svm=False):\n",
    "    \n",
    "    lgbm_test = lightgbm.Dataset(data=test.iloc[:,:-1].values, \n",
    "                                 label=test.iloc[:,-1].values,\n",
    "                                 free_raw_data=False)\n",
    "    \n",
    "    if svm: # no trees have been generated (used for evaluating other non-tree-based models like SVM)\n",
    "        # use the logit function (i.e., the inverse of the logistic function) to map probabilities output\n",
    "        # by sklearn's predict_proba in the range [0,1] to a real number in the range [-inf, +inf]\n",
    "        return avg_log_loss(logit(model.predict_proba(test.iloc[:,:-1].values)[:,1]), lgbm_test)[1]\n",
    "    \n",
    "    return avg_log_loss(model.predict(test.iloc[:,:-1].values), lgbm_test)[1]"
   ]
  },
  {
   "cell_type": "markdown",
   "metadata": {},
   "source": [
    "# Custom evaluation metric\n",
    "\n",
    "Similarly to what we have done for <code>fobj</code>, <code>feval</code> can be computed from a weighted combination of two evaluation metrics:\n",
    "\n",
    "-  <code>avg_log_loss</code> (standard, defined above);\n",
    "-  <code>avg_log_loss_uma</code> (custom, defined below)."
   ]
  },
  {
   "cell_type": "markdown",
   "metadata": {},
   "source": [
    "# <code>avg_log_loss_uma</code>\n",
    "\n",
    "This is the binary log loss yet modified to operate on groups of perturbed instances."
   ]
  },
  {
   "cell_type": "code",
   "execution_count": null,
   "metadata": {},
   "outputs": [],
   "source": [
    "# Our custom metric\n",
    "\n",
    "def binary_log_loss(pred, true_label):\n",
    "\n",
    "    return np.log(1.0 + np.exp(-pred * true_label))\n",
    "\n",
    "# self-defined eval metric\n",
    "# f(preds: array, train_data: Dataset) -> name: string, value: array, is_higher_better: bool\n",
    "def avg_log_loss_uma(preds, train_data):\n",
    "    labels = train_data.get_label()\n",
    "    attack_lens = train_data.get_group()\n",
    "    \n",
    "    offset = 0\n",
    "    max_logloss = []\n",
    "    avg_max_logloss = 0.0\n",
    "    \n",
    "    if attack_lens is not None:\n",
    "    \n",
    "        for atk in attack_lens:\n",
    "            losses = [binary_log_loss(h,t) for h,t in zip(preds[offset:offset+atk], labels[offset:offset+atk])]\n",
    "            max_logloss.append(max(losses))\n",
    "\n",
    "            offset += atk\n",
    "        \n",
    "        avg_max_logloss = np.mean(max_logloss)  \n",
    "\n",
    "    return 'avg_binary_log_loss_under_max_attack', avg_max_logloss, False"
   ]
  },
  {
   "cell_type": "code",
   "execution_count": null,
   "metadata": {},
   "outputs": [],
   "source": [
    "def eval_log_loss_uma(model, test, test_groups=None, svm=False):\n",
    "    \n",
    "    lgbm_test = lightgbm.Dataset(data=test.iloc[:,:-1].values, \n",
    "                                 label=test.iloc[:,-1].values,\n",
    "                                 group=test_groups,\n",
    "                                 free_raw_data=False)\n",
    "    \n",
    "    if svm: # no trees have been generated (used for evaluating other non-tree-based models like SVM)\n",
    "        # use the logit function (i.e., the inverse of the logistic function) to map probabilities output\n",
    "        # by sklearn's predict_proba in the range [0,1] to a real number in the range [-inf, +inf]\n",
    "        return avg_log_loss_uma(logit(model.predict_proba(test.iloc[:,:-1].values)[:,1]), \n",
    "                                               lgbm_test)[1]\n",
    "    \n",
    "    return avg_log_loss_uma(model.predict(test.iloc[:,:-1].values), \n",
    "                                               lgbm_test)[1]"
   ]
  },
  {
   "cell_type": "markdown",
   "metadata": {},
   "source": [
    "# <code>feval=avg_non_interferent_log_loss</code>\n",
    "\n",
    "Used for measuring the validity of any model (either _standard_, _baseline_, or _non-interferent_). More precisely, <code>avg_non_interferent_log_loss</code> is the weighted sum of the binary log loss and the binary log loss under maximal attack."
   ]
  },
  {
   "cell_type": "code",
   "execution_count": null,
   "metadata": {},
   "outputs": [],
   "source": [
    "# LightGBM takes lambda x,y: avg_weighted_sum_log_loss_log_loss_uma(preds, train_data, alpha=0.5)\n",
    "\n",
    "def avg_non_interferent_log_loss(preds, train_data, alpha=1.0):\n",
    "    \n",
    "    # binary logloss under maximal attack\n",
    "    _, loss_uma, _    = avg_log_loss_uma(preds, train_data)\n",
    "    \n",
    "    # binary logloss (plain)\n",
    "    # _, loss_plain, _  = avg_log_loss(preds, train_data)\n",
    "    \n",
    "    ids = []\n",
    "    attack_lens = train_data.get_group()\n",
    "    \n",
    "    if attack_lens is not None:\n",
    "        offset=0\n",
    "        for atk in attack_lens:\n",
    "            ids += [offset]\n",
    "            offset += atk      \n",
    "            \n",
    "    ids = np.array(ids)\n",
    "    labels = train_data.get_label()\n",
    "    losses = np.log(1.0 + np.exp(-preds[ids]*labels[ids]))\n",
    "    loss_plain = np.mean(losses)\n",
    "\n",
    "    # combine the above two losses together\n",
    "    weighted_loss = alpha*loss_uma + (1.0-alpha)*loss_plain\n",
    "\n",
    "    return 'avg_non_interferent_log_loss [alpha={:.2f}]'.format(alpha), weighted_loss, False\n",
    "\n",
    "def eval_non_interferent_log_loss(model, test, test_groups=None, svm=False, alpha=1.0):\n",
    "    \n",
    "    lgbm_test = lightgbm.Dataset(data=test.iloc[:,:-1].values, \n",
    "                                 label=test.iloc[:,-1].values,\n",
    "                                 group=test_groups,\n",
    "                                 free_raw_data=False)\n",
    "    \n",
    "    if svm: # no trees have been generated (used for evaluating other non-tree-based models like SVM)\n",
    "        # use the logit function (i.e., the inverse of the logistic function) to map probabilities output\n",
    "        # by sklearn's predict_proba in the range [0,1] to a real number in the range [-inf, +inf]\n",
    "        return avg_non_interferent_log_loss(logit(model.predict_proba(test.iloc[:,:-1].values)[:,1]), \n",
    "                                                  lgbm_test,\n",
    "                                                  alpha=alpha\n",
    "                                                 )[1]\n",
    "    \n",
    "    return avg_non_interferent_log_loss(model.predict(test.iloc[:,:-1].values), \n",
    "                                                  lgbm_test,\n",
    "                                                  alpha=alpha\n",
    "                                                 )[1]"
   ]
  },
  {
   "cell_type": "markdown",
   "metadata": {},
   "source": [
    "# Additional validity measures\n",
    "\n",
    "In addition to the evaluation metrics defined above (used for training), we also consider the following **4** measures of validity to compare the performance of each learned model:\n",
    "\n",
    "-  <code>eval_binary_err_rate</code>: This is the traditional binary error rate (1-accuracy);\n",
    "-  <code>eval_binary_err_rate_uma</code>: This is the binary error rate modified to operate on groups of perturbed instances under maximal attack.\n",
    "-  <code>eval_roc_auc</code>: This is the classical ROC AUC score;\n",
    "-  <code>eval_roc_auc_uma</code>: This is the ROC AUC score modified to operate on groups of perturbed instances under maximal attack.\n",
    "\n",
    "Again, note that those are **not** metrics used at training time (i.e., they do not define any <code>feval</code>), rather they are used to assess the (offline) quality of each learned model."
   ]
  },
  {
   "cell_type": "markdown",
   "metadata": {},
   "source": [
    "# <code>eval_binary_err_rate</code>"
   ]
  },
  {
   "cell_type": "code",
   "execution_count": null,
   "metadata": {
    "scrolled": true
   },
   "outputs": [],
   "source": [
    "def eval_binary_err_rate(model, test_set, test_groups=None, svm=False):\n",
    "    X = test_set.iloc[:,:-1].values\n",
    "    labels = test_set.iloc[:,-1].values\n",
    "    \n",
    "    model_predictions = []\n",
    "    if svm: # no trees have been generated (used for evaluating other non-tree-based models like SVM)\n",
    "        # use the logit function (i.e., the inverse of the logistic function) to map probabilities output\n",
    "        # by sklearn's predict_proba in the range [0,1] to a real number in the range [-inf, +inf]\n",
    "        model_predictions = logit(model.predict_proba(X)[:,1])\n",
    "    else:\n",
    "        model_predictions = model.predict(X)\n",
    "        \n",
    "    predictions = [1 if p > 0 else -1 for p in model_predictions]\n",
    "    \n",
    "    errs = 0\n",
    "    for p,l in zip(predictions,labels):\n",
    "        if p != l:\n",
    "            errs += 1\n",
    "    return errs/len(predictions)"
   ]
  },
  {
   "cell_type": "markdown",
   "metadata": {},
   "source": [
    "# <code>eval_binary_err_rate_uma</code>"
   ]
  },
  {
   "cell_type": "code",
   "execution_count": null,
   "metadata": {},
   "outputs": [],
   "source": [
    "def eval_binary_err_rate_uma(model, test_set, test_groups=None, svm=False):\n",
    "    X = test_set.iloc[:,:-1].values\n",
    "    labels = test_set.iloc[:,-1].values\n",
    "    \n",
    "    model_predictions = []\n",
    "    if svm: # no trees have been generated (used for evaluating other non-tree-based models like SVM)\n",
    "        # use the logit function (i.e., the inverse of the logistic function) to map probabilities output\n",
    "        # by sklearn's predict_proba in the range [0,1] to a real number in the range [-inf, +inf]\n",
    "        model_predictions = logit(model.predict_proba(X)[:,1])\n",
    "    else:\n",
    "        model_predictions = model.predict(X)\n",
    "        \n",
    "    predictions = [1 if p > 0 else -1 for p in model_predictions]\n",
    "    \n",
    "    offset = 0\n",
    "    errs = 0\n",
    "\n",
    "    for g in test_groups:\n",
    "        predictions_att = predictions[offset:offset+g]\n",
    "        true_label = labels[offset]\n",
    "        if np.any([p != true_label for p in predictions_att]):\n",
    "            errs += 1\n",
    "        offset += g\n",
    "\n",
    "    return errs/len(test_groups)"
   ]
  },
  {
   "cell_type": "markdown",
   "metadata": {},
   "source": [
    "# <code>eval_roc_auc</code>"
   ]
  },
  {
   "cell_type": "code",
   "execution_count": null,
   "metadata": {
    "scrolled": true
   },
   "outputs": [],
   "source": [
    "def eval_roc_auc(model, test_set, test_groups=None, svm=False):\n",
    "    X = test_set.iloc[:,:-1].values\n",
    "    labels = test_set.iloc[:,-1].values\n",
    "    \n",
    "    predictions = []\n",
    "    \n",
    "    if svm: # no trees have been generated (used for evaluating other non-tree-based models like SVM)\n",
    "        # use the logit function (i.e., the inverse of the logistic function) to map probabilities output\n",
    "        # by sklearn's predict_proba in the range [0,1] to a real number in the range [-inf, +inf]\n",
    "        predictions = logit(model.predict_proba(X)[:,1])\n",
    "    else:\n",
    "        predictions = model.predict(X)\n",
    "        \n",
    "    \n",
    "    return roc_auc_score(y_true=labels, y_score=predictions)"
   ]
  },
  {
   "cell_type": "markdown",
   "metadata": {},
   "source": [
    "# <code>eval_roc_auc_uma</code>"
   ]
  },
  {
   "cell_type": "code",
   "execution_count": null,
   "metadata": {
    "scrolled": true
   },
   "outputs": [],
   "source": [
    "def eval_roc_auc_uma(model, test_set, test_groups=None, svm=False):\n",
    "    X = test_set.iloc[:,:-1].values\n",
    "    labels = test_set.iloc[:,-1].values\n",
    "    \n",
    "    predictions = []\n",
    "    \n",
    "    if svm: # no trees have been generated (used for evaluating other non-tree-based models like SVM)\n",
    "        # use the logit function (i.e., the inverse of the logistic function) to map probabilities output\n",
    "        # by sklearn's predict_proba in the range [0,1] to a real number in the range [-inf, +inf]\n",
    "        predictions = logit(model.predict_proba(X)[:,1])\n",
    "    else:\n",
    "        predictions = model.predict(X)\n",
    "    \n",
    "    \n",
    "    offset = 0\n",
    "    true_labels = []\n",
    "    worst_predictions = []\n",
    "    \n",
    "    for g in test_groups:\n",
    "        \n",
    "        true_label = labels[offset]\n",
    "        true_labels.append(true_label)\n",
    "        predictions_att = predictions[offset:offset+g]\n",
    "        if true_label == 1:\n",
    "            worst_predictions.append(np.min(predictions_att))\n",
    "        else:\n",
    "            worst_predictions.append(np.max(predictions_att))\n",
    "    \n",
    "        offset += g\n",
    "        \n",
    "    return roc_auc_score(y_true=true_labels, y_score=worst_predictions)"
   ]
  },
  {
   "cell_type": "markdown",
   "metadata": {},
   "source": [
    "# <code>eval_specificity</code>"
   ]
  },
  {
   "cell_type": "code",
   "execution_count": null,
   "metadata": {},
   "outputs": [],
   "source": [
    "def eval_specificity(model, test_set, test_groups=None, svm=False):\n",
    "    X = test_set.iloc[:,:-1].values\n",
    "    labels = test_set.iloc[:,-1].values\n",
    "    \n",
    "    model_predictions = []\n",
    "    if svm: # no trees have been generated (used for evaluating other non-tree-based models like SVM)\n",
    "        # use the logit function (i.e., the inverse of the logistic function) to map probabilities output\n",
    "        # by sklearn's predict_proba in the range [0,1] to a real number in the range [-inf, +inf]\n",
    "        model_predictions = logit(model.predict_proba(X)[:,1])\n",
    "    else:\n",
    "        model_predictions = model.predict(X)\n",
    "        \n",
    "    predictions = [1 if p > 0 else -1 for p in model_predictions]\n",
    "\n",
    "    tn, fp, fn, tp = confusion_matrix(labels, predictions).ravel()\n",
    "\n",
    "    return tn/(tn + fp)"
   ]
  },
  {
   "cell_type": "markdown",
   "metadata": {},
   "source": [
    "# <code>eval_specificity_uma</code>"
   ]
  },
  {
   "cell_type": "code",
   "execution_count": null,
   "metadata": {},
   "outputs": [],
   "source": [
    "def eval_specificity_uma(model, test_set, test_groups=None, svm=False):\n",
    "    X = test_set.iloc[:,:-1].values\n",
    "    labels = test_set.iloc[:,-1].values\n",
    "    \n",
    "    model_predictions = []\n",
    "    if svm: # no trees have been generated (used for evaluating other non-tree-based models like SVM)\n",
    "        # use the logit function (i.e., the inverse of the logistic function) to map probabilities output\n",
    "        # by sklearn's predict_proba in the range [0,1] to a real number in the range [-inf, +inf]\n",
    "        model_predictions = logit(model.predict_proba(X)[:,1])\n",
    "    else:\n",
    "        model_predictions = model.predict(X)\n",
    "        \n",
    "    predictions = [1 if p > 0 else -1 for p in model_predictions]\n",
    "    \n",
    "    offset = 0\n",
    "    true_labels = []\n",
    "    worst_predictions = []\n",
    "    \n",
    "    for g in test_groups:\n",
    "        true_label = labels[offset]\n",
    "        true_labels.append(true_label)\n",
    "        predictions_att = predictions[offset:offset+g]\n",
    "        if true_label == 1:\n",
    "            worst_predictions.append(np.min(predictions_att))\n",
    "        else:\n",
    "            worst_predictions.append(np.max(predictions_att))\n",
    "    \n",
    "        offset += g\n",
    "        \n",
    "    tn, fp, fn, tp = confusion_matrix(true_labels, worst_predictions).ravel()\n",
    "\n",
    "    return tn/(tn + fp)"
   ]
  },
  {
   "cell_type": "markdown",
   "metadata": {},
   "source": [
    "# <code>eval_sensitivity</code>"
   ]
  },
  {
   "cell_type": "code",
   "execution_count": null,
   "metadata": {},
   "outputs": [],
   "source": [
    "def eval_sensitivity(model, test_set, test_groups=None, svm=False):\n",
    "    X = test_set.iloc[:,:-1].values\n",
    "    labels = test_set.iloc[:,-1].values\n",
    "    \n",
    "    model_predictions = []\n",
    "    if svm: # no trees have been generated (used for evaluating other non-tree-based models like SVM)\n",
    "        # use the logit function (i.e., the inverse of the logistic function) to map probabilities output\n",
    "        # by sklearn's predict_proba in the range [0,1] to a real number in the range [-inf, +inf]\n",
    "        model_predictions = logit(model.predict_proba(X)[:,1])\n",
    "    else:\n",
    "        model_predictions = model.predict(X)\n",
    "        \n",
    "    predictions = [1 if p > 0 else -1 for p in model_predictions]\n",
    "\n",
    "    tn, fp, fn, tp = confusion_matrix(labels, predictions).ravel()\n",
    "\n",
    "    return tp/(tp + fn)"
   ]
  },
  {
   "cell_type": "markdown",
   "metadata": {},
   "source": [
    "# <code>eval_sensitivity_uma</code>"
   ]
  },
  {
   "cell_type": "code",
   "execution_count": null,
   "metadata": {},
   "outputs": [],
   "source": [
    "def eval_sensitivity_uma(model, test_set, test_groups=None, svm=False):\n",
    "    X = test_set.iloc[:,:-1].values\n",
    "    labels = test_set.iloc[:,-1].values\n",
    "    \n",
    "    model_predictions = []\n",
    "    if svm: # no trees have been generated (used for evaluating other non-tree-based models like SVM)\n",
    "        # use the logit function (i.e., the inverse of the logistic function) to map probabilities output\n",
    "        # by sklearn's predict_proba in the range [0,1] to a real number in the range [-inf, +inf]\n",
    "        model_predictions = logit(model.predict_proba(X)[:,1])\n",
    "    else:\n",
    "        model_predictions = model.predict(X)\n",
    "        \n",
    "    predictions = [1 if p > 0 else -1 for p in model_predictions]\n",
    "    \n",
    "    offset = 0\n",
    "    true_labels = []\n",
    "    worst_predictions = []\n",
    "    \n",
    "    for g in test_groups:\n",
    "        true_label = labels[offset]\n",
    "        true_labels.append(true_label)\n",
    "        predictions_att = predictions[offset:offset+g]\n",
    "        if true_label == 1:\n",
    "            worst_predictions.append(np.min(predictions_att))\n",
    "        else:\n",
    "            worst_predictions.append(np.max(predictions_att))\n",
    "    \n",
    "        offset += g\n",
    "        \n",
    "    tn, fp, fn, tp = confusion_matrix(true_labels, worst_predictions).ravel()\n",
    "\n",
    "    return tp/(tp + fn)"
   ]
  },
  {
   "cell_type": "markdown",
   "metadata": {},
   "source": [
    "# <code>eval_f1</code>"
   ]
  },
  {
   "cell_type": "code",
   "execution_count": null,
   "metadata": {
    "scrolled": true
   },
   "outputs": [],
   "source": [
    "def eval_f1(model, test_set, test_groups=None, svm=False):\n",
    "    X = test_set.iloc[:,:-1].values\n",
    "    labels = test_set.iloc[:,-1].values\n",
    "    \n",
    "    model_predictions = []\n",
    "    if svm: # no trees have been generated (used for evaluating other non-tree-based models like SVM)\n",
    "        # use the logit function (i.e., the inverse of the logistic function) to map probabilities output\n",
    "        # by sklearn's predict_proba in the range [0,1] to a real number in the range [-inf, +inf]\n",
    "        model_predictions = logit(model.predict_proba(X)[:,1])\n",
    "    else:\n",
    "        model_predictions = model.predict(X)\n",
    "        \n",
    "    predictions = [1 if p > 0 else -1 for p in model_predictions]\n",
    "    \n",
    "    return f1_score(y_true=labels, y_pred=predictions, average='macro')"
   ]
  },
  {
   "cell_type": "markdown",
   "metadata": {},
   "source": [
    "# <code>eval_f1_uma</code>"
   ]
  },
  {
   "cell_type": "code",
   "execution_count": null,
   "metadata": {
    "scrolled": true
   },
   "outputs": [],
   "source": [
    "def eval_f1_uma(model, test_set, test_groups=None, svm=False):\n",
    "    X = test_set.iloc[:,:-1].values\n",
    "    labels = test_set.iloc[:,-1].values\n",
    "    \n",
    "    model_predictions = []\n",
    "    if svm: # no trees have been generated (used for evaluating other non-tree-based models like SVM)\n",
    "        # use the logit function (i.e., the inverse of the logistic function) to map probabilities output\n",
    "        # by sklearn's predict_proba in the range [0,1] to a real number in the range [-inf, +inf]\n",
    "        model_predictions = logit(model.predict_proba(X)[:,1])\n",
    "    else:\n",
    "        model_predictions = model.predict(X)\n",
    "        \n",
    "    predictions = [1 if p > 0 else -1 for p in model_predictions]\n",
    "    \n",
    "    offset = 0\n",
    "    true_labels = []\n",
    "    worst_predictions = []\n",
    "    \n",
    "    for g in test_groups:\n",
    "        true_label = labels[offset]\n",
    "        true_labels.append(true_label)\n",
    "        predictions_att = predictions[offset:offset+g]\n",
    "        if true_label == 1:\n",
    "            worst_predictions.append(np.min(predictions_att))\n",
    "        else:\n",
    "            worst_predictions.append(np.max(predictions_att))\n",
    "    \n",
    "        offset += g\n",
    "        \n",
    "    return f1_score(y_true=true_labels, y_pred=worst_predictions, average='macro')"
   ]
  },
  {
   "cell_type": "markdown",
   "metadata": {},
   "source": [
    "# Evaluation metrics"
   ]
  },
  {
   "cell_type": "code",
   "execution_count": null,
   "metadata": {},
   "outputs": [],
   "source": [
    "EVAL_METRICS = [eval_log_loss, \n",
    "                eval_binary_err_rate,\n",
    "                eval_specificity,\n",
    "                eval_sensitivity,\n",
    "                eval_f1,\n",
    "                eval_roc_auc\n",
    "               ]\n",
    "\n",
    "EVAL_METRICS_UNDER_MAX_ATTACK = [eval_log_loss_uma,\n",
    "                                 eval_binary_err_rate_uma,\n",
    "                                 eval_specificity_uma,\n",
    "                                 eval_sensitivity_uma,\n",
    "                                 eval_f1_uma,\n",
    "                                 eval_roc_auc_uma\n",
    "                                ]"
   ]
  },
  {
   "cell_type": "markdown",
   "metadata": {},
   "source": [
    "# Evaluate each model w.r.t. _all_ evaluation metrics"
   ]
  },
  {
   "cell_type": "code",
   "execution_count": null,
   "metadata": {},
   "outputs": [],
   "source": [
    "def eval_learned_model(model, eval_metric, test, test_groups=None, svm=False):\n",
    "    return eval_metric(model, test, test_groups=test_groups, svm=svm)"
   ]
  },
  {
   "cell_type": "code",
   "execution_count": null,
   "metadata": {},
   "outputs": [],
   "source": [
    "def eval_learned_models(model, model_type, test, test_groups=None, budget=0):\n",
    "\n",
    "    eval_metrics = EVAL_METRICS\n",
    "    d_test = \"D_test\"\n",
    "    if test_groups is not None:\n",
    "        eval_metrics = EVAL_METRICS_UNDER_MAX_ATTACK\n",
    "        d_test = \"D_test_att\"\n",
    "    \n",
    "    header = ['Model'] + ['Budget'] + [m.__name__.replace('eval_','').replace('_',' ').title() for m in EVAL_METRICS]\n",
    "    df = pd.DataFrame(columns=header)\n",
    "    first_row = [model_type] + [budget] + [None for m in EVAL_METRICS]\n",
    "    df.loc[0] = first_row\n",
    "    \n",
    "    svm = False\n",
    "    if model_type == \"SVM\":\n",
    "        svm = True\n",
    "\n",
    "    for eval_metric in eval_metrics:\n",
    "        res = eval_learned_model(model, eval_metric, test, test_groups=test_groups, svm=svm)\n",
    "        print(\"{} learning - {} on {} = {:.5f}\"\n",
    "                  .format(model_type, eval_metric.__name__, d_test, res))\n",
    "        column_metric = eval_metric.__name__\n",
    "        if eval_metric.__name__.endswith(\"uma\"):\n",
    "            column_metric = eval_metric.__name__.replace('uma', '')\n",
    "        df[column_metric.replace('eval_','').replace('_',' ').title()] = res\n",
    "\n",
    "    print(\"******************************************************************************************************\")\n",
    "    \n",
    "    return df"
   ]
  },
  {
   "cell_type": "markdown",
   "metadata": {},
   "source": [
    "# Loading Datasets"
   ]
  },
  {
   "cell_type": "code",
   "execution_count": null,
   "metadata": {},
   "outputs": [],
   "source": [
    "def label_encode(dataset, categorical_features):\n",
    "    dataset_le = dataset.copy()\n",
    "    for column in dataset_le.columns:\n",
    "        if column in categorical_features:\n",
    "            dataset_le[column] = dataset_le[column].astype('category')\n",
    "            dataset_le[column] = dataset_le[column].cat.codes.astype(np.int32)\n",
    "    return dataset_le\n",
    "\n",
    "def load_atk_train_valid_test(atk_train_file, atk_valid_file, atk_test_file, \n",
    "                              train_split=0.6, valid_split=0.2, force=False):\n",
    "    \n",
    "    \n",
    "    if  (force or \n",
    "          not os.path.exists(atk_train_file+\".cat.bz2\") or\n",
    "          not os.path.exists(atk_valid_file+\".cat.bz2\") or\n",
    "          not os.path.exists(atk_test_file+\".cat.bz2\") or \n",
    "          not os.path.exists(atk_train_file+\".cat.json\") ):\n",
    "    \n",
    "        print (\"Pre-processing original files...\")\n",
    "\n",
    "        print (\"Loading:\", atk_train_file)\n",
    "        print (\"Loading:\", atk_valid_file)\n",
    "        print (\"Loading:\", atk_test_file)\n",
    "\n",
    "        train = pd.read_csv(atk_train_file)\n",
    "        valid = pd.read_csv(atk_valid_file)\n",
    "        test  = pd.read_csv(atk_test_file)\n",
    "        \n",
    "        print (\"Train/Valid/Test sizes:\", train.shape, valid.shape, test.shape)\n",
    "        print (\"Train/Valid/Test split: {:.2f} {:.2f} {:.2f}\"\n",
    "                   .format( train.shape[0]/(train.shape[0]+valid.shape[0]+test.shape[0]),\n",
    "                            valid.shape[0]/(train.shape[0]+valid.shape[0]+test.shape[0]),\n",
    "                            test.shape[0] /(train.shape[0]+valid.shape[0]+test.shape[0]) ) )\n",
    "\n",
    "\n",
    "        # split-back into train valid test\n",
    "        if 'instance_id' in train.columns.values:\n",
    "            print ('with instance ids')\n",
    "            valid['instance_id'] += train.iloc[-1,0]\n",
    "            test['instance_id']  += valid.iloc[-1,0]\n",
    "            \n",
    "            groups = np.concatenate( [ train['instance_id'].value_counts().sort_index().values,\n",
    "                                       valid['instance_id'].value_counts().sort_index().values,\n",
    "                                       test['instance_id'].value_counts().sort_index().values ] )\n",
    "            \n",
    "            num_train_groups = int( len(groups)*train_split )\n",
    "            train_size = sum(groups[:num_train_groups])\n",
    "            num_valid_groups = int( len(groups)*valid_split )\n",
    "            valid_size = sum(groups[num_train_groups:num_train_groups+num_valid_groups])\n",
    "        else:\n",
    "            full_size = len(train) + len(valid) + len(test)\n",
    "            train_size = int( full_size*train_split )\n",
    "            valid_size = int( full_size*valid_split )\n",
    "        \n",
    "        # concat to process correctly label encoding\n",
    "        full = pd.concat( [train, valid, test] )\n",
    "\n",
    "        # get index of categorical features (-1 because of instance_id)\n",
    "        cat_fx = full.columns.values[np.where(full.dtypes=='object')[0]]\n",
    "        cat_fx = list(cat_fx)    \n",
    "        full = label_encode(full, cat_fx)\n",
    "        with open(atk_train_file+\".cat.json\", 'w') as fp:\n",
    "            json.dump(cat_fx, fp)\n",
    "        print (\"CatFX:\", cat_fx)\n",
    "\n",
    "        train_cat = full.iloc[0:train_size,:]\n",
    "        valid_cat = full.iloc[train_size:train_size+valid_size,:]\n",
    "        test_cat  = full.iloc[train_size+valid_size:,:]    \n",
    "\n",
    "        print (\"Train/Valid/Test sizes:\", train_cat.shape, valid_cat.shape, test_cat.shape)\n",
    "        print (\"Train/Valid/Test split: {:.2f} {:.2f} {:.2f}\"\n",
    "                   .format( train_cat.shape[0]/(train_cat.shape[0]+valid_cat.shape[0]+test_cat.shape[0]),\n",
    "                            valid_cat.shape[0]/(train_cat.shape[0]+valid_cat.shape[0]+test_cat.shape[0]),\n",
    "                            test_cat.shape[0] /(train_cat.shape[0]+valid_cat.shape[0]+test_cat.shape[0]) ) )\n",
    "\n",
    "        # save to file\n",
    "        print (\"Saving processed files *.cat.bz2\")\n",
    "        train_cat.to_csv(atk_train_file+\".cat.bz2\", compression=\"bz2\", index=False)\n",
    "        valid_cat.to_csv(atk_valid_file+\".cat.bz2\", compression=\"bz2\", index=False)\n",
    "        test_cat.to_csv (atk_test_file+\".cat.bz2\",  compression=\"bz2\", index=False)\n",
    "        \n",
    "    else:\n",
    "        print (\"Loading pre-processed files...\")\n",
    "\n",
    "        train_cat = pd.read_csv(atk_train_file+\".cat.bz2\")\n",
    "        valid_cat = pd.read_csv(atk_valid_file+\".cat.bz2\")\n",
    "        test_cat  = pd.read_csv(atk_test_file+\".cat.bz2\")\n",
    "        \n",
    "        with open(atk_train_file+\".cat.json\", 'r') as fp:\n",
    "            cat_fx = json.load(fp)\n",
    "    \n",
    "    # return data\n",
    "    return train_cat, valid_cat, test_cat, cat_fx"
   ]
  },
  {
   "cell_type": "markdown",
   "metadata": {},
   "source": [
    "# Retrieve all model files"
   ]
  },
  {
   "cell_type": "code",
   "execution_count": null,
   "metadata": {},
   "outputs": [],
   "source": [
    "MODELS_PATH = \"../out/models\""
   ]
  },
  {
   "cell_type": "code",
   "execution_count": null,
   "metadata": {},
   "outputs": [],
   "source": [
    "### Standard SVM\n",
    "svm = None \n",
    "with open(join(MODELS_PATH, \"svm_census_C1000.model\"), 'rb') as svm_file:\n",
    "    svm = pickle.load(svm_file)\n",
    "### Standard GBDT\n",
    "std_gbdt = lightgbm.Booster(model_file=join(MODELS_PATH, \"std_gbdt_census_T500_S0100_L24_R234.model\"))\n",
    "### Adversarial Boosting\n",
    "# budget=5\n",
    "adv_boost_b5 = lightgbm.Booster(model_file=join(MODELS_PATH, \"adv_boosting_census_B5_T500_S0100_L24_R492.model\"))\n",
    "# budget=15\n",
    "adv_boost_b15 = lightgbm.Booster(model_file=join(MODELS_PATH, \"adv_boosting_census_B15_T500_S0100_L24_R450.model\"))\n",
    "# budget=150\n",
    "adv_boost_b150 = lightgbm.Booster(model_file=join(MODELS_PATH, \"adv_boosting_census_B150_T500_S0100_L24_R465.model\"))\n",
    "# budget=300\n",
    "adv_boost_b300 = lightgbm.Booster(model_file=join(MODELS_PATH, \"adv_boosting_census_B300_T500_S0100_L24_R498.model\"))\n",
    "### Non-Interferent\n",
    "# budget=5\n",
    "non_interf_b5 = lightgbm.Booster(model_file=join(MODELS_PATH, \"non_interferent_census_B5_T500_S0050_L24_A050_R356.model\")) #\"non_interferent_census_B5_T500_S0100_L24_A050_R157.model\"))\n",
    "# budget=15\n",
    "non_interf_b15 = lightgbm.Booster(model_file=join(MODELS_PATH, \"non_interferent_census_B15_T500_S0050_L24_A050_R335.model\")) #\"non_interferent_census_B15_T500_S0100_L24_A050_R156.model\"))\n",
    "# budget=150\n",
    "non_interf_b150 = lightgbm.Booster(model_file=join(MODELS_PATH, \"non_interferent_census_B150_T500_S0050_L24_A050_R292.model\")) #\"non_interferent_census_B150_T500_S0100_L24_A050_R135.model\"))\n",
    "# budget=300\n",
    "non_interf_b300 = lightgbm.Booster(model_file=join(MODELS_PATH, \"non_interferent_census_B300_T500_S0050_L24_A050_R340.model\")) #\"non_interferent_census_B300_T500_S0100_L24_A050_R134.model\"))\n"
   ]
  },
  {
   "cell_type": "code",
   "execution_count": null,
   "metadata": {},
   "outputs": [],
   "source": [
    "MODELS = (std_gbdt,\n",
    "          adv_boost_b5, \n",
    "          adv_boost_b15, \n",
    "          adv_boost_b150, \n",
    "          adv_boost_b300, \n",
    "          non_interf_b5,\n",
    "          non_interf_b15,\n",
    "          non_interf_b150,\n",
    "          non_interf_b300\n",
    "         )"
   ]
  },
  {
   "cell_type": "code",
   "execution_count": null,
   "metadata": {},
   "outputs": [],
   "source": [
    "# load train/valid/test\n",
    "train, valid, test, _ = load_atk_train_valid_test(\"../data/census/train_ori.csv.bz2\", \n",
    "                                                       \"../data/census/valid_ori.csv.bz2\", \n",
    "                                                       \"../data/census/test_ori.csv.bz2\")"
   ]
  },
  {
   "cell_type": "code",
   "execution_count": null,
   "metadata": {},
   "outputs": [],
   "source": [
    "def load_attacked_dataset(budget):\n",
    "    # load train/valid/test\n",
    "    train_att, valid_att, test_att, _ = load_atk_train_valid_test(\"../data/census/train_B{}.csv.bz2\".format(budget), \n",
    "                                                           \"../data/census/valid_B{}.csv.bz2\".format(budget), \n",
    "                                                           \"../data/census/test_B{}.csv.bz2\".format(budget))\n",
    "\n",
    "    test_groups = test_att['instance_id'].value_counts().sort_index().values\n",
    "    test_att = test_att.iloc[:, 1:]\n",
    "\n",
    "    valid_groups = valid_att['instance_id'].value_counts().sort_index().values\n",
    "    valid_att = valid_att.iloc[:, 1:]\n",
    "\n",
    "    train_groups = train_att['instance_id'].value_counts().sort_index().values\n",
    "    train_att = train_att.iloc[:, 1:]\n",
    "    \n",
    "    return train_att, train_groups, valid_att, valid_groups, test_att, test_groups"
   ]
  },
  {
   "cell_type": "code",
   "execution_count": null,
   "metadata": {},
   "outputs": [],
   "source": [
    "def load_attacked_datasets():\n",
    "    att_datasets = {}\n",
    "    for b in [5, 15, 150, 300]:\n",
    "        att_datasets[b] = load_attacked_dataset(b)\n",
    "    \n",
    "    return att_datasets"
   ]
  },
  {
   "cell_type": "code",
   "execution_count": null,
   "metadata": {},
   "outputs": [],
   "source": [
    "#svm_df = eval_learned_models(svm, \"SVM\", test)\n",
    "std_gbdt_df = eval_learned_models(std_gbdt, \"Baseline [GBDT]\", test)\n",
    "adv_boost_df_b5 = eval_learned_models(adv_boost_b5, \"Adversarial-Boosting [b=5]\", test)\n",
    "adv_boost_df_b15 = eval_learned_models(adv_boost_b15, \"Adversarial-Boosting [b=15]\", test)\n",
    "adv_boost_df_b150 = eval_learned_models(adv_boost_b150, \"Adversarial-Boosting [b=150]\", test)\n",
    "adv_boost_df_b300 = eval_learned_models(adv_boost_b300, \"Adversarial-Boosting [b=300]\", test)\n",
    "non_interf_df_b5 = eval_learned_models(non_interf_b5, \"Non-Interferent [b=5]\", test)\n",
    "non_interf_df_b15 = eval_learned_models(non_interf_b15, \"Non-Interferent [b=15]\", test)\n",
    "non_interf_df_b150 = eval_learned_models(non_interf_b150, \"Non-Interferent [b=150]\", test)\n",
    "non_interf_df_b300 = eval_learned_models(non_interf_b300, \"Non-Interferent [b=300]\", test)"
   ]
  },
  {
   "cell_type": "code",
   "execution_count": null,
   "metadata": {},
   "outputs": [],
   "source": [
    "att_datasets = load_attacked_datasets()"
   ]
  },
  {
   "cell_type": "code",
   "execution_count": null,
   "metadata": {},
   "outputs": [],
   "source": [
    "test_att_b5 = att_datasets[5][4]\n",
    "test_groups_b5 = att_datasets[5][5]\n",
    "test_att_b15 = att_datasets[15][4]\n",
    "test_groups_b15 = att_datasets[15][5]\n",
    "test_att_b150 = att_datasets[150][4]\n",
    "test_groups_b150 = att_datasets[150][5]\n",
    "test_att_b300 = att_datasets[300][4]\n",
    "test_groups_b300 = att_datasets[300][5]"
   ]
  },
  {
   "cell_type": "code",
   "execution_count": null,
   "metadata": {},
   "outputs": [],
   "source": [
    "def eval_all_models_under_attack(models):\n",
    "    \n",
    "    std_gbdt, adv_boost_b5, adv_boost_b15, adv_boost_b150, adv_boost_b300, non_interf_b5, non_interf_b15, non_interf_b150, non_interf_b300 = models\n",
    "    \n",
    "    dfs = []\n",
    "    for b in [5, 15, 150, 300]:\n",
    "        \n",
    "        print(\"==> Evaluating Standard GBDT under attack [b={}]\".format(b))\n",
    "        std_gbdt_df_att = eval_learned_models(std_gbdt, \n",
    "                                              \"Baseline [GBDT]\", \n",
    "                                              att_datasets[b][4], \n",
    "                                              att_datasets[b][5], \n",
    "                                              budget=b)\n",
    "        \n",
    "        print(\"==> Evaluating Adversarial Boosting [b_train={}] under attack [b={}]\".format(5, b))\n",
    "        adv_boost_df_att_b5 = eval_learned_models(adv_boost_b5, \n",
    "                                                  \"Adversarial-Boosting [b=5]\", \n",
    "                                                  att_datasets[b][4], \n",
    "                                                  att_datasets[b][5], \n",
    "                                                  budget=b)\n",
    "        print(\"==> Evaluating Adversarial Boosting [b_train={}] under attack [b={}]\".format(15, b))\n",
    "        adv_boost_df_att_b15 = eval_learned_models(adv_boost_b15, \n",
    "                                                   \"Adversarial-Boosting [b=15]\", \n",
    "                                                   att_datasets[b][4], \n",
    "                                                   att_datasets[b][5], \n",
    "                                                   budget=b)\n",
    "        print(\"==> Evaluating Adversarial Boosting [b_train={}] under attack [b={}]\".format(150, b))\n",
    "        adv_boost_df_att_b150 = eval_learned_models(adv_boost_b150, \n",
    "                                                    \"Adversarial-Boosting [b=150]\", \n",
    "                                                    att_datasets[b][4], \n",
    "                                                    att_datasets[b][5], \n",
    "                                                    budget=b)\n",
    "        print(\"==> Evaluating Adversarial Boosting [b_train={}] under attack [b={}]\".format(300, b))\n",
    "        adv_boost_df_att_b300 = eval_learned_models(adv_boost_b300, \n",
    "                                                    \"Adversarial-Boosting [b=300]\", \n",
    "                                                    att_datasets[b][4], \n",
    "                                                    att_datasets[b][5], \n",
    "                                                    budget=b)\n",
    "        \n",
    "        print(\"==> Evaluating Non-Interferent [b_train={}] under attack [b={}]\".format(5, b))\n",
    "        non_interf_df_att_b5 = eval_learned_models(non_interf_b5, \n",
    "                                                  \"Non-Interferent [b=5]\", \n",
    "                                                  att_datasets[b][4], \n",
    "                                                  att_datasets[b][5], \n",
    "                                                  budget=b)\n",
    "        print(\"==> Evaluating Non-Interferent [b_train={}] under attack [b={}]\".format(15, b))\n",
    "        non_interf_df_att_b15 = eval_learned_models(non_interf_b15, \n",
    "                                                   \"Non-Interferent [b=15]\", \n",
    "                                                   att_datasets[b][4], \n",
    "                                                   att_datasets[b][5], \n",
    "                                                   budget=b)\n",
    "        print(\"==> Evaluating Non-Interferent [b_train={}] under attack [b={}]\".format(150, b))\n",
    "        non_interf_df_att_b150 = eval_learned_models(non_interf_b150, \n",
    "                                                    \"Non-Interferent [b=150]\", \n",
    "                                                    att_datasets[b][4], \n",
    "                                                    att_datasets[b][5], \n",
    "                                                    budget=b)\n",
    "        print(\"==> Evaluating Non-Interferent [b_train={}] under attack [b={}]\".format(300, b))\n",
    "        non_interf_df_att_b300 = eval_learned_models(non_interf_b300, \n",
    "                                                    \"Non-Interferent [b=300]\", \n",
    "                                                    att_datasets[b][4], \n",
    "                                                    att_datasets[b][5], \n",
    "                                                    budget=b)\n",
    "        \n",
    "        df_b = pd.concat([std_gbdt_df_att, \n",
    "                          adv_boost_df_att_b5, \n",
    "                          adv_boost_df_att_b15, \n",
    "                          adv_boost_df_att_b150, \n",
    "                          adv_boost_df_att_b300, \n",
    "                          non_interf_df_att_b5,\n",
    "                          non_interf_df_att_b15,\n",
    "                          non_interf_df_att_b150,\n",
    "                          non_interf_df_att_b300\n",
    "                         ], \n",
    "                         axis=0, \n",
    "                         sort=False)\n",
    "\n",
    "        df_b.reset_index(inplace=True, drop=True)\n",
    "        \n",
    "        dfs.append(df_b)\n",
    "        \n",
    "    #df = functools.reduce(lambda left,right: pd.merge(left,right,on=['Model', 'Budget']), dfs)\n",
    "    df = pd.concat(dfs, axis=0, sort=False)\n",
    "    \n",
    "    return df"
   ]
  },
  {
   "cell_type": "code",
   "execution_count": null,
   "metadata": {},
   "outputs": [],
   "source": [
    "eval_under_attack_df = eval_all_models_under_attack(MODELS)"
   ]
  },
  {
   "cell_type": "code",
   "execution_count": null,
   "metadata": {},
   "outputs": [],
   "source": [
    "eval_under_attack_df"
   ]
  },
  {
   "cell_type": "code",
   "execution_count": null,
   "metadata": {},
   "outputs": [],
   "source": [
    "overall_df = pd.concat([std_gbdt_df,\n",
    "                        adv_boost_df_b5,\n",
    "                        adv_boost_df_b15,\n",
    "                        adv_boost_df_b150,\n",
    "                        adv_boost_df_b300,\n",
    "                        non_interf_df_b5,\n",
    "                        non_interf_df_b15,\n",
    "                        non_interf_df_b150,\n",
    "                        non_interf_df_b300,\n",
    "                        eval_under_attack_df], \n",
    "                       axis=0, \n",
    "                       sort=False)\n",
    "overall_df.reset_index(inplace=True, drop=True)"
   ]
  },
  {
   "cell_type": "code",
   "execution_count": null,
   "metadata": {},
   "outputs": [],
   "source": [
    "overall_df"
   ]
  },
  {
   "cell_type": "markdown",
   "metadata": {},
   "source": [
    "# Save the DataFrame containing results"
   ]
  },
  {
   "cell_type": "code",
   "execution_count": null,
   "metadata": {},
   "outputs": [],
   "source": [
    "overall_df.to_csv(\"../plots/plot_census.csv\", sep=\",\", index=False)"
   ]
  }
 ],
 "metadata": {
  "kernelspec": {
   "display_name": "Python 3",
   "language": "python",
   "name": "python3"
  },
  "language_info": {
   "codemirror_mode": {
    "name": "ipython",
    "version": 3
   },
   "file_extension": ".py",
   "mimetype": "text/x-python",
   "name": "python",
   "nbconvert_exporter": "python",
   "pygments_lexer": "ipython3",
   "version": "3.6.7"
  }
 },
 "nbformat": 4,
 "nbformat_minor": 2
}
