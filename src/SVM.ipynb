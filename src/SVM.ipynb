{
 "cells": [
  {
   "cell_type": "markdown",
   "metadata": {},
   "source": [
    "# SVM Training"
   ]
  },
  {
   "cell_type": "code",
   "execution_count": 2,
   "metadata": {},
   "outputs": [],
   "source": [
    "%load_ext autoreload\n",
    "%autoreload 2\n",
    "\n",
    "import sys\n",
    "import os\n",
    "import numpy as np\n",
    "import pandas as pd\n",
    "import lightgbm\n",
    "import pickle\n",
    "import json\n",
    "import functools\n",
    "from os import listdir\n",
    "from os.path import isfile, join\n",
    "from sklearn.svm import SVC\n",
    "from sklearn.metrics import f1_score\n",
    "from sklearn.preprocessing import OneHotEncoder\n",
    "\n",
    "from NILib import *"
   ]
  },
  {
   "cell_type": "code",
   "execution_count": 5,
   "metadata": {},
   "outputs": [],
   "source": [
    "def train_svm(train_file, valid_file, test_file, output_model_file):\n",
    "    \n",
    "    exp = pd.DataFrame(columns=['C', 'avg_binary_log_loss'])\n",
    "    \n",
    "    # load train/valid/test\n",
    "    train, valid, test, cat_fx = load_atk_train_valid_test(train_file, valid_file, test_file)\n",
    "    cat_fx = np.where(train.columns.isin(cat_fx))[0]\n",
    "    cat_fx = list([int(x) for x in cat_fx])  \n",
    "    encoder = OneHotEncoder(categorical_features=cat_fx)\n",
    "\n",
    "    X_train = encoder.fit_transform( train.iloc[:,:-1].values )\n",
    "    y_train = train.iloc[:,-1].values\n",
    "    # y_train[y_train == -1] = 0\n",
    "    \n",
    "    X_valid = encoder.transform( valid.iloc[:,:-1].values )\n",
    "    y_valid = valid.iloc[:,-1].values\n",
    "    \n",
    "    X_test = encoder.transform( test.iloc[:,:-1].values )\n",
    "    y_test = test.iloc[:,-1].values\n",
    "\n",
    "    for c in [0.001, 0.01]: #, 0.1, 1.0, 10, 100, 1000]:\n",
    "        \n",
    "        print (\"Training with C:\", c)\n",
    "        \n",
    "        model = SVC(kernel='rbf', probability=True, max_iter=1000)\n",
    "        model.fit(X_train, y_train)\n",
    "        \n",
    "        y_preds = 2*model.predict_proba(X_valid)[:,1] - 1.0\n",
    "        cur_avg_binary_log_loss = np.mean(binary_log_loss(y_preds, y_valid))\n",
    "        \n",
    "        model_file_name = \"{:s}_C{:04d}.model\".format(output_model_file, int(c * 1000))\n",
    "        \n",
    "        with open(model_file_name, 'wb') as fout:\n",
    "            pickle.dump(model, fout)\n",
    "        \n",
    "        print (\"Model saved to\", model_file_name)\n",
    "        \n",
    "        # update experimental results\n",
    "        exp = exp.append({'C': c, \n",
    "                          'avg_binary_log_loss':cur_avg_binary_log_loss},\n",
    "                         ignore_index=True)\n",
    "    \n",
    "    return exp"
   ]
  },
  {
   "cell_type": "code",
   "execution_count": 6,
   "metadata": {},
   "outputs": [
    {
     "name": "stdout",
     "output_type": "stream",
     "text": [
      "Loading pre-processed files...\n"
     ]
    },
    {
     "name": "stderr",
     "output_type": "stream",
     "text": [
      "/home/lucchese/.local/lib/python3.6/site-packages/sklearn/preprocessing/_encoders.py:368: FutureWarning: The handling of integer data will change in version 0.22. Currently, the categories are determined based on the range [0, max(values)], while in the future they will be determined based on the unique values.\n",
      "If you want the future behaviour and silence this warning, you can specify \"categories='auto'\".\n",
      "In case you used a LabelEncoder before this OneHotEncoder to convert the categories to integers, then you can now use the OneHotEncoder directly.\n",
      "  warnings.warn(msg, FutureWarning)\n",
      "/home/lucchese/.local/lib/python3.6/site-packages/sklearn/preprocessing/_encoders.py:390: DeprecationWarning: The 'categorical_features' keyword is deprecated in version 0.20 and will be removed in 0.22. You can use the ColumnTransformer instead.\n",
      "  \"use the ColumnTransformer instead.\", DeprecationWarning)\n",
      "/home/lucchese/.local/lib/python3.6/site-packages/sklearn/svm/base.py:196: FutureWarning: The default value of gamma will change from 'auto' to 'scale' in version 0.22 to account better for unscaled features. Set gamma explicitly to 'auto' or 'scale' to avoid this warning.\n",
      "  \"avoid this warning.\", FutureWarning)\n"
     ]
    },
    {
     "name": "stdout",
     "output_type": "stream",
     "text": [
      "Training with C: 0.001\n"
     ]
    },
    {
     "name": "stderr",
     "output_type": "stream",
     "text": [
      "/home/lucchese/.local/lib/python3.6/site-packages/sklearn/svm/base.py:244: ConvergenceWarning: Solver terminated early (max_iter=1000).  Consider pre-processing your data with StandardScaler or MinMaxScaler.\n",
      "  % self.max_iter, ConvergenceWarning)\n"
     ]
    },
    {
     "name": "stdout",
     "output_type": "stream",
     "text": [
      "Model saved to ../out/models/svm_census_C0001.model\n",
      "Training with C: 0.01\n",
      "Model saved to ../out/models/svm_census_C0010.model\n",
      "       C  avg_binary_log_loss\n",
      "0  0.001             0.595056\n",
      "1  0.010             0.595915\n"
     ]
    }
   ],
   "source": [
    "# enable/disable\n",
    "if True:\n",
    "    experiments = train_svm ( \"../data/census/train_ori.csv.bz2\",\n",
    "                             \"../data/census/valid_ori.csv.bz2\",\n",
    "                             \"../data/census/test_ori.csv.bz2\",\n",
    "                             \"../out/models/svm_census\")  \n",
    "\n",
    "    experiments.to_csv('../out/models/svm_census.csv', index=False)\n",
    "\n",
    "    print (experiments)"
   ]
  },
  {
   "cell_type": "code",
   "execution_count": null,
   "metadata": {},
   "outputs": [],
   "source": []
  }
 ],
 "metadata": {
  "kernelspec": {
   "display_name": "Python 3",
   "language": "python",
   "name": "python3"
  },
  "language_info": {
   "codemirror_mode": {
    "name": "ipython",
    "version": 3
   },
   "file_extension": ".py",
   "mimetype": "text/x-python",
   "name": "python",
   "nbconvert_exporter": "python",
   "pygments_lexer": "ipython3",
   "version": "3.6.7"
  }
 },
 "nbformat": 4,
 "nbformat_minor": 2
}
