{
 "cells": [
  {
   "cell_type": "markdown",
   "metadata": {},
   "source": [
    "# Evaluating Models\n",
    "\n",
    "This notebook contains the code used for evaluating the following learning models:\n",
    "\n",
    "-  **Standard GBDT** (_baseline 1_)\n",
    "-  **Adversarial Boosting** (_baseline 2_)\n",
    "-  **Non-Interferent GBDT** (our proposal)"
   ]
  },
  {
   "cell_type": "code",
   "execution_count": 1,
   "metadata": {},
   "outputs": [],
   "source": [
    "%load_ext autoreload\n",
    "%autoreload 2"
   ]
  },
  {
   "cell_type": "code",
   "execution_count": 2,
   "metadata": {},
   "outputs": [
    {
     "name": "stderr",
     "output_type": "stream",
     "text": [
      "2019-06-03 10:40:00,726 *** INFO [robust_forest.py:1151 - __init__()] *** ***** Robust Decision Tree successfully created *****\n",
      "2019-06-03 10:40:00,729 *** INFO [robust_forest.py:1152 - __init__()] *** *\tTree ID: 0\n",
      "2019-06-03 10:40:00,730 *** INFO [robust_forest.py:1153 - __init__()] *** *\tAttacker: <robust_forest.Attacker object at 0x7f129d0b46a0>\n",
      "2019-06-03 10:40:00,731 *** INFO [robust_forest.py:1155 - __init__()] *** *\tSplitting criterion: SSE\n",
      "2019-06-03 10:40:00,732 *** INFO [robust_forest.py:1156 - __init__()] *** *\tMax depth: 8\n",
      "2019-06-03 10:40:00,733 *** INFO [robust_forest.py:1158 - __init__()] *** *\tMin instances per tree node: 20\n",
      "2019-06-03 10:40:00,734 *** INFO [robust_forest.py:1160 - __init__()] *** *\tMax samples: 100.0%\n",
      "2019-06-03 10:40:00,735 *** INFO [robust_forest.py:1162 - __init__()] *** *\tMax features: 100.0%\n",
      "2019-06-03 10:40:00,736 *** INFO [robust_forest.py:1164 - __init__()] *** *\tFeature blacklist: set()\n",
      "2019-06-03 10:40:00,737 *** INFO [robust_forest.py:1165 - __init__()] *** *\tAffinity: False\n",
      "2019-06-03 10:40:00,738 *** INFO [robust_forest.py:1167 - __init__()] *** *****************************************************\n"
     ]
    }
   ],
   "source": [
    "import os\n",
    "import json\n",
    "import glob\n",
    "import pickle\n",
    "import dill\n",
    "import numpy as np\n",
    "import pandas as pd\n",
    "import matplotlib.pyplot as plt\n",
    "import seaborn as sns\n",
    "import lightgbm\n",
    "import functools\n",
    "from os import listdir\n",
    "from os.path import isfile, join\n",
    "from sklearn.svm import SVC\n",
    "from sklearn.model_selection import GridSearchCV\n",
    "from sklearn.metrics import roc_auc_score, f1_score, confusion_matrix, precision_score, recall_score\n",
    "from nilib import *\n",
    "from robust_forest import *\n",
    "from sklearn.ensemble import BaggingClassifier"
   ]
  },
  {
   "cell_type": "markdown",
   "metadata": {},
   "source": [
    "# Standard evaluation metric\n",
    "\n",
    "The following function is the one used for evaluating the quality of the learned model (either _standard_, _adversarial-boosting_, or _non-interferent_). This is the standard <code>avg_log_loss</code>."
   ]
  },
  {
   "cell_type": "code",
   "execution_count": 3,
   "metadata": {},
   "outputs": [],
   "source": [
    "def logistic(x):\n",
    "    return 1.0/(1.0 + np.exp(-x))"
   ]
  },
  {
   "cell_type": "code",
   "execution_count": 4,
   "metadata": {},
   "outputs": [],
   "source": [
    "def logit(p):\n",
    "    return np.log(p/(1-p))"
   ]
  },
  {
   "cell_type": "code",
   "execution_count": 5,
   "metadata": {},
   "outputs": [],
   "source": [
    "def binarize(preds):\n",
    "    if np.min(preds)<-0.001:\n",
    "        return np.where(preds>=0,  1.0, -1.0)\n",
    "    else:\n",
    "        return np.where(preds>=.5, 1.0, -1.0)"
   ]
  },
  {
   "cell_type": "markdown",
   "metadata": {},
   "source": [
    "# <code>avg_log_loss</code>"
   ]
  },
  {
   "cell_type": "code",
   "execution_count": 6,
   "metadata": {},
   "outputs": [],
   "source": [
    "# self-defined eval metric\n",
    "# f(preds: array, train_data: Dataset) -> name: string, value: array, is_higher_better: bool\n",
    "def avg_log_loss(preds, train_data):\n",
    "    \n",
    "    labels = train_data.get_label()\n",
    "    losses = np.log(1.0 + np.exp(-preds*labels))\n",
    "    avg_loss = np.mean(losses)\n",
    "    \n",
    "    return 'avg_binary_log_loss', avg_loss, False"
   ]
  },
  {
   "cell_type": "code",
   "execution_count": 7,
   "metadata": {},
   "outputs": [],
   "source": [
    "def eval_log_loss(y_true, y_pred):\n",
    "    losses = np.log(1.0 + np.exp(-y_pred*y_true))\n",
    "    avg_loss = np.mean(losses)\n",
    "    return avg_loss"
   ]
  },
  {
   "cell_type": "markdown",
   "metadata": {},
   "source": [
    "# Custom evaluation metric\n",
    "\n",
    "Similarly to what we have done for <code>fobj</code>, <code>feval</code> can be computed from a weighted combination of two evaluation metrics:\n",
    "\n",
    "-  <code>avg_log_loss</code> (standard, defined above);\n",
    "-  <code>avg_log_loss_uma</code> (custom, defined below)."
   ]
  },
  {
   "cell_type": "markdown",
   "metadata": {},
   "source": [
    "# <code>avg_log_loss_uma</code>\n",
    "\n",
    "This is the binary log loss yet modified to operate on groups of perturbed instances."
   ]
  },
  {
   "cell_type": "code",
   "execution_count": 8,
   "metadata": {},
   "outputs": [],
   "source": [
    "# Our custom metric\n",
    "\n",
    "def binary_log_loss(pred, true_label):\n",
    "\n",
    "    return np.log(1.0 + np.exp(-pred * true_label))\n",
    "\n",
    "# self-defined eval metric\n",
    "# f(preds: array, train_data: Dataset) -> name: string, value: array, is_higher_better: bool\n",
    "def avg_log_loss_uma(preds, train_data):\n",
    "    labels = train_data.get_label()\n",
    "    attack_lens = train_data.get_group()\n",
    "    \n",
    "    offset = 0\n",
    "    max_logloss = []\n",
    "    avg_max_logloss = 0.0\n",
    "    \n",
    "    if attack_lens is not None:\n",
    "    \n",
    "        for atk in attack_lens:\n",
    "            losses = [binary_log_loss(h,t) for h,t in zip(preds[offset:offset+atk], labels[offset:offset+atk])]\n",
    "            max_logloss.append(max(losses))\n",
    "            \n",
    "            offset += atk\n",
    "        \n",
    "        avg_max_logloss = np.mean(max_logloss)  \n",
    "        \n",
    "    return 'avg_binary_log_loss_under_max_attack', avg_max_logloss, False"
   ]
  },
  {
   "cell_type": "code",
   "execution_count": 9,
   "metadata": {},
   "outputs": [],
   "source": [
    "def eval_log_loss_uma(preds, test, test_groups=None, svm=False):\n",
    "    \n",
    "    lgbm_test = lightgbm.Dataset(data=test.iloc[:,:-1].values, \n",
    "                                 label=test.iloc[:,-1].values,\n",
    "                                 group=test_groups,\n",
    "                                 free_raw_data=False)\n",
    "    \n",
    "    return avg_log_loss_uma(preds,lgbm_test)[1]\n"
   ]
  },
  {
   "cell_type": "markdown",
   "metadata": {},
   "source": [
    "# <code>eval_binary_err_rate</code>"
   ]
  },
  {
   "cell_type": "code",
   "execution_count": 10,
   "metadata": {
    "scrolled": true
   },
   "outputs": [],
   "source": [
    "def eval_binary_err_rate(y_true, y_pred):\n",
    "    errs = np.sum(binarize(y_pred) != y_true)\n",
    "    return errs/len(y_true)\n"
   ]
  },
  {
   "cell_type": "markdown",
   "metadata": {},
   "source": [
    "# <code>eval_roc_auc</code>"
   ]
  },
  {
   "cell_type": "code",
   "execution_count": 11,
   "metadata": {
    "scrolled": true
   },
   "outputs": [],
   "source": [
    "def eval_roc_auc(y_true, y_pred):\n",
    "    return roc_auc_score(y_true=y_true, y_score=y_pred)\n"
   ]
  },
  {
   "cell_type": "markdown",
   "metadata": {},
   "source": [
    "# <code>eval_specificity</code>"
   ]
  },
  {
   "cell_type": "code",
   "execution_count": 12,
   "metadata": {},
   "outputs": [],
   "source": [
    "def eval_specificity(y_true, y_pred):\n",
    "    y_pred = binarize(y_pred)\n",
    "    tn, fp, fn, tp = confusion_matrix(y_true=y_true, y_pred=y_pred).ravel()\n",
    "\n",
    "    return tn/(tn + fp)"
   ]
  },
  {
   "cell_type": "markdown",
   "metadata": {},
   "source": [
    "# <code>eval_precision</code>"
   ]
  },
  {
   "cell_type": "code",
   "execution_count": 13,
   "metadata": {},
   "outputs": [],
   "source": [
    "def eval_precision(y_true, y_pred):\n",
    "    y_pred = binarize(y_pred)\n",
    "    return precision_score(y_true=y_true, y_pred=y_pred, average='weighted')\n"
   ]
  },
  {
   "cell_type": "markdown",
   "metadata": {},
   "source": [
    "# <code>eval_recall</code>"
   ]
  },
  {
   "cell_type": "code",
   "execution_count": 14,
   "metadata": {},
   "outputs": [],
   "source": [
    "def eval_recall(y_true, y_pred):\n",
    "    y_pred = binarize(y_pred)\n",
    "    return recall_score(y_true=y_true, y_pred=y_pred, average='weighted')\n"
   ]
  },
  {
   "cell_type": "markdown",
   "metadata": {},
   "source": [
    "# <code>eval_f1</code>"
   ]
  },
  {
   "cell_type": "code",
   "execution_count": 15,
   "metadata": {
    "scrolled": true
   },
   "outputs": [],
   "source": [
    "def eval_f1(y_true, y_pred):\n",
    "    y_pred = binarize(y_pred)\n",
    "    return f1_score(y_true=y_true, y_pred=y_pred, average='weighted')"
   ]
  },
  {
   "cell_type": "markdown",
   "metadata": {},
   "source": [
    "# Evaluate each model w.r.t. _all_ evaluation metrics"
   ]
  },
  {
   "cell_type": "code",
   "execution_count": 16,
   "metadata": {},
   "outputs": [],
   "source": [
    "import sklearn\n",
    "\n",
    "def model_predict(model,test_set):\n",
    "    X = test_set.iloc[:,:-1].values\n",
    "\n",
    "    if isinstance(model, sklearn.ensemble.BaggingClassifier):\n",
    "        print (\"BAGGING\")\n",
    "#         print ( np.min( model.predict_proba(X)[:,0] ), np.max( model.predict_proba(X)[:,0] ) )\n",
    "#         print ( np.min( model.predict_proba(X)[:,1] ), np.max( model.predict_proba(X)[:,1] ) )\n",
    "        return model.predict_proba(X)[:,1]\n",
    "        # return model.predict(X)\n",
    "    else:\n",
    "        print (\"LightGBM\")\n",
    "#        print (np.unique( model.predict(X) ) )\n",
    "#         lgbm_X = lightgbm.Dataset(data=test_set.iloc[:,:-1], \n",
    "#                                   label=test_set.iloc[:,-1])\n",
    "\n",
    "        return model.predict(test_set.iloc[:,:-1])\n",
    "\n",
    "def model_worst_predict(model, test_set, test_groups):\n",
    "    labels = test_set.iloc[:,-1].values\n",
    "    preds  = model_predict(model, test_set)\n",
    "    \n",
    "    offset = 0\n",
    "    true_labels = []\n",
    "    worst_predictions = []\n",
    "    \n",
    "    for g in test_groups:\n",
    "        true_label = labels[offset]\n",
    "        true_labels.append(true_label)\n",
    "        predictions_att = preds[offset:offset+g]\n",
    "        if true_label == 1:\n",
    "            worst_predictions.append(np.min(predictions_att))\n",
    "        else:\n",
    "            worst_predictions.append(np.max(predictions_att))\n",
    "    \n",
    "        offset += g\n",
    "\n",
    "    return np.array(true_labels), np.array(worst_predictions)"
   ]
  },
  {
   "cell_type": "code",
   "execution_count": 17,
   "metadata": {},
   "outputs": [],
   "source": [
    "def eval_learned_models(eval_metrics, model, model_type, test, test_groups=None, budget=0):\n",
    "    # output dataframe\n",
    "    header = ['Model'] + ['Budget'] + [m.__name__.replace('eval_','').replace('_',' ').strip().title() \n",
    "                                       for m in eval_metrics]\n",
    "    df = pd.DataFrame(columns=header)\n",
    "    first_row = [model_type] + [budget] + [None for m in eval_metrics]\n",
    "    df.loc[0] = first_row\n",
    "    \n",
    "    # predictions for plan and atk datasets\n",
    "    if test_groups is None: # NOT ATKed\n",
    "        y_true = test.iloc[:,-1].values\n",
    "        y_pred = model_predict(model, test)\n",
    "    else:\n",
    "        y_true, y_pred = model_worst_predict(model, test, test_groups)\n",
    "        \n",
    "    for eval_metric in eval_metrics:\n",
    "        res = eval_metric(y_true=y_true, y_pred=y_pred)\n",
    "        print(\"{} learning - {} = {:.5f}\"\n",
    "                  .format(model_type, eval_metric.__name__, res))\n",
    "        column_metric = eval_metric.__name__\n",
    "        df[column_metric.replace('eval_','').replace('_',' ').strip().title()] = res\n",
    "\n",
    "    print(\"******************************************************************************************************\")\n",
    "    \n",
    "    return df"
   ]
  },
  {
   "cell_type": "markdown",
   "metadata": {},
   "source": [
    "# Load attacked datasets"
   ]
  },
  {
   "cell_type": "markdown",
   "metadata": {},
   "source": [
    "## Load an attacked dataset with a specific budget"
   ]
  },
  {
   "cell_type": "code",
   "execution_count": 18,
   "metadata": {},
   "outputs": [],
   "source": [
    "def load_attacked_dataset(budget):\n",
    "    # load train/valid/test (attacked)\n",
    "    train_att, valid_att, test_att = load_atk_train_valid_test(TRAINING_FILENAME_ATT.format(budget), \n",
    "                                                                  VALIDATION_FILENAME_ATT.format(budget), \n",
    "                                                                  TEST_FILENAME_ATT.format(budget))\n",
    "\n",
    "    test_groups = test_att['instance_id'].value_counts().sort_index().values\n",
    "    test_att = test_att.iloc[:, 1:]\n",
    "\n",
    "    valid_groups = valid_att['instance_id'].value_counts().sort_index().values\n",
    "    valid_att = valid_att.iloc[:, 1:]\n",
    "\n",
    "    train_groups = train_att['instance_id'].value_counts().sort_index().values\n",
    "    train_att = train_att.iloc[:, 1:]\n",
    "    \n",
    "    return train_att, train_groups, valid_att, valid_groups, test_att, test_groups"
   ]
  },
  {
   "cell_type": "markdown",
   "metadata": {},
   "source": [
    "## Load _all_ the attacked datasets given a list of budgets"
   ]
  },
  {
   "cell_type": "code",
   "execution_count": 19,
   "metadata": {},
   "outputs": [],
   "source": [
    "def load_attacked_datasets(budgets):\n",
    "    att_datasets = {}\n",
    "    for b in budgets:\n",
    "        att_datasets[b] = load_attacked_dataset(b)\n",
    "    \n",
    "    return att_datasets"
   ]
  },
  {
   "cell_type": "markdown",
   "metadata": {},
   "source": [
    "# Evaluate all models w.r.t. standard metrics (i.e., attack-free)"
   ]
  },
  {
   "cell_type": "code",
   "execution_count": 20,
   "metadata": {},
   "outputs": [],
   "source": [
    "def extract_model_name(model_filename):\n",
    "    model_fileroot = model_filename.split('/')[-1].split('.')[0]\n",
    "    model_name = model_fileroot.split('_')[0].title()\n",
    "    training_budget = ''\n",
    "    budget = model_fileroot.split('_B')[-1].split('_')[0]\n",
    "    try: \n",
    "        int(budget)\n",
    "        training_budget = ' [train budget={}]'.format(budget)\n",
    "    except:\n",
    "        pass\n",
    "    \n",
    "    return model_name + training_budget"
   ]
  },
  {
   "cell_type": "code",
   "execution_count": 21,
   "metadata": {},
   "outputs": [],
   "source": [
    "def load_model(model_file):\n",
    "    model = None\n",
    "    try:\n",
    "        model = lightgbm.Booster(model_file=model_file)\n",
    "    except:\n",
    "        print(\"LightGBM loading exception\")\n",
    "        try:\n",
    "            with open(model_file, 'rb') as mf:\n",
    "                model = dill.load(mf)\n",
    "                print(model)\n",
    "        except Exception as e:\n",
    "            print(e)\n",
    "            print(\"Dill loading exception\")\n",
    "            pass\n",
    "    \n",
    "    return model"
   ]
  },
  {
   "cell_type": "code",
   "execution_count": 22,
   "metadata": {},
   "outputs": [],
   "source": [
    "def eval_all_models(eval_metrics, models_dir, test, model_filenames=None):\n",
    "    \n",
    "    if model_filenames is None:\n",
    "        model_csv = sorted(glob.glob(models_dir + \"/*.csv\"))\n",
    "        model_filenames = []\n",
    "\n",
    "        for m in model_csv:\n",
    "            model_df = pd.read_csv(m)\n",
    "            # print(model_df)\n",
    "            model_filenames.append(model_df.sort_values(by='metric')['filename'].iloc[0])\n",
    "    \n",
    "    print (\"### Evaluating Models:\", model_filenames)\n",
    "    \n",
    "    df = pd.concat([eval_learned_models(eval_metrics, \n",
    "                                        load_model(mf), \n",
    "                                        extract_model_name(mf), \n",
    "                                        test) for mf in model_filenames],\n",
    "                   axis=0,\n",
    "                   sort=False\n",
    "                  )\n",
    "    \n",
    "    df.reset_index(inplace=True, drop=True)\n",
    "    \n",
    "    return df"
   ]
  },
  {
   "cell_type": "code",
   "execution_count": 23,
   "metadata": {},
   "outputs": [],
   "source": [
    "def eval_all_models_under_attack_budget(eval_metrics, models_dir, test, test_groups, budget, model_filenames=None):\n",
    "    \n",
    "    #model_filenames = sorted(glob.glob(models_dir + \"/*.model\"))\n",
    "    if model_filenames is None:\n",
    "        model_csv = sorted(glob.glob(models_dir + \"/*.csv\"))\n",
    "        model_filenames = []\n",
    "\n",
    "        for m in model_csv:\n",
    "            model_df = pd.read_csv(m)\n",
    "            model_filenames.append(model_df.sort_values(by='metric')['filename'].iloc[0])\n",
    "    \n",
    "    print (\"### Evaluating Models:\", model_filenames)\n",
    "\n",
    "    df = pd.concat([eval_learned_models(eval_metrics, \n",
    "                                        load_model(mf), \n",
    "                                        extract_model_name(mf), \n",
    "                                        test,\n",
    "                                        test_groups, \n",
    "                                        budget=budget\n",
    "                                       ) for mf in model_filenames],\n",
    "                   axis=0,\n",
    "                   sort=False\n",
    "                  )\n",
    "    \n",
    "    df.reset_index(inplace=True, drop=True)\n",
    "    \n",
    "    return df"
   ]
  },
  {
   "cell_type": "code",
   "execution_count": 24,
   "metadata": {},
   "outputs": [],
   "source": [
    "def eval_all_models_under_attack(eval_metrics, models_dir, att_tests, budgets, model_filenames=None):\n",
    "    \n",
    "    eval_att_dfs = []\n",
    "\n",
    "    for b in budgets:\n",
    "    \n",
    "        eval_att_dfs.append(\n",
    "            eval_all_models_under_attack_budget(eval_metrics, models_dir, att_tests[b][4], att_tests[b][5], \n",
    "                                                b, model_filenames))\n",
    "        \n",
    "        \n",
    "    eval_att_df = functools.reduce(lambda left,right: pd.merge(left,right,on=['Model', 'Budget']), eval_att_dfs)\n",
    "    eval_att_df = pd.concat(eval_att_dfs, axis=0, sort=False)\n",
    "    eval_att_df.reset_index(inplace=True, drop=True)\n",
    "    \n",
    "    return eval_att_df"
   ]
  },
  {
   "cell_type": "markdown",
   "metadata": {},
   "source": [
    "# Evaluation metrics"
   ]
  },
  {
   "cell_type": "code",
   "execution_count": 25,
   "metadata": {},
   "outputs": [],
   "source": [
    "EVAL_METRICS = [eval_log_loss, \n",
    "                eval_binary_err_rate,\n",
    "                eval_specificity,\n",
    "                eval_precision,\n",
    "                eval_recall,\n",
    "                eval_f1,\n",
    "                eval_roc_auc\n",
    "               ]\n"
   ]
  },
  {
   "cell_type": "markdown",
   "metadata": {},
   "source": [
    "# Census"
   ]
  },
  {
   "cell_type": "code",
   "execution_count": 26,
   "metadata": {},
   "outputs": [],
   "source": [
    "DATASET_NAME=\"census\"\n",
    "TRAINING_BUDGETS= [0]\n",
    "\n",
    "DATASET_DIR=\"../data/{}\".format(DATASET_NAME)\n",
    "ATK_DIR=DATASET_DIR + \"/attacks\"\n",
    "MODELS_DIR=\"../out/models/{}\".format(DATASET_NAME)\n",
    "OUTPUT_FILENAME=\"../out/results/{}\".format(DATASET_NAME)\n",
    "\n",
    "TRAINING_FILENAME=DATASET_DIR + \"/\" + \"train.csv.bz2\"\n",
    "TRAINING_FILENAME_ATT=ATK_DIR + \"/\" + \"train_B{}.atks.bz2\"\n",
    "\n",
    "VALIDATION_FILENAME=DATASET_DIR + \"/\" + \"valid.csv.bz2\"\n",
    "VALIDATION_FILENAME_ATT=ATK_DIR + \"/\" + \"valid_B{}.atks.bz2\"\n",
    "\n",
    "TEST_FILENAME=DATASET_DIR + \"/\" + \"test.csv.bz2\"\n",
    "TEST_FILENAME_ATT=ATK_DIR + \"/\" + \"test_B{}.atks.bz2\""
   ]
  },
  {
   "cell_type": "code",
   "execution_count": 27,
   "metadata": {},
   "outputs": [],
   "source": [
    "# Final Models\n",
    "# adv_models = [\"../out/models/census/adv-boosting_census_B30_T200_S0050_L24_R200.model\",\n",
    "#               \"../out/models/census/adv-boosting_census_B60_T200_S0050_L24_R197.model\"]\n",
    "adv_models = [\"../out/models/census/adv-boosting_census_B30_T200_S0050_L24_R200.model\",\n",
    "              \"../out/models/census/adv-boosting_census_B60_T200_S0050_L24_R200.model\"]\n",
    "\n",
    "# 20 trees\n",
    "adv_models = [\"../out/models/census/adv-boosting_census_B30_T200_S0050_L24_R200.T20.model\",\n",
    "              \"../out/models/census/adv-boosting_census_B60_T200_S0050_L24_R200.T20.model\"]\n",
    "\n",
    "# 10K instances\n",
    "adv_models = [\"../out/models/census/adv-boosting_census_B60_T200_S0050_L24_R20.model\",\n",
    "              \"../out/models/census/adv-boosting_census_B30_T200_S0050_L24_R41.model\"]\n",
    "\n",
    "gdbt_models = [\"../out/models/census/std-gbdt_census_T100_S0050_L256_R100.model\",\n",
    "               \"../out/models/census/std-gbdt_census_T100_S0050_L24_R100.model\"]\n",
    "\n",
    "robust_models = [\"../out/models/census/par-robust_census_B0_T100_D8_I20.model\"]\n",
    "\n",
    "random_forests = [\"../out/models/census/rf-gbdt_census_T100_S0050_L24_R100.model\",\n",
    "                  \"../out/models/census/rf-gbdt_census_T100_S0050_L256_R92.model\"]\n",
    "\n",
    "test_models =  gdbt_models"
   ]
  },
  {
   "cell_type": "code",
   "execution_count": 28,
   "metadata": {
    "scrolled": false
   },
   "outputs": [
    {
     "name": "stdout",
     "output_type": "stream",
     "text": [
      "Loading pre-processed files...\n",
      "### Evaluating Models: ['../out/models/census/std-gbdt_census_T100_S0050_L256_R100.model', '../out/models/census/std-gbdt_census_T100_S0050_L24_R100.model']\n",
      "LightGBM\n",
      "Std-Gbdt learning - eval_log_loss = 0.45631\n",
      "Std-Gbdt learning - eval_binary_err_rate = 0.13125\n",
      "Std-Gbdt learning - eval_specificity = 0.94347\n",
      "Std-Gbdt learning - eval_precision = 0.86399\n",
      "Std-Gbdt learning - eval_recall = 0.86875\n",
      "Std-Gbdt learning - eval_f1 = 0.86391\n",
      "Std-Gbdt learning - eval_roc_auc = 0.92174\n",
      "******************************************************************************************************\n",
      "LightGBM\n",
      "Std-Gbdt learning - eval_log_loss = 0.45847\n",
      "Std-Gbdt learning - eval_binary_err_rate = 0.13058\n",
      "Std-Gbdt learning - eval_specificity = 0.94376\n",
      "Std-Gbdt learning - eval_precision = 0.86472\n",
      "Std-Gbdt learning - eval_recall = 0.86942\n",
      "Std-Gbdt learning - eval_f1 = 0.86462\n",
      "Std-Gbdt learning - eval_roc_auc = 0.92189\n",
      "******************************************************************************************************\n"
     ]
    },
    {
     "data": {
      "text/html": [
       "<div>\n",
       "<style scoped>\n",
       "    .dataframe tbody tr th:only-of-type {\n",
       "        vertical-align: middle;\n",
       "    }\n",
       "\n",
       "    .dataframe tbody tr th {\n",
       "        vertical-align: top;\n",
       "    }\n",
       "\n",
       "    .dataframe thead th {\n",
       "        text-align: right;\n",
       "    }\n",
       "</style>\n",
       "<table border=\"1\" class=\"dataframe\">\n",
       "  <thead>\n",
       "    <tr style=\"text-align: right;\">\n",
       "      <th></th>\n",
       "      <th>Model</th>\n",
       "      <th>Budget</th>\n",
       "      <th>Log Loss</th>\n",
       "      <th>Binary Err Rate</th>\n",
       "      <th>Specificity</th>\n",
       "      <th>Precision</th>\n",
       "      <th>Recall</th>\n",
       "      <th>F1</th>\n",
       "      <th>Roc Auc</th>\n",
       "    </tr>\n",
       "  </thead>\n",
       "  <tbody>\n",
       "    <tr>\n",
       "      <th>0</th>\n",
       "      <td>Std-Gbdt</td>\n",
       "      <td>0</td>\n",
       "      <td>0.456307</td>\n",
       "      <td>0.131247</td>\n",
       "      <td>0.943468</td>\n",
       "      <td>0.863993</td>\n",
       "      <td>0.868753</td>\n",
       "      <td>0.863909</td>\n",
       "      <td>0.921738</td>\n",
       "    </tr>\n",
       "    <tr>\n",
       "      <th>1</th>\n",
       "      <td>Std-Gbdt</td>\n",
       "      <td>0</td>\n",
       "      <td>0.458469</td>\n",
       "      <td>0.130584</td>\n",
       "      <td>0.943761</td>\n",
       "      <td>0.864717</td>\n",
       "      <td>0.869416</td>\n",
       "      <td>0.864623</td>\n",
       "      <td>0.921891</td>\n",
       "    </tr>\n",
       "  </tbody>\n",
       "</table>\n",
       "</div>"
      ],
      "text/plain": [
       "      Model Budget  Log Loss  Binary Err Rate  Specificity  Precision  \\\n",
       "0  Std-Gbdt      0  0.456307         0.131247     0.943468   0.863993   \n",
       "1  Std-Gbdt      0  0.458469         0.130584     0.943761   0.864717   \n",
       "\n",
       "     Recall        F1   Roc Auc  \n",
       "0  0.868753  0.863909  0.921738  \n",
       "1  0.869416  0.864623  0.921891  "
      ]
     },
     "execution_count": 28,
     "metadata": {},
     "output_type": "execute_result"
    }
   ],
   "source": [
    "# Without attacks\n",
    "TRAIN, VALID, TEST = load_atk_train_valid_test(TRAINING_FILENAME, VALIDATION_FILENAME, TEST_FILENAME)\n",
    "\n",
    "eval_std_df = eval_all_models(EVAL_METRICS, MODELS_DIR, TEST, test_models)\n",
    "eval_std_df"
   ]
  },
  {
   "cell_type": "code",
   "execution_count": null,
   "metadata": {
    "scrolled": false
   },
   "outputs": [],
   "source": [
    "# %%capture tests\n",
    "\n",
    "# With attacks\n",
    "att_datasets = load_attacked_datasets(TRAINING_BUDGETS)\n",
    "\n",
    "eval_att_df = eval_all_models_under_attack(MODELS_DIR, att_datasets, TRAINING_BUDGETS,\n",
    "                                           test_models)\n",
    "\n",
    "overall_df = pd.concat([eval_std_df, eval_att_df], \n",
    "                       axis=0, \n",
    "                       sort=False)\n",
    "overall_df.reset_index(inplace=True, drop=True)\n",
    "overall_df.to_csv(OUTPUT_FILENAME + \".csv\", sep=\",\", index=False)\n",
    "\n",
    "overall_df"
   ]
  },
  {
   "cell_type": "markdown",
   "metadata": {},
   "source": [
    "# Wine"
   ]
  },
  {
   "cell_type": "code",
   "execution_count": 26,
   "metadata": {},
   "outputs": [],
   "source": [
    "DATASET_NAME=\"wine\"\n",
    "TRAINING_BUDGETS= [30] \n",
    "\n",
    "DATASET_DIR=\"../data/{}\".format(DATASET_NAME)\n",
    "ATK_DIR=DATASET_DIR + \"/attacks\"\n",
    "MODELS_DIR=\"../out/models/{}\".format(DATASET_NAME)\n",
    "OUTPUT_FILENAME=\"../out/results/{}\".format(DATASET_NAME)\n",
    "\n",
    "TRAINING_FILENAME=DATASET_DIR + \"/\" + \"train.csv.bz2\"\n",
    "TRAINING_FILENAME_ATT=ATK_DIR + \"/\" + \"train_B{}.atks.bz2\"\n",
    "\n",
    "VALIDATION_FILENAME=DATASET_DIR + \"/\" + \"valid.csv.bz2\"\n",
    "VALIDATION_FILENAME_ATT=ATK_DIR + \"/\" + \"valid_B{}.atks.bz2\"\n",
    "\n",
    "TEST_FILENAME=DATASET_DIR + \"/\" + \"test.csv.bz2\"\n",
    "TEST_FILENAME_ATT=ATK_DIR + \"/\" + \"test_B{}.atks.bz2\""
   ]
  },
  {
   "cell_type": "code",
   "execution_count": 30,
   "metadata": {},
   "outputs": [],
   "source": [
    "# Final Models\n",
    "adv_models = [\"../out/models/wine/adv-boosting_wine_B30_T200_S0050_L24_R167.model\",\n",
    "              \"../out/models/wine/adv-boosting_wine_B60_T200_S0050_L24_R200.model\"]\n",
    "\n",
    "gdbt_models = [\"../out/models/wine/std-gbdt_wine_T100_S0050_L24_R100.model\",\n",
    "               \"../out/models/wine/std-gbdt_wine_T100_S0050_L256_R97.model\"]\n",
    "\n",
    "red_models = [\"../out/models/wine/red-gbdt_wine_T100_S0050_L24_R99.model\",\n",
    "             \"../out/models/wine/red-gbdt_wine_T100_S0050_L256_R100.model\"]\n",
    "\n",
    "rf_models = [\"../out/models/wine/rf-gbdt_wine_T100_S0050_L24_R100.model\",\n",
    "             \"../out/models/wine/rf-gbdt_wine_T100_S0050_L256_R100.model\"]\n",
    "\n",
    "robust_models = [\"../out/models/wine/par-robust_wine_B0_T100_D8_I20.model\"]\n",
    "\n",
    "test_models = gdbt_models + red_models + rf_models\n",
    "\n"
   ]
  },
  {
   "cell_type": "code",
   "execution_count": 31,
   "metadata": {
    "scrolled": false
   },
   "outputs": [
    {
     "name": "stdout",
     "output_type": "stream",
     "text": [
      "Loading pre-processed files...\n",
      "### Evaluating Models: ['../out/models/wine/std-gbdt_wine_T100_S0050_L24_R100.model', '../out/models/wine/std-gbdt_wine_T100_S0050_L256_R97.model', '../out/models/wine/red-gbdt_wine_T100_S0050_L24_R99.model', '../out/models/wine/red-gbdt_wine_T100_S0050_L256_R100.model', '../out/models/wine/rf-gbdt_wine_T100_S0050_L24_R100.model', '../out/models/wine/rf-gbdt_wine_T100_S0050_L256_R100.model']\n",
      "LightGBM\n",
      "Std-Gbdt learning - eval_log_loss = 0.55120\n",
      "Std-Gbdt learning - eval_binary_err_rate = 0.23231\n",
      "Std-Gbdt learning - eval_specificity = 0.63103\n",
      "Std-Gbdt learning - eval_precision = 0.76410\n",
      "Std-Gbdt learning - eval_recall = 0.76769\n",
      "Std-Gbdt learning - eval_f1 = 0.76469\n",
      "Std-Gbdt learning - eval_roc_auc = 0.83946\n",
      "******************************************************************************************************\n",
      "LightGBM\n",
      "Std-Gbdt learning - eval_log_loss = 0.54088\n",
      "Std-Gbdt learning - eval_binary_err_rate = 0.22231\n",
      "Std-Gbdt learning - eval_specificity = 0.65828\n",
      "Std-Gbdt learning - eval_precision = 0.77494\n",
      "Std-Gbdt learning - eval_recall = 0.77769\n",
      "Std-Gbdt learning - eval_f1 = 0.77565\n",
      "Std-Gbdt learning - eval_roc_auc = 0.85105\n",
      "******************************************************************************************************\n",
      "LightGBM\n",
      "Red-Gbdt learning - eval_log_loss = 0.72099\n",
      "Red-Gbdt learning - eval_binary_err_rate = 0.62462\n",
      "Red-Gbdt learning - eval_specificity = 0.84906\n",
      "Red-Gbdt learning - eval_precision = 0.46879\n",
      "Red-Gbdt learning - eval_recall = 0.37538\n",
      "Red-Gbdt learning - eval_f1 = 0.29069\n",
      "Red-Gbdt learning - eval_roc_auc = 0.39888\n",
      "******************************************************************************************************\n",
      "LightGBM\n",
      "Red-Gbdt learning - eval_log_loss = 0.70190\n",
      "Red-Gbdt learning - eval_binary_err_rate = 0.45000\n",
      "Red-Gbdt learning - eval_specificity = 0.41929\n",
      "Red-Gbdt learning - eval_precision = 0.55612\n",
      "Red-Gbdt learning - eval_recall = 0.55000\n",
      "Red-Gbdt learning - eval_f1 = 0.55276\n",
      "Red-Gbdt learning - eval_roc_auc = 0.48178\n",
      "******************************************************************************************************\n",
      "LightGBM\n",
      "Rf-Gbdt learning - eval_log_loss = 0.57646\n",
      "Rf-Gbdt learning - eval_binary_err_rate = 0.23923\n",
      "Rf-Gbdt learning - eval_specificity = 0.59748\n",
      "Rf-Gbdt learning - eval_precision = 0.75626\n",
      "Rf-Gbdt learning - eval_recall = 0.76077\n",
      "Rf-Gbdt learning - eval_f1 = 0.75594\n",
      "Rf-Gbdt learning - eval_roc_auc = 0.81747\n",
      "******************************************************************************************************\n",
      "LightGBM\n",
      "Rf-Gbdt learning - eval_log_loss = 0.56513\n",
      "Rf-Gbdt learning - eval_binary_err_rate = 0.23692\n",
      "Rf-Gbdt learning - eval_specificity = 0.60797\n",
      "Rf-Gbdt learning - eval_precision = 0.75881\n",
      "Rf-Gbdt learning - eval_recall = 0.76308\n",
      "Rf-Gbdt learning - eval_f1 = 0.75884\n",
      "Rf-Gbdt learning - eval_roc_auc = 0.83456\n",
      "******************************************************************************************************\n"
     ]
    },
    {
     "data": {
      "text/html": [
       "<div>\n",
       "<style scoped>\n",
       "    .dataframe tbody tr th:only-of-type {\n",
       "        vertical-align: middle;\n",
       "    }\n",
       "\n",
       "    .dataframe tbody tr th {\n",
       "        vertical-align: top;\n",
       "    }\n",
       "\n",
       "    .dataframe thead th {\n",
       "        text-align: right;\n",
       "    }\n",
       "</style>\n",
       "<table border=\"1\" class=\"dataframe\">\n",
       "  <thead>\n",
       "    <tr style=\"text-align: right;\">\n",
       "      <th></th>\n",
       "      <th>Model</th>\n",
       "      <th>Budget</th>\n",
       "      <th>Log Loss</th>\n",
       "      <th>Binary Err Rate</th>\n",
       "      <th>Specificity</th>\n",
       "      <th>Precision</th>\n",
       "      <th>Recall</th>\n",
       "      <th>F1</th>\n",
       "      <th>Roc Auc</th>\n",
       "    </tr>\n",
       "  </thead>\n",
       "  <tbody>\n",
       "    <tr>\n",
       "      <th>0</th>\n",
       "      <td>Std-Gbdt</td>\n",
       "      <td>0</td>\n",
       "      <td>0.551204</td>\n",
       "      <td>0.232308</td>\n",
       "      <td>0.631027</td>\n",
       "      <td>0.764097</td>\n",
       "      <td>0.767692</td>\n",
       "      <td>0.764692</td>\n",
       "      <td>0.839458</td>\n",
       "    </tr>\n",
       "    <tr>\n",
       "      <th>1</th>\n",
       "      <td>Std-Gbdt</td>\n",
       "      <td>0</td>\n",
       "      <td>0.540879</td>\n",
       "      <td>0.222308</td>\n",
       "      <td>0.658281</td>\n",
       "      <td>0.774936</td>\n",
       "      <td>0.777692</td>\n",
       "      <td>0.775651</td>\n",
       "      <td>0.851046</td>\n",
       "    </tr>\n",
       "    <tr>\n",
       "      <th>2</th>\n",
       "      <td>Red-Gbdt</td>\n",
       "      <td>0</td>\n",
       "      <td>0.720991</td>\n",
       "      <td>0.624615</td>\n",
       "      <td>0.849057</td>\n",
       "      <td>0.468787</td>\n",
       "      <td>0.375385</td>\n",
       "      <td>0.290690</td>\n",
       "      <td>0.398885</td>\n",
       "    </tr>\n",
       "    <tr>\n",
       "      <th>3</th>\n",
       "      <td>Red-Gbdt</td>\n",
       "      <td>0</td>\n",
       "      <td>0.701899</td>\n",
       "      <td>0.450000</td>\n",
       "      <td>0.419287</td>\n",
       "      <td>0.556118</td>\n",
       "      <td>0.550000</td>\n",
       "      <td>0.552762</td>\n",
       "      <td>0.481782</td>\n",
       "    </tr>\n",
       "    <tr>\n",
       "      <th>4</th>\n",
       "      <td>Rf-Gbdt</td>\n",
       "      <td>0</td>\n",
       "      <td>0.576459</td>\n",
       "      <td>0.239231</td>\n",
       "      <td>0.597484</td>\n",
       "      <td>0.756262</td>\n",
       "      <td>0.760769</td>\n",
       "      <td>0.755938</td>\n",
       "      <td>0.817466</td>\n",
       "    </tr>\n",
       "    <tr>\n",
       "      <th>5</th>\n",
       "      <td>Rf-Gbdt</td>\n",
       "      <td>0</td>\n",
       "      <td>0.565125</td>\n",
       "      <td>0.236923</td>\n",
       "      <td>0.607966</td>\n",
       "      <td>0.758810</td>\n",
       "      <td>0.763077</td>\n",
       "      <td>0.758839</td>\n",
       "      <td>0.834560</td>\n",
       "    </tr>\n",
       "  </tbody>\n",
       "</table>\n",
       "</div>"
      ],
      "text/plain": [
       "      Model Budget  Log Loss  Binary Err Rate  Specificity  Precision  \\\n",
       "0  Std-Gbdt      0  0.551204         0.232308     0.631027   0.764097   \n",
       "1  Std-Gbdt      0  0.540879         0.222308     0.658281   0.774936   \n",
       "2  Red-Gbdt      0  0.720991         0.624615     0.849057   0.468787   \n",
       "3  Red-Gbdt      0  0.701899         0.450000     0.419287   0.556118   \n",
       "4   Rf-Gbdt      0  0.576459         0.239231     0.597484   0.756262   \n",
       "5   Rf-Gbdt      0  0.565125         0.236923     0.607966   0.758810   \n",
       "\n",
       "     Recall        F1   Roc Auc  \n",
       "0  0.767692  0.764692  0.839458  \n",
       "1  0.777692  0.775651  0.851046  \n",
       "2  0.375385  0.290690  0.398885  \n",
       "3  0.550000  0.552762  0.481782  \n",
       "4  0.760769  0.755938  0.817466  \n",
       "5  0.763077  0.758839  0.834560  "
      ]
     },
     "execution_count": 31,
     "metadata": {},
     "output_type": "execute_result"
    }
   ],
   "source": [
    "# Without attacks\n",
    "TRAIN, VALID, TEST = load_atk_train_valid_test(TRAINING_FILENAME, VALIDATION_FILENAME, TEST_FILENAME)\n",
    "\n",
    "eval_std_df = eval_all_models(EVAL_METRICS, MODELS_DIR, TEST, test_models)\n",
    "eval_std_df"
   ]
  },
  {
   "cell_type": "code",
   "execution_count": 29,
   "metadata": {},
   "outputs": [
    {
     "data": {
      "text/html": [
       "<div>\n",
       "<style scoped>\n",
       "    .dataframe tbody tr th:only-of-type {\n",
       "        vertical-align: middle;\n",
       "    }\n",
       "\n",
       "    .dataframe tbody tr th {\n",
       "        vertical-align: top;\n",
       "    }\n",
       "\n",
       "    .dataframe thead th {\n",
       "        text-align: right;\n",
       "    }\n",
       "</style>\n",
       "<table border=\"1\" class=\"dataframe\">\n",
       "  <thead>\n",
       "    <tr style=\"text-align: right;\">\n",
       "      <th></th>\n",
       "      <th>Model</th>\n",
       "      <th>Budget</th>\n",
       "      <th>Log Loss</th>\n",
       "      <th>Binary Err Rate</th>\n",
       "      <th>Specificity</th>\n",
       "      <th>Precision</th>\n",
       "      <th>Recall</th>\n",
       "      <th>F1</th>\n",
       "      <th>Roc Auc</th>\n",
       "    </tr>\n",
       "  </thead>\n",
       "  <tbody>\n",
       "    <tr>\n",
       "      <th>0</th>\n",
       "      <td>Par-Robust [train budget=0]</td>\n",
       "      <td>0</td>\n",
       "      <td>0.600058</td>\n",
       "      <td>0.241538</td>\n",
       "      <td>0.620545</td>\n",
       "      <td>0.754687</td>\n",
       "      <td>0.758462</td>\n",
       "      <td>0.755485</td>\n",
       "      <td>0.825252</td>\n",
       "    </tr>\n",
       "  </tbody>\n",
       "</table>\n",
       "</div>"
      ],
      "text/plain": [
       "                         Model Budget  Log Loss  Binary Err Rate  Specificity  \\\n",
       "0  Par-Robust [train budget=0]      0  0.600058         0.241538     0.620545   \n",
       "\n",
       "   Precision    Recall        F1   Roc Auc  \n",
       "0   0.754687  0.758462  0.755485  0.825252  "
      ]
     },
     "execution_count": 29,
     "metadata": {},
     "output_type": "execute_result"
    }
   ],
   "source": [
    "eval_std_df"
   ]
  },
  {
   "cell_type": "code",
   "execution_count": null,
   "metadata": {
    "scrolled": false
   },
   "outputs": [],
   "source": [
    "# With attacks\n",
    "att_datasets = load_attacked_datasets(TRAINING_BUDGETS)\n",
    "\n",
    "eval_att_df = eval_all_models_under_attack(EVAL_METRICS, MODELS_DIR, att_datasets, TRAINING_BUDGETS,\n",
    "                                           test_models)\n",
    "\n",
    "overall_df = pd.concat([eval_std_df, eval_att_df], \n",
    "                       axis=0, \n",
    "                       sort=False)\n",
    "overall_df.reset_index(inplace=True, drop=True)\n",
    "overall_df.to_csv(OUTPUT_FILENAME + \".csv\", sep=\",\", index=False)\n",
    "\n",
    "overall_df"
   ]
  },
  {
   "cell_type": "code",
   "execution_count": null,
   "metadata": {},
   "outputs": [],
   "source": [
    "overall_df"
   ]
  },
  {
   "cell_type": "code",
   "execution_count": null,
   "metadata": {},
   "outputs": [],
   "source": []
  },
  {
   "cell_type": "code",
   "execution_count": null,
   "metadata": {},
   "outputs": [],
   "source": []
  },
  {
   "cell_type": "code",
   "execution_count": null,
   "metadata": {},
   "outputs": [],
   "source": []
  },
  {
   "cell_type": "code",
   "execution_count": null,
   "metadata": {},
   "outputs": [],
   "source": []
  },
  {
   "cell_type": "code",
   "execution_count": null,
   "metadata": {},
   "outputs": [],
   "source": []
  },
  {
   "cell_type": "markdown",
   "metadata": {},
   "source": [
    "# Prune Robust models"
   ]
  },
  {
   "cell_type": "code",
   "execution_count": null,
   "metadata": {},
   "outputs": [],
   "source": [
    "to_be_pruned_models = [\"../out/models/census/robust_census_B0_T100_D8_I20_20.tmp\"]\n",
    "\n",
    "for m in to_be_pruned_models:\n",
    "    prune_trained_model(m, 20)\n"
   ]
  },
  {
   "cell_type": "markdown",
   "metadata": {},
   "source": [
    "# Prune LGBM models"
   ]
  },
  {
   "cell_type": "code",
   "execution_count": null,
   "metadata": {},
   "outputs": [],
   "source": [
    "def prune_lgbm(in_file, out_file, n):\n",
    "    model = lightgbm.Booster(model_file=in_file)\n",
    "    model.save_model(out_file, num_iteration=n)\n",
    "    print (\"saved.\")\n",
    "    \n",
    "prune_lgbm(\"../out/models/wine/std-gbdt_wine_T200_S0050_L24_R199.model\",\n",
    "           \"../out/models/wine/std-gbdt_wine_T200_S0050_L24_R199.T10.model\",\n",
    "           10)\n",
    "# prune_lgbm(\"../out/models/census/adv-boosting_census_B60_T200_S0050_L24_R200.model\",\n",
    "#            \"../out/models/census/adv-boosting_census_B60_T200_S0050_L24_R200.T20.model\",\n",
    "#            20)"
   ]
  },
  {
   "cell_type": "markdown",
   "metadata": {},
   "source": [
    "## Debug"
   ]
  },
  {
   "cell_type": "code",
   "execution_count": 33,
   "metadata": {},
   "outputs": [],
   "source": [
    "with open(\"../out/models/wine/par-robust_wine_B0_T100_D8_I20.model\", 'rb') as f:\n",
    "    model = dill.load(f)"
   ]
  },
  {
   "cell_type": "code",
   "execution_count": 34,
   "metadata": {
    "scrolled": true
   },
   "outputs": [
    {
     "name": "stdout",
     "output_type": "stream",
     "text": [
      "Feature ID: 10; Threshold: 10.1; N. instances: 3118\n",
      "\tFeature ID: 1; Threshold: 0.235; N. instances: 1408\n",
      "\t\tFeature ID: 5; Threshold: 23.0; N. instances: 368\n",
      "\t\t\tFeature ID: 7; Threshold: 0.9961399999999999; N. instances: 74\n",
      "\t\t\t\tFeature ID: 6; Threshold: 98.0; N. instances: 58\n",
      "\t\t\t\t\tFeature ID: 4; Threshold: 0.028999999999999998; N. instances: 36\n",
      "\t\t\t\t\t\tPrediction: 0; Score: -0.00000; N. instances: 4; Loss: 0.00000\n",
      "\t\t\t\t\t\tFeature ID: 9; Threshold: 0.44; N. instances: 32\n",
      "\t\t\t\t\t\t\tPrediction: 1; Score: 1.00000; N. instances: 9; Loss: 0.00000\n",
      "\t\t\t\t\t\t\tFeature ID: 2; Threshold: 0.27; N. instances: 23\n",
      "\t\t\t\t\t\t\t\tPrediction: 1; Score: 0.75000; N. instances: 8; Loss: 1.50000\n",
      "\t\t\t\t\t\t\t\tPrediction: 0; Score: 0.26667; N. instances: 15; Loss: 2.93333\n",
      "\t\t\t\t\tFeature ID: 0; Threshold: 6.2; N. instances: 22\n",
      "\t\t\t\t\t\tPrediction: 0; Score: 0.37500; N. instances: 8; Loss: 1.87500\n",
      "\t\t\t\t\t\tPrediction: 0; Score: -0.00000; N. instances: 14; Loss: 0.00000\n",
      "\t\t\t\tPrediction: 1; Score: 0.81250; N. instances: 16; Loss: 2.43750\n",
      "\t\t\tFeature ID: 2; Threshold: 0.65; N. instances: 294\n",
      "\t\t\t\tFeature ID: 3; Threshold: 17.6; N. instances: 282\n",
      "\t\t\t\t\tFeature ID: 6; Threshold: 236.0; N. instances: 269\n",
      "\t\t\t\t\t\tFeature ID: 0; Threshold: 8.1; N. instances: 267\n",
      "\t\t\t\t\t\t\tFeature ID: 8; Threshold: 3.65; N. instances: 250\n",
      "\t\t\t\t\t\t\t\tPrediction: 1; Score: 0.82731; N. instances: 249; Loss: 35.57430\n",
      "\t\t\t\t\t\t\t\tPrediction: 0; Score: -0.00000; N. instances: 1; Loss: 0.00000\n",
      "\t\t\t\t\t\t\tPrediction: 1; Score: 0.58824; N. instances: 17; Loss: 4.11765\n",
      "\t\t\t\t\t\tPrediction: 0; Score: 0.00000; N. instances: 2; Loss: 0.00000\n",
      "\t\t\t\t\tPrediction: 0; Score: 0.46154; N. instances: 13; Loss: 3.23077\n",
      "\t\t\t\tPrediction: 0; Score: 0.16667; N. instances: 12; Loss: 1.66667\n",
      "\t\tFeature ID: 4; Threshold: 0.05; N. instances: 1040\n",
      "\t\t\tFeature ID: 5; Threshold: 18.0; N. instances: 393\n",
      "\t\t\t\tFeature ID: 2; Threshold: 0.36; N. instances: 45\n",
      "\t\t\t\t\tFeature ID: 6; Threshold: 200.0; N. instances: 34\n",
      "\t\t\t\t\t\tFeature ID: 3; Threshold: 1.1; N. instances: 32\n",
      "\t\t\t\t\t\t\tPrediction: 0; Score: 0.25000; N. instances: 4; Loss: 0.75000\n",
      "\t\t\t\t\t\t\tPrediction: 0; Score: -0.00000; N. instances: 28; Loss: 0.00000\n",
      "\t\t\t\t\t\tPrediction: 0; Score: 0.50000; N. instances: 2; Loss: 0.50000\n",
      "\t\t\t\t\tPrediction: 0; Score: 0.45455; N. instances: 11; Loss: 2.72727\n",
      "\t\t\t\tFeature ID: 2; Threshold: 0.2; N. instances: 348\n",
      "\t\t\t\t\tFeature ID: 8; Threshold: 3.2; N. instances: 54\n",
      "\t\t\t\t\t\tFeature ID: 6; Threshold: 224.0; N. instances: 35\n",
      "\t\t\t\t\t\t\tFeature ID: 0; Threshold: 6.7; N. instances: 34\n",
      "\t\t\t\t\t\t\t\tPrediction: 0; Score: 0.17647; N. instances: 17; Loss: 2.47059\n",
      "\t\t\t\t\t\t\t\tPrediction: 0; Score: -0.00000; N. instances: 17; Loss: 0.00000\n",
      "\t\t\t\t\t\t\tPrediction: 1; Score: 1.00000; N. instances: 1; Loss: 0.00000\n",
      "\t\t\t\t\t\tPrediction: 1; Score: 0.57895; N. instances: 19; Loss: 4.63158\n",
      "\t\t\t\t\tFeature ID: 6; Threshold: 121.0; N. instances: 294\n",
      "\t\t\t\t\t\tFeature ID: 3; Threshold: 1.0; N. instances: 24\n",
      "\t\t\t\t\t\t\tPrediction: 0; Score: -0.00000; N. instances: 1; Loss: 0.00000\n",
      "\t\t\t\t\t\t\tFeature ID: 8; Threshold: 3.15; N. instances: 23\n",
      "\t\t\t\t\t\t\t\tPrediction: 1; Score: 0.60000; N. instances: 10; Loss: 2.40000\n",
      "\t\t\t\t\t\t\t\tPrediction: 1; Score: 1.00000; N. instances: 13; Loss: 0.00000\n",
      "\t\t\t\t\t\tFeature ID: 9; Threshold: 0.48; N. instances: 270\n",
      "\t\t\t\t\t\t\tFeature ID: 8; Threshold: 3.0; N. instances: 115\n",
      "\t\t\t\t\t\t\t\tPrediction: 1; Score: 0.77778; N. instances: 9; Loss: 1.55556\n",
      "\t\t\t\t\t\t\t\tPrediction: 0; Score: 0.33963; N. instances: 106; Loss: 23.77358\n",
      "\t\t\t\t\t\t\tFeature ID: 7; Threshold: 0.9979; N. instances: 155\n",
      "\t\t\t\t\t\t\t\tPrediction: 1; Score: 0.64762; N. instances: 105; Loss: 23.96190\n",
      "\t\t\t\t\t\t\t\tPrediction: 0; Score: 0.38000; N. instances: 50; Loss: 11.78000\n",
      "\t\t\tFeature ID: 9; Threshold: 0.69; N. instances: 647\n",
      "\t\t\t\tFeature ID: 6; Threshold: 10.0; N. instances: 554\n",
      "\t\t\t\t\tPrediction: 1; Score: 0.80000; N. instances: 5; Loss: 0.80000\n",
      "\t\t\t\t\tFeature ID: 3; Threshold: 9.0; N. instances: 549\n",
      "\t\t\t\t\t\tFeature ID: 5; Threshold: 50.5; N. instances: 437\n",
      "\t\t\t\t\t\t\tFeature ID: 7; Threshold: 0.99669; N. instances: 412\n",
      "\t\t\t\t\t\t\t\tPrediction: 0; Score: 0.17094; N. instances: 234; Loss: 33.16239\n",
      "\t\t\t\t\t\t\t\tPrediction: 0; Score: 0.27528; N. instances: 178; Loss: 35.51124\n",
      "\t\t\t\t\t\t\tFeature ID: 7; Threshold: 0.9955; N. instances: 25\n",
      "\t\t\t\t\t\t\t\tPrediction: 1; Score: 0.52941; N. instances: 17; Loss: 4.23529\n",
      "\t\t\t\t\t\t\t\tPrediction: 0; Score: 0.12500; N. instances: 8; Loss: 0.87500\n",
      "\t\t\t\t\t\tFeature ID: 2; Threshold: 0.48; N. instances: 112\n",
      "\t\t\t\t\t\t\tFeature ID: 0; Threshold: 6.6; N. instances: 98\n",
      "\t\t\t\t\t\t\t\tPrediction: 1; Score: 0.53846; N. instances: 39; Loss: 9.69231\n",
      "\t\t\t\t\t\t\t\tPrediction: 0; Score: 0.32203; N. instances: 59; Loss: 12.88136\n",
      "\t\t\t\t\t\t\tPrediction: 0; Score: 0.00000; N. instances: 14; Loss: 0.00000\n",
      "\t\t\t\tFeature ID: 6; Threshold: 46.0; N. instances: 93\n",
      "\t\t\t\t\tFeature ID: 7; Threshold: 0.99702; N. instances: 41\n",
      "\t\t\t\t\t\tPrediction: 0; Score: 0.22222; N. instances: 9; Loss: 1.55556\n",
      "\t\t\t\t\t\tFeature ID: 5; Threshold: 10.0; N. instances: 32\n",
      "\t\t\t\t\t\t\tPrediction: 1; Score: 0.64706; N. instances: 17; Loss: 3.88235\n",
      "\t\t\t\t\t\t\tPrediction: 1; Score: 1.00000; N. instances: 15; Loss: 0.00000\n",
      "\t\t\t\t\tFeature ID: 0; Threshold: 9.9; N. instances: 52\n",
      "\t\t\t\t\t\tFeature ID: 5; Threshold: 21.0; N. instances: 43\n",
      "\t\t\t\t\t\t\tFeature ID: 3; Threshold: 2.0; N. instances: 20\n",
      "\t\t\t\t\t\t\t\tPrediction: 0; Score: 0.17647; N. instances: 17; Loss: 2.47059\n",
      "\t\t\t\t\t\t\t\tPrediction: 1; Score: 1.00000; N. instances: 3; Loss: 0.00000\n",
      "\t\t\t\t\t\t\tPrediction: 0; Score: -0.00000; N. instances: 23; Loss: 0.00000\n",
      "\t\t\t\t\t\tPrediction: 1; Score: 0.77778; N. instances: 9; Loss: 1.55556\n",
      "\tFeature ID: 7; Threshold: 0.99165; N. instances: 1710\n",
      "\t\tFeature ID: 6; Threshold: 65.0; N. instances: 586\n",
      "\t\t\tFeature ID: 5; Threshold: 9.0; N. instances: 39\n",
      "\t\t\t\tFeature ID: 2; Threshold: 0.34; N. instances: 20\n",
      "\t\t\t\t\tPrediction: 0; Score: 0.41667; N. instances: 12; Loss: 2.91667\n",
      "\t\t\t\t\tPrediction: 0; Score: 0.00000; N. instances: 8; Loss: 0.00000\n",
      "\t\t\t\tPrediction: 1; Score: 0.89474; N. instances: 19; Loss: 1.78947\n",
      "\t\t\tFeature ID: 5; Threshold: 9.0; N. instances: 547\n",
      "\t\t\t\tPrediction: 0; Score: 0.42857; N. instances: 14; Loss: 3.42857\n",
      "\t\t\t\tFeature ID: 3; Threshold: 0.95; N. instances: 533\n",
      "\t\t\t\t\tPrediction: 1; Score: 0.62500; N. instances: 16; Loss: 3.75000\n",
      "\t\t\t\t\tFeature ID: 4; Threshold: 0.045; N. instances: 517\n",
      "\t\t\t\t\t\tFeature ID: 2; Threshold: 0.13; N. instances: 456\n",
      "\t\t\t\t\t\t\tPrediction: 1; Score: 0.66667; N. instances: 15; Loss: 3.33333\n",
      "\t\t\t\t\t\t\tFeature ID: 8; Threshold: 3.04; N. instances: 441\n",
      "\t\t\t\t\t\t\t\tPrediction: 1; Score: 0.88889; N. instances: 72; Loss: 7.11111\n",
      "\t\t\t\t\t\t\t\tPrediction: 1; Score: 0.97019; N. instances: 369; Loss: 10.67209\n",
      "\t\t\t\t\t\tFeature ID: 8; Threshold: 3.44; N. instances: 61\n",
      "\t\t\t\t\t\t\tFeature ID: 2; Threshold: 0.28; N. instances: 59\n",
      "\t\t\t\t\t\t\t\tPrediction: 1; Score: 0.57143; N. instances: 14; Loss: 3.42857\n",
      "\t\t\t\t\t\t\t\tPrediction: 1; Score: 0.88889; N. instances: 45; Loss: 4.44444\n",
      "\t\t\t\t\t\t\tPrediction: 0; Score: -0.00000; N. instances: 2; Loss: 0.00000\n",
      "\t\tFeature ID: 5; Threshold: 16.0; N. instances: 1124\n",
      "\t\t\tFeature ID: 9; Threshold: 0.64; N. instances: 340\n",
      "\t\t\t\tFeature ID: 1; Threshold: 0.895; N. instances: 219\n",
      "\t\t\t\t\tFeature ID: 4; Threshold: 0.05; N. instances: 212\n",
      "\t\t\t\t\t\tFeature ID: 3; Threshold: 2.0; N. instances: 87\n",
      "\t\t\t\t\t\t\tFeature ID: 8; Threshold: 3.29; N. instances: 37\n",
      "\t\t\t\t\t\t\t\tPrediction: 0; Score: 0.18519; N. instances: 27; Loss: 4.07407\n",
      "\t\t\t\t\t\t\t\tPrediction: 0; Score: 0.50000; N. instances: 10; Loss: 2.50000\n",
      "\t\t\t\t\t\t\tFeature ID: 2; Threshold: 0.26; N. instances: 50\n",
      "\t\t\t\t\t\t\t\tPrediction: 0; Score: -0.00000; N. instances: 4; Loss: 0.00000\n",
      "\t\t\t\t\t\t\t\tPrediction: 1; Score: 0.60870; N. instances: 46; Loss: 10.95652\n",
      "\t\t\t\t\t\tFeature ID: 8; Threshold: 3.36; N. instances: 125\n",
      "\t\t\t\t\t\t\tFeature ID: 0; Threshold: 10.9; N. instances: 80\n",
      "\t\t\t\t\t\t\t\tPrediction: 1; Score: 0.80000; N. instances: 70; Loss: 11.20000\n",
      "\t\t\t\t\t\t\t\tPrediction: 0; Score: 0.30000; N. instances: 10; Loss: 2.10000\n",
      "\t\t\t\t\t\t\tFeature ID: 2; Threshold: 0.07; N. instances: 45\n",
      "\t\t\t\t\t\t\t\tPrediction: 1; Score: 0.65217; N. instances: 23; Loss: 5.21739\n",
      "\t\t\t\t\t\t\t\tPrediction: 0; Score: 0.27273; N. instances: 22; Loss: 4.36364\n",
      "\t\t\t\t\tPrediction: 0; Score: 0.00000; N. instances: 7; Loss: 0.00000\n",
      "\t\t\t\tFeature ID: 11; Threshold: 0.0; N. instances: 121\n",
      "\t\t\t\t\tFeature ID: 3; Threshold: 4.3; N. instances: 110\n",
      "\t\t\t\t\t\tFeature ID: 0; Threshold: 13.8; N. instances: 105\n",
      "\t\t\t\t\t\t\tFeature ID: 6; Threshold: 103.0; N. instances: 104\n",
      "\t\t\t\t\t\t\t\tPrediction: 1; Score: 0.92233; N. instances: 103; Loss: 7.37864\n",
      "\t\t\t\t\t\t\t\tPrediction: 0; Score: -0.00000; N. instances: 1; Loss: 0.00000\n",
      "\t\t\t\t\t\t\tPrediction: 0; Score: 0.00000; N. instances: 1; Loss: 0.00000\n",
      "\t\t\t\t\t\tPrediction: 0; Score: 0.40000; N. instances: 5; Loss: 1.20000\n",
      "\t\t\t\t\tPrediction: 0; Score: 0.36365; N. instances: 11; Loss: 2.54545\n",
      "\t\t\tFeature ID: 4; Threshold: 0.040999999999999995; N. instances: 784\n",
      "\t\t\t\tFeature ID: 3; Threshold: 1.4; N. instances: 335\n",
      "\t\t\t\t\tFeature ID: 2; Threshold: 0.39; N. instances: 33\n",
      "\t\t\t\t\t\tFeature ID: 8; Threshold: 3.47; N. instances: 25\n",
      "\t\t\t\t\t\t\tFeature ID: 1; Threshold: 0.27; N. instances: 23\n",
      "\t\t\t\t\t\t\t\tPrediction: 0; Score: 0.47059; N. instances: 17; Loss: 4.23529\n",
      "\t\t\t\t\t\t\t\tPrediction: 0; Score: -0.00000; N. instances: 6; Loss: 0.00000\n",
      "\t\t\t\t\t\t\tPrediction: 1; Score: 1.00000; N. instances: 2; Loss: 0.00000\n",
      "\t\t\t\t\t\tPrediction: 1; Score: 1.00000; N. instances: 8; Loss: 0.00000\n",
      "\t\t\t\t\tFeature ID: 0; Threshold: 8.5; N. instances: 302\n",
      "\t\t\t\t\t\tFeature ID: 1; Threshold: 0.66; N. instances: 288\n",
      "\t\t\t\t\t\t\tFeature ID: 2; Threshold: 0.25; N. instances: 286\n",
      "\t\t\t\t\t\t\t\tPrediction: 1; Score: 0.80000; N. instances: 35; Loss: 5.60000\n",
      "\t\t\t\t\t\t\t\tPrediction: 1; Score: 0.92032; N. instances: 251; Loss: 18.40637\n",
      "\t\t\t\t\t\t\tPrediction: 0; Score: 0.00000; N. instances: 2; Loss: 0.00000\n",
      "\t\t\t\t\t\tPrediction: 0; Score: 0.50000; N. instances: 14; Loss: 3.50000\n",
      "\t\t\t\tFeature ID: 3; Threshold: 14.4; N. instances: 449\n",
      "\t\t\t\t\tFeature ID: 6; Threshold: 54.0; N. instances: 432\n",
      "\t\t\t\t\t\tFeature ID: 8; Threshold: 3.46; N. instances: 76\n",
      "\t\t\t\t\t\t\tFeature ID: 0; Threshold: 10.4; N. instances: 61\n",
      "\t\t\t\t\t\t\t\tPrediction: 1; Score: 0.98000; N. instances: 50; Loss: 0.98000\n",
      "\t\t\t\t\t\t\t\tPrediction: 1; Score: 0.72727; N. instances: 11; Loss: 2.18182\n",
      "\t\t\t\t\t\t\tPrediction: 1; Score: 0.60000; N. instances: 15; Loss: 3.60000\n",
      "\t\t\t\t\t\tFeature ID: 1; Threshold: 0.44; N. instances: 356\n",
      "\t\t\t\t\t\t\tFeature ID: 0; Threshold: 10.5; N. instances: 315\n",
      "\t\t\t\t\t\t\t\tPrediction: 1; Score: 0.77097; N. instances: 310; Loss: 54.73871\n",
      "\t\t\t\t\t\t\t\tPrediction: 0; Score: 0.40000; N. instances: 5; Loss: 1.20000\n",
      "\t\t\t\t\t\t\tFeature ID: 9; Threshold: 0.48; N. instances: 41\n",
      "\t\t\t\t\t\t\t\tPrediction: 0; Score: -0.00000; N. instances: 8; Loss: 0.00000\n",
      "\t\t\t\t\t\t\t\tPrediction: 1; Score: 0.57576; N. instances: 33; Loss: 8.06061\n",
      "\t\t\t\t\tPrediction: 0; Score: 0.35294; N. instances: 17; Loss: 3.88235\n"
     ]
    }
   ],
   "source": [
    "def pretty_print(node, out=sys.stdout, tabs=''):\n",
    "\n",
    "    leaf_txt = \"{}Prediction: {}; Score: {:.5f}; N. instances: {}; Loss: {:.5f}\".format(tabs,\n",
    "                                                                                        node.get_node_prediction()[\n",
    "                                                                                            0],\n",
    "                                                                                        node.get_node_prediction()[\n",
    "                                                                                            1],\n",
    "                                                                                        node.values,\n",
    "                                                                                        node.loss_value)\n",
    "    internal_node_txt = \"{}Feature ID: {}; Threshold: {}; N. instances: {}\".format(tabs,\n",
    "                                                                                   node.best_split_feature_id,\n",
    "                                                                                   node.best_split_feature_value,\n",
    "                                                                                   node.values\n",
    "                                                                                   )\n",
    "\n",
    "    if node.is_leaf():  # base case\n",
    "        out.write(leaf_txt + \"\\n\")\n",
    "    else:  # recursive case\n",
    "        out.write(internal_node_txt + \"\\n\")\n",
    "        node.left.pretty_print(out, tabs + \"\\t\")\n",
    "        node.right.pretty_print(out, tabs + \"\\t\")\n",
    "\n",
    "pretty_print(model.estimators_[0].root )\n"
   ]
  },
  {
   "cell_type": "code",
   "execution_count": 37,
   "metadata": {},
   "outputs": [
    {
     "name": "stdout",
     "output_type": "stream",
     "text": [
      "Feature ID: 9; Threshold: 3908; N. instances: 80\n",
      "\tFeature ID: 10; Threshold: 1602; N. instances: 72\n",
      "\t\tFeature ID: 3; Threshold: 12; N. instances: 67\n",
      "\t\t\tFeature ID: 6; Threshold: Wife; N. instances: 56\n",
      "\t\t\t\tPrediction: 1; Score: 0.50000; N. instances: 6; Loss: 1.50000\n",
      "\t\t\t\tFeature ID: 0; Threshold: 46; N. instances: 50\n",
      "\t\t\t\t\tPrediction: 0; Score: -0.00000; N. instances: 33; Loss: 0.00000\n",
      "\t\t\t\t\tPrediction: 0; Score: 0.11765; N. instances: 17; Loss: 1.76471\n",
      "\t\t\tPrediction: 1; Score: 0.54545; N. instances: 11; Loss: 2.72727\n",
      "\t\tPrediction: 1; Score: 1.00000; N. instances: 5; Loss: 0.00000\n",
      "\tPrediction: 1; Score: 1.00000; N. instances: 8; Loss: 0.00000\n"
     ]
    }
   ],
   "source": [
    "pretty_print(model.estimators_[1].root )"
   ]
  },
  {
   "cell_type": "markdown",
   "metadata": {},
   "source": [
    "# Feature importance check"
   ]
  },
  {
   "cell_type": "code",
   "execution_count": null,
   "metadata": {},
   "outputs": [],
   "source": [
    "def print_fx_imp(model, colnames):\n",
    "    fx_uses = model.feature_importance(importance_type='split')\n",
    "    fx_gain = model.feature_importance(importance_type='gain')\n",
    "\n",
    "    for i,f in enumerate(np.argsort(fx_gain)[::-1]):\n",
    "        print (\"{:2d} {:20s} {:.3f} {:4d}\".format(i, colnames[f], fx_gain[f], fx_uses[f]))\n",
    "\n",
    "print(\" -- GDBT --\")    \n",
    "gbdt = lightgbm.Booster(model_file=\"../out/models/census/std-gbdt_census_T100_S0050_L24_R100.model\")\n",
    "print(gbdt.num_trees())\n",
    "print_fx_imp(gbdt, TRAIN.columns)\n",
    "\n",
    "print(\" -- Reduced GDBT --\")    \n",
    "redf = lightgbm.Booster(model_file=\"../out/models/census/red-gbdt_census_T100_S0050_L24_R98.model\")\n",
    "print(redf.num_trees())\n",
    "print_fx_imp(redf, TRAIN.drop(columns=[\"workclass\", \n",
    "                                       \"marital_status\", \n",
    "                                       \"occupation\", \n",
    "                                       \"education_num\", \n",
    "                                       \"hours_per_week\", \n",
    "                                       \"capital_gain\"\n",
    "                                      ]).columns)\n",
    "\n",
    "\n",
    "print(\" -- Adv. Boosting --\")    \n",
    "advb = lightgbm.Booster(model_file=\"../out/models/census/adv-boosting_census_B30_T100_S0050_L24_R100.model\")\n",
    "print(advb.num_trees())\n",
    "print_fx_imp(advb, TRAIN.columns)\n"
   ]
  },
  {
   "cell_type": "code",
   "execution_count": null,
   "metadata": {},
   "outputs": [],
   "source": [
    "bb = 40\n",
    "eval_learned_models(lightgbm.Booster(model_file=\"../out/models/wine2/red-gbdt_wine2_T500_S0050_L24_R281.model\"), \n",
    "                                        extract_model_name(\"../out/models/wine2/red-gbdt_wine2_T500_S0050_L24_R281.model\"), \n",
    "                                        att_datasets[bb][4].drop(columns=[\"alcohol\", \"residual_sugar\", \"volatile_acidity\"]), \n",
    "                                        att_datasets[bb][5], \n",
    "                                        budget=bb\n",
    "                                       ) "
   ]
  },
  {
   "cell_type": "code",
   "execution_count": null,
   "metadata": {},
   "outputs": [],
   "source": [
    "!cat ../out/models/census/par-robust_census_B0_T100_D8_I20.model | tail"
   ]
  },
  {
   "cell_type": "code",
   "execution_count": null,
   "metadata": {},
   "outputs": [],
   "source": [
    "!git pull"
   ]
  },
  {
   "cell_type": "code",
   "execution_count": null,
   "metadata": {},
   "outputs": [],
   "source": [
    "!git commit -am \"calza\""
   ]
  },
  {
   "cell_type": "code",
   "execution_count": null,
   "metadata": {},
   "outputs": [],
   "source": [
    "!git pull"
   ]
  },
  {
   "cell_type": "code",
   "execution_count": null,
   "metadata": {},
   "outputs": [],
   "source": [
    "!git push"
   ]
  },
  {
   "cell_type": "code",
   "execution_count": null,
   "metadata": {},
   "outputs": [],
   "source": []
  }
 ],
 "metadata": {
  "kernelspec": {
   "display_name": "Python 3",
   "language": "python",
   "name": "python3"
  },
  "language_info": {
   "codemirror_mode": {
    "name": "ipython",
    "version": 3
   },
   "file_extension": ".py",
   "mimetype": "text/x-python",
   "name": "python",
   "nbconvert_exporter": "python",
   "pygments_lexer": "ipython3",
   "version": "3.6.7"
  }
 },
 "nbformat": 4,
 "nbformat_minor": 2
}
