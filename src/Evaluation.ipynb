{
 "cells": [
  {
   "cell_type": "markdown",
   "metadata": {},
   "source": [
    "# Evaluating Models\n",
    "\n",
    "This notebook contains the code used for evaluating the following learning models:\n",
    "\n",
    "-  **Standard GBDT** (_baseline 1_)\n",
    "-  **Adversarial Boosting** (_baseline 2_)\n",
    "-  **Non-Interferent GBDT** (our proposal)"
   ]
  },
  {
   "cell_type": "markdown",
   "metadata": {},
   "source": [
    "# Documentation\n",
    "\n",
    " - http://lightgbm.readthedocs.io/en/latest/\n",
    " - http://lightgbm.readthedocs.io/en/latest/Python-Intro.html\n",
    " - https://github.com/Microsoft/LightGBM/tree/master/examples/python-guide"
   ]
  },
  {
   "cell_type": "code",
   "execution_count": 2,
   "metadata": {},
   "outputs": [],
   "source": [
    "import os\n",
    "import json\n",
    "import pickle\n",
    "import numpy as np\n",
    "import pandas as pd\n",
    "import matplotlib.pyplot as plt\n",
    "import seaborn as sns\n",
    "import lightgbm\n",
    "import functools\n",
    "from os import listdir\n",
    "from os.path import isfile, join\n",
    "from sklearn.svm import SVC\n",
    "from sklearn.model_selection import GridSearchCV\n",
    "from sklearn.metrics import roc_auc_score, f1_score\n",
    "# Adding the following line, allows Jupyter Notebook to visualize plots\n",
    "# produced by matplotlib directly below the code cell which generated those.\n",
    "%matplotlib inline\n",
    "\n",
    "np.random.seed(73)"
   ]
  },
  {
   "cell_type": "markdown",
   "metadata": {},
   "source": [
    "# Standard evaluation metric\n",
    "\n",
    "The following function is the one used for evaluating the quality of the learned model (either _standard_, _adversarial-boosting_, or _non-interferent_). This is the standard <code>avg_log_loss</code>."
   ]
  },
  {
   "cell_type": "code",
   "execution_count": 3,
   "metadata": {},
   "outputs": [],
   "source": [
    "def logistic(x):\n",
    "    return 1.0/(1.0 + np.exp(-x))"
   ]
  },
  {
   "cell_type": "code",
   "execution_count": 4,
   "metadata": {},
   "outputs": [],
   "source": [
    "def logit(p):\n",
    "    return np.log(p/(1-p))"
   ]
  },
  {
   "cell_type": "markdown",
   "metadata": {},
   "source": [
    "# <code>avg_log_loss</code>"
   ]
  },
  {
   "cell_type": "code",
   "execution_count": 5,
   "metadata": {},
   "outputs": [],
   "source": [
    "# self-defined eval metric\n",
    "# f(preds: array, train_data: Dataset) -> name: string, value: array, is_higher_better: bool\n",
    "def avg_log_loss(preds, train_data):\n",
    "    \n",
    "    labels = train_data.get_label()\n",
    "    losses = np.log(1.0 + np.exp(-preds*labels))\n",
    "    avg_loss = np.mean(losses)\n",
    "    \n",
    "    return 'avg_binary_log_loss', avg_loss, False"
   ]
  },
  {
   "cell_type": "code",
   "execution_count": 6,
   "metadata": {},
   "outputs": [],
   "source": [
    "def eval_log_loss(model, test, test_groups=None, svm=False):\n",
    "    \n",
    "    lgbm_test = lightgbm.Dataset(data=test.iloc[:,:-1].values, \n",
    "                                 label=test.iloc[:,-1].values,\n",
    "                                 free_raw_data=False)\n",
    "    \n",
    "    if svm: # no trees have been generated (used for evaluating other non-tree-based models like SVM)\n",
    "        # use the logit function (i.e., the inverse of the logistic function) to map probabilities output\n",
    "        # by sklearn's predict_proba in the range [0,1] to a real number in the range [-inf, +inf]\n",
    "        return avg_log_loss(logit(model.predict_proba(test.iloc[:,:-1].values)[:,1]), lgbm_test)[1]\n",
    "    \n",
    "    return avg_log_loss(model.predict(test.iloc[:,:-1].values), lgbm_test)[1]"
   ]
  },
  {
   "cell_type": "markdown",
   "metadata": {},
   "source": [
    "# Custom evaluation metric\n",
    "\n",
    "Similarly to what we have done for <code>fobj</code>, <code>feval</code> can be computed from a weighted combination of two evaluation metrics:\n",
    "\n",
    "-  <code>avg_log_loss</code> (standard, defined above);\n",
    "-  <code>avg_log_loss_uma</code> (custom, defined below)."
   ]
  },
  {
   "cell_type": "markdown",
   "metadata": {},
   "source": [
    "# <code>avg_log_loss_uma</code>\n",
    "\n",
    "This is the binary log loss yet modified to operate on groups of perturbed instances."
   ]
  },
  {
   "cell_type": "code",
   "execution_count": 7,
   "metadata": {},
   "outputs": [],
   "source": [
    "# Our custom metric\n",
    "\n",
    "def binary_log_loss(pred, true_label):\n",
    "\n",
    "    return np.log(1.0 + np.exp(-pred * true_label))\n",
    "\n",
    "# self-defined eval metric\n",
    "# f(preds: array, train_data: Dataset) -> name: string, value: array, is_higher_better: bool\n",
    "def avg_log_loss_uma(preds, train_data):\n",
    "    labels = train_data.get_label()\n",
    "    attack_lens = train_data.get_group()\n",
    "    \n",
    "    offset = 0\n",
    "    max_logloss = []\n",
    "    avg_max_logloss = 0.0\n",
    "    \n",
    "    if attack_lens is not None:\n",
    "    \n",
    "        for atk in attack_lens:\n",
    "            losses = [binary_log_loss(h,t) for h,t in zip(preds[offset:offset+atk], labels[offset:offset+atk])]\n",
    "            max_logloss.append(max(losses))\n",
    "\n",
    "            offset += atk\n",
    "        \n",
    "        avg_max_logloss = np.mean(max_logloss)  \n",
    "\n",
    "    return 'avg_binary_log_loss_under_max_attack', avg_max_logloss, False"
   ]
  },
  {
   "cell_type": "code",
   "execution_count": 8,
   "metadata": {},
   "outputs": [],
   "source": [
    "def eval_log_loss_uma(model, test, test_groups=None, svm=False):\n",
    "    \n",
    "    lgbm_test = lightgbm.Dataset(data=test.iloc[:,:-1].values, \n",
    "                                 label=test.iloc[:,-1].values,\n",
    "                                 group=test_groups,\n",
    "                                 free_raw_data=False)\n",
    "    \n",
    "    if svm: # no trees have been generated (used for evaluating other non-tree-based models like SVM)\n",
    "        # use the logit function (i.e., the inverse of the logistic function) to map probabilities output\n",
    "        # by sklearn's predict_proba in the range [0,1] to a real number in the range [-inf, +inf]\n",
    "        return avg_log_loss_uma(logit(model.predict_proba(test.iloc[:,:-1].values)[:,1]), \n",
    "                                               lgbm_test)[1]\n",
    "    \n",
    "    return avg_log_loss_uma(model.predict(test.iloc[:,:-1].values), \n",
    "                                               lgbm_test)[1]"
   ]
  },
  {
   "cell_type": "markdown",
   "metadata": {},
   "source": [
    "# <code>feval=avg_non_interferent_log_loss</code>\n",
    "\n",
    "Used for measuring the validity of any model (either _standard_, _baseline_, or _non-interferent_). More precisely, <code>avg_non_interferent_log_loss</code> is the weighted sum of the binary log loss and the binary log loss under maximal attack."
   ]
  },
  {
   "cell_type": "code",
   "execution_count": 9,
   "metadata": {},
   "outputs": [],
   "source": [
    "# LightGBM takes lambda x,y: avg_weighted_sum_log_loss_log_loss_uma(preds, train_data, alpha=0.5)\n",
    "\n",
    "def avg_non_interferent_log_loss(preds, train_data, alpha=1.0):\n",
    "    \n",
    "    # binary logloss under maximal attack\n",
    "    _, loss_uma, _    = avg_log_loss_uma(preds, train_data)\n",
    "    \n",
    "    # binary logloss (plain)\n",
    "    # _, loss_plain, _  = avg_log_loss(preds, train_data)\n",
    "    \n",
    "    ids = []\n",
    "    attack_lens = train_data.get_group()\n",
    "    \n",
    "    if attack_lens is not None:\n",
    "        offset=0\n",
    "        for atk in attack_lens:\n",
    "            ids += [offset]\n",
    "            offset += atk      \n",
    "            \n",
    "    ids = np.array(ids)\n",
    "    labels = train_data.get_label()\n",
    "    losses = np.log(1.0 + np.exp(-preds[ids]*labels[ids]))\n",
    "    loss_plain = np.mean(losses)\n",
    "\n",
    "    # combine the above two losses together\n",
    "    weighted_loss = alpha*loss_uma + (1.0-alpha)*loss_plain\n",
    "\n",
    "    return 'avg_non_interferent_log_loss [alpha={:.2f}]'.format(alpha), weighted_loss, False\n",
    "\n",
    "def eval_non_interferent_log_loss(model, test, test_groups=None, svm=False, alpha=1.0):\n",
    "    \n",
    "    lgbm_test = lightgbm.Dataset(data=test.iloc[:,:-1].values, \n",
    "                                 label=test.iloc[:,-1].values,\n",
    "                                 group=test_groups,\n",
    "                                 free_raw_data=False)\n",
    "    \n",
    "    if svm: # no trees have been generated (used for evaluating other non-tree-based models like SVM)\n",
    "        # use the logit function (i.e., the inverse of the logistic function) to map probabilities output\n",
    "        # by sklearn's predict_proba in the range [0,1] to a real number in the range [-inf, +inf]\n",
    "        return avg_non_interferent_log_loss(logit(model.predict_proba(test.iloc[:,:-1].values)[:,1]), \n",
    "                                                  lgbm_test,\n",
    "                                                  alpha=alpha\n",
    "                                                 )[1]\n",
    "    \n",
    "    return avg_non_interferent_log_loss(model.predict(test.iloc[:,:-1].values), \n",
    "                                                  lgbm_test,\n",
    "                                                  alpha=alpha\n",
    "                                                 )[1]"
   ]
  },
  {
   "cell_type": "markdown",
   "metadata": {},
   "source": [
    "# Additional validity measures\n",
    "\n",
    "In addition to the evaluation metrics defined above (used for training), we also consider the following **4** measures of validity to compare the performance of each learned model:\n",
    "\n",
    "-  <code>eval_binary_err_rate</code>: This is the traditional binary error rate (1-accuracy);\n",
    "-  <code>eval_binary_err_rate_uma</code>: This is the binary error rate modified to operate on groups of perturbed instances under maximal attack.\n",
    "-  <code>eval_roc_auc</code>: This is the classical ROC AUC score;\n",
    "-  <code>eval_roc_auc_uma</code>: This is the ROC AUC score modified to operate on groups of perturbed instances under maximal attack.\n",
    "\n",
    "Again, note that those are **not** metrics used at training time (i.e., they do not define any <code>feval</code>), rather they are used to assess the (offline) quality of each learned model."
   ]
  },
  {
   "cell_type": "markdown",
   "metadata": {},
   "source": [
    "# <code>eval_binary_err_rate</code>"
   ]
  },
  {
   "cell_type": "code",
   "execution_count": 10,
   "metadata": {
    "scrolled": true
   },
   "outputs": [],
   "source": [
    "def eval_binary_err_rate(model, test_set, test_groups=None, svm=False):\n",
    "    X = test_set.iloc[:,:-1].values\n",
    "    labels = test_set.iloc[:,-1].values\n",
    "    \n",
    "    model_predictions = []\n",
    "    if svm: # no trees have been generated (used for evaluating other non-tree-based models like SVM)\n",
    "        # use the logit function (i.e., the inverse of the logistic function) to map probabilities output\n",
    "        # by sklearn's predict_proba in the range [0,1] to a real number in the range [-inf, +inf]\n",
    "        model_predictions = logit(model.predict_proba(X)[:,1])\n",
    "    else:\n",
    "        model_predictions = model.predict(X)\n",
    "        \n",
    "    predictions = [1 if p > 0 else -1 for p in model_predictions]\n",
    "    \n",
    "    errs = 0\n",
    "    for p,l in zip(predictions,labels):\n",
    "        if p != l:\n",
    "            errs += 1\n",
    "    return errs/len(predictions)"
   ]
  },
  {
   "cell_type": "markdown",
   "metadata": {},
   "source": [
    "# <code>eval_binary_err_rate_uma</code>"
   ]
  },
  {
   "cell_type": "code",
   "execution_count": 11,
   "metadata": {},
   "outputs": [],
   "source": [
    "def eval_binary_err_rate_uma(model, test_set, test_groups=None, svm=False):\n",
    "    X = test_set.iloc[:,:-1].values\n",
    "    labels = test_set.iloc[:,-1].values\n",
    "    \n",
    "    model_predictions = []\n",
    "    if svm: # no trees have been generated (used for evaluating other non-tree-based models like SVM)\n",
    "        # use the logit function (i.e., the inverse of the logistic function) to map probabilities output\n",
    "        # by sklearn's predict_proba in the range [0,1] to a real number in the range [-inf, +inf]\n",
    "        model_predictions = logit(model.predict_proba(X)[:,1])\n",
    "    else:\n",
    "        model_predictions = model.predict(X)\n",
    "        \n",
    "    predictions = [1 if p > 0 else -1 for p in model_predictions]\n",
    "    \n",
    "    offset = 0\n",
    "    errs = 0\n",
    "\n",
    "    for g in test_groups:\n",
    "        predictions_att = predictions[offset:offset+g]\n",
    "        true_label = labels[offset]\n",
    "        if np.any([p != true_label for p in predictions_att]):\n",
    "            errs += 1\n",
    "        offset += g\n",
    "\n",
    "    return errs/len(test_groups)"
   ]
  },
  {
   "cell_type": "markdown",
   "metadata": {},
   "source": [
    "# <code>eval_roc_auc</code>"
   ]
  },
  {
   "cell_type": "code",
   "execution_count": 12,
   "metadata": {
    "scrolled": true
   },
   "outputs": [],
   "source": [
    "def eval_roc_auc(model, test_set, test_groups=None, svm=False):\n",
    "    X = test_set.iloc[:,:-1].values\n",
    "    labels = test_set.iloc[:,-1].values\n",
    "    \n",
    "    predictions = []\n",
    "    \n",
    "    if svm: # no trees have been generated (used for evaluating other non-tree-based models like SVM)\n",
    "        # use the logit function (i.e., the inverse of the logistic function) to map probabilities output\n",
    "        # by sklearn's predict_proba in the range [0,1] to a real number in the range [-inf, +inf]\n",
    "        predictions = logit(model.predict_proba(X)[:,1])\n",
    "    else:\n",
    "        predictions = model.predict(X)\n",
    "        \n",
    "    \n",
    "    return roc_auc_score(y_true=labels, y_score=predictions)"
   ]
  },
  {
   "cell_type": "markdown",
   "metadata": {},
   "source": [
    "# <code>eval_roc_auc_uma</code>"
   ]
  },
  {
   "cell_type": "code",
   "execution_count": 13,
   "metadata": {
    "scrolled": true
   },
   "outputs": [],
   "source": [
    "def eval_roc_auc_uma(model, test_set, test_groups=None, svm=False):\n",
    "    X = test_set.iloc[:,:-1].values\n",
    "    labels = test_set.iloc[:,-1].values\n",
    "    \n",
    "    predictions = []\n",
    "    \n",
    "    if svm: # no trees have been generated (used for evaluating other non-tree-based models like SVM)\n",
    "        # use the logit function (i.e., the inverse of the logistic function) to map probabilities output\n",
    "        # by sklearn's predict_proba in the range [0,1] to a real number in the range [-inf, +inf]\n",
    "        predictions = logit(model.predict_proba(X)[:,1])\n",
    "    else:\n",
    "        predictions = model.predict(X)\n",
    "    \n",
    "    \n",
    "    offset = 0\n",
    "    true_labels = []\n",
    "    worst_predictions = []\n",
    "    \n",
    "    for g in test_groups:\n",
    "        \n",
    "        true_label = labels[offset]\n",
    "        true_labels.append(true_label)\n",
    "        predictions_att = predictions[offset:offset+g]\n",
    "        if true_label == 1:\n",
    "            worst_predictions.append(np.min(predictions_att))\n",
    "        else:\n",
    "            worst_predictions.append(np.max(predictions_att))\n",
    "    \n",
    "        offset += g\n",
    "        \n",
    "    return roc_auc_score(y_true=true_labels, y_score=worst_predictions)"
   ]
  },
  {
   "cell_type": "markdown",
   "metadata": {},
   "source": [
    "# <code>eval_f1</code>"
   ]
  },
  {
   "cell_type": "code",
   "execution_count": 14,
   "metadata": {
    "scrolled": true
   },
   "outputs": [],
   "source": [
    "def eval_f1(model, test_set, test_groups=None, svm=False):\n",
    "    X = test_set.iloc[:,:-1].values\n",
    "    labels = test_set.iloc[:,-1].values\n",
    "    \n",
    "    model_predictions = []\n",
    "    if svm: # no trees have been generated (used for evaluating other non-tree-based models like SVM)\n",
    "        # use the logit function (i.e., the inverse of the logistic function) to map probabilities output\n",
    "        # by sklearn's predict_proba in the range [0,1] to a real number in the range [-inf, +inf]\n",
    "        model_predictions = logit(model.predict_proba(X)[:,1])\n",
    "    else:\n",
    "        model_predictions = model.predict(X)\n",
    "        \n",
    "    predictions = [1 if p > 0 else -1 for p in model_predictions]\n",
    "    \n",
    "    return f1_score(y_true=labels, y_pred=predictions, average='macro')"
   ]
  },
  {
   "cell_type": "markdown",
   "metadata": {},
   "source": [
    "# <code>eval_f1_uma</code>"
   ]
  },
  {
   "cell_type": "code",
   "execution_count": 15,
   "metadata": {
    "scrolled": true
   },
   "outputs": [],
   "source": [
    "def eval_f1_uma(model, test_set, test_groups=None, svm=False):\n",
    "    X = test_set.iloc[:,:-1].values\n",
    "    labels = test_set.iloc[:,-1].values\n",
    "    \n",
    "    model_predictions = []\n",
    "    if svm: # no trees have been generated (used for evaluating other non-tree-based models like SVM)\n",
    "        # use the logit function (i.e., the inverse of the logistic function) to map probabilities output\n",
    "        # by sklearn's predict_proba in the range [0,1] to a real number in the range [-inf, +inf]\n",
    "        model_predictions = logit(model.predict_proba(X)[:,1])\n",
    "    else:\n",
    "        model_predictions = model.predict(X)\n",
    "        \n",
    "    predictions = [1 if p > 0 else -1 for p in model_predictions]\n",
    "    \n",
    "    offset = 0\n",
    "    true_labels = []\n",
    "    worst_predictions = []\n",
    "    \n",
    "    for g in test_groups:\n",
    "        true_label = labels[offset]\n",
    "        true_labels.append(true_label)\n",
    "        predictions_att = predictions[offset:offset+g]\n",
    "        if true_label == 1:\n",
    "            worst_predictions.append(np.min(predictions_att))\n",
    "        else:\n",
    "            worst_predictions.append(np.max(predictions_att))\n",
    "    \n",
    "        offset += g\n",
    "        \n",
    "    return f1_score(y_true=true_labels, y_pred=worst_predictions, average='macro')"
   ]
  },
  {
   "cell_type": "markdown",
   "metadata": {},
   "source": [
    "# Evaluation metrics"
   ]
  },
  {
   "cell_type": "code",
   "execution_count": 16,
   "metadata": {},
   "outputs": [],
   "source": [
    "EVAL_METRICS = [eval_log_loss, \n",
    "                eval_binary_err_rate, \n",
    "                eval_f1,\n",
    "                eval_roc_auc\n",
    "               ]\n",
    "\n",
    "EVAL_METRICS_UNDER_MAX_ATTACK = [eval_log_loss_uma,\n",
    "                                 eval_binary_err_rate_uma, \n",
    "                                 eval_f1_uma,\n",
    "                                 eval_roc_auc_uma\n",
    "                                ]"
   ]
  },
  {
   "cell_type": "markdown",
   "metadata": {},
   "source": [
    "# Evaluate each model w.r.t. _all_ evaluation metrics"
   ]
  },
  {
   "cell_type": "code",
   "execution_count": 17,
   "metadata": {},
   "outputs": [],
   "source": [
    "def eval_learned_model(model, eval_metric, test, test_groups=None):\n",
    "    return eval_metric(model, test, test_groups=test_groups)"
   ]
  },
  {
   "cell_type": "code",
   "execution_count": 18,
   "metadata": {},
   "outputs": [],
   "source": [
    "def eval_learned_models(model, model_type, test, test_groups=None):\n",
    "\n",
    "    eval_metrics = EVAL_METRICS\n",
    "    d_test = \"D_test\"\n",
    "    if test_groups is not None:\n",
    "        eval_metrics = EVAL_METRICS_UNDER_MAX_ATTACK\n",
    "        d_test = \"D_test_att\"\n",
    "    \n",
    "    header = ['Model'] + [m.__name__.replace('eval_','').replace('_',' ').title() for m in eval_metrics]\n",
    "    df = pd.DataFrame(columns=header)\n",
    "    first_row = [model_type] + [None for m in eval_metrics]\n",
    "    df.loc[0] = first_row\n",
    "\n",
    "    for eval_metric in eval_metrics:\n",
    "        res = eval_learned_model(model, eval_metric, test, test_groups=test_groups)\n",
    "        print(\"{} learning - {} on {} = {:.5f}\"\n",
    "                  .format(model_type, eval_metric.__name__, d_test, res))\n",
    "        df[eval_metric.__name__.replace('eval_','').replace('_',' ').title()] = res\n",
    "    print(\"******************************************************************************************************\")\n",
    "    \n",
    "    return df"
   ]
  },
  {
   "cell_type": "markdown",
   "metadata": {},
   "source": [
    "# Loading Datasets"
   ]
  },
  {
   "cell_type": "code",
   "execution_count": 19,
   "metadata": {},
   "outputs": [],
   "source": [
    "def label_encode(dataset, categorical_features):\n",
    "    dataset_le = dataset.copy()\n",
    "    for column in dataset_le.columns:\n",
    "        if column in categorical_features:\n",
    "            dataset_le[column] = dataset_le[column].astype('category')\n",
    "            dataset_le[column] = dataset_le[column].cat.codes.astype(np.int32)\n",
    "    return dataset_le\n",
    "\n",
    "def load_atk_train_valid_test(atk_train_file, atk_valid_file, atk_test_file, \n",
    "                              train_split=0.6, valid_split=0.2, force=False):\n",
    "    \n",
    "    \n",
    "    if  (force or \n",
    "          not os.path.exists(atk_train_file+\".cat.bz2\") or\n",
    "          not os.path.exists(atk_valid_file+\".cat.bz2\") or\n",
    "          not os.path.exists(atk_test_file+\".cat.bz2\") or \n",
    "          not os.path.exists(atk_train_file+\".cat.json\") ):\n",
    "    \n",
    "        print (\"Pre-processing original files...\")\n",
    "\n",
    "        print (\"Loading:\", atk_train_file)\n",
    "        print (\"Loading:\", atk_valid_file)\n",
    "        print (\"Loading:\", atk_test_file)\n",
    "\n",
    "        train = pd.read_csv(atk_train_file)\n",
    "        valid = pd.read_csv(atk_valid_file)\n",
    "        test  = pd.read_csv(atk_test_file)\n",
    "        \n",
    "        print (\"Train/Valid/Test sizes:\", train.shape, valid.shape, test.shape)\n",
    "        print (\"Train/Valid/Test split: {:.2f} {:.2f} {:.2f}\"\n",
    "                   .format( train.shape[0]/(train.shape[0]+valid.shape[0]+test.shape[0]),\n",
    "                            valid.shape[0]/(train.shape[0]+valid.shape[0]+test.shape[0]),\n",
    "                            test.shape[0] /(train.shape[0]+valid.shape[0]+test.shape[0]) ) )\n",
    "\n",
    "\n",
    "        # split-back into train valid test\n",
    "        if 'instance_id' in train.columns.values:\n",
    "            print ('with instance ids')\n",
    "            valid['instance_id'] += train.iloc[-1,0]\n",
    "            test['instance_id']  += valid.iloc[-1,0]\n",
    "            \n",
    "            groups = np.concatenate( [ train['instance_id'].value_counts().sort_index().values,\n",
    "                                       valid['instance_id'].value_counts().sort_index().values,\n",
    "                                       test['instance_id'].value_counts().sort_index().values ] )\n",
    "            \n",
    "            num_train_groups = int( len(groups)*train_split )\n",
    "            train_size = sum(groups[:num_train_groups])\n",
    "            num_valid_groups = int( len(groups)*valid_split )\n",
    "            valid_size = sum(groups[num_train_groups:num_train_groups+num_valid_groups])\n",
    "        else:\n",
    "            full_size = len(train) + len(valid) + len(test)\n",
    "            train_size = int( full_size*train_split )\n",
    "            valid_size = int( full_size*valid_split )\n",
    "        \n",
    "        # concat to process correctly label encoding\n",
    "        full = pd.concat( [train, valid, test] )\n",
    "\n",
    "        # get index of categorical features (-1 because of instance_id)\n",
    "        cat_fx = full.columns.values[np.where(full.dtypes=='object')[0]]\n",
    "        cat_fx = list(cat_fx)    \n",
    "        full = label_encode(full, cat_fx)\n",
    "        with open(atk_train_file+\".cat.json\", 'w') as fp:\n",
    "            json.dump(cat_fx, fp)\n",
    "        print (\"CatFX:\", cat_fx)\n",
    "\n",
    "        train_cat = full.iloc[0:train_size,:]\n",
    "        valid_cat = full.iloc[train_size:train_size+valid_size,:]\n",
    "        test_cat  = full.iloc[train_size+valid_size:,:]    \n",
    "\n",
    "        print (\"Train/Valid/Test sizes:\", train_cat.shape, valid_cat.shape, test_cat.shape)\n",
    "        print (\"Train/Valid/Test split: {:.2f} {:.2f} {:.2f}\"\n",
    "                   .format( train_cat.shape[0]/(train_cat.shape[0]+valid_cat.shape[0]+test_cat.shape[0]),\n",
    "                            valid_cat.shape[0]/(train_cat.shape[0]+valid_cat.shape[0]+test_cat.shape[0]),\n",
    "                            test_cat.shape[0] /(train_cat.shape[0]+valid_cat.shape[0]+test_cat.shape[0]) ) )\n",
    "\n",
    "        # save to file\n",
    "        print (\"Saving processed files *.cat.bz2\")\n",
    "        train_cat.to_csv(atk_train_file+\".cat.bz2\", compression=\"bz2\", index=False)\n",
    "        valid_cat.to_csv(atk_valid_file+\".cat.bz2\", compression=\"bz2\", index=False)\n",
    "        test_cat.to_csv (atk_test_file+\".cat.bz2\",  compression=\"bz2\", index=False)\n",
    "        \n",
    "    else:\n",
    "        print (\"Loading pre-processed files...\")\n",
    "\n",
    "        train_cat = pd.read_csv(atk_train_file+\".cat.bz2\")\n",
    "        valid_cat = pd.read_csv(atk_valid_file+\".cat.bz2\")\n",
    "        test_cat  = pd.read_csv(atk_test_file+\".cat.bz2\")\n",
    "        \n",
    "        with open(atk_train_file+\".cat.json\", 'r') as fp:\n",
    "            cat_fx = json.load(fp)\n",
    "    \n",
    "    # return data\n",
    "    return train_cat, valid_cat, test_cat, cat_fx"
   ]
  },
  {
   "cell_type": "code",
   "execution_count": 20,
   "metadata": {},
   "outputs": [],
   "source": [
    "def eval_runs(model, model_type, test, eval_trees=10, test_groups=None):\n",
    "    eval_results = []\n",
    "    for t in eval_trees:\n",
    "        eval_results.append(eval_learned_models(model, model_type, t, test, test_groups=test_groups))\n",
    "        \n",
    "    eval_df = pd.concat(eval_results, axis=0)\n",
    "    eval_df.reset_index(inplace=True, drop=True)\n",
    "\n",
    "    return eval_df"
   ]
  },
  {
   "cell_type": "markdown",
   "metadata": {},
   "source": [
    "# Retrieve all model files"
   ]
  },
  {
   "cell_type": "code",
   "execution_count": 21,
   "metadata": {},
   "outputs": [],
   "source": [
    "MODELS_PATH = \"../out/models\""
   ]
  },
  {
   "cell_type": "code",
   "execution_count": 22,
   "metadata": {},
   "outputs": [],
   "source": [
    "def get_best_model(model_name, budget, suffix=\".model\"):\n",
    "    model_files = [f for f in listdir(MODELS_PATH) if f != '.gitignore' and isfile(join(MODELS_PATH, f)) and f.startswith(model_name+\"_B{}_\".format(budget))]\n",
    "    best_model = None\n",
    "    best_loss = np.inf\n",
    "    \n",
    "    return lightgbm.Booster(model_file=join(MODELS_PATH, mf[0]))\n",
    "\n",
    "#     for mf in model_files:\n",
    "#         model = lightgbm.Booster(model_file=join(MODELS_PATH, mf))\n",
    "    "
   ]
  },
  {
   "cell_type": "code",
   "execution_count": 23,
   "metadata": {},
   "outputs": [
    {
     "name": "stdout",
     "output_type": "stream",
     "text": [
      "STD: 234\n",
      "AB : 500\n",
      "NI : 500\n"
     ]
    }
   ],
   "source": [
    "std_gbdt = lightgbm.Booster(model_file=join(MODELS_PATH, \"std_gbdt_census_T500_S0100_L24_R234.model\"))\n",
    "adv_boost = lightgbm.Booster(model_file=join(MODELS_PATH, \"adv_boosting_census_B300_T500_S0100_L24_R498.model\"))\n",
    "non_interf = lightgbm.Booster(model_file=join(MODELS_PATH, \"non_interferent_census_B300_T500_S0100_L24_A050_R134.model\"))\n",
    "\n",
    "# a good one !\n",
    "# adv_boosting_census_B150_claudio_T200_S0100_L16_A025_R199.model\n",
    "\n",
    "std_gbdt.save_model(\"xxxx.model\", num_iteration=234)\n",
    "std_gbdt = lightgbm.Booster(model_file=\"xxxx.model\")\n",
    "\n",
    "# adv_boost.save_model(\"xxxx.model\", num_iteration=150)\n",
    "# adv_boost = lightgbm.Booster(model_file=\"xxxx.model\")\n",
    "\n",
    "# non_interf.save_model(\"xxxx.model\", num_iteration=150)\n",
    "# non_interf = lightgbm.Booster(model_file=\"xxxx.model\")\n",
    "\n",
    "print (\"STD:\", std_gbdt.num_trees() )\n",
    "print (\"AB :\", adv_boost.num_trees() )\n",
    "print (\"NI :\", non_interf.num_trees() )\n",
    "\n"
   ]
  },
  {
   "cell_type": "code",
   "execution_count": 24,
   "metadata": {},
   "outputs": [
    {
     "name": "stdout",
     "output_type": "stream",
     "text": [
      "Loading pre-processed files...\n"
     ]
    }
   ],
   "source": [
    "# load train/valid/test\n",
    "train, valid, test, _ = load_atk_train_valid_test(\"../data/census/train_ori.csv.bz2\", \n",
    "                                                       \"../data/census/valid_ori.csv.bz2\", \n",
    "                                                       \"../data/census/test_ori.csv.bz2\")"
   ]
  },
  {
   "cell_type": "code",
   "execution_count": 25,
   "metadata": {},
   "outputs": [
    {
     "name": "stdout",
     "output_type": "stream",
     "text": [
      "Loading pre-processed files...\n"
     ]
    }
   ],
   "source": [
    "# load train/valid/test\n",
    "train_att, valid_att, test_att, _ = load_atk_train_valid_test(\"../data/census/train_B300.csv.bz2\", \n",
    "                                                       \"../data/census/valid_B300.csv.bz2\", \n",
    "                                                       \"../data/census/test_B300.csv.bz2\")\n",
    "\n",
    "test_groups = test_att['instance_id'].value_counts().sort_index().values\n",
    "test_att = test_att.iloc[:, 1:]\n",
    "\n",
    "valid_groups = valid_att['instance_id'].value_counts().sort_index().values\n",
    "valid_att = valid_att.iloc[:, 1:]\n",
    "\n",
    "train_groups = train_att['instance_id'].value_counts().sort_index().values\n",
    "train_att = train_att.iloc[:, 1:]"
   ]
  },
  {
   "cell_type": "code",
   "execution_count": 26,
   "metadata": {},
   "outputs": [
    {
     "name": "stdout",
     "output_type": "stream",
     "text": [
      "Std GBDT learning - eval_log_loss on D_test = 0.30179\n",
      "Std GBDT learning - eval_binary_err_rate on D_test = 0.13897\n",
      "Std GBDT learning - eval_f1 on D_test = 0.79852\n",
      "Std GBDT learning - eval_roc_auc on D_test = 0.91595\n",
      "******************************************************************************************************\n",
      "Adv. Boosting learning - eval_log_loss on D_test = 0.31838\n",
      "Adv. Boosting learning - eval_binary_err_rate on D_test = 0.14450\n",
      "Adv. Boosting learning - eval_f1 on D_test = 0.77092\n",
      "Adv. Boosting learning - eval_roc_auc on D_test = 0.91369\n",
      "******************************************************************************************************\n",
      "Non-Interferent learning - eval_log_loss on D_test = 0.29236\n",
      "Non-Interferent learning - eval_binary_err_rate on D_test = 0.13411\n",
      "Non-Interferent learning - eval_f1 on D_test = 0.81114\n",
      "Non-Interferent learning - eval_roc_auc on D_test = 0.92178\n",
      "******************************************************************************************************\n"
     ]
    }
   ],
   "source": [
    "std_gbdt_df = eval_learned_models(std_gbdt, \"Std GBDT\", test)\n",
    "adv_boost_df = eval_learned_models(adv_boost, \"Adv. Boosting\", test)\n",
    "non_interf_df = eval_learned_models(non_interf, \"Non-Interferent\", test)"
   ]
  },
  {
   "cell_type": "code",
   "execution_count": 27,
   "metadata": {},
   "outputs": [
    {
     "name": "stdout",
     "output_type": "stream",
     "text": [
      "Std GBDT learning - eval_log_loss_uma on D_test_att = 0.38651\n",
      "Std GBDT learning - eval_binary_err_rate_uma on D_test_att = 0.17557\n",
      "Std GBDT learning - eval_f1_uma on D_test_att = 0.75923\n",
      "Std GBDT learning - eval_roc_auc_uma on D_test_att = 0.87204\n",
      "******************************************************************************************************\n",
      "Adv. Boosting learning - eval_log_loss_uma on D_test_att = 0.32844\n",
      "Adv. Boosting learning - eval_binary_err_rate_uma on D_test_att = 0.14804\n",
      "Adv. Boosting learning - eval_f1_uma on D_test_att = 0.76690\n",
      "Adv. Boosting learning - eval_roc_auc_uma on D_test_att = 0.90642\n",
      "******************************************************************************************************\n",
      "Non-Interferent learning - eval_log_loss_uma on D_test_att = 0.42900\n",
      "Non-Interferent learning - eval_binary_err_rate_uma on D_test_att = 0.17579\n",
      "Non-Interferent learning - eval_f1_uma on D_test_att = 0.76663\n",
      "Non-Interferent learning - eval_roc_auc_uma on D_test_att = 0.87466\n",
      "******************************************************************************************************\n"
     ]
    }
   ],
   "source": [
    "std_gbdt_df_att = eval_learned_models(std_gbdt, \"Std GBDT\", test_att, test_groups)\n",
    "adv_boost_df_att = eval_learned_models(adv_boost, \"Adv. Boosting\", test_att, test_groups)\n",
    "non_interf_df_att = eval_learned_models(non_interf, \"Non-Interferent\", test_att, test_groups)"
   ]
  },
  {
   "cell_type": "markdown",
   "metadata": {},
   "source": [
    "100\n",
    "\n",
    "    Non-Interferent learning - eval_log_loss_uma on D_test_att = 0.35094\n",
    "    Non-Interferent learning - eval_binary_err_rate_uma on D_test_att = 0.15777\n",
    "    Non-Interferent learning - eval_f1_uma on D_test_att = 0.78215\n",
    "    Non-Interferent learning - eval_roc_auc_uma on D_test_att = 0.89090\n"
   ]
  },
  {
   "cell_type": "code",
   "execution_count": null,
   "metadata": {},
   "outputs": [],
   "source": []
  },
  {
   "cell_type": "code",
   "execution_count": 148,
   "metadata": {},
   "outputs": [
    {
     "name": "stdout",
     "output_type": "stream",
     "text": [
      "0.00 : native_country\n",
      "0.00 : race\n",
      "0.00 : workclass\n",
      "0.00 : occupation\n",
      "0.00 : marital_status\n",
      "0.00 : relationship\n",
      "0.11 : fnlwgt\n",
      "0.16 : hours_per_week\n",
      "0.22 : capital_loss\n",
      "0.27 : sex\n",
      "0.47 : education_num\n",
      "0.61 : age\n",
      "0.74 : capital_gain\n"
     ]
    }
   ],
   "source": [
    "for i,name in sorted( zip(std_gbdt.feature_importance(importance_type='gain'),test.columns.values) ):\n",
    "    print (\"{:.2f} : {}\".format(i,name) )"
   ]
  },
  {
   "cell_type": "code",
   "execution_count": 149,
   "metadata": {},
   "outputs": [
    {
     "name": "stdout",
     "output_type": "stream",
     "text": [
      "0.00 : native_country\n",
      "0.00 : race\n",
      "0.00 : workclass\n",
      "0.00 : marital_status\n",
      "0.00 : relationship\n",
      "0.00 : occupation\n",
      "0.12 : fnlwgt\n",
      "0.17 : capital_loss\n",
      "0.18 : hours_per_week\n",
      "0.19 : sex\n",
      "0.33 : education_num\n",
      "0.41 : age\n",
      "0.59 : capital_gain\n"
     ]
    }
   ],
   "source": [
    "for i,name in sorted( zip(adv_boost.feature_importance(importance_type='gain'),test.columns.values) ):\n",
    "    print (\"{:.2f} : {}\".format(i,name) )"
   ]
  },
  {
   "cell_type": "code",
   "execution_count": 150,
   "metadata": {},
   "outputs": [
    {
     "name": "stdout",
     "output_type": "stream",
     "text": [
      "0.00 : native_country\n",
      "0.00 : race\n",
      "0.07 : workclass\n",
      "0.81 : occupation\n",
      "1.09 : marital_status\n",
      "2.05 : relationship\n",
      "3.61 : fnlwgt\n",
      "6.78 : hours_per_week\n",
      "8.87 : sex\n",
      "10.40 : capital_loss\n",
      "21.12 : education_num\n",
      "27.01 : age\n",
      "31.98 : capital_gain\n"
     ]
    }
   ],
   "source": [
    "for i,name in sorted( zip(non_interf.feature_importance(importance_type='gain'),test.columns.values) ):\n",
    "    print (\"{:.2f} : {}\".format(i,name) )"
   ]
  },
  {
   "cell_type": "code",
   "execution_count": 151,
   "metadata": {},
   "outputs": [
    {
     "name": "stdout",
     "output_type": "stream",
     "text": [
      "              precision    recall  f1-score   support\n",
      "\n",
      "          -1       1.00      1.00      1.00    419406\n",
      "           1       0.46      0.51      0.48      2217\n",
      "\n",
      "   micro avg       0.99      0.99      0.99    421623\n",
      "   macro avg       0.73      0.75      0.74    421623\n",
      "weighted avg       0.99      0.99      0.99    421623\n",
      "\n",
      "              precision    recall  f1-score   support\n",
      "\n",
      "          -1       1.00      0.98      0.99    419406\n",
      "           1       0.18      0.65      0.28      2217\n",
      "\n",
      "   micro avg       0.98      0.98      0.98    421623\n",
      "   macro avg       0.59      0.82      0.63    421623\n",
      "weighted avg       0.99      0.98      0.99    421623\n",
      "\n"
     ]
    }
   ],
   "source": [
    "from sklearn.metrics import classification_report, confusion_matrix\n",
    "\n",
    "print (\n",
    "        classification_report(y_pred=np.sign(adv_boost.predict(test_att.iloc[:,:-1])), \n",
    "                      y_true=test_att.iloc[:,-1])\n",
    "        )\n",
    "\n",
    "print (\n",
    "        classification_report(y_pred=np.sign(non_interf.predict(test_att.iloc[:,:-1])), \n",
    "                      y_true=test_att.iloc[:,-1])\n",
    "        )"
   ]
  },
  {
   "cell_type": "code",
   "execution_count": 152,
   "metadata": {},
   "outputs": [
    {
     "name": "stdout",
     "output_type": "stream",
     "text": [
      "[[418085   1321]\n",
      " [  1093   1124]]\n",
      "[[412568   6838]\n",
      " [   765   1452]]\n"
     ]
    }
   ],
   "source": [
    "from sklearn.metrics import classification_report, confusion_matrix\n",
    "\n",
    "print ( confusion_matrix(y_pred=np.sign(adv_boost.predict(test_att.iloc[:,:-1])), \n",
    "                      y_true=test_att.iloc[:,-1]) )\n",
    "print ( confusion_matrix(y_pred=np.sign(non_interf.predict(test_att.iloc[:,:-1])), \n",
    "                      y_true=test_att.iloc[:,-1]) )"
   ]
  },
  {
   "cell_type": "code",
   "execution_count": 153,
   "metadata": {},
   "outputs": [
    {
     "name": "stdout",
     "output_type": "stream",
     "text": [
      "[[6611  217]\n",
      " [1093 1124]]\n",
      "[[6379  449]\n",
      " [ 765 1452]]\n"
     ]
    }
   ],
   "source": [
    "from sklearn.metrics import classification_report, confusion_matrix\n",
    "\n",
    "print ( confusion_matrix(y_pred=np.sign(adv_boost.predict(test.iloc[:,:-1])), \n",
    "                      y_true=test.iloc[:,-1]) )\n",
    "print ( confusion_matrix(y_pred=np.sign(non_interf.predict(test.iloc[:,:-1])), \n",
    "                      y_true=test.iloc[:,-1]) )"
   ]
  },
  {
   "cell_type": "code",
   "execution_count": 154,
   "metadata": {},
   "outputs": [
    {
     "name": "stdout",
     "output_type": "stream",
     "text": [
      "              precision    recall  f1-score   support\n",
      "\n",
      "          -1       0.86      0.97      0.91      6828\n",
      "           1       0.84      0.51      0.63      2217\n",
      "\n",
      "   micro avg       0.86      0.86      0.86      9045\n",
      "   macro avg       0.85      0.74      0.77      9045\n",
      "weighted avg       0.85      0.86      0.84      9045\n",
      "\n",
      "              precision    recall  f1-score   support\n",
      "\n",
      "          -1       0.89      0.93      0.91      6828\n",
      "           1       0.76      0.65      0.71      2217\n",
      "\n",
      "   micro avg       0.87      0.87      0.87      9045\n",
      "   macro avg       0.83      0.79      0.81      9045\n",
      "weighted avg       0.86      0.87      0.86      9045\n",
      "\n"
     ]
    }
   ],
   "source": [
    "from sklearn.metrics import classification_report, confusion_matrix\n",
    "\n",
    "print (\n",
    "        classification_report(y_pred=np.sign(adv_boost.predict(test.iloc[:,:-1])), \n",
    "                      y_true=test.iloc[:,-1])\n",
    "        )\n",
    "\n",
    "print (\n",
    "        classification_report(y_pred=np.sign(non_interf.predict(test.iloc[:,:-1])), \n",
    "                      y_true=test.iloc[:,-1])\n",
    "        )"
   ]
  },
  {
   "cell_type": "code",
   "execution_count": null,
   "metadata": {},
   "outputs": [],
   "source": []
  },
  {
   "cell_type": "code",
   "execution_count": null,
   "metadata": {},
   "outputs": [],
   "source": []
  },
  {
   "cell_type": "code",
   "execution_count": null,
   "metadata": {},
   "outputs": [],
   "source": []
  },
  {
   "cell_type": "code",
   "execution_count": 30,
   "metadata": {},
   "outputs": [
    {
     "name": "stdout",
     "output_type": "stream",
     "text": [
      "-------- cut at 50\n",
      "Non-Interferent learning - eval_log_loss_uma on D_test_att = 0.37532\n",
      "Non-Interferent learning - eval_binary_err_rate_uma on D_test_att = 0.16197\n",
      "Non-Interferent learning - eval_f1_uma on D_test_att = 0.77483\n",
      "Non-Interferent learning - eval_roc_auc_uma on D_test_att = 0.88273\n",
      "******************************************************************************************************\n",
      "-------- cut at 70\n",
      "Non-Interferent learning - eval_log_loss_uma on D_test_att = 0.37581\n",
      "Non-Interferent learning - eval_binary_err_rate_uma on D_test_att = 0.16329\n",
      "Non-Interferent learning - eval_f1_uma on D_test_att = 0.77488\n",
      "Non-Interferent learning - eval_roc_auc_uma on D_test_att = 0.88423\n",
      "******************************************************************************************************\n",
      "-------- cut at 90\n",
      "Non-Interferent learning - eval_log_loss_uma on D_test_att = 0.37963\n",
      "Non-Interferent learning - eval_binary_err_rate_uma on D_test_att = 0.16341\n",
      "Non-Interferent learning - eval_f1_uma on D_test_att = 0.77619\n",
      "Non-Interferent learning - eval_roc_auc_uma on D_test_att = 0.88381\n",
      "******************************************************************************************************\n",
      "-------- cut at 110\n",
      "Non-Interferent learning - eval_log_loss_uma on D_test_att = 0.38149\n",
      "Non-Interferent learning - eval_binary_err_rate_uma on D_test_att = 0.16506\n",
      "Non-Interferent learning - eval_f1_uma on D_test_att = 0.77501\n",
      "Non-Interferent learning - eval_roc_auc_uma on D_test_att = 0.88390\n",
      "******************************************************************************************************\n",
      "-------- cut at 130\n",
      "Non-Interferent learning - eval_log_loss_uma on D_test_att = 0.38309\n",
      "Non-Interferent learning - eval_binary_err_rate_uma on D_test_att = 0.16551\n",
      "Non-Interferent learning - eval_f1_uma on D_test_att = 0.77469\n",
      "Non-Interferent learning - eval_roc_auc_uma on D_test_att = 0.88423\n",
      "******************************************************************************************************\n",
      "-------- cut at 150\n",
      "Non-Interferent learning - eval_log_loss_uma on D_test_att = 0.38572\n",
      "Non-Interferent learning - eval_binary_err_rate_uma on D_test_att = 0.16506\n",
      "Non-Interferent learning - eval_f1_uma on D_test_att = 0.77578\n",
      "Non-Interferent learning - eval_roc_auc_uma on D_test_att = 0.88356\n",
      "******************************************************************************************************\n",
      "-------- cut at 170\n",
      "Non-Interferent learning - eval_log_loss_uma on D_test_att = 0.38903\n",
      "Non-Interferent learning - eval_binary_err_rate_uma on D_test_att = 0.16694\n",
      "Non-Interferent learning - eval_f1_uma on D_test_att = 0.77416\n",
      "Non-Interferent learning - eval_roc_auc_uma on D_test_att = 0.88271\n",
      "******************************************************************************************************\n",
      "-------- cut at 190\n",
      "Non-Interferent learning - eval_log_loss_uma on D_test_att = 0.39276\n",
      "Non-Interferent learning - eval_binary_err_rate_uma on D_test_att = 0.16772\n",
      "Non-Interferent learning - eval_f1_uma on D_test_att = 0.77356\n",
      "Non-Interferent learning - eval_roc_auc_uma on D_test_att = 0.88161\n",
      "******************************************************************************************************\n"
     ]
    }
   ],
   "source": [
    "for cut in range(50, 200, 20):\n",
    "    print (\"-------- cut at\", cut)\n",
    "    non_interf.save_model(\"xxxx.model\", num_iteration=cut)\n",
    "    non_interf_cut = lightgbm.Booster(model_file=\"xxxx.model\")\n",
    "    eval_learned_models(non_interf_cut, \"Non-Interferent\", test_att, test_groups)"
   ]
  },
  {
   "cell_type": "markdown",
   "metadata": {},
   "source": [
    "# Save the DataFrame containing results"
   ]
  },
  {
   "cell_type": "code",
   "execution_count": null,
   "metadata": {},
   "outputs": [],
   "source": [
    "overall_df.to_csv(\"../plots/\"+ATTACKER+\".csv\", sep=\",\", index=False)"
   ]
  }
 ],
 "metadata": {
  "kernelspec": {
   "display_name": "Python 3",
   "language": "python",
   "name": "python3"
  }
 },
 "nbformat": 4,
 "nbformat_minor": 2
}
