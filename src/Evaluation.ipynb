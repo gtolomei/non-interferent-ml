{
 "cells": [
  {
   "cell_type": "markdown",
   "metadata": {},
   "source": [
    "# Evaluating Models\n",
    "\n",
    "This notebook contains the code used for evaluating the following learning models:\n",
    "\n",
    "-  **Standard GBDT** (_baseline 1_)\n",
    "-  **Adversarial Boosting** (_baseline 2_)\n",
    "-  **Non-Interferent GBDT** (our proposal)"
   ]
  },
  {
   "cell_type": "code",
   "execution_count": 1,
   "metadata": {},
   "outputs": [],
   "source": [
    "%load_ext autoreload\n",
    "%autoreload 2"
   ]
  },
  {
   "cell_type": "code",
   "execution_count": 2,
   "metadata": {},
   "outputs": [
    {
     "name": "stderr",
     "output_type": "stream",
     "text": [
      "2019-06-04 21:24:17,168 *** INFO [robust_forest.py:1151 - __init__()] *** ***** Robust Decision Tree successfully created *****\n",
      "2019-06-04 21:24:17,169 *** INFO [robust_forest.py:1152 - __init__()] *** *\tTree ID: 0\n",
      "2019-06-04 21:24:17,169 *** INFO [robust_forest.py:1153 - __init__()] *** *\tAttacker: <robust_forest.Attacker object at 0x7f162928b6a0>\n",
      "2019-06-04 21:24:17,170 *** INFO [robust_forest.py:1155 - __init__()] *** *\tSplitting criterion: SSE\n",
      "2019-06-04 21:24:17,170 *** INFO [robust_forest.py:1156 - __init__()] *** *\tMax depth: 8\n",
      "2019-06-04 21:24:17,171 *** INFO [robust_forest.py:1158 - __init__()] *** *\tMin instances per tree node: 20\n",
      "2019-06-04 21:24:17,171 *** INFO [robust_forest.py:1160 - __init__()] *** *\tMax samples: 100.0%\n",
      "2019-06-04 21:24:17,172 *** INFO [robust_forest.py:1162 - __init__()] *** *\tMax features: 100.0%\n",
      "2019-06-04 21:24:17,172 *** INFO [robust_forest.py:1164 - __init__()] *** *\tFeature blacklist: set()\n",
      "2019-06-04 21:24:17,173 *** INFO [robust_forest.py:1165 - __init__()] *** *\tAffinity: False\n",
      "2019-06-04 21:24:17,173 *** INFO [robust_forest.py:1167 - __init__()] *** *****************************************************\n"
     ]
    }
   ],
   "source": [
    "import os\n",
    "import json\n",
    "import glob\n",
    "import pickle\n",
    "import dill\n",
    "import numpy as np\n",
    "import pandas as pd\n",
    "import matplotlib.pyplot as plt\n",
    "import seaborn as sns\n",
    "import lightgbm\n",
    "import functools\n",
    "from os import listdir\n",
    "from os.path import isfile, join\n",
    "from sklearn.svm import SVC\n",
    "from sklearn.model_selection import GridSearchCV\n",
    "from sklearn.metrics import roc_auc_score, f1_score, confusion_matrix, precision_score, recall_score\n",
    "from nilib import *\n",
    "from robust_forest import *\n",
    "from sklearn.ensemble import BaggingClassifier"
   ]
  },
  {
   "cell_type": "markdown",
   "metadata": {},
   "source": [
    "# Standard evaluation metric\n",
    "\n",
    "The following function is the one used for evaluating the quality of the learned model (either _standard_, _adversarial-boosting_, or _non-interferent_). This is the standard <code>avg_log_loss</code>."
   ]
  },
  {
   "cell_type": "code",
   "execution_count": 3,
   "metadata": {},
   "outputs": [],
   "source": [
    "def logistic(x):\n",
    "    return 1.0/(1.0 + np.exp(-x))"
   ]
  },
  {
   "cell_type": "code",
   "execution_count": 4,
   "metadata": {},
   "outputs": [],
   "source": [
    "def logit(p):\n",
    "    return np.log(p/(1-p))"
   ]
  },
  {
   "cell_type": "code",
   "execution_count": 5,
   "metadata": {},
   "outputs": [],
   "source": [
    "def binarize(preds):\n",
    "    if np.min(preds)<-0.001:\n",
    "        return np.where(preds>=0,  1.0, -1.0)\n",
    "    else:\n",
    "        return np.where(preds>=.5, 1.0, -1.0)"
   ]
  },
  {
   "cell_type": "markdown",
   "metadata": {},
   "source": [
    "# <code>avg_log_loss</code>"
   ]
  },
  {
   "cell_type": "code",
   "execution_count": 6,
   "metadata": {},
   "outputs": [],
   "source": [
    "# self-defined eval metric\n",
    "# f(preds: array, train_data: Dataset) -> name: string, value: array, is_higher_better: bool\n",
    "def avg_log_loss(preds, train_data):\n",
    "    \n",
    "    labels = train_data.get_label()\n",
    "    losses = np.log(1.0 + np.exp(-preds*labels))\n",
    "    avg_loss = np.mean(losses)\n",
    "    \n",
    "    return 'avg_binary_log_loss', avg_loss, False"
   ]
  },
  {
   "cell_type": "code",
   "execution_count": 7,
   "metadata": {},
   "outputs": [],
   "source": [
    "def eval_log_loss(y_true, y_pred):\n",
    "    losses = np.log(1.0 + np.exp(-y_pred*y_true))\n",
    "    avg_loss = np.mean(losses)\n",
    "    return avg_loss"
   ]
  },
  {
   "cell_type": "markdown",
   "metadata": {},
   "source": [
    "# Custom evaluation metric\n",
    "\n",
    "Similarly to what we have done for <code>fobj</code>, <code>feval</code> can be computed from a weighted combination of two evaluation metrics:\n",
    "\n",
    "-  <code>avg_log_loss</code> (standard, defined above);\n",
    "-  <code>avg_log_loss_uma</code> (custom, defined below)."
   ]
  },
  {
   "cell_type": "markdown",
   "metadata": {},
   "source": [
    "# <code>avg_log_loss_uma</code>\n",
    "\n",
    "This is the binary log loss yet modified to operate on groups of perturbed instances."
   ]
  },
  {
   "cell_type": "code",
   "execution_count": 8,
   "metadata": {},
   "outputs": [],
   "source": [
    "# Our custom metric\n",
    "\n",
    "def binary_log_loss(pred, true_label):\n",
    "\n",
    "    return np.log(1.0 + np.exp(-pred * true_label))\n",
    "\n",
    "# self-defined eval metric\n",
    "# f(preds: array, train_data: Dataset) -> name: string, value: array, is_higher_better: bool\n",
    "def avg_log_loss_uma(preds, train_data):\n",
    "    labels = train_data.get_label()\n",
    "    attack_lens = train_data.get_group()\n",
    "    \n",
    "    offset = 0\n",
    "    max_logloss = []\n",
    "    avg_max_logloss = 0.0\n",
    "    \n",
    "    if attack_lens is not None:\n",
    "    \n",
    "        for atk in attack_lens:\n",
    "            losses = [binary_log_loss(h,t) for h,t in zip(preds[offset:offset+atk], labels[offset:offset+atk])]\n",
    "            max_logloss.append(max(losses))\n",
    "            \n",
    "            offset += atk\n",
    "        \n",
    "        avg_max_logloss = np.mean(max_logloss)  \n",
    "        \n",
    "    return 'avg_binary_log_loss_under_max_attack', avg_max_logloss, False"
   ]
  },
  {
   "cell_type": "code",
   "execution_count": 9,
   "metadata": {},
   "outputs": [],
   "source": [
    "def eval_log_loss_uma(preds, test, test_groups=None, svm=False):\n",
    "    \n",
    "    lgbm_test = lightgbm.Dataset(data=test.iloc[:,:-1].values, \n",
    "                                 label=test.iloc[:,-1].values,\n",
    "                                 group=test_groups,\n",
    "                                 free_raw_data=False)\n",
    "    \n",
    "    return avg_log_loss_uma(preds,lgbm_test)[1]\n"
   ]
  },
  {
   "cell_type": "markdown",
   "metadata": {},
   "source": [
    "# <code>eval_binary_err_rate</code>"
   ]
  },
  {
   "cell_type": "code",
   "execution_count": 10,
   "metadata": {
    "scrolled": true
   },
   "outputs": [],
   "source": [
    "def eval_binary_err_rate(y_true, y_pred):\n",
    "    errs = np.sum(binarize(y_pred) != y_true)\n",
    "    return errs/len(y_true)\n"
   ]
  },
  {
   "cell_type": "markdown",
   "metadata": {},
   "source": [
    "# <code>eval_roc_auc</code>"
   ]
  },
  {
   "cell_type": "code",
   "execution_count": 11,
   "metadata": {
    "scrolled": true
   },
   "outputs": [],
   "source": [
    "def eval_roc_auc(y_true, y_pred):\n",
    "    return roc_auc_score(y_true=y_true, y_score=y_pred)\n"
   ]
  },
  {
   "cell_type": "markdown",
   "metadata": {},
   "source": [
    "# <code>eval_specificity</code>"
   ]
  },
  {
   "cell_type": "code",
   "execution_count": 12,
   "metadata": {},
   "outputs": [],
   "source": [
    "def eval_specificity(y_true, y_pred):\n",
    "    y_pred = binarize(y_pred)\n",
    "    tn, fp, fn, tp = confusion_matrix(y_true=y_true, y_pred=y_pred).ravel()\n",
    "\n",
    "    return tn/(tn + fp)"
   ]
  },
  {
   "cell_type": "markdown",
   "metadata": {},
   "source": [
    "# <code>eval_precision</code>"
   ]
  },
  {
   "cell_type": "code",
   "execution_count": 13,
   "metadata": {},
   "outputs": [],
   "source": [
    "def eval_precision(y_true, y_pred):\n",
    "    y_pred = binarize(y_pred)\n",
    "    return precision_score(y_true=y_true, y_pred=y_pred, average='weighted')\n"
   ]
  },
  {
   "cell_type": "markdown",
   "metadata": {},
   "source": [
    "# <code>eval_recall</code>"
   ]
  },
  {
   "cell_type": "code",
   "execution_count": 14,
   "metadata": {},
   "outputs": [],
   "source": [
    "def eval_recall(y_true, y_pred):\n",
    "    y_pred = binarize(y_pred)\n",
    "    return recall_score(y_true=y_true, y_pred=y_pred, average='weighted')\n"
   ]
  },
  {
   "cell_type": "markdown",
   "metadata": {},
   "source": [
    "# <code>eval_f1</code>"
   ]
  },
  {
   "cell_type": "code",
   "execution_count": 15,
   "metadata": {
    "scrolled": true
   },
   "outputs": [],
   "source": [
    "def eval_f1(y_true, y_pred):\n",
    "    y_pred = binarize(y_pred)\n",
    "    return f1_score(y_true=y_true, y_pred=y_pred, average='weighted')"
   ]
  },
  {
   "cell_type": "markdown",
   "metadata": {},
   "source": [
    "# Evaluate each model w.r.t. _all_ evaluation metrics"
   ]
  },
  {
   "cell_type": "code",
   "execution_count": 16,
   "metadata": {},
   "outputs": [],
   "source": [
    "import sklearn\n",
    "\n",
    "def model_predict(model,test_set):\n",
    "    X = test_set.iloc[:,:-1].values\n",
    "\n",
    "    if isinstance(model, sklearn.ensemble.BaggingClassifier):\n",
    "        print (\"BAGGING\")\n",
    "#         print ( np.min( model.predict_proba(X)[:,0] ), np.max( model.predict_proba(X)[:,0] ) )\n",
    "#         print ( np.min( model.predict_proba(X)[:,1] ), np.max( model.predict_proba(X)[:,1] ) )\n",
    "        return model.predict_proba(X)[:,1]\n",
    "        # return model.predict(X)\n",
    "    else:\n",
    "        print (\"LightGBM\")\n",
    "#        print (np.unique( model.predict(X) ) )\n",
    "#         lgbm_X = lightgbm.Dataset(data=test_set.iloc[:,:-1], \n",
    "#                                   label=test_set.iloc[:,-1])\n",
    "\n",
    "        return model.predict(test_set.iloc[:,:-1])\n",
    "\n",
    "def model_worst_predict(model, test_set, test_groups):\n",
    "    labels = test_set.iloc[:,-1].values\n",
    "    preds  = model_predict(model, test_set)\n",
    "    \n",
    "    offset = 0\n",
    "    true_labels = []\n",
    "    worst_predictions = []\n",
    "    \n",
    "    for g in test_groups:\n",
    "        true_label = labels[offset]\n",
    "        true_labels.append(true_label)\n",
    "        predictions_att = preds[offset:offset+g]\n",
    "        if true_label == 1:\n",
    "            worst_predictions.append(np.min(predictions_att))\n",
    "        else:\n",
    "            worst_predictions.append(np.max(predictions_att))\n",
    "    \n",
    "        offset += g\n",
    "\n",
    "    return np.array(true_labels), np.array(worst_predictions)"
   ]
  },
  {
   "cell_type": "code",
   "execution_count": 17,
   "metadata": {},
   "outputs": [],
   "source": [
    "def eval_learned_models(eval_metrics, model, model_type, test, test_groups=None, budget=0):\n",
    "    # output dataframe\n",
    "    header = ['Model'] + ['Budget'] + [m.__name__.replace('eval_','').replace('_',' ').strip().title() \n",
    "                                       for m in eval_metrics]\n",
    "    df = pd.DataFrame(columns=header)\n",
    "    first_row = [model_type] + [budget] + [None for m in eval_metrics]\n",
    "    df.loc[0] = first_row\n",
    "    \n",
    "    # predictions for plan and atk datasets\n",
    "    if test_groups is None: # NOT ATKed\n",
    "        y_true = test.iloc[:,-1].values\n",
    "        y_pred = model_predict(model, test)\n",
    "    else:\n",
    "        y_true, y_pred = model_worst_predict(model, test, test_groups)\n",
    "        \n",
    "    for eval_metric in eval_metrics:\n",
    "        res = eval_metric(y_true=y_true, y_pred=y_pred)\n",
    "        print(\"{} learning - {} = {:.5f}\"\n",
    "                  .format(model_type, eval_metric.__name__, res))\n",
    "        column_metric = eval_metric.__name__\n",
    "        df[column_metric.replace('eval_','').replace('_',' ').strip().title()] = res\n",
    "\n",
    "    print(\"******************************************************************************************************\")\n",
    "    \n",
    "    return df"
   ]
  },
  {
   "cell_type": "markdown",
   "metadata": {},
   "source": [
    "# Load attacked datasets"
   ]
  },
  {
   "cell_type": "markdown",
   "metadata": {},
   "source": [
    "## Load an attacked dataset with a specific budget"
   ]
  },
  {
   "cell_type": "code",
   "execution_count": 18,
   "metadata": {},
   "outputs": [],
   "source": [
    "def load_attacked_dataset(budget):\n",
    "    # load train/valid/test (attacked)\n",
    "    train_att, valid_att, test_att = load_atk_train_valid_test(TRAINING_FILENAME_ATT.format(budget), \n",
    "                                                                  VALIDATION_FILENAME_ATT.format(budget), \n",
    "                                                                  TEST_FILENAME_ATT.format(budget))\n",
    "\n",
    "    test_groups = test_att['instance_id'].value_counts().sort_index().values\n",
    "    test_att = test_att.iloc[:, 1:]\n",
    "\n",
    "    valid_groups = valid_att['instance_id'].value_counts().sort_index().values\n",
    "    valid_att = valid_att.iloc[:, 1:]\n",
    "\n",
    "    train_groups = train_att['instance_id'].value_counts().sort_index().values\n",
    "    train_att = train_att.iloc[:, 1:]\n",
    "    \n",
    "    return train_att, train_groups, valid_att, valid_groups, test_att, test_groups"
   ]
  },
  {
   "cell_type": "markdown",
   "metadata": {},
   "source": [
    "## Load _all_ the attacked datasets given a list of budgets"
   ]
  },
  {
   "cell_type": "code",
   "execution_count": 19,
   "metadata": {},
   "outputs": [],
   "source": [
    "def load_attacked_datasets(budgets):\n",
    "    att_datasets = {}\n",
    "    for b in budgets:\n",
    "        att_datasets[b] = load_attacked_dataset(b)\n",
    "    \n",
    "    return att_datasets"
   ]
  },
  {
   "cell_type": "markdown",
   "metadata": {},
   "source": [
    "# Evaluate all models w.r.t. standard metrics (i.e., attack-free)"
   ]
  },
  {
   "cell_type": "code",
   "execution_count": 20,
   "metadata": {},
   "outputs": [],
   "source": [
    "def extract_model_name(model_filename):\n",
    "    model_fileroot = model_filename.split('/')[-1].split('.')[0]\n",
    "    model_name = model_fileroot.split('_')[0].title()\n",
    "    training_budget = ''\n",
    "    budget = model_fileroot.split('_B')[-1].split('_')[0]\n",
    "    try: \n",
    "        int(budget)\n",
    "        training_budget = ' [train budget={}]'.format(budget)\n",
    "    except:\n",
    "        pass\n",
    "    \n",
    "    return model_name + training_budget"
   ]
  },
  {
   "cell_type": "code",
   "execution_count": 22,
   "metadata": {},
   "outputs": [],
   "source": [
    "def load_model(model_file):\n",
    "    model = None\n",
    "    try:\n",
    "        model = lightgbm.Booster(model_file=model_file)\n",
    "    except:\n",
    "        print(\"LightGBM loading exception\")\n",
    "        try:\n",
    "            with open(model_file, 'rb') as mf:\n",
    "                model = dill.load(mf)\n",
    "                print(model)\n",
    "                model.n_jobs = 8\n",
    "        except Exception as e:\n",
    "            print(e)\n",
    "            print(\"Dill loading exception\")\n",
    "            pass\n",
    "    \n",
    "    return model"
   ]
  },
  {
   "cell_type": "code",
   "execution_count": 23,
   "metadata": {},
   "outputs": [],
   "source": [
    "def eval_all_models(eval_metrics, models_dir, test, model_filenames=None):\n",
    "    \n",
    "    if model_filenames is None:\n",
    "        model_csv = sorted(glob.glob(models_dir + \"/*.csv\"))\n",
    "        model_filenames = []\n",
    "\n",
    "        for m in model_csv:\n",
    "            model_df = pd.read_csv(m)\n",
    "            # print(model_df)\n",
    "            model_filenames.append(model_df.sort_values(by='metric')['filename'].iloc[0])\n",
    "    \n",
    "    print (\"### Evaluating Models:\", model_filenames)\n",
    "    \n",
    "    df = pd.concat([eval_learned_models(eval_metrics, \n",
    "                                        load_model(mf), \n",
    "                                        extract_model_name(mf), \n",
    "                                        test) for mf in model_filenames],\n",
    "                   axis=0,\n",
    "                   sort=False\n",
    "                  )\n",
    "    \n",
    "    df.reset_index(inplace=True, drop=True)\n",
    "    \n",
    "    return df"
   ]
  },
  {
   "cell_type": "code",
   "execution_count": 24,
   "metadata": {},
   "outputs": [],
   "source": [
    "def eval_all_models_under_attack_budget(eval_metrics, models_dir, test, test_groups, budget, model_filenames=None):\n",
    "    \n",
    "    #model_filenames = sorted(glob.glob(models_dir + \"/*.model\"))\n",
    "    if model_filenames is None:\n",
    "        model_csv = sorted(glob.glob(models_dir + \"/*.csv\"))\n",
    "        model_filenames = []\n",
    "\n",
    "        for m in model_csv:\n",
    "            model_df = pd.read_csv(m)\n",
    "            model_filenames.append(model_df.sort_values(by='metric')['filename'].iloc[0])\n",
    "    \n",
    "    print (\"### Evaluating Models:\", model_filenames)\n",
    "\n",
    "    df = pd.concat([eval_learned_models(eval_metrics, \n",
    "                                        load_model(mf), \n",
    "                                        extract_model_name(mf), \n",
    "                                        test,\n",
    "                                        test_groups, \n",
    "                                        budget=budget\n",
    "                                       ) for mf in model_filenames],\n",
    "                   axis=0,\n",
    "                   sort=False\n",
    "                  )\n",
    "    \n",
    "    df.reset_index(inplace=True, drop=True)\n",
    "    \n",
    "    return df"
   ]
  },
  {
   "cell_type": "code",
   "execution_count": 25,
   "metadata": {},
   "outputs": [],
   "source": [
    "def eval_all_models_under_attack(eval_metrics, models_dir, att_tests, budgets, model_filenames=None):\n",
    "    \n",
    "    eval_att_dfs = []\n",
    "\n",
    "    for b in budgets:\n",
    "        eval_att_dfs.append(\n",
    "            eval_all_models_under_attack_budget(eval_metrics, models_dir, att_tests[b][4], att_tests[b][5], \n",
    "                                                b, model_filenames))\n",
    "        \n",
    "        \n",
    "    eval_att_df = functools.reduce(lambda left,right: pd.merge(left,right,on=['Model', 'Budget']), eval_att_dfs)\n",
    "    eval_att_df = pd.concat(eval_att_dfs, axis=0, sort=False)\n",
    "    eval_att_df.reset_index(inplace=True, drop=True)\n",
    "    \n",
    "    return eval_att_df"
   ]
  },
  {
   "cell_type": "markdown",
   "metadata": {},
   "source": [
    "# Evaluation metrics"
   ]
  },
  {
   "cell_type": "code",
   "execution_count": 26,
   "metadata": {},
   "outputs": [],
   "source": [
    "EVAL_METRICS = [eval_log_loss, \n",
    "                eval_binary_err_rate,\n",
    "                eval_specificity,\n",
    "                eval_precision,\n",
    "                eval_recall,\n",
    "                eval_f1,\n",
    "                eval_roc_auc\n",
    "               ]\n"
   ]
  },
  {
   "cell_type": "markdown",
   "metadata": {},
   "source": [
    "# Census"
   ]
  },
  {
   "cell_type": "code",
   "execution_count": null,
   "metadata": {},
   "outputs": [],
   "source": [
    "DATASET_NAME=\"census\"\n",
    "TRAINING_BUDGETS= [30, 60]\n",
    "\n",
    "DATASET_DIR=\"../data/{}\".format(DATASET_NAME)\n",
    "ATK_DIR=DATASET_DIR + \"/attacks\"\n",
    "MODELS_DIR=\"../out/models/{}\".format(DATASET_NAME)\n",
    "OUTPUT_FILENAME=\"../out/results/{}\".format(DATASET_NAME)\n",
    "\n",
    "TRAINING_FILENAME=DATASET_DIR + \"/\" + \"train.csv.bz2\"\n",
    "TRAINING_FILENAME_ATT=ATK_DIR + \"/\" + \"train_B{}.atks.bz2\"\n",
    "\n",
    "VALIDATION_FILENAME=DATASET_DIR + \"/\" + \"valid.csv.bz2\"\n",
    "VALIDATION_FILENAME_ATT=ATK_DIR + \"/\" + \"valid_B{}.atks.bz2\"\n",
    "\n",
    "TEST_FILENAME=DATASET_DIR + \"/\" + \"test.csv.bz2\"\n",
    "TEST_FILENAME_ATT=ATK_DIR + \"/\" + \"test_B{}.atks.bz2\""
   ]
  },
  {
   "cell_type": "code",
   "execution_count": null,
   "metadata": {},
   "outputs": [],
   "source": [
    "# Final Models\n",
    "adv_models = [\"../out/models/census/adv-boosting_census_B30_T100_S0050_L24_R99.model\",\n",
    "              \"../out/models/census/adv-boosting_census_B30_T100_S0050_L256_R100.model\",\n",
    "              \"../out/models/census/adv-boosting_census_B60_T100_S0050_L24_R96.model\",\n",
    "              \"../out/models/census/adv-boosting_census_B60_T100_S0050_L256_R96.model\"\n",
    "             ]\n",
    "\n",
    "gdbt_models = [\"../out/models/census/std-gbdt_census_T100_S0050_L24_R100.model\",\n",
    "               \"../out/models/census/std-gbdt_census_T100_S0050_L256_R100.model\"]\n",
    "\n",
    "red_models = [\"../out/models/census/red-gbdt_census_T100_S0050_L24_R95.model\",\n",
    "             \"../out/models/census/red-gbdt_census_T100_S0050_L256_R93.model\"]\n",
    "\n",
    "rf_models = [\"../out/models/census/rf-gbdt_census_T100_S0050_L24_R100.model\",\n",
    "             \"../out/models/census/rf-gbdt_census_T100_S0050_L256_R92.model\"]\n",
    "\n",
    "\n",
    "\n",
    "robust_models = [\"../out/models/census/par-robust_census_B0_T100_D8_I20.model\"]\n",
    "\n",
    "test_models =  adv_models + gdbt_models + rf_models + robust_models\n",
    "\n",
    "# REDUCED are not working any more??!?\n",
    "#test_models = red_models"
   ]
  },
  {
   "cell_type": "code",
   "execution_count": null,
   "metadata": {
    "scrolled": false
   },
   "outputs": [],
   "source": [
    "# Without attacks\n",
    "TRAIN, VALID, TEST = load_atk_train_valid_test(TRAINING_FILENAME, VALIDATION_FILENAME, TEST_FILENAME)\n",
    "\n",
    "eval_std_df = eval_all_models(EVAL_METRICS, MODELS_DIR, TEST, test_models)\n",
    "eval_std_df"
   ]
  },
  {
   "cell_type": "code",
   "execution_count": null,
   "metadata": {
    "scrolled": false
   },
   "outputs": [],
   "source": [
    "# %%capture tests\n",
    "\n",
    "# With attacks\n",
    "att_datasets = load_attacked_datasets(TRAINING_BUDGETS)\n",
    "\n",
    "eval_att_df = eval_all_models_under_attack(EVAL_METRICS, MODELS_DIR, att_datasets, TRAINING_BUDGETS,\n",
    "                                           test_models)\n",
    "\n",
    "overall_df = pd.concat([eval_std_df, eval_att_df], \n",
    "                       axis=0, \n",
    "                       sort=False)\n",
    "overall_df.reset_index(inplace=True, drop=True)\n",
    "overall_df.to_csv(OUTPUT_FILENAME + \".csv\", sep=\",\", index=False)\n",
    "\n",
    "overall_df"
   ]
  },
  {
   "cell_type": "code",
   "execution_count": null,
   "metadata": {
    "scrolled": false
   },
   "outputs": [],
   "source": [
    "overall_df"
   ]
  },
  {
   "cell_type": "markdown",
   "metadata": {},
   "source": [
    "# Wine"
   ]
  },
  {
   "cell_type": "code",
   "execution_count": 27,
   "metadata": {},
   "outputs": [],
   "source": [
    "DATASET_NAME=\"wine\"\n",
    "TRAINING_BUDGETS= [30, 60] \n",
    "\n",
    "DATASET_DIR=\"../data/{}\".format(DATASET_NAME)\n",
    "ATK_DIR=DATASET_DIR + \"/attacks\"\n",
    "MODELS_DIR=\"../out/models/{}\".format(DATASET_NAME)\n",
    "OUTPUT_FILENAME=\"../out/results/{}\".format(DATASET_NAME)\n",
    "\n",
    "TRAINING_FILENAME=DATASET_DIR + \"/\" + \"train.csv.bz2\"\n",
    "TRAINING_FILENAME_ATT=ATK_DIR + \"/\" + \"train_B{}.atks.bz2\"\n",
    "\n",
    "VALIDATION_FILENAME=DATASET_DIR + \"/\" + \"valid.csv.bz2\"\n",
    "VALIDATION_FILENAME_ATT=ATK_DIR + \"/\" + \"valid_B{}.atks.bz2\"\n",
    "\n",
    "TEST_FILENAME=DATASET_DIR + \"/\" + \"test.csv.bz2\"\n",
    "TEST_FILENAME_ATT=ATK_DIR + \"/\" + \"test_B{}.atks.bz2\""
   ]
  },
  {
   "cell_type": "code",
   "execution_count": 28,
   "metadata": {},
   "outputs": [],
   "source": [
    "# Final Models\n",
    "adv_models = [\"../out/models/wine/adv-boosting_wine_B30_T100_S0050_L24_R100.model\",\n",
    "              \"../out/models/wine/adv-boosting_wine_B30_T100_S0050_L256_R100.model\",\n",
    "              \"../out/models/wine/adv-boosting_wine_B60_T100_S0050_L24_R82.model\",\n",
    "              \"../out/models/wine/adv-boosting_wine_B60_T100_S0050_L256_R85.model\"\n",
    "             ]\n",
    "\n",
    "gdbt_models = [\"../out/models/wine/std-gbdt_wine_T100_S0050_L24_R100.model\",\n",
    "               \"../out/models/wine/std-gbdt_wine_T100_S0050_L256_R97.model\"]\n",
    "\n",
    "red_models = [\"../out/models/wine/red-gbdt_wine_T100_S0050_L24_R99.model\",\n",
    "             \"../out/models/wine/red-gbdt_wine_T100_S0050_L256_R100.model\"]\n",
    "\n",
    "rf_models = [\"../out/models/wine/rf-gbdt_wine_T100_S0050_L24_R100.model\",\n",
    "             \"../out/models/wine/rf-gbdt_wine_T100_S0050_L256_R100.model\"]\n",
    "\n",
    "robust_models = [\"../out/models/wine/par-robust_wine_B0_T100_D8_I20.model\",\n",
    "                \"../out/models/wine/par-robust_wine_B60_T100_D8_I20.model\",\n",
    "                \"../out/models/wine/par-robust_wine_B30_T100_D8_I20.model\"]\n",
    "\n",
    "test_models = adv_models + gdbt_models + red_models + rf_models\n",
    "test_models = robust_models\n"
   ]
  },
  {
   "cell_type": "code",
   "execution_count": 29,
   "metadata": {
    "scrolled": false
   },
   "outputs": [
    {
     "name": "stderr",
     "output_type": "stream",
     "text": [
      "2019-06-04 21:24:56,382 *** INFO [parallel_robust_forest.py:1214 - __init__()] *** ***** Robust Decision Tree successfully created *****\n",
      "2019-06-04 21:24:56,384 *** INFO [parallel_robust_forest.py:1215 - __init__()] *** *\tTree ID: 0\n",
      "2019-06-04 21:24:56,385 *** INFO [parallel_robust_forest.py:1216 - __init__()] *** *\tAttacker: <parallel_robust_forest.Attacker object at 0x7f1621411f60>\n",
      "2019-06-04 21:24:56,385 *** INFO [parallel_robust_forest.py:1218 - __init__()] *** *\tSplitting criterion: SSE\n",
      "2019-06-04 21:24:56,386 *** INFO [parallel_robust_forest.py:1219 - __init__()] *** *\tMax depth: 8\n",
      "2019-06-04 21:24:56,387 *** INFO [parallel_robust_forest.py:1221 - __init__()] *** *\tMin instances per tree node: 20\n",
      "2019-06-04 21:24:56,388 *** INFO [parallel_robust_forest.py:1223 - __init__()] *** *\tMax samples: 100.0%\n",
      "2019-06-04 21:24:56,389 *** INFO [parallel_robust_forest.py:1225 - __init__()] *** *\tMax features: 100.0%\n",
      "2019-06-04 21:24:56,390 *** INFO [parallel_robust_forest.py:1227 - __init__()] *** *\tFeature blacklist: set()\n",
      "2019-06-04 21:24:56,391 *** INFO [parallel_robust_forest.py:1228 - __init__()] *** *\tAffinity: True\n",
      "2019-06-04 21:24:56,392 *** INFO [parallel_robust_forest.py:1230 - __init__()] *** *****************************************************\n"
     ]
    },
    {
     "name": "stdout",
     "output_type": "stream",
     "text": [
      "Loading pre-processed files...\n",
      "### Evaluating Models: ['../out/models/wine/par-robust_wine_B0_T100_D8_I20.model', '../out/models/wine/par-robust_wine_B60_T100_D8_I20.model', '../out/models/wine/par-robust_wine_B30_T100_D8_I20.model']\n",
      "LightGBM loading exception\n",
      "BaggingClassifier(base_estimator=RobustDecisionTree(attacker=None, feature_blacklist={}, max_depth=8,\n",
      "          max_features=0.8, max_samples=0.8, min_instances_per_node=20,\n",
      "          replace_features=False, replace_samples=False, seed=0,\n",
      "          split_optimizer=None, tree_id=0),\n",
      "         bootstrap=False, bootstrap_features=False, max_features=1.0,\n",
      "         max_samples=1.0, n_estimators=100, n_jobs=None, oob_score=False,\n",
      "         random_state=None, verbose=0, warm_start=False)\n",
      "BAGGING\n",
      "Par-Robust [train budget=0] learning - eval_log_loss = 0.60006\n",
      "Par-Robust [train budget=0] learning - eval_binary_err_rate = 0.24154\n",
      "Par-Robust [train budget=0] learning - eval_specificity = 0.62055\n",
      "Par-Robust [train budget=0] learning - eval_precision = 0.75469\n",
      "Par-Robust [train budget=0] learning - eval_recall = 0.75846\n",
      "Par-Robust [train budget=0] learning - eval_f1 = 0.75549\n",
      "Par-Robust [train budget=0] learning - eval_roc_auc = 0.82525\n",
      "******************************************************************************************************\n",
      "LightGBM loading exception\n",
      "BaggingClassifier(base_estimator=RobustDecisionTree(attacker=None, feature_blacklist={}, max_depth=8,\n",
      "          max_features=0.8, max_samples=0.8, min_instances_per_node=20,\n",
      "          replace_features=False, replace_samples=False, seed=0,\n",
      "          split_optimizer=None, tree_id=0),\n",
      "         bootstrap=False, bootstrap_features=False, max_features=1.0,\n",
      "         max_samples=1.0, n_estimators=100, n_jobs=None, oob_score=False,\n",
      "         random_state=None, verbose=0, warm_start=False)\n",
      "BAGGING\n",
      "Par-Robust [train budget=60] learning - eval_log_loss = 0.59885\n",
      "Par-Robust [train budget=60] learning - eval_binary_err_rate = 0.23692\n",
      "Par-Robust [train budget=60] learning - eval_specificity = 0.64780\n",
      "Par-Robust [train budget=60] learning - eval_precision = 0.76061\n",
      "Par-Robust [train budget=60] learning - eval_recall = 0.76308\n",
      "Par-Robust [train budget=60] learning - eval_f1 = 0.76148\n",
      "Par-Robust [train budget=60] learning - eval_roc_auc = 0.83004\n",
      "******************************************************************************************************\n",
      "LightGBM loading exception\n",
      "BaggingClassifier(base_estimator=RobustDecisionTree(attacker=None, feature_blacklist={}, max_depth=8,\n",
      "          max_features=0.8, max_samples=0.8, min_instances_per_node=20,\n",
      "          replace_features=False, replace_samples=False, seed=0,\n",
      "          split_optimizer=None, tree_id=0),\n",
      "         bootstrap=False, bootstrap_features=False, max_features=1.0,\n",
      "         max_samples=1.0, n_estimators=100, n_jobs=None, oob_score=False,\n",
      "         random_state=None, verbose=0, warm_start=False)\n",
      "BAGGING\n",
      "Par-Robust [train budget=30] learning - eval_log_loss = 0.59926\n",
      "Par-Robust [train budget=30] learning - eval_binary_err_rate = 0.22923\n",
      "Par-Robust [train budget=30] learning - eval_specificity = 0.64151\n",
      "Par-Robust [train budget=30] learning - eval_precision = 0.76752\n",
      "Par-Robust [train budget=30] learning - eval_recall = 0.77077\n",
      "Par-Robust [train budget=30] learning - eval_f1 = 0.76821\n",
      "Par-Robust [train budget=30] learning - eval_roc_auc = 0.83076\n",
      "******************************************************************************************************\n"
     ]
    },
    {
     "data": {
      "text/html": [
       "<div>\n",
       "<style scoped>\n",
       "    .dataframe tbody tr th:only-of-type {\n",
       "        vertical-align: middle;\n",
       "    }\n",
       "\n",
       "    .dataframe tbody tr th {\n",
       "        vertical-align: top;\n",
       "    }\n",
       "\n",
       "    .dataframe thead th {\n",
       "        text-align: right;\n",
       "    }\n",
       "</style>\n",
       "<table border=\"1\" class=\"dataframe\">\n",
       "  <thead>\n",
       "    <tr style=\"text-align: right;\">\n",
       "      <th></th>\n",
       "      <th>Model</th>\n",
       "      <th>Budget</th>\n",
       "      <th>Log Loss</th>\n",
       "      <th>Binary Err Rate</th>\n",
       "      <th>Specificity</th>\n",
       "      <th>Precision</th>\n",
       "      <th>Recall</th>\n",
       "      <th>F1</th>\n",
       "      <th>Roc Auc</th>\n",
       "    </tr>\n",
       "  </thead>\n",
       "  <tbody>\n",
       "    <tr>\n",
       "      <th>0</th>\n",
       "      <td>Par-Robust [train budget=0]</td>\n",
       "      <td>0</td>\n",
       "      <td>0.600058</td>\n",
       "      <td>0.241538</td>\n",
       "      <td>0.620545</td>\n",
       "      <td>0.754687</td>\n",
       "      <td>0.758462</td>\n",
       "      <td>0.755485</td>\n",
       "      <td>0.825252</td>\n",
       "    </tr>\n",
       "    <tr>\n",
       "      <th>1</th>\n",
       "      <td>Par-Robust [train budget=60]</td>\n",
       "      <td>0</td>\n",
       "      <td>0.598853</td>\n",
       "      <td>0.236923</td>\n",
       "      <td>0.647799</td>\n",
       "      <td>0.760613</td>\n",
       "      <td>0.763077</td>\n",
       "      <td>0.761476</td>\n",
       "      <td>0.830038</td>\n",
       "    </tr>\n",
       "    <tr>\n",
       "      <th>2</th>\n",
       "      <td>Par-Robust [train budget=30]</td>\n",
       "      <td>0</td>\n",
       "      <td>0.599261</td>\n",
       "      <td>0.229231</td>\n",
       "      <td>0.641509</td>\n",
       "      <td>0.767518</td>\n",
       "      <td>0.770769</td>\n",
       "      <td>0.768211</td>\n",
       "      <td>0.830762</td>\n",
       "    </tr>\n",
       "  </tbody>\n",
       "</table>\n",
       "</div>"
      ],
      "text/plain": [
       "                          Model Budget  Log Loss  Binary Err Rate  \\\n",
       "0   Par-Robust [train budget=0]      0  0.600058         0.241538   \n",
       "1  Par-Robust [train budget=60]      0  0.598853         0.236923   \n",
       "2  Par-Robust [train budget=30]      0  0.599261         0.229231   \n",
       "\n",
       "   Specificity  Precision    Recall        F1   Roc Auc  \n",
       "0     0.620545   0.754687  0.758462  0.755485  0.825252  \n",
       "1     0.647799   0.760613  0.763077  0.761476  0.830038  \n",
       "2     0.641509   0.767518  0.770769  0.768211  0.830762  "
      ]
     },
     "execution_count": 29,
     "metadata": {},
     "output_type": "execute_result"
    }
   ],
   "source": [
    "# Without attacks\n",
    "TRAIN, VALID, TEST = load_atk_train_valid_test(TRAINING_FILENAME, VALIDATION_FILENAME, TEST_FILENAME)\n",
    "\n",
    "eval_std_df = eval_all_models(EVAL_METRICS, MODELS_DIR, TEST, test_models)\n",
    "eval_std_df"
   ]
  },
  {
   "cell_type": "code",
   "execution_count": 30,
   "metadata": {
    "scrolled": false
   },
   "outputs": [
    {
     "name": "stdout",
     "output_type": "stream",
     "text": [
      "Loading pre-processed files...\n",
      "Loading pre-processed files...\n",
      "### Evaluating Models: ['../out/models/wine/par-robust_wine_B0_T100_D8_I20.model', '../out/models/wine/par-robust_wine_B60_T100_D8_I20.model', '../out/models/wine/par-robust_wine_B30_T100_D8_I20.model']\n",
      "LightGBM loading exception\n",
      "BaggingClassifier(base_estimator=RobustDecisionTree(attacker=None, feature_blacklist={}, max_depth=8,\n",
      "          max_features=0.8, max_samples=0.8, min_instances_per_node=20,\n",
      "          replace_features=False, replace_samples=False, seed=0,\n",
      "          split_optimizer=None, tree_id=0),\n",
      "         bootstrap=False, bootstrap_features=False, max_features=1.0,\n",
      "         max_samples=1.0, n_estimators=100, n_jobs=None, oob_score=False,\n",
      "         random_state=None, verbose=0, warm_start=False)\n",
      "BAGGING\n",
      "Par-Robust [train budget=0] learning - eval_log_loss = 0.65284\n",
      "Par-Robust [train budget=0] learning - eval_binary_err_rate = 0.43385\n",
      "Par-Robust [train budget=0] learning - eval_specificity = 0.11321\n",
      "Par-Robust [train budget=0] learning - eval_precision = 0.49234\n",
      "Par-Robust [train budget=0] learning - eval_recall = 0.56615\n",
      "Par-Robust [train budget=0] learning - eval_f1 = 0.50685\n",
      "Par-Robust [train budget=0] learning - eval_roc_auc = 0.62696\n",
      "******************************************************************************************************\n",
      "LightGBM loading exception\n",
      "BaggingClassifier(base_estimator=RobustDecisionTree(attacker=None, feature_blacklist={}, max_depth=8,\n",
      "          max_features=0.8, max_samples=0.8, min_instances_per_node=20,\n",
      "          replace_features=False, replace_samples=False, seed=0,\n",
      "          split_optimizer=None, tree_id=0),\n",
      "         bootstrap=False, bootstrap_features=False, max_features=1.0,\n",
      "         max_samples=1.0, n_estimators=100, n_jobs=None, oob_score=False,\n",
      "         random_state=None, verbose=0, warm_start=False)\n",
      "BAGGING\n",
      "Par-Robust [train budget=60] learning - eval_log_loss = 0.59889\n",
      "Par-Robust [train budget=60] learning - eval_binary_err_rate = 0.23692\n",
      "Par-Robust [train budget=60] learning - eval_specificity = 0.64780\n",
      "Par-Robust [train budget=60] learning - eval_precision = 0.76061\n",
      "Par-Robust [train budget=60] learning - eval_recall = 0.76308\n",
      "Par-Robust [train budget=60] learning - eval_f1 = 0.76148\n",
      "Par-Robust [train budget=60] learning - eval_roc_auc = 0.82983\n",
      "******************************************************************************************************\n",
      "LightGBM loading exception\n",
      "BaggingClassifier(base_estimator=RobustDecisionTree(attacker=None, feature_blacklist={}, max_depth=8,\n",
      "          max_features=0.8, max_samples=0.8, min_instances_per_node=20,\n",
      "          replace_features=False, replace_samples=False, seed=0,\n",
      "          split_optimizer=None, tree_id=0),\n",
      "         bootstrap=False, bootstrap_features=False, max_features=1.0,\n",
      "         max_samples=1.0, n_estimators=100, n_jobs=None, oob_score=False,\n",
      "         random_state=None, verbose=0, warm_start=False)\n",
      "BAGGING\n",
      "Par-Robust [train budget=30] learning - eval_log_loss = 0.59928\n",
      "Par-Robust [train budget=30] learning - eval_binary_err_rate = 0.22923\n",
      "Par-Robust [train budget=30] learning - eval_specificity = 0.64151\n",
      "Par-Robust [train budget=30] learning - eval_precision = 0.76752\n",
      "Par-Robust [train budget=30] learning - eval_recall = 0.77077\n",
      "Par-Robust [train budget=30] learning - eval_f1 = 0.76821\n",
      "Par-Robust [train budget=30] learning - eval_roc_auc = 0.83064\n",
      "******************************************************************************************************\n",
      "### Evaluating Models: ['../out/models/wine/par-robust_wine_B0_T100_D8_I20.model', '../out/models/wine/par-robust_wine_B60_T100_D8_I20.model', '../out/models/wine/par-robust_wine_B30_T100_D8_I20.model']\n",
      "LightGBM loading exception\n",
      "BaggingClassifier(base_estimator=RobustDecisionTree(attacker=None, feature_blacklist={}, max_depth=8,\n",
      "          max_features=0.8, max_samples=0.8, min_instances_per_node=20,\n",
      "          replace_features=False, replace_samples=False, seed=0,\n",
      "          split_optimizer=None, tree_id=0),\n",
      "         bootstrap=False, bootstrap_features=False, max_features=1.0,\n",
      "         max_samples=1.0, n_estimators=100, n_jobs=None, oob_score=False,\n",
      "         random_state=None, verbose=0, warm_start=False)\n",
      "BAGGING\n",
      "Par-Robust [train budget=0] learning - eval_log_loss = 0.65444\n",
      "Par-Robust [train budget=0] learning - eval_binary_err_rate = 0.43846\n",
      "Par-Robust [train budget=0] learning - eval_specificity = 0.10273\n",
      "Par-Robust [train budget=0] learning - eval_precision = 0.48288\n",
      "Par-Robust [train budget=0] learning - eval_recall = 0.56154\n",
      "Par-Robust [train budget=0] learning - eval_f1 = 0.50013\n",
      "Par-Robust [train budget=0] learning - eval_roc_auc = 0.61959\n",
      "******************************************************************************************************\n",
      "LightGBM loading exception\n",
      "BaggingClassifier(base_estimator=RobustDecisionTree(attacker=None, feature_blacklist={}, max_depth=8,\n",
      "          max_features=0.8, max_samples=0.8, min_instances_per_node=20,\n",
      "          replace_features=False, replace_samples=False, seed=0,\n",
      "          split_optimizer=None, tree_id=0),\n",
      "         bootstrap=False, bootstrap_features=False, max_features=1.0,\n",
      "         max_samples=1.0, n_estimators=100, n_jobs=None, oob_score=False,\n",
      "         random_state=None, verbose=0, warm_start=False)\n",
      "BAGGING\n",
      "Par-Robust [train budget=60] learning - eval_log_loss = 0.59889\n",
      "Par-Robust [train budget=60] learning - eval_binary_err_rate = 0.23692\n",
      "Par-Robust [train budget=60] learning - eval_specificity = 0.64780\n",
      "Par-Robust [train budget=60] learning - eval_precision = 0.76061\n",
      "Par-Robust [train budget=60] learning - eval_recall = 0.76308\n",
      "Par-Robust [train budget=60] learning - eval_f1 = 0.76148\n",
      "Par-Robust [train budget=60] learning - eval_roc_auc = 0.82983\n",
      "******************************************************************************************************\n",
      "LightGBM loading exception\n",
      "BaggingClassifier(base_estimator=RobustDecisionTree(attacker=None, feature_blacklist={}, max_depth=8,\n",
      "          max_features=0.8, max_samples=0.8, min_instances_per_node=20,\n",
      "          replace_features=False, replace_samples=False, seed=0,\n",
      "          split_optimizer=None, tree_id=0),\n",
      "         bootstrap=False, bootstrap_features=False, max_features=1.0,\n",
      "         max_samples=1.0, n_estimators=100, n_jobs=None, oob_score=False,\n",
      "         random_state=None, verbose=0, warm_start=False)\n",
      "BAGGING\n",
      "Par-Robust [train budget=30] learning - eval_log_loss = 0.59930\n",
      "Par-Robust [train budget=30] learning - eval_binary_err_rate = 0.22923\n",
      "Par-Robust [train budget=30] learning - eval_specificity = 0.64151\n",
      "Par-Robust [train budget=30] learning - eval_precision = 0.76752\n",
      "Par-Robust [train budget=30] learning - eval_recall = 0.77077\n",
      "Par-Robust [train budget=30] learning - eval_f1 = 0.76821\n",
      "Par-Robust [train budget=30] learning - eval_roc_auc = 0.83059\n",
      "******************************************************************************************************\n"
     ]
    },
    {
     "data": {
      "text/html": [
       "<div>\n",
       "<style scoped>\n",
       "    .dataframe tbody tr th:only-of-type {\n",
       "        vertical-align: middle;\n",
       "    }\n",
       "\n",
       "    .dataframe tbody tr th {\n",
       "        vertical-align: top;\n",
       "    }\n",
       "\n",
       "    .dataframe thead th {\n",
       "        text-align: right;\n",
       "    }\n",
       "</style>\n",
       "<table border=\"1\" class=\"dataframe\">\n",
       "  <thead>\n",
       "    <tr style=\"text-align: right;\">\n",
       "      <th></th>\n",
       "      <th>Model</th>\n",
       "      <th>Budget</th>\n",
       "      <th>Log Loss</th>\n",
       "      <th>Binary Err Rate</th>\n",
       "      <th>Specificity</th>\n",
       "      <th>Precision</th>\n",
       "      <th>Recall</th>\n",
       "      <th>F1</th>\n",
       "      <th>Roc Auc</th>\n",
       "    </tr>\n",
       "  </thead>\n",
       "  <tbody>\n",
       "    <tr>\n",
       "      <th>0</th>\n",
       "      <td>Par-Robust [train budget=0]</td>\n",
       "      <td>0</td>\n",
       "      <td>0.600058</td>\n",
       "      <td>0.241538</td>\n",
       "      <td>0.620545</td>\n",
       "      <td>0.754687</td>\n",
       "      <td>0.758462</td>\n",
       "      <td>0.755485</td>\n",
       "      <td>0.825252</td>\n",
       "    </tr>\n",
       "    <tr>\n",
       "      <th>1</th>\n",
       "      <td>Par-Robust [train budget=60]</td>\n",
       "      <td>0</td>\n",
       "      <td>0.598853</td>\n",
       "      <td>0.236923</td>\n",
       "      <td>0.647799</td>\n",
       "      <td>0.760613</td>\n",
       "      <td>0.763077</td>\n",
       "      <td>0.761476</td>\n",
       "      <td>0.830038</td>\n",
       "    </tr>\n",
       "    <tr>\n",
       "      <th>2</th>\n",
       "      <td>Par-Robust [train budget=30]</td>\n",
       "      <td>0</td>\n",
       "      <td>0.599261</td>\n",
       "      <td>0.229231</td>\n",
       "      <td>0.641509</td>\n",
       "      <td>0.767518</td>\n",
       "      <td>0.770769</td>\n",
       "      <td>0.768211</td>\n",
       "      <td>0.830762</td>\n",
       "    </tr>\n",
       "    <tr>\n",
       "      <th>3</th>\n",
       "      <td>Par-Robust [train budget=0]</td>\n",
       "      <td>30</td>\n",
       "      <td>0.652836</td>\n",
       "      <td>0.433846</td>\n",
       "      <td>0.113208</td>\n",
       "      <td>0.492341</td>\n",
       "      <td>0.566154</td>\n",
       "      <td>0.506852</td>\n",
       "      <td>0.626962</td>\n",
       "    </tr>\n",
       "    <tr>\n",
       "      <th>4</th>\n",
       "      <td>Par-Robust [train budget=60]</td>\n",
       "      <td>30</td>\n",
       "      <td>0.598887</td>\n",
       "      <td>0.236923</td>\n",
       "      <td>0.647799</td>\n",
       "      <td>0.760613</td>\n",
       "      <td>0.763077</td>\n",
       "      <td>0.761476</td>\n",
       "      <td>0.829827</td>\n",
       "    </tr>\n",
       "    <tr>\n",
       "      <th>5</th>\n",
       "      <td>Par-Robust [train budget=30]</td>\n",
       "      <td>30</td>\n",
       "      <td>0.599284</td>\n",
       "      <td>0.229231</td>\n",
       "      <td>0.641509</td>\n",
       "      <td>0.767518</td>\n",
       "      <td>0.770769</td>\n",
       "      <td>0.768211</td>\n",
       "      <td>0.830642</td>\n",
       "    </tr>\n",
       "    <tr>\n",
       "      <th>6</th>\n",
       "      <td>Par-Robust [train budget=0]</td>\n",
       "      <td>60</td>\n",
       "      <td>0.654436</td>\n",
       "      <td>0.438462</td>\n",
       "      <td>0.102725</td>\n",
       "      <td>0.482884</td>\n",
       "      <td>0.561538</td>\n",
       "      <td>0.500130</td>\n",
       "      <td>0.619590</td>\n",
       "    </tr>\n",
       "    <tr>\n",
       "      <th>7</th>\n",
       "      <td>Par-Robust [train budget=60]</td>\n",
       "      <td>60</td>\n",
       "      <td>0.598887</td>\n",
       "      <td>0.236923</td>\n",
       "      <td>0.647799</td>\n",
       "      <td>0.760613</td>\n",
       "      <td>0.763077</td>\n",
       "      <td>0.761476</td>\n",
       "      <td>0.829827</td>\n",
       "    </tr>\n",
       "    <tr>\n",
       "      <th>8</th>\n",
       "      <td>Par-Robust [train budget=30]</td>\n",
       "      <td>60</td>\n",
       "      <td>0.599297</td>\n",
       "      <td>0.229231</td>\n",
       "      <td>0.641509</td>\n",
       "      <td>0.767518</td>\n",
       "      <td>0.770769</td>\n",
       "      <td>0.768211</td>\n",
       "      <td>0.830591</td>\n",
       "    </tr>\n",
       "  </tbody>\n",
       "</table>\n",
       "</div>"
      ],
      "text/plain": [
       "                          Model Budget  Log Loss  Binary Err Rate  \\\n",
       "0   Par-Robust [train budget=0]      0  0.600058         0.241538   \n",
       "1  Par-Robust [train budget=60]      0  0.598853         0.236923   \n",
       "2  Par-Robust [train budget=30]      0  0.599261         0.229231   \n",
       "3   Par-Robust [train budget=0]     30  0.652836         0.433846   \n",
       "4  Par-Robust [train budget=60]     30  0.598887         0.236923   \n",
       "5  Par-Robust [train budget=30]     30  0.599284         0.229231   \n",
       "6   Par-Robust [train budget=0]     60  0.654436         0.438462   \n",
       "7  Par-Robust [train budget=60]     60  0.598887         0.236923   \n",
       "8  Par-Robust [train budget=30]     60  0.599297         0.229231   \n",
       "\n",
       "   Specificity  Precision    Recall        F1   Roc Auc  \n",
       "0     0.620545   0.754687  0.758462  0.755485  0.825252  \n",
       "1     0.647799   0.760613  0.763077  0.761476  0.830038  \n",
       "2     0.641509   0.767518  0.770769  0.768211  0.830762  \n",
       "3     0.113208   0.492341  0.566154  0.506852  0.626962  \n",
       "4     0.647799   0.760613  0.763077  0.761476  0.829827  \n",
       "5     0.641509   0.767518  0.770769  0.768211  0.830642  \n",
       "6     0.102725   0.482884  0.561538  0.500130  0.619590  \n",
       "7     0.647799   0.760613  0.763077  0.761476  0.829827  \n",
       "8     0.641509   0.767518  0.770769  0.768211  0.830591  "
      ]
     },
     "execution_count": 30,
     "metadata": {},
     "output_type": "execute_result"
    }
   ],
   "source": [
    "# With attacks\n",
    "att_datasets = load_attacked_datasets(TRAINING_BUDGETS)\n",
    "\n",
    "eval_att_df = eval_all_models_under_attack(EVAL_METRICS, MODELS_DIR, att_datasets, TRAINING_BUDGETS,\n",
    "                                           test_models)\n",
    "\n",
    "overall_df = pd.concat([eval_std_df, eval_att_df], \n",
    "                       axis=0, \n",
    "                       sort=False)\n",
    "overall_df.reset_index(inplace=True, drop=True)\n",
    "overall_df.to_csv(OUTPUT_FILENAME + \".csv\", sep=\",\", index=False)\n",
    "\n",
    "overall_df"
   ]
  },
  {
   "cell_type": "code",
   "execution_count": null,
   "metadata": {},
   "outputs": [],
   "source": [
    "overall_df"
   ]
  },
  {
   "cell_type": "markdown",
   "metadata": {},
   "source": [
    "## COMPETITORS\n",
    "\n",
    "Model\tBudget\tLog Loss\tBinary Err Rate\tSpecificity\tPrecision\tRecall\tF1\tRoc Auc\n",
    "0\tAdv-Boosting [train budget=30]\t0\t0.552537\t0.218462\t0.675052\t0.779469\t0.781538\t0.780177\t0.837762\n",
    "1\tAdv-Boosting [train budget=30]\t0\t0.536333\t0.213846\t0.675052\t0.783812\t0.786154\t0.784482\t0.857376\n",
    "2\tAdv-Boosting [train budget=60]\t0\t0.557392\t0.229231\t0.654088\t0.768163\t0.770769\t0.768977\t0.834622\n",
    "3\tAdv-Boosting [train budget=60]\t0\t0.540496\t0.218462\t0.683438\t0.780012\t0.781538\t0.780619\t0.851586\n",
    "4\tStd-Gbdt\t0\t0.551204\t0.232308\t0.631027\t0.764097\t0.767692\t0.764692\t0.839458\n",
    "5\tStd-Gbdt\t0\t0.540879\t0.222308\t0.658281\t0.774936\t0.777692\t0.775651\t0.851046\n",
    "6\tRed-Gbdt\t0\t0.720991\t0.624615\t0.849057\t0.468787\t0.375385\t0.290690\t0.398885\n",
    "7\tRed-Gbdt\t0\t0.701899\t0.450000\t0.419287\t0.556118\t0.550000\t0.552762\t0.481782\n",
    "8\tRf-Gbdt\t0\t0.576459\t0.239231\t0.597484\t0.756262\t0.760769\t0.755938\t0.817466\n",
    "9\tRf-Gbdt\t0\t0.565125\t0.236923\t0.607966\t0.758810\t0.763077\t0.758839\t0.834560\n",
    "10\tAdv-Boosting [train budget=30]\t30\t0.569712\t0.241538\t0.628931\t0.755126\t0.758462\t0.756041\t0.810073\n",
    "11\tAdv-Boosting [train budget=30]\t30\t0.558130\t0.235385\t0.624738\t0.760845\t0.764615\t0.761435\t0.825665\n",
    "12\tAdv-Boosting [train budget=60]\t30\t0.576883\t0.256923\t0.601677\t0.738991\t0.743077\t0.740061\t0.801165\n",
    "13\tAdv-Boosting [train budget=60]\t30\t0.565061\t0.250769\t0.622642\t0.746104\t0.749231\t0.747135\t0.814220\n",
    "14\tStd-Gbdt\t30\t0.626599\t0.387692\t0.224319\t0.574796\t0.612308\t0.572900\t0.695082\n",
    "15\tStd-Gbdt\t30\t0.632325\t0.397692\t0.224319\t0.563710\t0.602308\t0.565373\t0.674240\n",
    "16\tRed-Gbdt\t30\t0.727191\t0.633077\t0.849057\t0.445089\t0.366923\t0.276275\t0.349323\n",
    "17\tRed-Gbdt\t30\t0.713142\t0.498462\t0.299790\t0.497063\t0.501538\t0.499194\t0.407729\n",
    "18\tRf-Gbdt\t30\t0.633231\t0.404615\t0.148847\t0.537706\t0.595385\t0.538716\t0.684260\n",
    "19\tRf-Gbdt\t30\t0.626627\t0.395385\t0.186583\t0.558575\t0.604615\t0.556913\t0.696457\n",
    "20\tAdv-Boosting [train budget=30]\t60\t0.571455\t0.242308\t0.626834\t0.754280\t0.757692\t0.755196\t0.807250\n",
    "21\tAdv-Boosting [train budget=30]\t60\t0.560589\t0.238462\t0.620545\t0.757672\t0.761538\t0.758316\t0.821925\n",
    "22\tAdv-Boosting [train budget=60]\t60\t0.579503\t0.259231\t0.595388\t0.736430\t0.740769\t0.737498\t0.796106\n",
    "23\tAdv-Boosting [train budget=60]\t60\t0.567124\t0.251538\t0.620545\t0.745248\t0.748462\t0.746290\t0.810939\n",
    "24\tStd-Gbdt\t60\t0.628858\t0.387692\t0.224319\t0.574796\t0.612308\t0.572900\t0.688013\n",
    "25\tStd-Gbdt\t60\t0.634201\t0.399231\t0.222222\t0.561660\t0.600769\t0.563691\t0.668282\n",
    "26\tRed-Gbdt\t60\t0.728780\t0.633077\t0.849057\t0.445089\t0.366923\t0.276275\t0.335776\n",
    "27\tRed-Gbdt\t60\t0.716420\t0.525385\t0.241090\t0.464610\t0.474615\t0.469203\t0.378909\n",
    "28\tRf-Gbdt\t60\t0.635470\t0.412308\t0.134172\t0.523740\t0.587692\t0.528536\t0.677227\n",
    "29\tRf-Gbdt\t60\t0.629036\t0.405385\t0.167715\t0.542278\t0.594615\t0.544130\t0.688354"
   ]
  },
  {
   "cell_type": "markdown",
   "metadata": {},
   "source": [
    "# spam"
   ]
  },
  {
   "cell_type": "code",
   "execution_count": null,
   "metadata": {},
   "outputs": [],
   "source": [
    "DATASET_NAME=\"spam\"\n",
    "TRAINING_BUDGETS= [30, 60] \n",
    "\n",
    "DATASET_DIR=\"../data/{}\".format(DATASET_NAME)\n",
    "ATK_DIR=DATASET_DIR + \"/attacks\"\n",
    "MODELS_DIR=\"../out/models/{}\".format(DATASET_NAME)\n",
    "OUTPUT_FILENAME=\"../out/results/{}\".format(DATASET_NAME)\n",
    "\n",
    "TRAINING_FILENAME=DATASET_DIR + \"/\" + \"train.csv.bz2\"\n",
    "TRAINING_FILENAME_ATT=ATK_DIR + \"/\" + \"train_B{}.atks.bz2\"\n",
    "\n",
    "VALIDATION_FILENAME=DATASET_DIR + \"/\" + \"valid.csv.bz2\"\n",
    "VALIDATION_FILENAME_ATT=ATK_DIR + \"/\" + \"valid_B{}.atks.bz2\"\n",
    "\n",
    "TEST_FILENAME=DATASET_DIR + \"/\" + \"test.csv.bz2\"\n",
    "TEST_FILENAME_ATT=ATK_DIR + \"/\" + \"test_B{}.atks.bz2\""
   ]
  },
  {
   "cell_type": "code",
   "execution_count": null,
   "metadata": {},
   "outputs": [],
   "source": [
    "# Final Models\n",
    "adv_models = [\"../out/models/wine/adv-boosting_wine_B30_T100_S0050_L24_R100.model\",\n",
    "              \"../out/models/wine/adv-boosting_wine_B30_T100_S0050_L256_R100.model\",\n",
    "              \"../out/models/wine/adv-boosting_wine_B60_T100_S0050_L24_R82.model\",\n",
    "              \"../out/models/wine/adv-boosting_wine_B60_T100_S0050_L256_R85.model\"\n",
    "             ]\n",
    "\n",
    "gdbt_models = [\"../out/models/spam/std-gbdt_spam_T100_S0050_L24_R100.model\",\n",
    "               \"../out/models/spam/std-gbdt_spam_T100_S0050_L256_R100.model\"]\n",
    "\n",
    "red_models = [\"../out/models/spam/red-gbdt_spam_T100_S0050_L24_R100.model\",\n",
    "             \"../out/models/spam/red-gbdt_spam_T100_S0050_L256_R100.model\"]\n",
    "\n",
    "rf_models = [\"../out/models/spam/rf-gbdt_spam_T100_S0050_L24_R98.model\",\n",
    "             \"../out/models/spam/rf-gbdt_spam_T100_S0050_L256_R98.model\"]\n",
    "\n",
    "robust_models = [\"../out/models/wine/par-robust_wine_B0_T100_D8_I20.model\",\n",
    "                \"../out/models/wine/par-robust_wine_B60_T100_D8_I20.model\",\n",
    "                \"../out/models/wine/par-robust_wine_B30_T100_D8_I20.model\"]\n",
    "\n",
    "test_models = gdbt_models + red_models + rf_models\n",
    "\n"
   ]
  },
  {
   "cell_type": "code",
   "execution_count": null,
   "metadata": {
    "scrolled": false
   },
   "outputs": [],
   "source": [
    "# Without attacks\n",
    "TRAIN, VALID, TEST = load_atk_train_valid_test(TRAINING_FILENAME, VALIDATION_FILENAME, TEST_FILENAME)\n",
    "\n",
    "eval_std_df = eval_all_models(EVAL_METRICS, MODELS_DIR, TEST, test_models)\n",
    "eval_std_df"
   ]
  },
  {
   "cell_type": "code",
   "execution_count": null,
   "metadata": {
    "scrolled": false
   },
   "outputs": [],
   "source": [
    "# With attacks\n",
    "att_datasets = load_attacked_datasets(TRAINING_BUDGETS)\n",
    "\n",
    "eval_att_df = eval_all_models_under_attack(EVAL_METRICS, MODELS_DIR, att_datasets, TRAINING_BUDGETS,\n",
    "                                           test_models)\n",
    "\n",
    "overall_df = pd.concat([eval_std_df, eval_att_df], \n",
    "                       axis=0, \n",
    "                       sort=False)\n",
    "overall_df.reset_index(inplace=True, drop=True)\n",
    "overall_df.to_csv(OUTPUT_FILENAME + \".csv\", sep=\",\", index=False)\n",
    "\n",
    "overall_df"
   ]
  },
  {
   "cell_type": "code",
   "execution_count": null,
   "metadata": {},
   "outputs": [],
   "source": []
  },
  {
   "cell_type": "code",
   "execution_count": null,
   "metadata": {},
   "outputs": [],
   "source": []
  },
  {
   "cell_type": "code",
   "execution_count": null,
   "metadata": {},
   "outputs": [],
   "source": []
  },
  {
   "cell_type": "code",
   "execution_count": null,
   "metadata": {},
   "outputs": [],
   "source": []
  },
  {
   "cell_type": "markdown",
   "metadata": {},
   "source": [
    "# Prune Robust models"
   ]
  },
  {
   "cell_type": "code",
   "execution_count": null,
   "metadata": {},
   "outputs": [],
   "source": [
    "to_be_pruned_models = [\"../out/models/census/robust_census_B0_T100_D8_I20_20.tmp\"]\n",
    "\n",
    "for m in to_be_pruned_models:\n",
    "    prune_trained_model(m, 20)\n"
   ]
  },
  {
   "cell_type": "markdown",
   "metadata": {},
   "source": [
    "# Prune LGBM models"
   ]
  },
  {
   "cell_type": "code",
   "execution_count": null,
   "metadata": {},
   "outputs": [],
   "source": [
    "def prune_lgbm(in_file, out_file, n):\n",
    "    model = lightgbm.Booster(model_file=in_file)\n",
    "    model.save_model(out_file, num_iteration=n)\n",
    "    print (\"saved.\")\n",
    "    \n",
    "prune_lgbm(\"../out/models/wine/std-gbdt_wine_T200_S0050_L24_R199.model\",\n",
    "           \"../out/models/wine/std-gbdt_wine_T200_S0050_L24_R199.T10.model\",\n",
    "           10)\n",
    "# prune_lgbm(\"../out/models/census/adv-boosting_census_B60_T200_S0050_L24_R200.model\",\n",
    "#            \"../out/models/census/adv-boosting_census_B60_T200_S0050_L24_R200.T20.model\",\n",
    "#            20)"
   ]
  },
  {
   "cell_type": "markdown",
   "metadata": {},
   "source": [
    "## Debug"
   ]
  },
  {
   "cell_type": "code",
   "execution_count": null,
   "metadata": {},
   "outputs": [],
   "source": [
    "with open(\"../out/models/wine/par-robust_wine_B0_T100_D8_I20.model\", 'rb') as f:\n",
    "    model = dill.load(f)"
   ]
  },
  {
   "cell_type": "code",
   "execution_count": null,
   "metadata": {
    "scrolled": true
   },
   "outputs": [],
   "source": [
    "def pretty_print(node, out=sys.stdout, tabs=''):\n",
    "\n",
    "    leaf_txt = \"{}Prediction: {}; Score: {:.5f}; N. instances: {}; Loss: {:.5f}\".format(tabs,\n",
    "                                                                                        node.get_node_prediction()[\n",
    "                                                                                            0],\n",
    "                                                                                        node.get_node_prediction()[\n",
    "                                                                                            1],\n",
    "                                                                                        node.values,\n",
    "                                                                                        node.loss_value)\n",
    "    internal_node_txt = \"{}Feature ID: {}; Threshold: {}; N. instances: {}\".format(tabs,\n",
    "                                                                                   node.best_split_feature_id,\n",
    "                                                                                   node.best_split_feature_value,\n",
    "                                                                                   node.values\n",
    "                                                                                   )\n",
    "\n",
    "    if node.is_leaf():  # base case\n",
    "        out.write(leaf_txt + \"\\n\")\n",
    "    else:  # recursive case\n",
    "        out.write(internal_node_txt + \"\\n\")\n",
    "        node.left.pretty_print(out, tabs + \"\\t\")\n",
    "        node.right.pretty_print(out, tabs + \"\\t\")\n",
    "\n",
    "pretty_print(model.estimators_[0].root )\n"
   ]
  },
  {
   "cell_type": "code",
   "execution_count": null,
   "metadata": {},
   "outputs": [],
   "source": [
    "pretty_print(model.estimators_[1].root )"
   ]
  },
  {
   "cell_type": "markdown",
   "metadata": {},
   "source": [
    "# Feature importance check"
   ]
  },
  {
   "cell_type": "code",
   "execution_count": null,
   "metadata": {},
   "outputs": [],
   "source": [
    "def print_fx_imp(model, colnames):\n",
    "    fx_uses = model.feature_importance(importance_type='split')\n",
    "    fx_gain = model.feature_importance(importance_type='gain')\n",
    "\n",
    "    for i,f in enumerate(np.argsort(fx_gain)[::-1]):\n",
    "        print (\"{:2d} {:20s} {:.3f} {:4d}\".format(i, colnames[f], fx_gain[f], fx_uses[f]))\n",
    "\n",
    "print(\" -- GDBT --\")    \n",
    "gbdt = lightgbm.Booster(model_file=\"../out/models/census/std-gbdt_census_T100_S0050_L24_R100.model\")\n",
    "print(gbdt.num_trees())\n",
    "print_fx_imp(gbdt, TRAIN.columns)\n",
    "\n",
    "print(\" -- Reduced GDBT --\")    \n",
    "redf = lightgbm.Booster(model_file=\"../out/models/census/red-gbdt_census_T100_S0050_L24_R98.model\")\n",
    "print(redf.num_trees())\n",
    "print_fx_imp(redf, TRAIN.drop(columns=[\"workclass\", \n",
    "                                       \"marital_status\", \n",
    "                                       \"occupation\", \n",
    "                                       \"education_num\", \n",
    "                                       \"hours_per_week\", \n",
    "                                       \"capital_gain\"\n",
    "                                      ]).columns)\n",
    "\n",
    "\n",
    "print(\" -- Adv. Boosting --\")    \n",
    "advb = lightgbm.Booster(model_file=\"../out/models/census/adv-boosting_census_B30_T100_S0050_L24_R100.model\")\n",
    "print(advb.num_trees())\n",
    "print_fx_imp(advb, TRAIN.columns)\n"
   ]
  },
  {
   "cell_type": "code",
   "execution_count": null,
   "metadata": {},
   "outputs": [],
   "source": [
    "bb = 40\n",
    "eval_learned_models(lightgbm.Booster(model_file=\"../out/models/wine2/red-gbdt_wine2_T500_S0050_L24_R281.model\"), \n",
    "                                        extract_model_name(\"../out/models/wine2/red-gbdt_wine2_T500_S0050_L24_R281.model\"), \n",
    "                                        att_datasets[bb][4].drop(columns=[\"alcohol\", \"residual_sugar\", \"volatile_acidity\"]), \n",
    "                                        att_datasets[bb][5], \n",
    "                                        budget=bb\n",
    "                                       ) "
   ]
  },
  {
   "cell_type": "code",
   "execution_count": null,
   "metadata": {},
   "outputs": [],
   "source": [
    "!cat ../out/models/census/par-robust_census_B0_T100_D8_I20.model | tail"
   ]
  },
  {
   "cell_type": "code",
   "execution_count": null,
   "metadata": {},
   "outputs": [],
   "source": [
    "!git pull"
   ]
  },
  {
   "cell_type": "code",
   "execution_count": null,
   "metadata": {},
   "outputs": [],
   "source": [
    "!git commit -am \"calza\""
   ]
  },
  {
   "cell_type": "code",
   "execution_count": null,
   "metadata": {},
   "outputs": [],
   "source": [
    "!git pull"
   ]
  },
  {
   "cell_type": "code",
   "execution_count": null,
   "metadata": {},
   "outputs": [],
   "source": [
    "!git push"
   ]
  },
  {
   "cell_type": "code",
   "execution_count": null,
   "metadata": {},
   "outputs": [],
   "source": []
  }
 ],
 "metadata": {
  "kernelspec": {
   "display_name": "Python 3",
   "language": "python",
   "name": "python3"
  },
  "language_info": {
   "codemirror_mode": {
    "name": "ipython",
    "version": 3
   },
   "file_extension": ".py",
   "mimetype": "text/x-python",
   "name": "python",
   "nbconvert_exporter": "python",
   "pygments_lexer": "ipython3",
   "version": "3.6.7"
  }
 },
 "nbformat": 4,
 "nbformat_minor": 2
}
