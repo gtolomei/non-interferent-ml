{
 "cells": [
  {
   "cell_type": "markdown",
   "metadata": {},
   "source": [
    "# Evaluating Models\n",
    "\n",
    "This notebook contains the code used for evaluating the following learning models:\n",
    "\n",
    "-  **Standard GBDT** (_baseline 1_)\n",
    "-  **Adversarial Boosting** (_baseline 2_)\n",
    "-  **Non-Interferent GBDT** (our proposal)"
   ]
  },
  {
   "cell_type": "code",
   "execution_count": 42,
   "metadata": {},
   "outputs": [
    {
     "name": "stdout",
     "output_type": "stream",
     "text": [
      "The autoreload extension is already loaded. To reload it, use:\n",
      "  %reload_ext autoreload\n"
     ]
    }
   ],
   "source": [
    "%load_ext autoreload\n",
    "%autoreload 2"
   ]
  },
  {
   "cell_type": "code",
   "execution_count": 43,
   "metadata": {},
   "outputs": [],
   "source": [
    "import os\n",
    "import json\n",
    "import glob\n",
    "import pickle\n",
    "import dill\n",
    "import numpy as np\n",
    "import pandas as pd\n",
    "import matplotlib.pyplot as plt\n",
    "import seaborn as sns\n",
    "import lightgbm\n",
    "import functools\n",
    "from os import listdir\n",
    "from os.path import isfile, join\n",
    "from sklearn.svm import SVC\n",
    "from sklearn.model_selection import GridSearchCV\n",
    "from sklearn.metrics import roc_auc_score, f1_score, confusion_matrix\n",
    "from nilib import *\n",
    "from robust_forest import *"
   ]
  },
  {
   "cell_type": "markdown",
   "metadata": {},
   "source": [
    "# Standard evaluation metric\n",
    "\n",
    "The following function is the one used for evaluating the quality of the learned model (either _standard_, _adversarial-boosting_, or _non-interferent_). This is the standard <code>avg_log_loss</code>."
   ]
  },
  {
   "cell_type": "code",
   "execution_count": 44,
   "metadata": {},
   "outputs": [],
   "source": [
    "def logistic(x):\n",
    "    return 1.0/(1.0 + np.exp(-x))"
   ]
  },
  {
   "cell_type": "code",
   "execution_count": 45,
   "metadata": {},
   "outputs": [],
   "source": [
    "def logit(p):\n",
    "    return np.log(p/(1-p))"
   ]
  },
  {
   "cell_type": "markdown",
   "metadata": {},
   "source": [
    "# <code>avg_log_loss</code>"
   ]
  },
  {
   "cell_type": "code",
   "execution_count": 46,
   "metadata": {},
   "outputs": [],
   "source": [
    "# self-defined eval metric\n",
    "# f(preds: array, train_data: Dataset) -> name: string, value: array, is_higher_better: bool\n",
    "def avg_log_loss(preds, train_data):\n",
    "    \n",
    "    labels = train_data.get_label()\n",
    "    losses = np.log(1.0 + np.exp(-preds*labels))\n",
    "    avg_loss = np.mean(losses)\n",
    "    \n",
    "    return 'avg_binary_log_loss', avg_loss, False"
   ]
  },
  {
   "cell_type": "code",
   "execution_count": 47,
   "metadata": {},
   "outputs": [],
   "source": [
    "def eval_log_loss(model, test, test_groups=None, svm=False):\n",
    "    \n",
    "    lgbm_test = lightgbm.Dataset(data=test.iloc[:,:-1].values, \n",
    "                                 label=test.iloc[:,-1].values,\n",
    "                                 free_raw_data=False)\n",
    "    \n",
    "    if svm: # no trees have been generated (used for evaluating other non-tree-based models like SVM)\n",
    "        # use the logit function (i.e., the inverse of the logistic function) to map probabilities output\n",
    "        # by sklearn's predict_proba in the range [0,1] to a real number in the range [-inf, +inf]\n",
    "        return avg_log_loss(logit(model.predict_proba(test.iloc[:,:-1].values)[:,1]), lgbm_test)[1]\n",
    "    \n",
    "    return avg_log_loss(model.predict(test.iloc[:,:-1].values), lgbm_test)[1]"
   ]
  },
  {
   "cell_type": "markdown",
   "metadata": {},
   "source": [
    "# Custom evaluation metric\n",
    "\n",
    "Similarly to what we have done for <code>fobj</code>, <code>feval</code> can be computed from a weighted combination of two evaluation metrics:\n",
    "\n",
    "-  <code>avg_log_loss</code> (standard, defined above);\n",
    "-  <code>avg_log_loss_uma</code> (custom, defined below)."
   ]
  },
  {
   "cell_type": "markdown",
   "metadata": {},
   "source": [
    "# <code>avg_log_loss_uma</code>\n",
    "\n",
    "This is the binary log loss yet modified to operate on groups of perturbed instances."
   ]
  },
  {
   "cell_type": "code",
   "execution_count": 48,
   "metadata": {},
   "outputs": [],
   "source": [
    "# Our custom metric\n",
    "\n",
    "def binary_log_loss(pred, true_label):\n",
    "\n",
    "    return np.log(1.0 + np.exp(-pred * true_label))\n",
    "\n",
    "# self-defined eval metric\n",
    "# f(preds: array, train_data: Dataset) -> name: string, value: array, is_higher_better: bool\n",
    "def avg_log_loss_uma(preds, train_data):\n",
    "    labels = train_data.get_label()\n",
    "    attack_lens = train_data.get_group()\n",
    "    \n",
    "    offset = 0\n",
    "    max_logloss = []\n",
    "    avg_max_logloss = 0.0\n",
    "    \n",
    "    if attack_lens is not None:\n",
    "    \n",
    "        for atk in attack_lens:\n",
    "            losses = [binary_log_loss(h,t) for h,t in zip(preds[offset:offset+atk], labels[offset:offset+atk])]\n",
    "            max_logloss.append(max(losses))\n",
    "            \n",
    "            offset += atk\n",
    "        \n",
    "        avg_max_logloss = np.mean(max_logloss)  \n",
    "        \n",
    "    return 'avg_binary_log_loss_under_max_attack', avg_max_logloss, False"
   ]
  },
  {
   "cell_type": "code",
   "execution_count": 49,
   "metadata": {},
   "outputs": [],
   "source": [
    "def eval_log_loss_uma(model, test, test_groups=None, svm=False):\n",
    "    \n",
    "    lgbm_test = lightgbm.Dataset(data=test.iloc[:,:-1].values, \n",
    "                                 label=test.iloc[:,-1].values,\n",
    "                                 group=test_groups,\n",
    "                                 free_raw_data=False)\n",
    "    \n",
    "    if svm: # no trees have been generated (used for evaluating other non-tree-based models like SVM)\n",
    "        # use the logit function (i.e., the inverse of the logistic function) to map probabilities output\n",
    "        # by sklearn's predict_proba in the range [0,1] to a real number in the range [-inf, +inf]\n",
    "        return avg_log_loss_uma(logit(model.predict_proba(test.iloc[:,:-1].values)[:,1]), \n",
    "                                               lgbm_test)[1]\n",
    "    \n",
    "    return avg_log_loss_uma(model.predict(test.iloc[:,:-1].values), \n",
    "                                               lgbm_test)[1]"
   ]
  },
  {
   "cell_type": "markdown",
   "metadata": {},
   "source": [
    "# <code>feval=avg_non_interferent_log_loss</code>\n",
    "\n",
    "Used for measuring the validity of any model (either _standard_, _baseline_, or _non-interferent_). More precisely, <code>avg_non_interferent_log_loss</code> is the weighted sum of the binary log loss and the binary log loss under maximal attack."
   ]
  },
  {
   "cell_type": "code",
   "execution_count": 50,
   "metadata": {},
   "outputs": [],
   "source": [
    "# LightGBM takes lambda x,y: avg_weighted_sum_log_loss_log_loss_uma(preds, train_data, alpha=0.5)\n",
    "\n",
    "def avg_non_interferent_log_loss(preds, train_data, alpha=1.0):\n",
    "    \n",
    "    # binary logloss under maximal attack\n",
    "    _, loss_uma, _    = avg_log_loss_uma(preds, train_data)\n",
    "    \n",
    "    # binary logloss (plain)\n",
    "    # _, loss_plain, _  = avg_log_loss(preds, train_data)\n",
    "    \n",
    "    ids = []\n",
    "    attack_lens = train_data.get_group()\n",
    "    \n",
    "    if attack_lens is not None:\n",
    "        offset=0\n",
    "        for atk in attack_lens:\n",
    "            ids += [offset]\n",
    "            offset += atk      \n",
    "            \n",
    "    ids = np.array(ids)\n",
    "    labels = train_data.get_label()\n",
    "    losses = np.log(1.0 + np.exp(-preds[ids]*labels[ids]))\n",
    "    loss_plain = np.mean(losses)\n",
    "\n",
    "    # combine the above two losses together\n",
    "    weighted_loss = alpha*loss_uma + (1.0-alpha)*loss_plain\n",
    "\n",
    "    return 'avg_non_interferent_log_loss [alpha={:.2f}]'.format(alpha), weighted_loss, False\n",
    "\n",
    "def eval_non_interferent_log_loss(model, test, test_groups=None, svm=False, alpha=1.0):\n",
    "    \n",
    "    lgbm_test = lightgbm.Dataset(data=test.iloc[:,:-1].values, \n",
    "                                 label=test.iloc[:,-1].values,\n",
    "                                 group=test_groups,\n",
    "                                 free_raw_data=False)\n",
    "    \n",
    "    if svm: # no trees have been generated (used for evaluating other non-tree-based models like SVM)\n",
    "        # use the logit function (i.e., the inverse of the logistic function) to map probabilities output\n",
    "        # by sklearn's predict_proba in the range [0,1] to a real number in the range [-inf, +inf]\n",
    "        return avg_non_interferent_log_loss(logit(model.predict_proba(test.iloc[:,:-1].values)[:,1]), \n",
    "                                                  lgbm_test,\n",
    "                                                  alpha=alpha\n",
    "                                                 )[1]\n",
    "    \n",
    "    return avg_non_interferent_log_loss(model.predict(test.iloc[:,:-1].values), \n",
    "                                                  lgbm_test,\n",
    "                                                  alpha=alpha\n",
    "                                                 )[1]"
   ]
  },
  {
   "cell_type": "markdown",
   "metadata": {},
   "source": [
    "# Additional validity measures\n",
    "\n",
    "In addition to the evaluation metrics defined above (used for training), we also consider the following **4** measures of validity to compare the performance of each learned model:\n",
    "\n",
    "-  <code>eval_binary_err_rate</code>: This is the traditional binary error rate (1-accuracy);\n",
    "-  <code>eval_binary_err_rate_uma</code>: This is the binary error rate modified to operate on groups of perturbed instances under maximal attack.\n",
    "-  <code>eval_roc_auc</code>: This is the classical ROC AUC score;\n",
    "-  <code>eval_roc_auc_uma</code>: This is the ROC AUC score modified to operate on groups of perturbed instances under maximal attack.\n",
    "\n",
    "Again, note that those are **not** metrics used at training time (i.e., they do not define any <code>feval</code>), rather they are used to assess the (offline) quality of each learned model."
   ]
  },
  {
   "cell_type": "markdown",
   "metadata": {},
   "source": [
    "# <code>eval_binary_err_rate</code>"
   ]
  },
  {
   "cell_type": "code",
   "execution_count": 51,
   "metadata": {
    "scrolled": true
   },
   "outputs": [],
   "source": [
    "def eval_binary_err_rate(model, test_set, test_groups=None, svm=False):\n",
    "    X = test_set.iloc[:,:-1].values\n",
    "    labels = test_set.iloc[:,-1].values\n",
    "    \n",
    "    model_predictions = []\n",
    "    if svm: # no trees have been generated (used for evaluating other non-tree-based models like SVM)\n",
    "        # use the logit function (i.e., the inverse of the logistic function) to map probabilities output\n",
    "        # by sklearn's predict_proba in the range [0,1] to a real number in the range [-inf, +inf]\n",
    "        model_predictions = logit(model.predict_proba(X)[:,1])\n",
    "    else:\n",
    "        model_predictions = model.predict(X)\n",
    "        \n",
    "    predictions = [1 if p > 0 else -1 for p in model_predictions]\n",
    "    \n",
    "    errs = 0\n",
    "    for p,l in zip(predictions,labels):\n",
    "        if p != l:\n",
    "            errs += 1\n",
    "    return errs/len(predictions)"
   ]
  },
  {
   "cell_type": "markdown",
   "metadata": {},
   "source": [
    "# <code>eval_binary_err_rate_uma</code>"
   ]
  },
  {
   "cell_type": "code",
   "execution_count": 52,
   "metadata": {},
   "outputs": [],
   "source": [
    "def eval_binary_err_rate_uma(model, test_set, test_groups=None, svm=False):\n",
    "    X = test_set.iloc[:,:-1].values\n",
    "    labels = test_set.iloc[:,-1].values\n",
    "    \n",
    "    model_predictions = []\n",
    "    if svm: # no trees have been generated (used for evaluating other non-tree-based models like SVM)\n",
    "        # use the logit function (i.e., the inverse of the logistic function) to map probabilities output\n",
    "        # by sklearn's predict_proba in the range [0,1] to a real number in the range [-inf, +inf]\n",
    "        model_predictions = logit(model.predict_proba(X)[:,1])\n",
    "    else:\n",
    "        model_predictions = model.predict(X)\n",
    "        \n",
    "    predictions = [1 if p > 0 else -1 for p in model_predictions]\n",
    "    \n",
    "    offset = 0\n",
    "    errs = 0\n",
    "\n",
    "    for g in test_groups:\n",
    "        predictions_att = predictions[offset:offset+g]\n",
    "        true_label = labels[offset]\n",
    "        if np.any([p != true_label for p in predictions_att]):\n",
    "            errs += 1\n",
    "        offset += g\n",
    "\n",
    "    return errs/len(test_groups)"
   ]
  },
  {
   "cell_type": "markdown",
   "metadata": {},
   "source": [
    "# <code>eval_roc_auc</code>"
   ]
  },
  {
   "cell_type": "code",
   "execution_count": 53,
   "metadata": {
    "scrolled": true
   },
   "outputs": [],
   "source": [
    "def eval_roc_auc(model, test_set, test_groups=None, svm=False):\n",
    "    X = test_set.iloc[:,:-1].values\n",
    "    labels = test_set.iloc[:,-1].values\n",
    "    \n",
    "    predictions = []\n",
    "    \n",
    "    if svm: # no trees have been generated (used for evaluating other non-tree-based models like SVM)\n",
    "        # use the logit function (i.e., the inverse of the logistic function) to map probabilities output\n",
    "        # by sklearn's predict_proba in the range [0,1] to a real number in the range [-inf, +inf]\n",
    "        predictions = logit(model.predict_proba(X)[:,1])\n",
    "    else:\n",
    "        predictions = model.predict(X)\n",
    "        \n",
    "    \n",
    "    return roc_auc_score(y_true=labels, y_score=predictions)"
   ]
  },
  {
   "cell_type": "markdown",
   "metadata": {},
   "source": [
    "# <code>eval_roc_auc_uma</code>"
   ]
  },
  {
   "cell_type": "code",
   "execution_count": 54,
   "metadata": {
    "scrolled": true
   },
   "outputs": [],
   "source": [
    "def eval_roc_auc_uma(model, test_set, test_groups=None, svm=False):\n",
    "    X = test_set.iloc[:,:-1].values\n",
    "    labels = test_set.iloc[:,-1].values\n",
    "    \n",
    "    predictions = []\n",
    "    \n",
    "    if svm: # no trees have been generated (used for evaluating other non-tree-based models like SVM)\n",
    "        # use the logit function (i.e., the inverse of the logistic function) to map probabilities output\n",
    "        # by sklearn's predict_proba in the range [0,1] to a real number in the range [-inf, +inf]\n",
    "        predictions = logit(model.predict_proba(X)[:,1])\n",
    "    else:\n",
    "        predictions = model.predict(X)\n",
    "    \n",
    "    \n",
    "    offset = 0\n",
    "    true_labels = []\n",
    "    worst_predictions = []\n",
    "    \n",
    "    for g in test_groups:\n",
    "        \n",
    "        true_label = labels[offset]\n",
    "        true_labels.append(true_label)\n",
    "        predictions_att = predictions[offset:offset+g]\n",
    "        if true_label == 1:\n",
    "            worst_predictions.append(np.min(predictions_att))\n",
    "        else:\n",
    "            worst_predictions.append(np.max(predictions_att))\n",
    "    \n",
    "        offset += g\n",
    "        \n",
    "    return roc_auc_score(y_true=true_labels, y_score=worst_predictions)"
   ]
  },
  {
   "cell_type": "markdown",
   "metadata": {},
   "source": [
    "# <code>eval_specificity</code>"
   ]
  },
  {
   "cell_type": "code",
   "execution_count": 55,
   "metadata": {},
   "outputs": [],
   "source": [
    "def eval_specificity(model, test_set, test_groups=None, svm=False):\n",
    "    X = test_set.iloc[:,:-1].values\n",
    "    labels = test_set.iloc[:,-1].values\n",
    "    \n",
    "    model_predictions = []\n",
    "    if svm: # no trees have been generated (used for evaluating other non-tree-based models like SVM)\n",
    "        # use the logit function (i.e., the inverse of the logistic function) to map probabilities output\n",
    "        # by sklearn's predict_proba in the range [0,1] to a real number in the range [-inf, +inf]\n",
    "        model_predictions = logit(model.predict_proba(X)[:,1])\n",
    "    else:\n",
    "        model_predictions = model.predict(X)\n",
    "        \n",
    "    predictions = [1 if p > 0 else -1 for p in model_predictions]\n",
    "\n",
    "    tn, fp, fn, tp = confusion_matrix(labels, predictions).ravel()\n",
    "\n",
    "    return tn/(tn + fp)"
   ]
  },
  {
   "cell_type": "markdown",
   "metadata": {},
   "source": [
    "# <code>eval_specificity_uma</code>"
   ]
  },
  {
   "cell_type": "code",
   "execution_count": 56,
   "metadata": {},
   "outputs": [],
   "source": [
    "def eval_specificity_uma(model, test_set, test_groups=None, svm=False):\n",
    "    X = test_set.iloc[:,:-1].values\n",
    "    labels = test_set.iloc[:,-1].values\n",
    "    \n",
    "    model_predictions = []\n",
    "    if svm: # no trees have been generated (used for evaluating other non-tree-based models like SVM)\n",
    "        # use the logit function (i.e., the inverse of the logistic function) to map probabilities output\n",
    "        # by sklearn's predict_proba in the range [0,1] to a real number in the range [-inf, +inf]\n",
    "        model_predictions = logit(model.predict_proba(X)[:,1])\n",
    "    else:\n",
    "        model_predictions = model.predict(X)\n",
    "        \n",
    "    predictions = [1 if p > 0 else -1 for p in model_predictions]\n",
    "    \n",
    "    offset = 0\n",
    "    true_labels = []\n",
    "    worst_predictions = []\n",
    "    \n",
    "    for g in test_groups:\n",
    "        true_label = labels[offset]\n",
    "        true_labels.append(true_label)\n",
    "        predictions_att = predictions[offset:offset+g]\n",
    "        if true_label == 1:\n",
    "            worst_predictions.append(np.min(predictions_att))\n",
    "        else:\n",
    "            worst_predictions.append(np.max(predictions_att))\n",
    "    \n",
    "        offset += g\n",
    "        \n",
    "    tn, fp, fn, tp = confusion_matrix(true_labels, worst_predictions).ravel()\n",
    "\n",
    "    return tn/(tn + fp)"
   ]
  },
  {
   "cell_type": "markdown",
   "metadata": {},
   "source": [
    "# <code>eval_precision</code>"
   ]
  },
  {
   "cell_type": "code",
   "execution_count": 57,
   "metadata": {},
   "outputs": [],
   "source": [
    "def eval_precision(model, test_set, test_groups=None, svm=False):\n",
    "    X = test_set.iloc[:,:-1].values\n",
    "    labels = test_set.iloc[:,-1].values\n",
    "    \n",
    "    model_predictions = []\n",
    "    if svm: # no trees have been generated (used for evaluating other non-tree-based models like SVM)\n",
    "        # use the logit function (i.e., the inverse of the logistic function) to map probabilities output\n",
    "        # by sklearn's predict_proba in the range [0,1] to a real number in the range [-inf, +inf]\n",
    "        model_predictions = logit(model.predict_proba(X)[:,1])\n",
    "    else:\n",
    "        model_predictions = model.predict(X)\n",
    "        \n",
    "    predictions = [1 if p > 0 else -1 for p in model_predictions]\n",
    "\n",
    "    tn, fp, fn, tp = confusion_matrix(labels, predictions).ravel()\n",
    "\n",
    "    return tp/(tp + fp)"
   ]
  },
  {
   "cell_type": "markdown",
   "metadata": {},
   "source": [
    "# <code>eval_precision_uma</code>"
   ]
  },
  {
   "cell_type": "code",
   "execution_count": 58,
   "metadata": {},
   "outputs": [],
   "source": [
    "def eval_precision_uma(model, test_set, test_groups=None, svm=False):\n",
    "    X = test_set.iloc[:,:-1].values\n",
    "    labels = test_set.iloc[:,-1].values\n",
    "    \n",
    "    model_predictions = []\n",
    "    if svm: # no trees have been generated (used for evaluating other non-tree-based models like SVM)\n",
    "        # use the logit function (i.e., the inverse of the logistic function) to map probabilities output\n",
    "        # by sklearn's predict_proba in the range [0,1] to a real number in the range [-inf, +inf]\n",
    "        model_predictions = logit(model.predict_proba(X)[:,1])\n",
    "    else:\n",
    "        model_predictions = model.predict(X)\n",
    "        \n",
    "    predictions = [1 if p > 0 else -1 for p in model_predictions]\n",
    "    \n",
    "    offset = 0\n",
    "    true_labels = []\n",
    "    worst_predictions = []\n",
    "    \n",
    "    for g in test_groups:\n",
    "        true_label = labels[offset]\n",
    "        true_labels.append(true_label)\n",
    "        predictions_att = predictions[offset:offset+g]\n",
    "        if true_label == 1:\n",
    "            worst_predictions.append(np.min(predictions_att))\n",
    "        else:\n",
    "            worst_predictions.append(np.max(predictions_att))\n",
    "    \n",
    "        offset += g\n",
    "        \n",
    "    tn, fp, fn, tp = confusion_matrix(true_labels, worst_predictions).ravel()\n",
    "\n",
    "    return tp/(tp + fp)"
   ]
  },
  {
   "cell_type": "markdown",
   "metadata": {},
   "source": [
    "# <code>eval_recall</code>"
   ]
  },
  {
   "cell_type": "code",
   "execution_count": 59,
   "metadata": {},
   "outputs": [],
   "source": [
    "def eval_recall(model, test_set, test_groups=None, svm=False):\n",
    "    X = test_set.iloc[:,:-1].values\n",
    "    labels = test_set.iloc[:,-1].values\n",
    "    \n",
    "    model_predictions = []\n",
    "    if svm: # no trees have been generated (used for evaluating other non-tree-based models like SVM)\n",
    "        # use the logit function (i.e., the inverse of the logistic function) to map probabilities output\n",
    "        # by sklearn's predict_proba in the range [0,1] to a real number in the range [-inf, +inf]\n",
    "        model_predictions = logit(model.predict_proba(X)[:,1])\n",
    "    else:\n",
    "        model_predictions = model.predict(X)\n",
    "        \n",
    "    predictions = [1 if p > 0 else -1 for p in model_predictions]\n",
    "\n",
    "    tn, fp, fn, tp = confusion_matrix(labels, predictions).ravel()\n",
    "\n",
    "    return tp/(tp + fn)"
   ]
  },
  {
   "cell_type": "markdown",
   "metadata": {},
   "source": [
    "# <code>eval_recall_uma</code>"
   ]
  },
  {
   "cell_type": "code",
   "execution_count": 60,
   "metadata": {},
   "outputs": [],
   "source": [
    "def eval_recall_uma(model, test_set, test_groups=None, svm=False):\n",
    "    X = test_set.iloc[:,:-1].values\n",
    "    labels = test_set.iloc[:,-1].values\n",
    "    \n",
    "    model_predictions = []\n",
    "    if svm: # no trees have been generated (used for evaluating other non-tree-based models like SVM)\n",
    "        # use the logit function (i.e., the inverse of the logistic function) to map probabilities output\n",
    "        # by sklearn's predict_proba in the range [0,1] to a real number in the range [-inf, +inf]\n",
    "        model_predictions = logit(model.predict_proba(X)[:,1])\n",
    "    else:\n",
    "        model_predictions = model.predict(X)\n",
    "        \n",
    "    predictions = [1 if p > 0 else -1 for p in model_predictions]\n",
    "    \n",
    "    offset = 0\n",
    "    true_labels = []\n",
    "    worst_predictions = []\n",
    "    \n",
    "    for g in test_groups:\n",
    "        true_label = labels[offset]\n",
    "        true_labels.append(true_label)\n",
    "        predictions_att = predictions[offset:offset+g]\n",
    "        if true_label == 1:\n",
    "            worst_predictions.append(np.min(predictions_att))\n",
    "        else:\n",
    "            worst_predictions.append(np.max(predictions_att))\n",
    "    \n",
    "        offset += g\n",
    "        \n",
    "    tn, fp, fn, tp = confusion_matrix(true_labels, worst_predictions).ravel()\n",
    "\n",
    "    return tp/(tp + fn)"
   ]
  },
  {
   "cell_type": "markdown",
   "metadata": {},
   "source": [
    "# <code>eval_f1</code>"
   ]
  },
  {
   "cell_type": "code",
   "execution_count": 61,
   "metadata": {
    "scrolled": true
   },
   "outputs": [],
   "source": [
    "def eval_f1(model, test_set, test_groups=None, svm=False):\n",
    "    X = test_set.iloc[:,:-1].values\n",
    "    labels = test_set.iloc[:,-1].values\n",
    "    \n",
    "    model_predictions = []\n",
    "    if svm: # no trees have been generated (used for evaluating other non-tree-based models like SVM)\n",
    "        # use the logit function (i.e., the inverse of the logistic function) to map probabilities output\n",
    "        # by sklearn's predict_proba in the range [0,1] to a real number in the range [-inf, +inf]\n",
    "        model_predictions = logit(model.predict_proba(X)[:,1])\n",
    "    else:\n",
    "        model_predictions = model.predict(X)\n",
    "        \n",
    "    predictions = [1 if p > 0 else -1 for p in model_predictions]\n",
    "    \n",
    "    return f1_score(y_true=labels, y_pred=predictions, average='macro')"
   ]
  },
  {
   "cell_type": "markdown",
   "metadata": {},
   "source": [
    "# <code>eval_f1_uma</code>"
   ]
  },
  {
   "cell_type": "code",
   "execution_count": 62,
   "metadata": {
    "scrolled": true
   },
   "outputs": [],
   "source": [
    "def eval_f1_uma(model, test_set, test_groups=None, svm=False):\n",
    "    X = test_set.iloc[:,:-1].values\n",
    "    labels = test_set.iloc[:,-1].values\n",
    "    \n",
    "    model_predictions = []\n",
    "    if svm: # no trees have been generated (used for evaluating other non-tree-based models like SVM)\n",
    "        # use the logit function (i.e., the inverse of the logistic function) to map probabilities output\n",
    "        # by sklearn's predict_proba in the range [0,1] to a real number in the range [-inf, +inf]\n",
    "        model_predictions = logit(model.predict_proba(X)[:,1])\n",
    "    else:\n",
    "        model_predictions = model.predict(X)\n",
    "        \n",
    "    predictions = [1 if p > 0 else -1 for p in model_predictions]\n",
    "    \n",
    "    offset = 0\n",
    "    true_labels = []\n",
    "    worst_predictions = []\n",
    "    \n",
    "    for g in test_groups:\n",
    "        true_label = labels[offset]\n",
    "        true_labels.append(true_label)\n",
    "        predictions_att = predictions[offset:offset+g]\n",
    "        if true_label == 1:\n",
    "            worst_predictions.append(np.min(predictions_att))\n",
    "        else:\n",
    "            worst_predictions.append(np.max(predictions_att))\n",
    "    \n",
    "        offset += g\n",
    "        \n",
    "    return f1_score(y_true=true_labels, y_pred=worst_predictions, average='macro')"
   ]
  },
  {
   "cell_type": "markdown",
   "metadata": {},
   "source": [
    "# Evaluation metrics"
   ]
  },
  {
   "cell_type": "code",
   "execution_count": 63,
   "metadata": {},
   "outputs": [],
   "source": [
    "EVAL_METRICS = [eval_log_loss, \n",
    "                eval_binary_err_rate,\n",
    "                eval_specificity,\n",
    "                eval_precision,\n",
    "                eval_recall,\n",
    "                eval_f1,\n",
    "                eval_roc_auc\n",
    "               ]\n",
    "\n",
    "EVAL_METRICS_UNDER_MAX_ATTACK = [eval_log_loss_uma,\n",
    "                                 eval_binary_err_rate_uma,\n",
    "                                 eval_specificity_uma,\n",
    "                                 eval_precision_uma,\n",
    "                                 eval_recall_uma,\n",
    "                                 eval_f1_uma,\n",
    "                                 eval_roc_auc_uma\n",
    "                                ]"
   ]
  },
  {
   "cell_type": "markdown",
   "metadata": {},
   "source": [
    "# Evaluate each model w.r.t. _all_ evaluation metrics"
   ]
  },
  {
   "cell_type": "code",
   "execution_count": 64,
   "metadata": {},
   "outputs": [],
   "source": [
    "def eval_learned_model(model, eval_metric, test, test_groups=None, svm=False):\n",
    "    return eval_metric(model, test, test_groups=test_groups, svm=svm)"
   ]
  },
  {
   "cell_type": "code",
   "execution_count": 65,
   "metadata": {},
   "outputs": [],
   "source": [
    "def eval_learned_models(model, model_type, test, test_groups=None, budget=0):\n",
    "\n",
    "    eval_metrics = EVAL_METRICS\n",
    "    d_test = \"D_test\"\n",
    "    if test_groups is not None:\n",
    "        eval_metrics = EVAL_METRICS_UNDER_MAX_ATTACK\n",
    "        d_test = \"D_test_att\"\n",
    "    \n",
    "    header = ['Model'] + ['Budget'] + [m.__name__.replace('eval_','').replace('_',' ').strip().title() \n",
    "                                       for m in EVAL_METRICS]\n",
    "    df = pd.DataFrame(columns=header)\n",
    "    first_row = [model_type] + [budget] + [None for m in EVAL_METRICS]\n",
    "    df.loc[0] = first_row\n",
    "    \n",
    "    svm = False\n",
    "    if model_type == \"SVM\":\n",
    "        svm = True\n",
    "\n",
    "    for eval_metric in eval_metrics:\n",
    "        res = eval_learned_model(model, eval_metric, test, test_groups=test_groups, svm=svm)\n",
    "        print(\"{} learning - {} on {} = {:.5f}\"\n",
    "                  .format(model_type, eval_metric.__name__, d_test, res))\n",
    "        column_metric = eval_metric.__name__\n",
    "        if eval_metric.__name__.endswith(\"uma\"):\n",
    "            column_metric = eval_metric.__name__.replace('uma', '')\n",
    "        df[column_metric.replace('eval_','').replace('_',' ').strip().title()] = res\n",
    "\n",
    "    print(\"******************************************************************************************************\")\n",
    "    \n",
    "    return df"
   ]
  },
  {
   "cell_type": "markdown",
   "metadata": {},
   "source": [
    "# Path to files"
   ]
  },
  {
   "cell_type": "code",
   "execution_count": 66,
   "metadata": {},
   "outputs": [],
   "source": [
    "DATASET_NAME=\"census\" # census\n",
    "TRAINING_BUDGETS= [30] #15, 150, 300] \n",
    "\n",
    "# DATASET_NAME=\"wine2\"\n",
    "# TRAINING_BUDGETS= [20, 30, 40] "
   ]
  },
  {
   "cell_type": "code",
   "execution_count": 67,
   "metadata": {},
   "outputs": [],
   "source": [
    "DATASET_DIR=\"../data/{}\".format(DATASET_NAME)\n",
    "ATK_DIR=DATASET_DIR + \"/attacks\"\n",
    "MODELS_DIR=\"../out/models/{}\".format(DATASET_NAME)\n",
    "OUTPUT_FILENAME=\"../out/results/{}\".format(DATASET_NAME)\n",
    "\n",
    "TRAINING_FILENAME=DATASET_DIR + \"/\" + \"train.csv.bz2\"\n",
    "TRAINING_FILENAME_ATT=ATK_DIR + \"/\" + \"train_B{}.atks.bz2\"\n",
    "\n",
    "VALIDATION_FILENAME=DATASET_DIR + \"/\" + \"valid.csv.bz2\"\n",
    "VALIDATION_FILENAME_ATT=ATK_DIR + \"/\" + \"valid_B{}.atks.bz2\"\n",
    "\n",
    "TEST_FILENAME=DATASET_DIR + \"/\" + \"test.csv.bz2\"\n",
    "TEST_FILENAME_ATT=ATK_DIR + \"/\" + \"test_B{}.atks.bz2\""
   ]
  },
  {
   "cell_type": "markdown",
   "metadata": {},
   "source": [
    "# Load plain datasets"
   ]
  },
  {
   "cell_type": "code",
   "execution_count": 69,
   "metadata": {},
   "outputs": [
    {
     "name": "stdout",
     "output_type": "stream",
     "text": [
      "Pre-processing original files...\n",
      "Loading: ../data/census/train.csv.bz2\n",
      "Loading: ../data/census/valid.csv.bz2\n",
      "Loading: ../data/census/test.csv.bz2\n",
      "Train/Valid/Test sizes: (27144, 14) (3017, 14) (15059, 14)\n",
      "Train/Valid/Test split: 0.60 0.07 0.33\n",
      "CatFX: ['workclass', 'marital_status', 'occupation', 'relationship', 'race', 'sex', 'native_country']\n",
      "Train/Valid/Test sizes: (27132, 14) (9044, 14) (9044, 14)\n",
      "Train/Valid/Test split: 0.60 0.20 0.20\n",
      "Saving processed files *.cat.bz2\n"
     ]
    }
   ],
   "source": [
    "# load train/valid/test (plain)\n",
    "TRAIN, VALID, TEST, _ = load_atk_train_valid_test(TRAINING_FILENAME, VALIDATION_FILENAME, TEST_FILENAME)"
   ]
  },
  {
   "cell_type": "markdown",
   "metadata": {},
   "source": [
    "# Load attacked datasets"
   ]
  },
  {
   "cell_type": "markdown",
   "metadata": {},
   "source": [
    "## Load an attacked dataset with a specific budget"
   ]
  },
  {
   "cell_type": "code",
   "execution_count": 70,
   "metadata": {},
   "outputs": [],
   "source": [
    "def load_attacked_dataset(budget):\n",
    "    # load train/valid/test (attacked)\n",
    "    train_att, valid_att, test_att, _ = load_atk_train_valid_test(TRAINING_FILENAME_ATT.format(budget), \n",
    "                                                                  VALIDATION_FILENAME_ATT.format(budget), \n",
    "                                                                  TEST_FILENAME_ATT.format(budget))\n",
    "\n",
    "    test_groups = test_att['instance_id'].value_counts().sort_index().values\n",
    "    test_att = test_att.iloc[:, 1:]\n",
    "\n",
    "    valid_groups = valid_att['instance_id'].value_counts().sort_index().values\n",
    "    valid_att = valid_att.iloc[:, 1:]\n",
    "\n",
    "    train_groups = train_att['instance_id'].value_counts().sort_index().values\n",
    "    train_att = train_att.iloc[:, 1:]\n",
    "    \n",
    "    return train_att, train_groups, valid_att, valid_groups, test_att, test_groups"
   ]
  },
  {
   "cell_type": "markdown",
   "metadata": {},
   "source": [
    "## Load _all_ the attacked datasets given a list of budgets"
   ]
  },
  {
   "cell_type": "code",
   "execution_count": 71,
   "metadata": {},
   "outputs": [],
   "source": [
    "def load_attacked_datasets(budgets):\n",
    "    att_datasets = {}\n",
    "    for b in budgets:\n",
    "        att_datasets[b] = load_attacked_dataset(b)\n",
    "    \n",
    "    return att_datasets"
   ]
  },
  {
   "cell_type": "markdown",
   "metadata": {},
   "source": [
    "# Evaluate all models w.r.t. standard metrics (i.e., attack-free)"
   ]
  },
  {
   "cell_type": "code",
   "execution_count": 72,
   "metadata": {},
   "outputs": [],
   "source": [
    "def extract_model_name(model_filename):\n",
    "    model_fileroot = model_filename.split('/')[-1].split('.')[0]\n",
    "    model_name = model_fileroot.split('_')[0].title()\n",
    "    training_budget = ''\n",
    "    budget = model_fileroot.split('_B')[-1].split('_')[0]\n",
    "    try: \n",
    "        int(budget)\n",
    "        training_budget = ' [train budget={}]'.format(budget)\n",
    "    except:\n",
    "        pass\n",
    "    \n",
    "    return model_name + training_budget"
   ]
  },
  {
   "cell_type": "code",
   "execution_count": 73,
   "metadata": {},
   "outputs": [],
   "source": [
    "def load_model(model_file):\n",
    "    model = None\n",
    "    try:\n",
    "        model = lightgbm.Booster(model_file=model_file)\n",
    "    except:\n",
    "        print(\"LightGBM loading exception\")\n",
    "        try:\n",
    "            with open(model_file, 'rb') as mf:\n",
    "                model = dill.load(mf)\n",
    "                print(model)\n",
    "        except Exception as e:\n",
    "            print(e)\n",
    "            print(\"Dill loading exception\")\n",
    "            pass\n",
    "    \n",
    "    return model"
   ]
  },
  {
   "cell_type": "code",
   "execution_count": 74,
   "metadata": {},
   "outputs": [],
   "source": [
    "def eval_all_models(models_dir, test):\n",
    "    \n",
    "    model_csv = sorted(glob.glob(models_dir + \"/*.csv\"))\n",
    "    model_filenames = []\n",
    "    \n",
    "    for m in model_csv:\n",
    "        model_df = pd.read_csv(m)\n",
    "        print(model_df)\n",
    "        model_filenames.append(model_df.sort_values(by='metric')['filename'].iloc[0])\n",
    "    \n",
    "    print (\"### Evaluating Models:\", model_filenames)\n",
    "    \n",
    "    df = pd.concat([eval_learned_models(load_model(mf), \n",
    "                                        extract_model_name(mf), \n",
    "                                        test) for mf in model_filenames],\n",
    "                   axis=0,\n",
    "                   sort=False\n",
    "                  )\n",
    "    \n",
    "    df.reset_index(inplace=True, drop=True)\n",
    "    \n",
    "    return df"
   ]
  },
  {
   "cell_type": "code",
   "execution_count": 75,
   "metadata": {},
   "outputs": [
    {
     "name": "stdout",
     "output_type": "stream",
     "text": [
      "   num_trees  learning_rate  num_leaves  best_round    metric  \\\n",
      "0        100           0.05          24         100  0.392048   \n",
      "\n",
      "                                            filename  \n",
      "0  ../out/models/census/adv-boosting_census_B30_T...  \n",
      "   num_trees  learning_rate  num_leaves  best_round    metric  \\\n",
      "0        100           0.05          24          98  0.521056   \n",
      "\n",
      "                                            filename  \n",
      "0  ../out/models/census/red-gbdt_census_T100_S005...  \n",
      "   num_trees  learning_rate  num_leaves  best_round    metric  \\\n",
      "0        100           0.05          24         100  0.369207   \n",
      "\n",
      "                                            filename  \n",
      "0  ../out/models/census/std-gbdt_census_T100_S005...  \n",
      "### Evaluating Models: ['../out/models/census/adv-boosting_census_B30_T100_S0050_L24_R100.model', '../out/models/census/red-gbdt_census_T100_S0050_L24_R98.model', '../out/models/census/std-gbdt_census_T100_S0050_L24_R100.model']\n",
      "Adv-Boosting [train budget=30] learning - eval_log_loss on D_test = 0.46024\n",
      "Adv-Boosting [train budget=30] learning - eval_binary_err_rate on D_test = 0.13390\n",
      "Adv-Boosting [train budget=30] learning - eval_specificity on D_test = 0.93790\n",
      "Adv-Boosting [train budget=30] learning - eval_precision on D_test = 0.77118\n",
      "Adv-Boosting [train budget=30] learning - eval_recall on D_test = 0.64486\n",
      "Adv-Boosting [train budget=30] learning - eval_f1 on D_test = 0.80800\n",
      "Adv-Boosting [train budget=30] learning - eval_roc_auc on D_test = 0.92061\n",
      "******************************************************************************************************\n",
      "Red-Gbdt learning - eval_log_loss on D_test = 0.54969\n",
      "Red-Gbdt learning - eval_binary_err_rate on D_test = 0.24502\n",
      "Red-Gbdt learning - eval_specificity on D_test = 1.00000\n",
      "Red-Gbdt learning - eval_precision on D_test = nan\n",
      "Red-Gbdt learning - eval_recall on D_test = 0.00000\n",
      "Red-Gbdt learning - eval_f1 on D_test = 0.43019\n",
      "Red-Gbdt learning - eval_roc_auc on D_test = 0.76222\n",
      "******************************************************************************************************\n"
     ]
    },
    {
     "name": "stderr",
     "output_type": "stream",
     "text": [
      "/Users/gabriele/anaconda3/lib/python3.6/site-packages/ipykernel_launcher.py:17: RuntimeWarning: invalid value encountered in long_scalars\n",
      "/Users/gabriele/anaconda3/lib/python3.6/site-packages/sklearn/metrics/classification.py:1143: UndefinedMetricWarning: F-score is ill-defined and being set to 0.0 in labels with no predicted samples.\n",
      "  'precision', 'predicted', average, warn_for)\n"
     ]
    },
    {
     "name": "stdout",
     "output_type": "stream",
     "text": [
      "Std-Gbdt learning - eval_log_loss on D_test = 0.45738\n",
      "Std-Gbdt learning - eval_binary_err_rate on D_test = 0.13114\n",
      "Std-Gbdt learning - eval_specificity on D_test = 0.94244\n",
      "Std-Gbdt learning - eval_precision on D_test = 0.78359\n",
      "Std-Gbdt learning - eval_recall on D_test = 0.64215\n",
      "Std-Gbdt learning - eval_f1 on D_test = 0.81074\n",
      "Std-Gbdt learning - eval_roc_auc on D_test = 0.92228\n",
      "******************************************************************************************************\n"
     ]
    }
   ],
   "source": [
    "eval_std_df = eval_all_models(MODELS_DIR, TEST)"
   ]
  },
  {
   "cell_type": "code",
   "execution_count": 76,
   "metadata": {},
   "outputs": [
    {
     "data": {
      "text/html": [
       "<div>\n",
       "<style scoped>\n",
       "    .dataframe tbody tr th:only-of-type {\n",
       "        vertical-align: middle;\n",
       "    }\n",
       "\n",
       "    .dataframe tbody tr th {\n",
       "        vertical-align: top;\n",
       "    }\n",
       "\n",
       "    .dataframe thead th {\n",
       "        text-align: right;\n",
       "    }\n",
       "</style>\n",
       "<table border=\"1\" class=\"dataframe\">\n",
       "  <thead>\n",
       "    <tr style=\"text-align: right;\">\n",
       "      <th></th>\n",
       "      <th>Model</th>\n",
       "      <th>Budget</th>\n",
       "      <th>Log Loss</th>\n",
       "      <th>Binary Err Rate</th>\n",
       "      <th>Specificity</th>\n",
       "      <th>Precision</th>\n",
       "      <th>Recall</th>\n",
       "      <th>F1</th>\n",
       "      <th>Roc Auc</th>\n",
       "    </tr>\n",
       "  </thead>\n",
       "  <tbody>\n",
       "    <tr>\n",
       "      <th>0</th>\n",
       "      <td>Adv-Boosting [train budget=30]</td>\n",
       "      <td>0</td>\n",
       "      <td>0.460236</td>\n",
       "      <td>0.133901</td>\n",
       "      <td>0.937903</td>\n",
       "      <td>0.771182</td>\n",
       "      <td>0.644856</td>\n",
       "      <td>0.808001</td>\n",
       "      <td>0.920608</td>\n",
       "    </tr>\n",
       "    <tr>\n",
       "      <th>1</th>\n",
       "      <td>Red-Gbdt</td>\n",
       "      <td>0</td>\n",
       "      <td>0.549691</td>\n",
       "      <td>0.245024</td>\n",
       "      <td>1.000000</td>\n",
       "      <td>NaN</td>\n",
       "      <td>0.000000</td>\n",
       "      <td>0.430192</td>\n",
       "      <td>0.762222</td>\n",
       "    </tr>\n",
       "    <tr>\n",
       "      <th>2</th>\n",
       "      <td>Std-Gbdt</td>\n",
       "      <td>0</td>\n",
       "      <td>0.457377</td>\n",
       "      <td>0.131137</td>\n",
       "      <td>0.942443</td>\n",
       "      <td>0.783590</td>\n",
       "      <td>0.642148</td>\n",
       "      <td>0.810738</td>\n",
       "      <td>0.922283</td>\n",
       "    </tr>\n",
       "  </tbody>\n",
       "</table>\n",
       "</div>"
      ],
      "text/plain": [
       "                            Model Budget  Log Loss  Binary Err Rate  \\\n",
       "0  Adv-Boosting [train budget=30]      0  0.460236         0.133901   \n",
       "1                        Red-Gbdt      0  0.549691         0.245024   \n",
       "2                        Std-Gbdt      0  0.457377         0.131137   \n",
       "\n",
       "   Specificity  Precision    Recall        F1   Roc Auc  \n",
       "0     0.937903   0.771182  0.644856  0.808001  0.920608  \n",
       "1     1.000000        NaN  0.000000  0.430192  0.762222  \n",
       "2     0.942443   0.783590  0.642148  0.810738  0.922283  "
      ]
     },
     "execution_count": 76,
     "metadata": {},
     "output_type": "execute_result"
    }
   ],
   "source": [
    "eval_std_df"
   ]
  },
  {
   "cell_type": "markdown",
   "metadata": {},
   "source": [
    "# Evaluate all models w.r.t. custom metrics (i.e., under attack)"
   ]
  },
  {
   "cell_type": "code",
   "execution_count": 77,
   "metadata": {},
   "outputs": [
    {
     "name": "stdout",
     "output_type": "stream",
     "text": [
      "Pre-processing original files...\n",
      "Loading: ../data/census/attacks/train_B30.atks.bz2\n",
      "Loading: ../data/census/attacks/valid_B30.atks.bz2\n",
      "Loading: ../data/census/attacks/test_B30.atks.bz2\n",
      "Train/Valid/Test sizes: (75287, 15) (8308, 15) (41872, 15)\n",
      "Train/Valid/Test split: 0.60 0.07 0.33\n",
      "   ... with instance ids\n",
      "CatFX: ['workclass', 'marital_status', 'occupation', 'relationship', 'race', 'sex', 'native_country']\n",
      "Train/Valid/Test sizes: (75264, 15) (25084, 15) (25119, 15)\n",
      "Train/Valid/Test split: 0.60 0.20 0.20\n",
      "Saving processed files *.cat.bz2\n"
     ]
    }
   ],
   "source": [
    "att_datasets = load_attacked_datasets(TRAINING_BUDGETS)"
   ]
  },
  {
   "cell_type": "code",
   "execution_count": 78,
   "metadata": {},
   "outputs": [],
   "source": [
    "def eval_all_models_under_attack_budget(models_dir, test, test_groups, budget):\n",
    "    \n",
    "    #model_filenames = sorted(glob.glob(models_dir + \"/*.model\"))\n",
    "    \n",
    "    model_csv = sorted(glob.glob(models_dir + \"/*.csv\"))\n",
    "    model_filenames = []\n",
    "    \n",
    "    for m in model_csv:\n",
    "        model_df = pd.read_csv(m)\n",
    "        model_filenames.append(model_df.sort_values(by='metric')['filename'].iloc[0])\n",
    "    \n",
    "    \n",
    "    df = pd.concat([eval_learned_models(lightgbm.Booster(model_file=mf), \n",
    "                                        extract_model_name(mf), \n",
    "                                        test,\n",
    "                                        test_groups, \n",
    "                                        budget=budget\n",
    "                                       ) for mf in model_filenames],\n",
    "                   axis=0,\n",
    "                   sort=False\n",
    "                  )\n",
    "    \n",
    "    df.reset_index(inplace=True, drop=True)\n",
    "    \n",
    "    return df"
   ]
  },
  {
   "cell_type": "code",
   "execution_count": 79,
   "metadata": {},
   "outputs": [],
   "source": [
    "def eval_all_models_under_attack(models_dir, att_tests, budgets):\n",
    "    \n",
    "    eval_att_dfs = []\n",
    "\n",
    "    for b in TRAINING_BUDGETS:\n",
    "    \n",
    "        eval_att_dfs.append(eval_all_models_under_attack_budget(models_dir, att_tests[b][4], att_tests[b][5], b))\n",
    "        \n",
    "        \n",
    "    eval_att_df = functools.reduce(lambda left,right: pd.merge(left,right,on=['Model', 'Budget']), eval_att_dfs)\n",
    "    eval_att_df = pd.concat(eval_att_dfs, axis=0, sort=False)\n",
    "    eval_att_df.reset_index(inplace=True, drop=True)\n",
    "    \n",
    "    return eval_att_df"
   ]
  },
  {
   "cell_type": "code",
   "execution_count": 80,
   "metadata": {
    "scrolled": true
   },
   "outputs": [
    {
     "name": "stdout",
     "output_type": "stream",
     "text": [
      "Adv-Boosting [train budget=30] learning - eval_log_loss_uma on D_test_att = 0.46988\n",
      "Adv-Boosting [train budget=30] learning - eval_binary_err_rate_uma on D_test_att = 0.14684\n",
      "Adv-Boosting [train budget=30] learning - eval_specificity_uma on D_test_att = 0.93292\n",
      "Adv-Boosting [train budget=30] learning - eval_precision_uma on D_test_att = 0.74612\n",
      "Adv-Boosting [train budget=30] learning - eval_recall_uma on D_test_att = 0.60740\n",
      "Adv-Boosting [train budget=30] learning - eval_f1_uma on D_test_att = 0.78763\n",
      "Adv-Boosting [train budget=30] learning - eval_roc_auc_uma on D_test_att = 0.90644\n",
      "******************************************************************************************************\n",
      "Red-Gbdt learning - eval_log_loss_uma on D_test_att = 0.54969\n",
      "Red-Gbdt learning - eval_binary_err_rate_uma on D_test_att = 0.24502\n",
      "Red-Gbdt learning - eval_specificity_uma on D_test_att = 1.00000\n"
     ]
    },
    {
     "name": "stderr",
     "output_type": "stream",
     "text": [
      "/Users/gabriele/anaconda3/lib/python3.6/site-packages/ipykernel_launcher.py:32: RuntimeWarning: invalid value encountered in long_scalars\n"
     ]
    },
    {
     "name": "stdout",
     "output_type": "stream",
     "text": [
      "Red-Gbdt learning - eval_precision_uma on D_test_att = nan\n",
      "Red-Gbdt learning - eval_recall_uma on D_test_att = 0.00000\n"
     ]
    },
    {
     "name": "stderr",
     "output_type": "stream",
     "text": [
      "/Users/gabriele/anaconda3/lib/python3.6/site-packages/sklearn/metrics/classification.py:1143: UndefinedMetricWarning: F-score is ill-defined and being set to 0.0 in labels with no predicted samples.\n",
      "  'precision', 'predicted', average, warn_for)\n"
     ]
    },
    {
     "name": "stdout",
     "output_type": "stream",
     "text": [
      "Red-Gbdt learning - eval_f1_uma on D_test_att = 0.43019\n",
      "Red-Gbdt learning - eval_roc_auc_uma on D_test_att = 0.76222\n",
      "******************************************************************************************************\n",
      "Std-Gbdt learning - eval_log_loss_uma on D_test_att = 0.51265\n",
      "Std-Gbdt learning - eval_binary_err_rate_uma on D_test_att = 0.22103\n",
      "Std-Gbdt learning - eval_specificity_uma on D_test_att = 0.94244\n",
      "Std-Gbdt learning - eval_precision_uma on D_test_att = 0.60818\n",
      "Std-Gbdt learning - eval_recall_uma on D_test_att = 0.27527\n",
      "Std-Gbdt learning - eval_f1_uma on D_test_att = 0.62228\n",
      "Std-Gbdt learning - eval_roc_auc_uma on D_test_att = 0.81481\n",
      "******************************************************************************************************\n"
     ]
    }
   ],
   "source": [
    "eval_att_df = eval_all_models_under_attack(MODELS_DIR, att_datasets, TRAINING_BUDGETS)"
   ]
  },
  {
   "cell_type": "code",
   "execution_count": 81,
   "metadata": {},
   "outputs": [
    {
     "data": {
      "text/html": [
       "<div>\n",
       "<style scoped>\n",
       "    .dataframe tbody tr th:only-of-type {\n",
       "        vertical-align: middle;\n",
       "    }\n",
       "\n",
       "    .dataframe tbody tr th {\n",
       "        vertical-align: top;\n",
       "    }\n",
       "\n",
       "    .dataframe thead th {\n",
       "        text-align: right;\n",
       "    }\n",
       "</style>\n",
       "<table border=\"1\" class=\"dataframe\">\n",
       "  <thead>\n",
       "    <tr style=\"text-align: right;\">\n",
       "      <th></th>\n",
       "      <th>Model</th>\n",
       "      <th>Budget</th>\n",
       "      <th>Log Loss</th>\n",
       "      <th>Binary Err Rate</th>\n",
       "      <th>Specificity</th>\n",
       "      <th>Precision</th>\n",
       "      <th>Recall</th>\n",
       "      <th>F1</th>\n",
       "      <th>Roc Auc</th>\n",
       "    </tr>\n",
       "  </thead>\n",
       "  <tbody>\n",
       "    <tr>\n",
       "      <th>0</th>\n",
       "      <td>Adv-Boosting [train budget=30]</td>\n",
       "      <td>30</td>\n",
       "      <td>0.469877</td>\n",
       "      <td>0.146838</td>\n",
       "      <td>0.932923</td>\n",
       "      <td>0.746120</td>\n",
       "      <td>0.607401</td>\n",
       "      <td>0.787627</td>\n",
       "      <td>0.906443</td>\n",
       "    </tr>\n",
       "    <tr>\n",
       "      <th>1</th>\n",
       "      <td>Red-Gbdt</td>\n",
       "      <td>30</td>\n",
       "      <td>0.549691</td>\n",
       "      <td>0.245024</td>\n",
       "      <td>1.000000</td>\n",
       "      <td>NaN</td>\n",
       "      <td>0.000000</td>\n",
       "      <td>0.430192</td>\n",
       "      <td>0.762222</td>\n",
       "    </tr>\n",
       "    <tr>\n",
       "      <th>2</th>\n",
       "      <td>Std-Gbdt</td>\n",
       "      <td>30</td>\n",
       "      <td>0.512652</td>\n",
       "      <td>0.221031</td>\n",
       "      <td>0.942443</td>\n",
       "      <td>0.608175</td>\n",
       "      <td>0.275271</td>\n",
       "      <td>0.622279</td>\n",
       "      <td>0.814810</td>\n",
       "    </tr>\n",
       "  </tbody>\n",
       "</table>\n",
       "</div>"
      ],
      "text/plain": [
       "                            Model Budget  Log Loss  Binary Err Rate  \\\n",
       "0  Adv-Boosting [train budget=30]     30  0.469877         0.146838   \n",
       "1                        Red-Gbdt     30  0.549691         0.245024   \n",
       "2                        Std-Gbdt     30  0.512652         0.221031   \n",
       "\n",
       "   Specificity  Precision    Recall        F1   Roc Auc  \n",
       "0     0.932923   0.746120  0.607401  0.787627  0.906443  \n",
       "1     1.000000        NaN  0.000000  0.430192  0.762222  \n",
       "2     0.942443   0.608175  0.275271  0.622279  0.814810  "
      ]
     },
     "execution_count": 81,
     "metadata": {},
     "output_type": "execute_result"
    }
   ],
   "source": [
    "eval_att_df.head()"
   ]
  },
  {
   "cell_type": "code",
   "execution_count": 82,
   "metadata": {},
   "outputs": [],
   "source": [
    "overall_df = pd.concat([eval_std_df, eval_att_df], \n",
    "                       axis=0, \n",
    "                       sort=False)\n",
    "overall_df.reset_index(inplace=True, drop=True)"
   ]
  },
  {
   "cell_type": "code",
   "execution_count": 83,
   "metadata": {},
   "outputs": [
    {
     "data": {
      "text/html": [
       "<div>\n",
       "<style scoped>\n",
       "    .dataframe tbody tr th:only-of-type {\n",
       "        vertical-align: middle;\n",
       "    }\n",
       "\n",
       "    .dataframe tbody tr th {\n",
       "        vertical-align: top;\n",
       "    }\n",
       "\n",
       "    .dataframe thead th {\n",
       "        text-align: right;\n",
       "    }\n",
       "</style>\n",
       "<table border=\"1\" class=\"dataframe\">\n",
       "  <thead>\n",
       "    <tr style=\"text-align: right;\">\n",
       "      <th></th>\n",
       "      <th>Model</th>\n",
       "      <th>Budget</th>\n",
       "      <th>Log Loss</th>\n",
       "      <th>Binary Err Rate</th>\n",
       "      <th>Specificity</th>\n",
       "      <th>Precision</th>\n",
       "      <th>Recall</th>\n",
       "      <th>F1</th>\n",
       "      <th>Roc Auc</th>\n",
       "    </tr>\n",
       "  </thead>\n",
       "  <tbody>\n",
       "    <tr>\n",
       "      <th>0</th>\n",
       "      <td>Adv-Boosting [train budget=30]</td>\n",
       "      <td>0</td>\n",
       "      <td>0.460236</td>\n",
       "      <td>0.133901</td>\n",
       "      <td>0.937903</td>\n",
       "      <td>0.771182</td>\n",
       "      <td>0.644856</td>\n",
       "      <td>0.808001</td>\n",
       "      <td>0.920608</td>\n",
       "    </tr>\n",
       "    <tr>\n",
       "      <th>1</th>\n",
       "      <td>Red-Gbdt</td>\n",
       "      <td>0</td>\n",
       "      <td>0.549691</td>\n",
       "      <td>0.245024</td>\n",
       "      <td>1.000000</td>\n",
       "      <td>NaN</td>\n",
       "      <td>0.000000</td>\n",
       "      <td>0.430192</td>\n",
       "      <td>0.762222</td>\n",
       "    </tr>\n",
       "    <tr>\n",
       "      <th>2</th>\n",
       "      <td>Std-Gbdt</td>\n",
       "      <td>0</td>\n",
       "      <td>0.457377</td>\n",
       "      <td>0.131137</td>\n",
       "      <td>0.942443</td>\n",
       "      <td>0.783590</td>\n",
       "      <td>0.642148</td>\n",
       "      <td>0.810738</td>\n",
       "      <td>0.922283</td>\n",
       "    </tr>\n",
       "    <tr>\n",
       "      <th>3</th>\n",
       "      <td>Adv-Boosting [train budget=30]</td>\n",
       "      <td>30</td>\n",
       "      <td>0.469877</td>\n",
       "      <td>0.146838</td>\n",
       "      <td>0.932923</td>\n",
       "      <td>0.746120</td>\n",
       "      <td>0.607401</td>\n",
       "      <td>0.787627</td>\n",
       "      <td>0.906443</td>\n",
       "    </tr>\n",
       "    <tr>\n",
       "      <th>4</th>\n",
       "      <td>Red-Gbdt</td>\n",
       "      <td>30</td>\n",
       "      <td>0.549691</td>\n",
       "      <td>0.245024</td>\n",
       "      <td>1.000000</td>\n",
       "      <td>NaN</td>\n",
       "      <td>0.000000</td>\n",
       "      <td>0.430192</td>\n",
       "      <td>0.762222</td>\n",
       "    </tr>\n",
       "    <tr>\n",
       "      <th>5</th>\n",
       "      <td>Std-Gbdt</td>\n",
       "      <td>30</td>\n",
       "      <td>0.512652</td>\n",
       "      <td>0.221031</td>\n",
       "      <td>0.942443</td>\n",
       "      <td>0.608175</td>\n",
       "      <td>0.275271</td>\n",
       "      <td>0.622279</td>\n",
       "      <td>0.814810</td>\n",
       "    </tr>\n",
       "  </tbody>\n",
       "</table>\n",
       "</div>"
      ],
      "text/plain": [
       "                            Model Budget  Log Loss  Binary Err Rate  \\\n",
       "0  Adv-Boosting [train budget=30]      0  0.460236         0.133901   \n",
       "1                        Red-Gbdt      0  0.549691         0.245024   \n",
       "2                        Std-Gbdt      0  0.457377         0.131137   \n",
       "3  Adv-Boosting [train budget=30]     30  0.469877         0.146838   \n",
       "4                        Red-Gbdt     30  0.549691         0.245024   \n",
       "5                        Std-Gbdt     30  0.512652         0.221031   \n",
       "\n",
       "   Specificity  Precision    Recall        F1   Roc Auc  \n",
       "0     0.937903   0.771182  0.644856  0.808001  0.920608  \n",
       "1     1.000000        NaN  0.000000  0.430192  0.762222  \n",
       "2     0.942443   0.783590  0.642148  0.810738  0.922283  \n",
       "3     0.932923   0.746120  0.607401  0.787627  0.906443  \n",
       "4     1.000000        NaN  0.000000  0.430192  0.762222  \n",
       "5     0.942443   0.608175  0.275271  0.622279  0.814810  "
      ]
     },
     "execution_count": 83,
     "metadata": {},
     "output_type": "execute_result"
    }
   ],
   "source": [
    "overall_df"
   ]
  },
  {
   "cell_type": "markdown",
   "metadata": {},
   "source": [
    "# Save the DataFrame containing results"
   ]
  },
  {
   "cell_type": "code",
   "execution_count": null,
   "metadata": {},
   "outputs": [],
   "source": [
    "overall_df.to_csv(OUTPUT_FILENAME + \".csv\", sep=\",\", index=False)"
   ]
  },
  {
   "cell_type": "code",
   "execution_count": null,
   "metadata": {},
   "outputs": [],
   "source": []
  },
  {
   "cell_type": "markdown",
   "metadata": {},
   "source": [
    "# Feature importance check"
   ]
  },
  {
   "cell_type": "code",
   "execution_count": 86,
   "metadata": {},
   "outputs": [
    {
     "name": "stdout",
     "output_type": "stream",
     "text": [
      " -- GDBT --\n",
      "100\n",
      " 0 relationship         36533.610   92\n",
      " 1 capital_gain         22050.364  356\n",
      " 2 education_num        19590.802  247\n",
      " 3 occupation           8139.863  228\n",
      " 4 capital_loss         7136.927  313\n",
      " 5 age                  5702.022  350\n",
      " 6 marital_status       5664.190   70\n",
      " 7 hours_per_week       3388.665  208\n",
      " 8 workclass            1329.856  122\n",
      " 9 fnlwgt               988.038  176\n",
      "10 sex                  559.571   47\n",
      "11 native_country       393.468   66\n",
      "12 race                 94.686   25\n",
      " -- Reduced GDBT --\n",
      "100\n",
      " 0 relationship         42655.219  177\n",
      " 1 capital_loss         9379.761  365\n",
      " 2 age                  9362.851  667\n",
      " 3 fnlwgt               2667.600  661\n",
      " 4 native_country       2309.267  230\n",
      " 5 sex                  854.894   83\n",
      " 6 race                 620.199  117\n",
      " -- Adv. Boosting --\n",
      "100\n",
      " 0 relationship         68074.054  113\n",
      " 1 education_num        47392.657  290\n",
      " 2 capital_gain         42410.154  364\n",
      " 3 marital_status       15114.659   72\n",
      " 4 capital_loss         14298.764  280\n",
      " 5 age                  11856.913  355\n",
      " 6 occupation           7911.588  147\n",
      " 7 hours_per_week       7373.629  196\n",
      " 8 workclass            3324.397  119\n",
      " 9 fnlwgt               2072.865  191\n",
      "10 native_country       1461.704   93\n",
      "11 sex                  1185.075   47\n",
      "12 race                 295.839   33\n"
     ]
    }
   ],
   "source": [
    "def print_fx_imp(model, colnames):\n",
    "    fx_uses = model.feature_importance(importance_type='split')\n",
    "    fx_gain = model.feature_importance(importance_type='gain')\n",
    "\n",
    "    for i,f in enumerate(np.argsort(fx_gain)[::-1]):\n",
    "        print (\"{:2d} {:20s} {:.3f} {:4d}\".format(i, colnames[f], fx_gain[f], fx_uses[f]))\n",
    "\n",
    "print(\" -- GDBT --\")    \n",
    "gbdt = lightgbm.Booster(model_file=\"../out/models/census/std-gbdt_census_T100_S0050_L24_R100.model\")\n",
    "print(gbdt.num_trees())\n",
    "print_fx_imp(gbdt, TRAIN.columns)\n",
    "\n",
    "print(\" -- Reduced GDBT --\")    \n",
    "redf = lightgbm.Booster(model_file=\"../out/models/census/red-gbdt_census_T100_S0050_L24_R98.model\")\n",
    "print(redf.num_trees())\n",
    "print_fx_imp(redf, TRAIN.drop(columns=[\"workclass\", \n",
    "                                       \"marital_status\", \n",
    "                                       \"occupation\", \n",
    "                                       \"education_num\", \n",
    "                                       \"hours_per_week\", \n",
    "                                       \"capital_gain\"\n",
    "                                      ]).columns)\n",
    "\n",
    "\n",
    "print(\" -- Adv. Boosting --\")    \n",
    "advb = lightgbm.Booster(model_file=\"../out/models/census/adv-boosting_census_B30_T100_S0050_L24_R100.model\")\n",
    "print(advb.num_trees())\n",
    "print_fx_imp(advb, TRAIN.columns)\n"
   ]
  },
  {
   "cell_type": "code",
   "execution_count": null,
   "metadata": {},
   "outputs": [],
   "source": [
    "bb = 40\n",
    "eval_learned_models(lightgbm.Booster(model_file=\"../out/models/wine2/red-gbdt_wine2_T500_S0050_L24_R281.model\"), \n",
    "                                        extract_model_name(\"../out/models/wine2/red-gbdt_wine2_T500_S0050_L24_R281.model\"), \n",
    "                                        att_datasets[bb][4].drop(columns=[\"alcohol\", \"residual_sugar\", \"volatile_acidity\"]), \n",
    "                                        att_datasets[bb][5], \n",
    "                                        budget=bb\n",
    "                                       ) "
   ]
  },
  {
   "cell_type": "code",
   "execution_count": null,
   "metadata": {},
   "outputs": [],
   "source": []
  }
 ],
 "metadata": {
  "kernelspec": {
   "display_name": "Python 3",
   "language": "python",
   "name": "python3"
  },
  "language_info": {
   "codemirror_mode": {
    "name": "ipython",
    "version": 3
   },
   "file_extension": ".py",
   "mimetype": "text/x-python",
   "name": "python",
   "nbconvert_exporter": "python",
   "pygments_lexer": "ipython3",
   "version": "3.6.8"
  }
 },
 "nbformat": 4,
 "nbformat_minor": 2
}
