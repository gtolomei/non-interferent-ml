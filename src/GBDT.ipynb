{
 "cells": [
  {
   "cell_type": "markdown",
   "metadata": {},
   "source": [
    "# GBDT - LightGBM"
   ]
  },
  {
   "cell_type": "code",
   "execution_count": 1,
   "metadata": {},
   "outputs": [],
   "source": [
    "%load_ext autoreload\n",
    "%autoreload 2"
   ]
  },
  {
   "cell_type": "code",
   "execution_count": 2,
   "metadata": {},
   "outputs": [
    {
     "name": "stderr",
     "output_type": "stream",
     "text": [
      "/Users/gabriele/anaconda3/lib/python3.6/site-packages/lightgbm/__init__.py:46: UserWarning: Starting from version 2.2.1, the library file in distribution wheels for macOS is built by the Apple Clang (Xcode_9.4.1) compiler.\n",
      "This means that in case of installing LightGBM from PyPI via the ``pip install lightgbm`` command, you don't need to install the gcc compiler anymore.\n",
      "Instead of that, you need to install the OpenMP library, which is required for running LightGBM on the system with the Apple Clang compiler.\n",
      "You can install the OpenMP library by the following command: ``brew install libomp``.\n",
      "  \"You can install the OpenMP library by the following command: ``brew install libomp``.\", UserWarning)\n"
     ]
    }
   ],
   "source": [
    "import sys\n",
    "import os\n",
    "import numpy as np\n",
    "import pandas as pd\n",
    "import lightgbm\n",
    "import pickle\n",
    "import json\n",
    "import functools\n",
    "from os import listdir\n",
    "from os.path import isfile, join\n",
    "from nilib import *"
   ]
  },
  {
   "cell_type": "code",
   "execution_count": 3,
   "metadata": {},
   "outputs": [],
   "source": [
    "def train_gradient_boosting_baseline(train_file, valid_file, test_file, output_model_file, drop_cols=None):\n",
    "    \n",
    "    exp = pd.DataFrame(columns=['num_trees', 'learning_rate', 'num_leaves', 'best_round', 'metric', 'filename'])\n",
    "    \n",
    "    # load train/valid/test\n",
    "    train, valid, test = load_atk_train_valid_test(train_file, valid_file, test_file)\n",
    "    \n",
    "    assert \"instance_id\" not in train.columns.values, \"Wrong training set file for GBDT\"\n",
    "\n",
    "    # dropping some of the columns\n",
    "    if drop_cols is not None:\n",
    "        print (\"Dropping columns:\", drop_cols)\n",
    "        train.drop(columns=drop_cols, inplace=True)\n",
    "        valid.drop(columns=drop_cols, inplace=True)\n",
    "        test.drop(columns=drop_cols, inplace=True)\n",
    "    \n",
    "\n",
    "    for num_trees in [200]:\n",
    "        for learning_rate in [0.05]: #[0.01, 0.05]:\n",
    "            for num_leaves in [24]: #[16, 24]:\n",
    "                # datasets\n",
    "                lgbm_train = lightgbm.Dataset(data=train.iloc[:,:-1], \n",
    "                                              label=train.iloc[:,-1])\n",
    "\n",
    "                lgbm_valid = lightgbm.Dataset(data=valid.iloc[:,:-1], \n",
    "                                              label=valid.iloc[:,-1])\n",
    "\n",
    "                # run train\n",
    "                lgbm_params = { 'learning_rate': learning_rate, \n",
    "                                'num_leaves': num_leaves,\n",
    "                                'max_depth': 8,\n",
    "                                'objective': 'regression'\n",
    "                              } \n",
    "                lgbm_info = {}\n",
    "                lgbm_model = lightgbm.train(lgbm_params, lgbm_train, \n",
    "                                            num_boost_round = num_trees,\n",
    "#                                             fobj            = optimize_log_loss, \n",
    "#                                             feval           = avg_log_loss,\n",
    "                                            evals_result    = lgbm_info,\n",
    "                                            valid_sets      = [lgbm_train, lgbm_valid], \n",
    "                                            valid_names     = ['train', 'valid'],\n",
    "                                            verbose_eval    = 50)\n",
    "                \n",
    "                best_valid_iter = np.argmin(lgbm_info['valid']['l2'])\n",
    "                \n",
    "                model_file_name = \"{:s}_T{:d}_S{:04d}_L{:d}_R{:d}.model\".format(output_model_file,\n",
    "                                                                            num_trees,\n",
    "                                                                            int(learning_rate*1000),\n",
    "                                                                            num_leaves,\n",
    "                                                                            best_valid_iter + 1\n",
    "                                                                           )\n",
    "                \n",
    "                # update experimental results\n",
    "                exp = exp.append({'num_trees': num_trees, \n",
    "                                  'learning_rate':learning_rate,\n",
    "                                  'num_leaves':num_leaves, \n",
    "                                  'best_round':best_valid_iter+1, \n",
    "                                  'metric':lgbm_info['valid']['l2'][best_valid_iter],\n",
    "                                  'filename':model_file_name},\n",
    "                                 ignore_index=True)\n",
    "                \n",
    "        \n",
    "                lgbm_model.save_model(model_file_name)\n",
    "                print(\"Model saved to\", model_file_name)\n",
    "\n",
    "    \n",
    "    return exp"
   ]
  },
  {
   "cell_type": "markdown",
   "metadata": {},
   "source": [
    "# WINE Dataset"
   ]
  },
  {
   "cell_type": "code",
   "execution_count": null,
   "metadata": {},
   "outputs": [],
   "source": [
    "DATASET_NAME=\"wine\"\n",
    "DATASET_DIR=\"../data/{}\".format(DATASET_NAME)\n",
    "ATK_DIR=DATASET_DIR + \"/attacks\"\n",
    "MODELS_DIR=\"../out/models/{}\".format(DATASET_NAME)\n",
    "TRAINING_FILENAME=DATASET_DIR + \"/\" + \"train.csv.bz2\"\n",
    "VALIDATION_FILENAME=DATASET_DIR + \"/\" + \"valid.csv.bz2\"\n",
    "TEST_FILENAME=DATASET_DIR + \"/\" + \"test.csv.bz2\"\n",
    "MODEL_FILENAME=MODELS_DIR + \"/std-gbdt_{}\".format(DATASET_NAME)\n",
    "RED_MODEL_FILENAME=MODELS_DIR + \"/red-gbdt_{}\".format(DATASET_NAME)"
   ]
  },
  {
   "cell_type": "code",
   "execution_count": null,
   "metadata": {
    "scrolled": false
   },
   "outputs": [
    {
     "name": "stdout",
     "output_type": "stream",
     "text": [
      "Pre-processing original files...\n",
      "Loading: ../data/wine/train.csv.bz2\n",
      "Loading: ../data/wine/valid.csv.bz2\n",
      "Loading: ../data/wine/test.csv.bz2\n",
      "Train/Valid/Test sizes: (4547, 13) (650, 13) (1300, 13)\n",
      "Train/Valid/Test split: 0.70 0.10 0.20\n",
      "CatFX: []\n",
      "Train/Valid/Test sizes: (3898, 13) (1299, 13) (1300, 13)\n",
      "Train/Valid/Test split: 0.60 0.20 0.20\n",
      "Saving processed files *.atks.bz2\n",
      "[50]\ttrain's l2: 0.504397\tvalid's l2: 0.619868\n",
      "[100]\ttrain's l2: 0.422295\tvalid's l2: 0.592451\n",
      "[150]\ttrain's l2: 0.369905\tvalid's l2: 0.588853\n",
      "[200]\ttrain's l2: 0.326992\tvalid's l2: 0.584823\n",
      "Model saved to ../out/models/wine/std-gbdt_wine_T200_S0050_L24_R199.model\n",
      "  num_trees  learning_rate num_leaves best_round    metric  \\\n",
      "0       200           0.05         24        199  0.584759   \n",
      "\n",
      "                                            filename  \n",
      "0  ../out/models/wine/std-gbdt_wine_T200_S0050_L2...  \n",
      "best model is: ../out/models/wine/std-gbdt_wine_T200_S0050_L24_R199.model\n"
     ]
    }
   ],
   "source": [
    "# FULL GDBT\n",
    "\n",
    "experiments = train_gradient_boosting_baseline(TRAINING_FILENAME, \n",
    "                                               VALIDATION_FILENAME,\n",
    "                                               TEST_FILENAME,\n",
    "                                               MODEL_FILENAME\n",
    "                                              )  \n",
    "\n",
    "experiments.to_csv(MODEL_FILENAME + \".csv\", index=False)\n",
    "\n",
    "print(experiments)\n",
    "print ('best model is:', experiments.sort_values('metric').iloc[0]['filename'] )"
   ]
  },
  {
   "cell_type": "code",
   "execution_count": null,
   "metadata": {},
   "outputs": [
    {
     "name": "stdout",
     "output_type": "stream",
     "text": [
      "Pre-processing original files...\n",
      "Loading: ../data/wine/train.csv.bz2\n",
      "Loading: ../data/wine/valid.csv.bz2\n",
      "Loading: ../data/wine/test.csv.bz2\n",
      "Train/Valid/Test sizes: (4547, 13) (650, 13) (1300, 13)\n",
      "Train/Valid/Test split: 0.70 0.10 0.20\n",
      "CatFX: []\n",
      "Train/Valid/Test sizes: (3898, 13) (1299, 13) (1300, 13)\n",
      "Train/Valid/Test split: 0.60 0.20 0.20\n",
      "Saving processed files *.atks.bz2\n",
      "Dropping columns: ['alcohol', 'residual_sugar', 'volatile_acidity']\n",
      "[50]\ttrain's l2: 0.566579\tvalid's l2: 0.675114\n",
      "[100]\ttrain's l2: 0.479925\tvalid's l2: 0.644402\n",
      "[150]\ttrain's l2: 0.422051\tvalid's l2: 0.634787\n",
      "[200]\ttrain's l2: 0.380104\tvalid's l2: 0.629002\n",
      "Model saved to ../out/models/wine/red-gbdt_wine_T200_S0050_L24_R198.model\n",
      "  num_trees  learning_rate num_leaves best_round    metric  \\\n",
      "0       200           0.05         24        198  0.628488   \n",
      "\n",
      "                                            filename  \n",
      "0  ../out/models/wine/red-gbdt_wine_T200_S0050_L2...  \n",
      "best model is: ../out/models/wine/red-gbdt_wine_T200_S0050_L24_R198.model\n"
     ]
    }
   ],
   "source": [
    "# REDUCED GDBT\n",
    "\n",
    "experiments = train_gradient_boosting_baseline(TRAINING_FILENAME, \n",
    "                                               VALIDATION_FILENAME,\n",
    "                                               TEST_FILENAME,\n",
    "                                               RED_MODEL_FILENAME,\n",
    "                                               drop_cols=[\"alcohol\", \"residual_sugar\", \"volatile_acidity\"]\n",
    "                                              )  \n",
    "\n",
    "experiments.to_csv(RED_MODEL_FILENAME + \".csv\", index=False)\n",
    "\n",
    "print(experiments)\n",
    "print ('best model is:', experiments.sort_values('metric').iloc[0]['filename'] )"
   ]
  },
  {
   "cell_type": "markdown",
   "metadata": {},
   "source": [
    "# CENSUS Dataset"
   ]
  },
  {
   "cell_type": "code",
   "execution_count": null,
   "metadata": {},
   "outputs": [],
   "source": [
    "DATASET_NAME=\"census\"\n",
    "DATASET_DIR=\"../data/{}\".format(DATASET_NAME)\n",
    "ATK_DIR=DATASET_DIR + \"/attacks\"\n",
    "MODELS_DIR=\"../out/models/{}\".format(DATASET_NAME)\n",
    "TRAINING_FILENAME=DATASET_DIR + \"/\" + \"train.csv.bz2\"\n",
    "VALIDATION_FILENAME=DATASET_DIR + \"/\" + \"valid.csv.bz2\"\n",
    "TEST_FILENAME=DATASET_DIR + \"/\" + \"test.csv.bz2\"\n",
    "MODEL_FILENAME=MODELS_DIR + \"/std-gbdt_{}\".format(DATASET_NAME)\n",
    "RED_MODEL_FILENAME=MODELS_DIR + \"/red-gbdt_{}\".format(DATASET_NAME)"
   ]
  },
  {
   "cell_type": "code",
   "execution_count": null,
   "metadata": {
    "scrolled": false
   },
   "outputs": [
    {
     "name": "stdout",
     "output_type": "stream",
     "text": [
      "Pre-processing original files...\n",
      "Loading: ../data/census/train.csv.bz2\n",
      "Loading: ../data/census/valid.csv.bz2\n",
      "Loading: ../data/census/test.csv.bz2\n",
      "Train/Valid/Test sizes: (27144, 14) (3017, 14) (15059, 14)\n",
      "Train/Valid/Test split: 0.60 0.07 0.33\n",
      "CatFX: ['workclass', 'marital_status', 'occupation', 'relationship', 'race', 'sex', 'native_country']\n",
      "Train/Valid/Test sizes: (27132, 14) (9044, 14) (9044, 14)\n",
      "Train/Valid/Test split: 0.60 0.20 0.20\n",
      "Saving processed files *.atks.bz2\n"
     ]
    },
    {
     "name": "stderr",
     "output_type": "stream",
     "text": [
      "/Users/gabriele/anaconda3/lib/python3.6/site-packages/lightgbm/basic.py:742: UserWarning: categorical_feature in param dict is overridden.\n",
      "  warnings.warn('categorical_feature in param dict is overridden.')\n"
     ]
    }
   ],
   "source": [
    "# FULL GDBT\n",
    "\n",
    "experiments = train_gradient_boosting_baseline(TRAINING_FILENAME, \n",
    "                                               VALIDATION_FILENAME,\n",
    "                                               TEST_FILENAME,\n",
    "                                               MODEL_FILENAME\n",
    "                                              )  \n",
    "\n",
    "experiments.to_csv(MODEL_FILENAME + \".csv\", index=False)\n",
    "\n",
    "print(experiments)\n",
    "print ('best model is:', experiments.sort_values('metric').iloc[0]['filename'] )"
   ]
  },
  {
   "cell_type": "code",
   "execution_count": null,
   "metadata": {},
   "outputs": [],
   "source": [
    "# REDUCED GDBT\n",
    "\n",
    "experiments = train_gradient_boosting_baseline(TRAINING_FILENAME, \n",
    "                                               VALIDATION_FILENAME,\n",
    "                                               TEST_FILENAME,\n",
    "                                               RED_MODEL_FILENAME,\n",
    "                                               drop_cols=['workclass','marital_status',\n",
    "                                                          'occupation', 'education_num',\n",
    "                                                          'hours_per_week','capital_gain' ]\n",
    "                                              )\n",
    "\n",
    "experiments.to_csv(RED_MODEL_FILENAME + \".csv\", index=False)\n",
    "\n",
    "print(experiments)\n",
    "print ('best model is:', experiments.sort_values('metric').iloc[0]['filename'] )"
   ]
  },
  {
   "cell_type": "markdown",
   "metadata": {},
   "source": [
    "# SPAM"
   ]
  },
  {
   "cell_type": "code",
   "execution_count": null,
   "metadata": {},
   "outputs": [],
   "source": [
    "DATASET_NAME=\"spam\"\n",
    "DATASET_DIR=\"../data/{}\".format(DATASET_NAME)\n",
    "ATK_DIR=DATASET_DIR + \"/attacks\"\n",
    "MODELS_DIR=\"../out/models/{}\".format(DATASET_NAME)\n",
    "TRAINING_FILENAME=DATASET_DIR + \"/\" + \"train.csv.bz2\"\n",
    "VALIDATION_FILENAME=DATASET_DIR + \"/\" + \"valid.csv.bz2\"\n",
    "TEST_FILENAME=DATASET_DIR + \"/\" + \"test.csv.bz2\"\n",
    "MODEL_FILENAME=MODELS_DIR + \"/std-gbdt_{}\".format(DATASET_NAME)\n",
    "RED_MODEL_FILENAME=MODELS_DIR + \"/red-gbdt_{}\".format(DATASET_NAME)"
   ]
  },
  {
   "cell_type": "code",
   "execution_count": null,
   "metadata": {
    "scrolled": false
   },
   "outputs": [],
   "source": [
    "# FULL GDBT\n",
    "\n",
    "experiments = train_gradient_boosting_baseline(TRAINING_FILENAME, \n",
    "                                               VALIDATION_FILENAME,\n",
    "                                               TEST_FILENAME,\n",
    "                                               MODEL_FILENAME\n",
    "                                              )  \n",
    "\n",
    "experiments.to_csv(MODEL_FILENAME + \".csv\", index=False)\n",
    "\n",
    "print(experiments)\n",
    "print ('best model is:', experiments.sort_values('metric').iloc[0]['filename'] )"
   ]
  },
  {
   "cell_type": "code",
   "execution_count": null,
   "metadata": {},
   "outputs": [],
   "source": [
    "# REDUCED GDBT\n",
    "\n",
    "experiments = train_gradient_boosting_baseline(TRAINING_FILENAME, \n",
    "                                               VALIDATION_FILENAME,\n",
    "                                               TEST_FILENAME,\n",
    "                                               RED_MODEL_FILENAME,\n",
    "                                               drop_cols=['char_freq_!', 'word_freq_remove',\n",
    "                                                          'char_freq_$', 'capital_run_length_average',\n",
    "                                                          'capital_run_length_total', 'word_freq_hp' ]\n",
    "                                              )\n",
    "\n",
    "experiments.to_csv(RED_MODEL_FILENAME + \".csv\", index=False)\n",
    "\n",
    "print(experiments)\n",
    "print ('best model is:', experiments.sort_values('metric').iloc[0]['filename'] )"
   ]
  },
  {
   "cell_type": "code",
   "execution_count": null,
   "metadata": {},
   "outputs": [],
   "source": [
    "TRAIN, _, _, _ = load_atk_train_valid_test(TRAINING_FILENAME, \n",
    "                                               VALIDATION_FILENAME,\n",
    "                                               TEST_FILENAME)\n",
    "print (TRAIN.columns)"
   ]
  },
  {
   "cell_type": "code",
   "execution_count": null,
   "metadata": {},
   "outputs": [],
   "source": [
    "TRAIN[TRAIN['word_freq_hp']>=1]['word_freq_hp'].describe()"
   ]
  },
  {
   "cell_type": "code",
   "execution_count": null,
   "metadata": {
    "scrolled": false
   },
   "outputs": [],
   "source": [
    "###------------_####\n",
    "def print_fx_imp(model, colnames):\n",
    "    fx_uses = model.feature_importance(importance_type='split')\n",
    "    fx_gain = model.feature_importance(importance_type='gain')\n",
    "\n",
    "    for i,f in enumerate(np.argsort(fx_gain)[::-1]):\n",
    "        print (\"{:2d} {:20s} {:.3f} {:4d}\".format(i, colnames[f], fx_gain[f], fx_uses[f]))\n",
    "\n",
    "        \n",
    "\n",
    "print(\" -- GDBT --\")    \n",
    "gbdt = lightgbm.Booster(model_file=\"../out/models/spam/std-gbdt_spam_T100_S0050_L24_R99.model\")\n",
    "print(gbdt.num_trees())\n",
    "print_fx_imp(gbdt, TRAIN.columns)\n",
    "\n",
    "print(\" -- Reduced GDBT --\")    \n",
    "redf = lightgbm.Booster(model_file=\"../out/models/spam/red-gbdt_spam_T100_S0050_L24_R92.model\")\n",
    "print(redf.num_trees())\n",
    "print_fx_imp(redf, TRAIN.drop(columns=['char_freq_!', 'word_freq_remove',\n",
    "                                                          'char_freq_$', 'capital_run_length_average',\n",
    "                                                          'capital_run_length_total', 'word_freq_hp' ]).columns\n",
    "            )\n",
    "\n",
    "\n",
    "# print(\" -- Adv. Boosting --\")    \n",
    "# advb = lightgbm.Booster(model_file=\"../out/models/census/adv-boosting_census_B30_T100_S0050_L24_R100.model\")\n",
    "# print(advb.num_trees())\n",
    "# print_fx_imp(advb, TRAIN.columns)\n"
   ]
  },
  {
   "cell_type": "code",
   "execution_count": null,
   "metadata": {},
   "outputs": [],
   "source": []
  }
 ],
 "metadata": {
  "kernelspec": {
   "display_name": "Python 3",
   "language": "python",
   "name": "python3"
  },
  "language_info": {
   "codemirror_mode": {
    "name": "ipython",
    "version": 3
   },
   "file_extension": ".py",
   "mimetype": "text/x-python",
   "name": "python",
   "nbconvert_exporter": "python",
   "pygments_lexer": "ipython3",
   "version": "3.6.8"
  }
 },
 "nbformat": 4,
 "nbformat_minor": 2
}
