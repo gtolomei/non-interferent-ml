{
 "cells": [
  {
   "cell_type": "markdown",
   "metadata": {},
   "source": [
    "# GBDT - LightGBM"
   ]
  },
  {
   "cell_type": "code",
   "execution_count": 1,
   "metadata": {},
   "outputs": [],
   "source": [
    "%load_ext autoreload\n",
    "%autoreload 2"
   ]
  },
  {
   "cell_type": "code",
   "execution_count": 2,
   "metadata": {},
   "outputs": [],
   "source": [
    "import sys\n",
    "import os\n",
    "import numpy as np\n",
    "import pandas as pd\n",
    "import lightgbm\n",
    "import pickle\n",
    "import json\n",
    "import functools\n",
    "from os import listdir\n",
    "from os.path import isfile, join\n",
    "from nilib import *"
   ]
  },
  {
   "cell_type": "markdown",
   "metadata": {},
   "source": [
    "# Path to dataset files"
   ]
  },
  {
   "cell_type": "code",
   "execution_count": 3,
   "metadata": {},
   "outputs": [],
   "source": [
    "DATASET_NAME=\"wine2\" # wine"
   ]
  },
  {
   "cell_type": "code",
   "execution_count": 17,
   "metadata": {},
   "outputs": [],
   "source": [
    "DATASET_DIR=\"../data/{}\".format(DATASET_NAME)\n",
    "MODELS_DIR=\"../out/models/{}\".format(DATASET_NAME)\n",
    "TRAINING_FILENAME=DATASET_DIR + \"/\" + \"train_ori.csv.bz2\"\n",
    "VALIDATION_FILENAME=DATASET_DIR + \"/\" + \"valid_ori.csv.bz2\"\n",
    "TEST_FILENAME=DATASET_DIR + \"/\" + \"test_ori.csv.bz2\"\n",
    "MODEL_FILENAME=MODELS_DIR + \"/std-gbdt_{}\".format(DATASET_NAME)\n",
    "RED_MODEL_FILENAME=MODELS_DIR + \"/red-gbdt_{}\".format(DATASET_NAME)"
   ]
  },
  {
   "cell_type": "code",
   "execution_count": 15,
   "metadata": {},
   "outputs": [],
   "source": [
    "def train_gradient_boosting_baseline(train_file, valid_file, test_file, output_model_file, drop_cols=None):\n",
    "    \n",
    "    exp = pd.DataFrame(columns=['num_trees', 'learning_rate', 'num_leaves', 'best_round', 'metric', 'filename'])\n",
    "    \n",
    "    # load train/valid/test\n",
    "    train, valid, test, cat_fx = load_atk_train_valid_test(train_file, valid_file, test_file)\n",
    "    \n",
    "    assert \"instance_id\" not in train.columns.values, \"Wrong training set file for GBDT\"\n",
    "\n",
    "    # dropping some of the columns\n",
    "    if drop_cols is not None:\n",
    "        print (\"Dropping columns:\", drop_cols)\n",
    "        train.drop(columns=drop_cols, inplace=True)\n",
    "        valid.drop(columns=drop_cols, inplace=True)\n",
    "        test.drop(columns=drop_cols, inplace=True)\n",
    "    \n",
    "    \n",
    "    # get index of categorical features \n",
    "    cat_fx = np.where(train.columns.isin(cat_fx))[0]\n",
    "    cat_fx = list([int(x) for x in cat_fx])  \n",
    "    print(\"CatFX:\", train.columns.values[cat_fx])\n",
    "    \n",
    "\n",
    "    for num_trees in [500]:\n",
    "        for learning_rate in [0.05]: #[0.01, 0.05]:\n",
    "            for num_leaves in [24]: #[16, 24]:\n",
    "                # datasets\n",
    "                lgbm_train = lightgbm.Dataset(data=train.iloc[:,:-1].values, \n",
    "                                              label=train.iloc[:,-1].values,\n",
    "                                              categorical_feature = cat_fx)\n",
    "\n",
    "                lgbm_valid = lightgbm.Dataset(data=valid.iloc[:,:-1].values, \n",
    "                                              label=valid.iloc[:,-1].values,\n",
    "                                              categorical_feature = cat_fx)\n",
    "\n",
    "                # run train\n",
    "                lgbm_params = { 'learning_rate': learning_rate, \n",
    "                                'num_leaves': num_leaves} \n",
    "                lgbm_info = {}\n",
    "                lgbm_model = lightgbm.train(lgbm_params, lgbm_train, \n",
    "                                            num_boost_round = num_trees,\n",
    "                                            fobj            = optimize_log_loss, \n",
    "                                            feval           = avg_log_loss,\n",
    "                                            evals_result    = lgbm_info,\n",
    "                                            valid_sets      = [lgbm_train, lgbm_valid], \n",
    "                                            valid_names     = ['train', 'valid'],\n",
    "                                            verbose_eval    = 50)\n",
    "                \n",
    "                best_valid_iter = np.argmin(lgbm_info['valid']['avg_binary_log_loss'])\n",
    "                \n",
    "                model_file_name = \"{:s}_T{:d}_S{:04d}_L{:d}_R{:d}.model\".format(output_model_file,\n",
    "                                                                            num_trees,\n",
    "                                                                            int(learning_rate*1000),\n",
    "                                                                            num_leaves,\n",
    "                                                                            best_valid_iter + 1\n",
    "                                                                           )\n",
    "                \n",
    "                # update experimental results\n",
    "                exp = exp.append({'num_trees': num_trees, \n",
    "                                  'learning_rate':learning_rate,\n",
    "                                  'num_leaves':num_leaves, \n",
    "                                  'best_round':best_valid_iter+1, \n",
    "                                  'metric':lgbm_info['valid']['avg_binary_log_loss'][best_valid_iter],\n",
    "                                  'filename':model_file_name},\n",
    "                                 ignore_index=True)\n",
    "                \n",
    "        \n",
    "                lgbm_model.save_model(model_file_name)\n",
    "                print(\"Model saved to\", model_file_name)\n",
    "\n",
    "    \n",
    "    return exp"
   ]
  },
  {
   "cell_type": "markdown",
   "metadata": {},
   "source": [
    "# GBDT"
   ]
  },
  {
   "cell_type": "code",
   "execution_count": 8,
   "metadata": {
    "scrolled": false
   },
   "outputs": [
    {
     "name": "stdout",
     "output_type": "stream",
     "text": [
      "Loading pre-processed files...\n",
      "CatFX: []\n",
      "[50]\ttrain's avg_binary_log_loss: 0.412939\tvalid's avg_binary_log_loss: 0.476692\n",
      "[100]\ttrain's avg_binary_log_loss: 0.342071\tvalid's avg_binary_log_loss: 0.454152\n",
      "[150]\ttrain's avg_binary_log_loss: 0.294123\tvalid's avg_binary_log_loss: 0.442476\n",
      "[200]\ttrain's avg_binary_log_loss: 0.257883\tvalid's avg_binary_log_loss: 0.438046\n",
      "[250]\ttrain's avg_binary_log_loss: 0.228122\tvalid's avg_binary_log_loss: 0.438026\n",
      "[300]\ttrain's avg_binary_log_loss: 0.202267\tvalid's avg_binary_log_loss: 0.435789\n",
      "[350]\ttrain's avg_binary_log_loss: 0.180632\tvalid's avg_binary_log_loss: 0.438017\n",
      "[400]\ttrain's avg_binary_log_loss: 0.162684\tvalid's avg_binary_log_loss: 0.440851\n",
      "[450]\ttrain's avg_binary_log_loss: 0.147385\tvalid's avg_binary_log_loss: 0.444448\n",
      "[500]\ttrain's avg_binary_log_loss: 0.132888\tvalid's avg_binary_log_loss: 0.447687\n",
      "Model saved to ../out/models/wine2/std-gbdt_wine2_T500_S0050_L24_R295.model\n",
      "  num_trees  learning_rate num_leaves best_round    metric  \\\n",
      "0       500           0.05         24        295  0.435611   \n",
      "\n",
      "                                            filename  \n",
      "0  ../out/models/wine2/std-gbdt_wine2_T500_S0050_...  \n",
      "best model is: ../out/models/wine2/std-gbdt_wine2_T500_S0050_L24_R295.model\n"
     ]
    }
   ],
   "source": [
    "experiments = train_gradient_boosting_baseline(TRAINING_FILENAME, \n",
    "                                               VALIDATION_FILENAME,\n",
    "                                               TEST_FILENAME,\n",
    "                                               MODEL_FILENAME\n",
    "                                              )  \n",
    "\n",
    "experiments.to_csv(MODEL_FILENAME + \".csv\", index=False)\n",
    "\n",
    "print(experiments)\n",
    "print ('best model is:', experiments.sort_values('metric').iloc[0]['filename'] )"
   ]
  },
  {
   "cell_type": "markdown",
   "metadata": {},
   "source": [
    "# Reduced version"
   ]
  },
  {
   "cell_type": "code",
   "execution_count": 18,
   "metadata": {},
   "outputs": [
    {
     "name": "stdout",
     "output_type": "stream",
     "text": [
      "Loading pre-processed files...\n",
      "Dropping columns: ['alcohol', 'residual_sugar', 'volatile_acidity']\n",
      "CatFX: []\n",
      "[50]\ttrain's avg_binary_log_loss: 0.452733\tvalid's avg_binary_log_loss: 0.513191\n",
      "[100]\ttrain's avg_binary_log_loss: 0.385163\tvalid's avg_binary_log_loss: 0.487611\n",
      "[150]\ttrain's avg_binary_log_loss: 0.340032\tvalid's avg_binary_log_loss: 0.480356\n",
      "[200]\ttrain's avg_binary_log_loss: 0.303349\tvalid's avg_binary_log_loss: 0.475684\n",
      "[250]\ttrain's avg_binary_log_loss: 0.272697\tvalid's avg_binary_log_loss: 0.474043\n",
      "[300]\ttrain's avg_binary_log_loss: 0.246855\tvalid's avg_binary_log_loss: 0.47314\n",
      "[350]\ttrain's avg_binary_log_loss: 0.224221\tvalid's avg_binary_log_loss: 0.473417\n",
      "[400]\ttrain's avg_binary_log_loss: 0.204525\tvalid's avg_binary_log_loss: 0.475837\n",
      "[450]\ttrain's avg_binary_log_loss: 0.187791\tvalid's avg_binary_log_loss: 0.47717\n",
      "[500]\ttrain's avg_binary_log_loss: 0.173028\tvalid's avg_binary_log_loss: 0.477335\n",
      "Model saved to ../out/models/wine2/red-gbdt_wine2_T500_S0050_L24_R281.model\n",
      "  num_trees  learning_rate num_leaves best_round    metric  \\\n",
      "0       500           0.05         24        281  0.471978   \n",
      "\n",
      "                                            filename  \n",
      "0  ../out/models/wine2/red-gbdt_wine2_T500_S0050_...  \n",
      "best model is: ../out/models/wine2/red-gbdt_wine2_T500_S0050_L24_R281.model\n"
     ]
    }
   ],
   "source": [
    "experiments = train_gradient_boosting_baseline(TRAINING_FILENAME, \n",
    "                                               VALIDATION_FILENAME,\n",
    "                                               TEST_FILENAME,\n",
    "                                               RED_MODEL_FILENAME,\n",
    "                                               drop_cols=[\"alcohol\", \"residual_sugar\", \"volatile_acidity\"]\n",
    "                                              )  \n",
    "\n",
    "experiments.to_csv(RED_MODEL_FILENAME + \".csv\", index=False)\n",
    "\n",
    "print(experiments)\n",
    "print ('best model is:', experiments.sort_values('metric').iloc[0]['filename'] )"
   ]
  },
  {
   "cell_type": "code",
   "execution_count": null,
   "metadata": {},
   "outputs": [],
   "source": []
  }
 ],
 "metadata": {
  "kernelspec": {
   "display_name": "Python 3",
   "language": "python",
   "name": "python3"
  },
  "language_info": {
   "codemirror_mode": {
    "name": "ipython",
    "version": 3
   },
   "file_extension": ".py",
   "mimetype": "text/x-python",
   "name": "python",
   "nbconvert_exporter": "python",
   "pygments_lexer": "ipython3",
   "version": "3.6.7"
  }
 },
 "nbformat": 4,
 "nbformat_minor": 2
}
